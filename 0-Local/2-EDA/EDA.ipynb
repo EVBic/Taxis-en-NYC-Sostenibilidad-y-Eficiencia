{
 "cells": [
  {
   "cell_type": "markdown",
   "metadata": {},
   "source": [
    "# **Análisis exploratorio de datos (EDA)**"
   ]
  },
  {
   "cell_type": "markdown",
   "metadata": {},
   "source": [
    "**Importamos las librerías que vamos a utilizar**"
   ]
  },
  {
   "cell_type": "code",
   "execution_count": 1,
   "metadata": {},
   "outputs": [],
   "source": [
    "import pandas as pd\n",
    "import matplotlib.pyplot as plt\n",
    "import seaborn as sns\n",
    "import warnings\n",
    "warnings.filterwarnings(\"ignore\")"
   ]
  },
  {
   "cell_type": "markdown",
   "metadata": {},
   "source": [
    "#### **1- Dataset Electric and Alternative fuel charging Stations**"
   ]
  },
  {
   "cell_type": "markdown",
   "metadata": {},
   "source": [
    "**Importamos los datos en un dataframe**"
   ]
  },
  {
   "cell_type": "code",
   "execution_count": 2,
   "metadata": {},
   "outputs": [],
   "source": [
    "df_fuel_stations = pd.read_parquet('Electric and Alternative Fuel Charging Stations.parquet')"
   ]
  },
  {
   "cell_type": "markdown",
   "metadata": {},
   "source": [
    "**Observamos el dataframe**"
   ]
  },
  {
   "cell_type": "code",
   "execution_count": 3,
   "metadata": {},
   "outputs": [
    {
     "data": {
      "text/html": [
       "<div>\n",
       "<style scoped>\n",
       "    .dataframe tbody tr th:only-of-type {\n",
       "        vertical-align: middle;\n",
       "    }\n",
       "\n",
       "    .dataframe tbody tr th {\n",
       "        vertical-align: top;\n",
       "    }\n",
       "\n",
       "    .dataframe thead th {\n",
       "        text-align: right;\n",
       "    }\n",
       "</style>\n",
       "<table border=\"1\" class=\"dataframe\">\n",
       "  <thead>\n",
       "    <tr style=\"text-align: right;\">\n",
       "      <th></th>\n",
       "      <th>Fuel Type Code</th>\n",
       "      <th>Station Name</th>\n",
       "      <th>Street Address</th>\n",
       "      <th>Borough</th>\n",
       "      <th>Latitude</th>\n",
       "      <th>Longitude</th>\n",
       "    </tr>\n",
       "  </thead>\n",
       "  <tbody>\n",
       "    <tr>\n",
       "      <th>0</th>\n",
       "      <td>CNG</td>\n",
       "      <td>Clean Energy - Greenpoint - National Grid</td>\n",
       "      <td>287 Maspeth Ave</td>\n",
       "      <td>Brooklyn</td>\n",
       "      <td>40.718037</td>\n",
       "      <td>-73.932309</td>\n",
       "    </tr>\n",
       "    <tr>\n",
       "      <th>1</th>\n",
       "      <td>CNG</td>\n",
       "      <td>Canarsie - National Grid</td>\n",
       "      <td>8424 Ditmas Ave</td>\n",
       "      <td>Brooklyn</td>\n",
       "      <td>40.645540</td>\n",
       "      <td>-73.918344</td>\n",
       "    </tr>\n",
       "    <tr>\n",
       "      <th>2</th>\n",
       "      <td>CNG</td>\n",
       "      <td>Con Edison - Van Nest Service Center</td>\n",
       "      <td>1615 Bronxdale Ave</td>\n",
       "      <td>Bronx</td>\n",
       "      <td>40.844188</td>\n",
       "      <td>-73.861572</td>\n",
       "    </tr>\n",
       "    <tr>\n",
       "      <th>3</th>\n",
       "      <td>CNG</td>\n",
       "      <td>Con Edison - College Point Service Center</td>\n",
       "      <td>124-15 31st Ave</td>\n",
       "      <td>Queens</td>\n",
       "      <td>40.769623</td>\n",
       "      <td>-73.843069</td>\n",
       "    </tr>\n",
       "    <tr>\n",
       "      <th>4</th>\n",
       "      <td>CNG</td>\n",
       "      <td>Bronx Zoo</td>\n",
       "      <td>2300 Southern Blvd</td>\n",
       "      <td>Bronx</td>\n",
       "      <td>40.850018</td>\n",
       "      <td>-73.878128</td>\n",
       "    </tr>\n",
       "  </tbody>\n",
       "</table>\n",
       "</div>"
      ],
      "text/plain": [
       "  Fuel Type Code                               Station Name  \\\n",
       "0            CNG  Clean Energy - Greenpoint - National Grid   \n",
       "1            CNG                   Canarsie - National Grid   \n",
       "2            CNG       Con Edison - Van Nest Service Center   \n",
       "3            CNG  Con Edison - College Point Service Center   \n",
       "4            CNG                                  Bronx Zoo   \n",
       "\n",
       "       Street Address   Borough   Latitude  Longitude  \n",
       "0     287 Maspeth Ave  Brooklyn  40.718037 -73.932309  \n",
       "1     8424 Ditmas Ave  Brooklyn  40.645540 -73.918344  \n",
       "2  1615 Bronxdale Ave     Bronx  40.844188 -73.861572  \n",
       "3     124-15 31st Ave    Queens  40.769623 -73.843069  \n",
       "4  2300 Southern Blvd     Bronx  40.850018 -73.878128  "
      ]
     },
     "execution_count": 3,
     "metadata": {},
     "output_type": "execute_result"
    }
   ],
   "source": [
    "df_fuel_stations.head()"
   ]
  },
  {
   "cell_type": "markdown",
   "metadata": {},
   "source": [
    "**Contenidos del dataframe por columna:**\n",
    "* **Fuel Type Code**: Representa el código del tipo de combustible que ofrece la estación de servicio.\n",
    "* **Station Name**: Es el nombre de la estación de servicio.\n",
    "* **Street Address**: La dirección física de la estación de servicio en la calle.\n",
    "* **City**: La ciudad donde se encuentra la estación de servicio.\n",
    "* **State**: El estado donde se encuentra la estación de servicio.\n",
    "* **Latitude**: La latitud geográfica de la ubicación de la estación de servicio.\n",
    "* **Longitude**: La longitud geográfica de la ubicación de la estación de servicio."
   ]
  },
  {
   "cell_type": "markdown",
   "metadata": {},
   "source": [
    "**Buscamos valores nulos**"
   ]
  },
  {
   "cell_type": "code",
   "execution_count": 4,
   "metadata": {},
   "outputs": [
    {
     "data": {
      "text/plain": [
       "Fuel Type Code    0\n",
       "Station Name      0\n",
       "Street Address    0\n",
       "Borough           0\n",
       "Latitude          0\n",
       "Longitude         0\n",
       "dtype: int64"
      ]
     },
     "execution_count": 4,
     "metadata": {},
     "output_type": "execute_result"
    }
   ],
   "source": [
    "df_fuel_stations.isnull().sum()"
   ]
  },
  {
   "cell_type": "markdown",
   "metadata": {},
   "source": [
    "**Verificamos valores duplicados en el DataFrame**"
   ]
  },
  {
   "cell_type": "code",
   "execution_count": 5,
   "metadata": {},
   "outputs": [
    {
     "data": {
      "text/plain": [
       "0"
      ]
     },
     "execution_count": 5,
     "metadata": {},
     "output_type": "execute_result"
    }
   ],
   "source": [
    "df_fuel_stations.duplicated().sum()"
   ]
  },
  {
   "cell_type": "markdown",
   "metadata": {},
   "source": [
    "**Observamos los tipos de datos de cada columna**"
   ]
  },
  {
   "cell_type": "code",
   "execution_count": 6,
   "metadata": {},
   "outputs": [
    {
     "data": {
      "text/plain": [
       "Fuel Type Code     object\n",
       "Station Name       object\n",
       "Street Address     object\n",
       "Borough            object\n",
       "Latitude          float64\n",
       "Longitude         float64\n",
       "dtype: object"
      ]
     },
     "execution_count": 6,
     "metadata": {},
     "output_type": "execute_result"
    }
   ],
   "source": [
    "df_fuel_stations.dtypes"
   ]
  },
  {
   "cell_type": "markdown",
   "metadata": {},
   "source": [
    "**Revisamos los valores de la columna 'Fuel Type Code'**"
   ]
  },
  {
   "cell_type": "code",
   "execution_count": 7,
   "metadata": {},
   "outputs": [
    {
     "data": {
      "text/plain": [
       "Fuel Type Code\n",
       "ELEC    183\n",
       "CNG      11\n",
       "E85       3\n",
       "BD        1\n",
       "Name: count, dtype: int64"
      ]
     },
     "execution_count": 7,
     "metadata": {},
     "output_type": "execute_result"
    }
   ],
   "source": [
    "df_fuel_stations['Fuel Type Code'].value_counts()"
   ]
  },
  {
   "cell_type": "markdown",
   "metadata": {},
   "source": [
    "**Visualizamos los valores en un grafico de barras**"
   ]
  },
  {
   "cell_type": "code",
   "execution_count": 8,
   "metadata": {},
   "outputs": [
    {
     "data": {
      "image/png": "[encoded data removed]",
      "text/plain": [
       "<Figure size 720x432 with 1 Axes>"
      ]
     },
     "metadata": {
      "needs_background": "light"
     },
     "output_type": "display_data"
    }
   ],
   "source": [
    "# Utilizar df_fuel_stations['Fuel Type Code'].value_counts() para obtener la frecuencia de cada valor\n",
    "frecuencia_fuel_type = df_fuel_stations['Fuel Type Code'].value_counts()\n",
    "\n",
    "# Crear el gráfico de barras\n",
    "plt.figure(figsize=(10, 6))\n",
    "sns.barplot(x=frecuencia_fuel_type.index, y=frecuencia_fuel_type.values, palette='viridis')\n",
    "plt.title('Frecuencia de Fuel Type Code')\n",
    "plt.xlabel('Fuel Type Code')\n",
    "plt.ylabel('Frecuencia')\n",
    "plt.xticks(rotation=45)  # Rotar etiquetas del eje x para mejorar la legibilidad\n",
    "plt.show()"
   ]
  },
  {
   "cell_type": "code",
   "execution_count": 9,
   "metadata": {},
   "outputs": [
    {
     "data": {
      "text/plain": [
       "Fuel Type Code\n",
       "ELEC    92.424242\n",
       "CNG      5.555556\n",
       "E85      1.515152\n",
       "BD       0.505051\n",
       "Name: count, dtype: float64"
      ]
     },
     "execution_count": 9,
     "metadata": {},
     "output_type": "execute_result"
    }
   ],
   "source": [
    "# Obtener la frecuencia de cada valor en la columna 'Fuel Type Code'\n",
    "frecuencia_por_valor = df_fuel_stations['Fuel Type Code'].value_counts()\n",
    "\n",
    "# Obtener el total de la columna 'Fuel Type Code'\n",
    "total_valores = frecuencia_por_valor.sum()\n",
    "\n",
    "# Calcular el porcentaje del total para cada valor\n",
    "(frecuencia_por_valor / total_valores) * 100"
   ]
  },
  {
   "cell_type": "markdown",
   "metadata": {},
   "source": [
    "Observaciones: el valor 'ELEC' predomina en la columna 'Fuel Type Code', estando en un casi 95% del total de los valores"
   ]
  },
  {
   "cell_type": "code",
   "execution_count": 10,
   "metadata": {},
   "outputs": [
    {
     "data": {
      "image/png": "[encoded data removed]",
      "text/plain": [
       "<Figure size 720x432 with 1 Axes>"
      ]
     },
     "metadata": {
      "needs_background": "light"
     },
     "output_type": "display_data"
    }
   ],
   "source": [
    "# Contar la cantidad de estaciones de carga por borough\n",
    "stations_per_borough = df_fuel_stations['Borough'].value_counts()\n",
    "\n",
    "# Crear el gráfico de barras\n",
    "plt.figure(figsize=(10, 6))\n",
    "barplot = sns.barplot(x=stations_per_borough.index, y=stations_per_borough.values, palette='viridis')\n",
    "plt.xlabel('Borough')\n",
    "plt.ylabel('Cantidad de estaciones de carga')\n",
    "plt.title('Cantidad de estaciones de carga por distrito')\n",
    "\n",
    "# Añadir el valor de cada barra\n",
    "for index, value in enumerate(stations_per_borough):\n",
    "    barplot.text(index, value, str(value), ha='center', va='bottom')\n",
    "\n",
    "plt.xticks(rotation=45, ha='right')\n",
    "plt.tight_layout()\n",
    "plt.show()"
   ]
  },
  {
   "cell_type": "markdown",
   "metadata": {},
   "source": [
    "**Revisamos los valores de la columna 'Cylinders'**"
   ]
  },
  {
   "cell_type": "markdown",
   "metadata": {},
   "source": [
    "**Revisamos los valores de la columna 'Transmission'**"
   ]
  },
  {
   "cell_type": "markdown",
   "metadata": {},
   "source": [
    "**Revisamos los valores de la columna 'Fuel'**"
   ]
  },
  {
   "cell_type": "markdown",
   "metadata": {},
   "source": [
    "#### **2- Dataset Taxi_Zones**"
   ]
  },
  {
   "cell_type": "markdown",
   "metadata": {},
   "source": [
    "**Importamos los datos en un dataframe**"
   ]
  },
  {
   "cell_type": "code",
   "execution_count": 11,
   "metadata": {},
   "outputs": [],
   "source": [
    "taxi_zones = pd.read_parquet('taxi_zones.parquet')"
   ]
  },
  {
   "cell_type": "markdown",
   "metadata": {},
   "source": [
    "**Observamos el dataframe**"
   ]
  },
  {
   "cell_type": "code",
   "execution_count": 12,
   "metadata": {},
   "outputs": [
    {
     "data": {
      "text/html": [
       "<div>\n",
       "<style scoped>\n",
       "    .dataframe tbody tr th:only-of-type {\n",
       "        vertical-align: middle;\n",
       "    }\n",
       "\n",
       "    .dataframe tbody tr th {\n",
       "        vertical-align: top;\n",
       "    }\n",
       "\n",
       "    .dataframe thead th {\n",
       "        text-align: right;\n",
       "    }\n",
       "</style>\n",
       "<table border=\"1\" class=\"dataframe\">\n",
       "  <thead>\n",
       "    <tr style=\"text-align: right;\">\n",
       "      <th></th>\n",
       "      <th>Zone</th>\n",
       "      <th>LocationID</th>\n",
       "      <th>Borough</th>\n",
       "    </tr>\n",
       "  </thead>\n",
       "  <tbody>\n",
       "    <tr>\n",
       "      <th>0</th>\n",
       "      <td>Newark Airport</td>\n",
       "      <td>1</td>\n",
       "      <td>EWR</td>\n",
       "    </tr>\n",
       "    <tr>\n",
       "      <th>1</th>\n",
       "      <td>Jamaica Bay</td>\n",
       "      <td>2</td>\n",
       "      <td>Queens</td>\n",
       "    </tr>\n",
       "    <tr>\n",
       "      <th>2</th>\n",
       "      <td>Allerton/Pelham Gardens</td>\n",
       "      <td>3</td>\n",
       "      <td>Bronx</td>\n",
       "    </tr>\n",
       "    <tr>\n",
       "      <th>3</th>\n",
       "      <td>Alphabet City</td>\n",
       "      <td>4</td>\n",
       "      <td>Manhattan</td>\n",
       "    </tr>\n",
       "    <tr>\n",
       "      <th>4</th>\n",
       "      <td>Arden Heights</td>\n",
       "      <td>5</td>\n",
       "      <td>Staten Island</td>\n",
       "    </tr>\n",
       "  </tbody>\n",
       "</table>\n",
       "</div>"
      ],
      "text/plain": [
       "                      Zone  LocationID        Borough\n",
       "0           Newark Airport           1            EWR\n",
       "1              Jamaica Bay           2         Queens\n",
       "2  Allerton/Pelham Gardens           3          Bronx\n",
       "3            Alphabet City           4      Manhattan\n",
       "4            Arden Heights           5  Staten Island"
      ]
     },
     "execution_count": 12,
     "metadata": {},
     "output_type": "execute_result"
    }
   ],
   "source": [
    "taxi_zones.head()"
   ]
  },
  {
   "cell_type": "markdown",
   "metadata": {},
   "source": [
    "**Contenidos del dataframe por columna:**\n",
    "\n",
    "* **Zone**: Nombre de la zona de taxi.\n",
    "* **LocationID**: Identificación única de ubicación.\n",
    "* **Borough**: Nombre del distrito (o \"borough\") al que pertenece la zona de taxi."
   ]
  },
  {
   "cell_type": "markdown",
   "metadata": {},
   "source": [
    "**Buscamos valores nulos**"
   ]
  },
  {
   "cell_type": "code",
   "execution_count": 13,
   "metadata": {},
   "outputs": [
    {
     "data": {
      "text/plain": [
       "Zone          0\n",
       "LocationID    0\n",
       "Borough       0\n",
       "dtype: int64"
      ]
     },
     "execution_count": 13,
     "metadata": {},
     "output_type": "execute_result"
    }
   ],
   "source": [
    "taxi_zones.isnull().sum()"
   ]
  },
  {
   "cell_type": "markdown",
   "metadata": {},
   "source": [
    "**Verificamos valores duplicados en el DataFrame**"
   ]
  },
  {
   "cell_type": "code",
   "execution_count": 14,
   "metadata": {},
   "outputs": [
    {
     "data": {
      "text/plain": [
       "3"
      ]
     },
     "execution_count": 14,
     "metadata": {},
     "output_type": "execute_result"
    }
   ],
   "source": [
    "taxi_zones.duplicated().sum()"
   ]
  },
  {
   "cell_type": "markdown",
   "metadata": {},
   "source": [
    "**Borramos los valores duplicados**"
   ]
  },
  {
   "cell_type": "code",
   "execution_count": 15,
   "metadata": {},
   "outputs": [],
   "source": [
    "taxi_zones.drop_duplicates(inplace=True)"
   ]
  },
  {
   "cell_type": "markdown",
   "metadata": {},
   "source": [
    "**Observamos los tipos de datos de cada columna**"
   ]
  },
  {
   "cell_type": "code",
   "execution_count": 16,
   "metadata": {},
   "outputs": [
    {
     "data": {
      "text/plain": [
       "Zone          object\n",
       "LocationID     int64\n",
       "Borough       object\n",
       "dtype: object"
      ]
     },
     "execution_count": 16,
     "metadata": {},
     "output_type": "execute_result"
    }
   ],
   "source": [
    "taxi_zones.dtypes"
   ]
  },
  {
   "cell_type": "markdown",
   "metadata": {},
   "source": [
    "**Revisamos los valores de la columna 'Borough'**"
   ]
  },
  {
   "cell_type": "code",
   "execution_count": 17,
   "metadata": {},
   "outputs": [
    {
     "data": {
      "text/plain": [
       "Borough\n",
       "Queens           68\n",
       "Manhattan        67\n",
       "Brooklyn         61\n",
       "Bronx            43\n",
       "Staten Island    20\n",
       "EWR               1\n",
       "Name: count, dtype: int64"
      ]
     },
     "execution_count": 17,
     "metadata": {},
     "output_type": "execute_result"
    }
   ],
   "source": [
    "taxi_zones['Borough'].value_counts()"
   ]
  },
  {
   "cell_type": "code",
   "execution_count": 18,
   "metadata": {},
   "outputs": [
    {
     "data": {
      "image/png": "[encoded data removed]",
      "text/plain": [
       "<Figure size 720x432 with 1 Axes>"
      ]
     },
     "metadata": {
      "needs_background": "light"
     },
     "output_type": "display_data"
    }
   ],
   "source": [
    "# Obtener los datos de conteo de zonas de taxi por distrito (\"borough\")\n",
    "borough_counts = taxi_zones['Borough'].value_counts()\n",
    "\n",
    "# Crear el gráfico de barras con el estilo 'viridis'\n",
    "plt.figure(figsize=(10, 6))\n",
    "barplot = sns.barplot(x=borough_counts.index, y=borough_counts, palette='viridis')\n",
    "\n",
    "# Agregar el número en cada barra\n",
    "for index, value in enumerate(borough_counts):\n",
    "    barplot.text(index, value, str(value), ha='center', va='bottom')\n",
    "\n",
    "plt.xlabel('Borough')\n",
    "plt.ylabel('Count')\n",
    "plt.title('Cantidad de zonas de taxi por distrito')\n",
    "plt.xticks(rotation=45)  # Rotar etiquetas del eje x para mejor visualización\n",
    "plt.show()"
   ]
  },
  {
   "cell_type": "markdown",
   "metadata": {},
   "source": [
    "**Observaciones:** este dataframe sirve mas que nada para identificar el distrito y cada zona de taxis, asignandole un ID a cada uno."
   ]
  },
  {
   "cell_type": "markdown",
   "metadata": {},
   "source": [
    "#### **3- Dataset Vehicle Fuel Economy Data**"
   ]
  },
  {
   "cell_type": "markdown",
   "metadata": {},
   "source": [
    "**Importamos los datos en un dataframe**"
   ]
  },
  {
   "cell_type": "code",
   "execution_count": 19,
   "metadata": {},
   "outputs": [],
   "source": [
    "fuel_economy = pd.read_parquet('Vehicle Fuel Economy Data.parquet')"
   ]
  },
  {
   "cell_type": "markdown",
   "metadata": {},
   "source": [
    "**Observamos el dataframe**"
   ]
  },
  {
   "cell_type": "code",
   "execution_count": 20,
   "metadata": {},
   "outputs": [
    {
     "data": {
      "text/html": [
       "<div>\n",
       "<style scoped>\n",
       "    .dataframe tbody tr th:only-of-type {\n",
       "        vertical-align: middle;\n",
       "    }\n",
       "\n",
       "    .dataframe tbody tr th {\n",
       "        vertical-align: top;\n",
       "    }\n",
       "\n",
       "    .dataframe thead th {\n",
       "        text-align: right;\n",
       "    }\n",
       "</style>\n",
       "<table border=\"1\" class=\"dataframe\">\n",
       "  <thead>\n",
       "    <tr style=\"text-align: right;\">\n",
       "      <th></th>\n",
       "      <th>Year</th>\n",
       "      <th>Manufacturer</th>\n",
       "      <th>Model</th>\n",
       "      <th>Miles per gallon (mpg)</th>\n",
       "      <th>CO2 (p/mile)</th>\n",
       "      <th>Fuel</th>\n",
       "      <th>Category</th>\n",
       "      <th>Alternative Fuel</th>\n",
       "    </tr>\n",
       "  </thead>\n",
       "  <tbody>\n",
       "    <tr>\n",
       "      <th>0</th>\n",
       "      <td>2017</td>\n",
       "      <td>BMW</td>\n",
       "      <td>M6 Coupe</td>\n",
       "      <td>15.0</td>\n",
       "      <td>519.0</td>\n",
       "      <td>Gasoline</td>\n",
       "      <td>Subcompact Cars</td>\n",
       "      <td>No</td>\n",
       "    </tr>\n",
       "    <tr>\n",
       "      <th>1</th>\n",
       "      <td>2017</td>\n",
       "      <td>BMW</td>\n",
       "      <td>X3 sDrive28i</td>\n",
       "      <td>21.0</td>\n",
       "      <td>374.0</td>\n",
       "      <td>Gasoline</td>\n",
       "      <td>Small Sport Utility Vehicle 2WD</td>\n",
       "      <td>No</td>\n",
       "    </tr>\n",
       "    <tr>\n",
       "      <th>2</th>\n",
       "      <td>2016</td>\n",
       "      <td>Infiniti</td>\n",
       "      <td>Q50S Red Sport</td>\n",
       "      <td>20.0</td>\n",
       "      <td>402.0</td>\n",
       "      <td>Gasoline</td>\n",
       "      <td>Midsize Cars</td>\n",
       "      <td>No</td>\n",
       "    </tr>\n",
       "    <tr>\n",
       "      <th>3</th>\n",
       "      <td>2017</td>\n",
       "      <td>MINI</td>\n",
       "      <td>John Cooper Works Convertible</td>\n",
       "      <td>24.0</td>\n",
       "      <td>327.0</td>\n",
       "      <td>Gasoline</td>\n",
       "      <td>Minicompact Cars</td>\n",
       "      <td>No</td>\n",
       "    </tr>\n",
       "    <tr>\n",
       "      <th>4</th>\n",
       "      <td>2017</td>\n",
       "      <td>Kia</td>\n",
       "      <td>Sedona SX</td>\n",
       "      <td>18.0</td>\n",
       "      <td>433.0</td>\n",
       "      <td>Gasoline</td>\n",
       "      <td>Minivan - 2WD</td>\n",
       "      <td>No</td>\n",
       "    </tr>\n",
       "  </tbody>\n",
       "</table>\n",
       "</div>"
      ],
      "text/plain": [
       "   Year Manufacturer                          Model  Miles per gallon (mpg)  \\\n",
       "0  2017          BMW                       M6 Coupe                    15.0   \n",
       "1  2017          BMW                   X3 sDrive28i                    21.0   \n",
       "2  2016     Infiniti                 Q50S Red Sport                    20.0   \n",
       "3  2017         MINI  John Cooper Works Convertible                    24.0   \n",
       "4  2017          Kia                      Sedona SX                    18.0   \n",
       "\n",
       "   CO2 (p/mile)      Fuel                         Category Alternative Fuel  \n",
       "0         519.0  Gasoline                  Subcompact Cars               No  \n",
       "1         374.0  Gasoline  Small Sport Utility Vehicle 2WD               No  \n",
       "2         402.0  Gasoline                     Midsize Cars               No  \n",
       "3         327.0  Gasoline                 Minicompact Cars               No  \n",
       "4         433.0  Gasoline                    Minivan - 2WD               No  "
      ]
     },
     "execution_count": 20,
     "metadata": {},
     "output_type": "execute_result"
    }
   ],
   "source": [
    "fuel_economy.head()"
   ]
  },
  {
   "cell_type": "markdown",
   "metadata": {},
   "source": [
    "**Contenidos del dataframe por columna:**\n",
    "- **Year**: El año del modelo del vehículo.\n",
    "- **Manufacturer**: El fabricante del vehículo.\n",
    "- **Model**: El modelo específico del vehículo.\n",
    "- **Miles per gallon (mpg)**: La eficiencia del vehículo medida en millas por galón, que indica cuántas millas puede recorrer el vehículo por cada galón de combustible consumido.\n",
    "- **CO2 (p/mile)**: La cantidad de dióxido de carbono emitido por milla recorrida, en gramos por milla.\n",
    "- **Fuel**: El tipo de combustible utilizado por el vehículo.\n",
    "- **Category**: La categoría de tamaño o tipo de vehículo.\n",
    "- **Alternative Fuel**: Indica si el vehículo utiliza un combustible alternativo o no."
   ]
  },
  {
   "cell_type": "markdown",
   "metadata": {},
   "source": [
    "**Buscamos valores nulos**"
   ]
  },
  {
   "cell_type": "code",
   "execution_count": 21,
   "metadata": {},
   "outputs": [
    {
     "data": {
      "text/plain": [
       "Year                      0\n",
       "Manufacturer              0\n",
       "Model                     0\n",
       "Miles per gallon (mpg)    0\n",
       "CO2 (p/mile)              0\n",
       "Fuel                      0\n",
       "Category                  0\n",
       "Alternative Fuel          0\n",
       "dtype: int64"
      ]
     },
     "execution_count": 21,
     "metadata": {},
     "output_type": "execute_result"
    }
   ],
   "source": [
    "fuel_economy.isnull().sum()"
   ]
  },
  {
   "cell_type": "markdown",
   "metadata": {},
   "source": [
    "**Verificamos valores duplicados en el DataFrame**"
   ]
  },
  {
   "cell_type": "code",
   "execution_count": 22,
   "metadata": {},
   "outputs": [
    {
     "data": {
      "text/plain": [
       "0"
      ]
     },
     "execution_count": 22,
     "metadata": {},
     "output_type": "execute_result"
    }
   ],
   "source": [
    "fuel_economy.duplicated().sum()"
   ]
  },
  {
   "cell_type": "markdown",
   "metadata": {},
   "source": [
    "**Observamos los tipos de datos de cada columna**"
   ]
  },
  {
   "cell_type": "code",
   "execution_count": 23,
   "metadata": {},
   "outputs": [
    {
     "data": {
      "text/plain": [
       "Year                        int64\n",
       "Manufacturer               object\n",
       "Model                      object\n",
       "Miles per gallon (mpg)    float64\n",
       "CO2 (p/mile)              float64\n",
       "Fuel                       object\n",
       "Category                   object\n",
       "Alternative Fuel           object\n",
       "dtype: object"
      ]
     },
     "execution_count": 23,
     "metadata": {},
     "output_type": "execute_result"
    }
   ],
   "source": [
    "fuel_economy.dtypes"
   ]
  },
  {
   "cell_type": "markdown",
   "metadata": {},
   "source": [
    "**Revisamos los valores de la columna 'Year'**"
   ]
  },
  {
   "cell_type": "code",
   "execution_count": 24,
   "metadata": {},
   "outputs": [
    {
     "data": {
      "text/plain": [
       "[1984,\n",
       " 1985,\n",
       " 1986,\n",
       " 1987,\n",
       " 1988,\n",
       " 1989,\n",
       " 1990,\n",
       " 1991,\n",
       " 1992,\n",
       " 1993,\n",
       " 1994,\n",
       " 1995,\n",
       " 1996,\n",
       " 1997,\n",
       " 1998,\n",
       " 1999,\n",
       " 2000,\n",
       " 2001,\n",
       " 2002,\n",
       " 2003,\n",
       " 2004,\n",
       " 2005,\n",
       " 2006,\n",
       " 2007,\n",
       " 2008,\n",
       " 2009,\n",
       " 2010,\n",
       " 2011,\n",
       " 2012,\n",
       " 2013,\n",
       " 2014,\n",
       " 2015,\n",
       " 2016,\n",
       " 2017,\n",
       " 2018,\n",
       " 2019,\n",
       " 2020,\n",
       " 2021,\n",
       " 2022,\n",
       " 2023,\n",
       " 2024]"
      ]
     },
     "execution_count": 24,
     "metadata": {},
     "output_type": "execute_result"
    }
   ],
   "source": [
    "sorted(fuel_economy['Year'].unique())"
   ]
  },
  {
   "cell_type": "markdown",
   "metadata": {},
   "source": [
    "**Observaciones:** podemos observar que el rango de años de este dataframe abarca desde 1984 hasta el 2024"
   ]
  },
  {
   "cell_type": "markdown",
   "metadata": {},
   "source": [
    "**Revisamos los valores de la columna 'Year'**"
   ]
  },
  {
   "cell_type": "code",
   "execution_count": 25,
   "metadata": {},
   "outputs": [
    {
     "data": {
      "text/plain": [
       "Manufacturer\n",
       "Chevrolet                      3300\n",
       "Ford                           2977\n",
       "BMW                            2082\n",
       "GMC                            2028\n",
       "Toyota                         1955\n",
       "                               ... \n",
       "London Coach Co Inc               1\n",
       "Excalibur Autos                   1\n",
       "Panos                             1\n",
       "Volga Associated Automobile       1\n",
       "General Motors                    1\n",
       "Name: count, Length: 131, dtype: int64"
      ]
     },
     "execution_count": 25,
     "metadata": {},
     "output_type": "execute_result"
    }
   ],
   "source": [
    "fuel_economy['Manufacturer'].value_counts()"
   ]
  },
  {
   "cell_type": "code",
   "execution_count": 26,
   "metadata": {},
   "outputs": [
    {
     "data": {
      "text/plain": [
       "array(['BMW', 'Infiniti', 'MINI', 'Kia', 'Ford', 'GMC', 'Lincoln',\n",
       "       'Maserati', 'Porsche', 'Tesla', 'Subaru', 'Hyundai',\n",
       "       'Mercedes-Benz', 'Volkswagen', 'Lamborghini', 'Toyota',\n",
       "       'Rolls-Royce', 'Jaguar', 'Chevrolet', 'Mazda', 'Genesis', 'Nissan',\n",
       "       'Volvo', 'Cadillac', 'Acura', 'Honda', 'Land Rover', 'Audi',\n",
       "       'Ferrari', 'Jeep', 'Fiat', 'Dodge', 'Bentley', 'Lexus', 'Chrysler',\n",
       "       'Saab', 'Mitsubishi', 'smart', 'Roush Performance',\n",
       "       'Mobility Ventures LLC', 'Alfa Romeo', 'Ram', 'Buick', 'Pagani',\n",
       "       'Aston Martin', 'Suzuki', 'McLaren Automotive', 'Aurora Cars Ltd',\n",
       "       'RUF Automobile', 'Lotus', 'Pontiac', 'Bugatti', 'Polestar',\n",
       "       'Sterling', 'Mercury', 'Rivian', 'Lucid', 'Oldsmobile', 'Peugeot',\n",
       "       'Plymouth', 'Isuzu', 'AM General', 'American Motors Corporation',\n",
       "       'Saturn', 'Volga Associated Automobile', 'Geo',\n",
       "       'Wallace Environmental', 'Import Trade Services', 'J.K. Motors',\n",
       "       'Autokraft Limited', 'CX Automotive', 'Panos', 'Excalibur Autos',\n",
       "       'Maybach', 'Scion', 'Bitter Gmbh and Co. Kg', 'Azure Dynamics',\n",
       "       'CODA Automotive', 'CCC Engineering', 'Spyker', 'Mcevoy Motors',\n",
       "       'Renault', 'Daewoo', 'London Coach Co Inc', 'Hummer',\n",
       "       'Pininfarina', 'Bill Dovell Motor Car Company', 'Grumman Olson',\n",
       "       'S and S Coach Company  E.p. Dutton', 'Eagle', 'Saleen',\n",
       "       'Dabryan Coach Builders Inc', 'Federal Coach', 'BMW Alpina',\n",
       "       'Morgan', 'Dacia', 'Yugo', 'Daihatsu', 'BYD', 'Bertone',\n",
       "       'Panther Car Company Limited', 'STI', 'Karma', 'Koenigsegg',\n",
       "       'Merkur', 'Quantum Technologies', 'VPG', 'Fisker',\n",
       "       'TVR Engineering Ltd', 'Evans Automobiles', 'Isis Imports Ltd',\n",
       "       'Texas Coach Company', 'Shelby', 'Saleen Performance',\n",
       "       'Kenyon Corporation Of America',\n",
       "       'Superior Coaches Div E.p. Dutton', 'SRT',\n",
       "       'Panoz Auto-Development', 'Vector',\n",
       "       'Import Foreign Auto Sales Inc',\n",
       "       'Environmental Rsch and Devp Corp', 'Laforza Automobile Inc',\n",
       "       'Kandi', 'Avanti Motor Corporation', 'Qvale', 'Goldacre',\n",
       "       'Mahindra', 'Lambda Control Systems', 'Lordstown',\n",
       "       'Grumman Allied Industries', 'General Motors'], dtype=object)"
      ]
     },
     "execution_count": 26,
     "metadata": {},
     "output_type": "execute_result"
    }
   ],
   "source": [
    "fuel_economy['Manufacturer'].unique()"
   ]
  },
  {
   "cell_type": "markdown",
   "metadata": {},
   "source": [
    "Al haber una cantidad tan grande, procedemos a hacer estadisticas con los mas "
   ]
  },
  {
   "cell_type": "code",
   "execution_count": 27,
   "metadata": {},
   "outputs": [
    {
     "data": {
      "image/png": "[encoded data removed]",
      "text/plain": [
       "<Figure size 720x432 with 1 Axes>"
      ]
     },
     "metadata": {
      "needs_background": "light"
     },
     "output_type": "display_data"
    }
   ],
   "source": [
    "# Obtener los 24 fabricantes más comunes\n",
    "top_manufacturers = fuel_economy['Manufacturer'].value_counts().head(24)\n",
    "\n",
    "# Calcular la suma de los fabricantes restantes\n",
    "otros = fuel_economy['Manufacturer'].value_counts().sum() - top_manufacturers.sum()\n",
    "\n",
    "# Agregar 'otros' al dataframe de los principales fabricantes\n",
    "top_manufacturers['Otros'] = otros\n",
    "\n",
    "# Crear el gráfico de barras\n",
    "plt.figure(figsize=(10, 6))\n",
    "sns.barplot(x=top_manufacturers.index, y=top_manufacturers.values, palette='viridis')\n",
    "plt.xlabel('Fabricante')\n",
    "plt.ylabel('Cantidad')\n",
    "plt.title('Top 20 Fabricantes de Vehículos por Uso')\n",
    "plt.xticks(rotation=45, ha='right')\n",
    "plt.show()"
   ]
  },
  {
   "cell_type": "markdown",
   "metadata": {},
   "source": [
    "**Revisamos los valores de la columna 'Fuel'**"
   ]
  },
  {
   "cell_type": "code",
   "execution_count": 28,
   "metadata": {},
   "outputs": [
    {
     "data": {
      "text/plain": [
       "Fuel\n",
       "Gasoline    36344\n",
       "Diesel        952\n",
       "Electric      503\n",
       "CNG            60\n",
       "Name: count, dtype: int64"
      ]
     },
     "execution_count": 28,
     "metadata": {},
     "output_type": "execute_result"
    }
   ],
   "source": [
    "fuel_economy['Fuel'].value_counts()"
   ]
  },
  {
   "cell_type": "code",
   "execution_count": 29,
   "metadata": {},
   "outputs": [
    {
     "data": {
      "image/png": "[encoded data removed]",
      "text/plain": [
       "<Figure size 576x432 with 1 Axes>"
      ]
     },
     "metadata": {
      "needs_background": "light"
     },
     "output_type": "display_data"
    }
   ],
   "source": [
    "# Datos de la distribución de tipos de combustible\n",
    "fuel_counts = fuel_economy['Fuel'].value_counts()\n",
    "\n",
    "# Crear el gráfico de barras con paleta 'viridis'\n",
    "plt.figure(figsize=(8, 6))\n",
    "sns.barplot(x=fuel_counts.index, y=fuel_counts.values, palette='viridis')\n",
    "\n",
    "# Agregar etiquetas de valores en cada barra\n",
    "for i, value in enumerate(fuel_counts.values):\n",
    "    plt.text(i, value, str(value), ha='center', va='bottom')\n",
    "\n",
    "plt.xlabel('Tipo de Combustible')\n",
    "plt.ylabel('Cantidad')\n",
    "plt.title('Distribución de Tipos de Combustible')\n",
    "plt.xticks(rotation=45)\n",
    "plt.tight_layout()\n",
    "plt.show()"
   ]
  },
  {
   "cell_type": "markdown",
   "metadata": {},
   "source": [
    "**Revisamos los valores de la columna 'Category'**"
   ]
  },
  {
   "cell_type": "code",
   "execution_count": 30,
   "metadata": {},
   "outputs": [
    {
     "data": {
      "text/plain": [
       "Category\n",
       "Compact Cars                          5100\n",
       "Midsize Cars                          4691\n",
       "Subcompact Cars                       4263\n",
       "Large Cars                            2394\n",
       "Two Seaters                           1994\n",
       "Sport Utility Vehicle - 4WD           1818\n",
       "Small Sport Utility Vehicle 4WD       1570\n",
       "Vans                                  1419\n",
       "Small Station Wagons                  1416\n",
       "Sport Utility Vehicle - 2WD           1386\n",
       "Standard Pickup Trucks                1381\n",
       "Minicompact Cars                      1322\n",
       "Standard Sport Utility Vehicle 4WD    1268\n",
       "Standard Pickup Trucks 4WD            1107\n",
       "Special Purpose Vehicles              1104\n",
       "Standard Pickup Trucks 2WD            1090\n",
       "Small Sport Utility Vehicle 2WD        922\n",
       "Special Purpose Vehicle 2WD            588\n",
       "Midsize-Large Station Wagons           467\n",
       "Standard Sport Utility Vehicle 2WD     439\n",
       "Midsize Station Wagons                 423\n",
       "Small Pickup Trucks 2WD                403\n",
       "Small Pickup Trucks                    381\n",
       "Minivan - 2WD                          356\n",
       "Small Pickup Trucks 4WD                257\n",
       "Special Purpose Vehicle 4WD            236\n",
       "Minivan - 4WD                           54\n",
       "Standard Pickup Trucks/2wd               4\n",
       "Special Purpose Vehicles/2wd             2\n",
       "Special Purpose Vehicles/4wd             2\n",
       "Vans Passenger                           2\n",
       "Name: count, dtype: int64"
      ]
     },
     "execution_count": 30,
     "metadata": {},
     "output_type": "execute_result"
    }
   ],
   "source": [
    "fuel_economy['Category'].value_counts()"
   ]
  },
  {
   "cell_type": "code",
   "execution_count": 31,
   "metadata": {},
   "outputs": [
    {
     "data": {
      "image/png": "[encoded data removed]",
      "text/plain": [
       "<Figure size 720x864 with 1 Axes>"
      ]
     },
     "metadata": {
      "needs_background": "light"
     },
     "output_type": "display_data"
    }
   ],
   "source": [
    "# Obtener el conteo de valores de la columna 'Category' y ordenar de mayor a menor\n",
    "category_counts_sorted = fuel_economy['Category'].value_counts().sort_values(ascending=False)\n",
    "\n",
    "# Crear el gráfico de barras\n",
    "plt.figure(figsize=(10, 12))\n",
    "sns.barplot(x=category_counts_sorted.values, y=category_counts_sorted.index, palette='viridis')\n",
    "plt.xlabel('Count')\n",
    "plt.ylabel('Category')\n",
    "plt.title('Counts of Vehicle Categories')\n",
    "plt.show()"
   ]
  },
  {
   "cell_type": "markdown",
   "metadata": {},
   "source": [
    "**Revisamos los valores de la columna 'Alternative Fuel'**"
   ]
  },
  {
   "cell_type": "code",
   "execution_count": 32,
   "metadata": {},
   "outputs": [
    {
     "data": {
      "text/plain": [
       "Alternative Fuel\n",
       "No          36263\n",
       "E85          1276\n",
       "Electric      296\n",
       "CNG            16\n",
       "LPG             8\n",
       "Name: count, dtype: int64"
      ]
     },
     "execution_count": 32,
     "metadata": {},
     "output_type": "execute_result"
    }
   ],
   "source": [
    "fuel_economy['Alternative Fuel'].value_counts()"
   ]
  },
  {
   "cell_type": "code",
   "execution_count": 33,
   "metadata": {},
   "outputs": [
    {
     "data": {
      "image/png": "[encoded data removed]",
      "text/plain": [
       "<Figure size 576x432 with 1 Axes>"
      ]
     },
     "metadata": {
      "needs_background": "light"
     },
     "output_type": "display_data"
    }
   ],
   "source": [
    "# Obtener el conteo de valores de la columna 'Alternative Fuel'\n",
    "alternative_fuel_counts = fuel_economy['Alternative Fuel'].value_counts()\n",
    "\n",
    "# Crear el gráfico de barras\n",
    "plt.figure(figsize=(8, 6))\n",
    "sns.barplot(x=alternative_fuel_counts.values, y=alternative_fuel_counts.index, palette='viridis')\n",
    "\n",
    "# Agregar etiquetas de valor en cada barra\n",
    "for i, count in enumerate(alternative_fuel_counts.values):\n",
    "    plt.text(count + 20, i, str(count), ha='center', va='center')\n",
    "\n",
    "plt.xlabel('Count')\n",
    "plt.ylabel('Alternative Fuel')\n",
    "plt.title('Counts of Alternative Fuel Types')\n",
    "plt.show()"
   ]
  },
  {
   "cell_type": "code",
   "execution_count": 34,
   "metadata": {},
   "outputs": [
    {
     "data": {
      "image/png": "[encoded data removed]",
      "text/plain": [
       "<Figure size 720x432 with 1 Axes>"
      ]
     },
     "metadata": {
      "needs_background": "light"
     },
     "output_type": "display_data"
    }
   ],
   "source": [
    "# Filtrar los datos para el año 2023 y aquellos con 0 emisiones de CO2\n",
    "data_2023_zero_emissions = fuel_economy[(fuel_economy['Year'] == 2023) & (fuel_economy['CO2 (p/mile)'] == 0)]\n",
    "\n",
    "# Contar la cantidad de autos con 0 emisiones de CO2 por fabricante\n",
    "zero_emissions_counts = data_2023_zero_emissions['Manufacturer'].value_counts().sort_values(ascending=False)\n",
    "\n",
    "# Crear el gráfico de barras utilizando la función barplot de Seaborn\n",
    "plt.figure(figsize=(10, 6))\n",
    "sns.barplot(x=zero_emissions_counts.index, y=zero_emissions_counts.values, palette='viridis')\n",
    "plt.xlabel('Fabricante')\n",
    "plt.ylabel('Cantidad de autos con 0 emisiones de CO2')\n",
    "plt.title('Cantidad de autos del 2023 con 0 emisiones de CO2 por fabricante')\n",
    "plt.xticks(rotation=45, ha='right')\n",
    "plt.tight_layout()\n",
    "plt.show()"
   ]
  },
  {
   "cell_type": "code",
   "execution_count": 35,
   "metadata": {},
   "outputs": [
    {
     "data": {
      "image/png": "[encoded data removed]",
      "text/plain": [
       "<Figure size 720x432 with 1 Axes>"
      ]
     },
     "metadata": {
      "needs_background": "light"
     },
     "output_type": "display_data"
    }
   ],
   "source": [
    "# Filtrar los datos para los últimos 10 años y aquellos con 0 emisiones de CO2\n",
    "last_10_years_data = fuel_economy[fuel_economy['Year'] >= 2014]\n",
    "zero_emissions_data = last_10_years_data[last_10_years_data['CO2 (p/mile)'] == 0]\n",
    "\n",
    "# Contar la cantidad de autos con 0 emisiones de CO2 por año\n",
    "zero_emissions_counts_by_year = zero_emissions_data['Year'].value_counts().sort_index()\n",
    "\n",
    "# Crear el gráfico de barras\n",
    "plt.figure(figsize=(10, 6))\n",
    "barplot = sns.barplot(x=zero_emissions_counts_by_year.index, y=zero_emissions_counts_by_year.values, palette='viridis')\n",
    "plt.xlabel('Año')\n",
    "plt.ylabel('Cantidad de autos con 0 emisiones de CO2')\n",
    "plt.title('Cantidad de autos con 0 emisiones de CO2 por año (últimos 10 años)')\n",
    "plt.xticks(rotation=45)\n",
    "\n",
    "# Añadir el número de cada barra\n",
    "for index, value in enumerate(zero_emissions_counts_by_year):\n",
    "    barplot.text(index, value, str(value), ha='center', va='bottom')\n",
    "\n",
    "plt.tight_layout()\n",
    "plt.show()"
   ]
  }
 ],
 "metadata": {
  "kernelspec": {
   "display_name": "Python 3",
   "language": "python",
   "name": "python3"
  },
  "language_info": {
   "codemirror_mode": {
    "name": "ipython",
    "version": 3
   },
   "file_extension": ".py",
   "mimetype": "text/x-python",
   "name": "python",
   "nbconvert_exporter": "python",
   "pygments_lexer": "ipython3",
   "version": "3.10.9"
  }
 },
 "nbformat": 4,
 "nbformat_minor": 2
}
