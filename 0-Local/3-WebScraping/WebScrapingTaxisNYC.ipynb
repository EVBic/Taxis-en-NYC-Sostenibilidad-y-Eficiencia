{
 "cells": [
  {
   "cell_type": "markdown",
   "metadata": {},
   "source": [
    "### **Web Scraping:** \n",
    "**El web scraping es el proceso de extracción automatizada de datos de sitios web. Utiliza programas de software para recorrer páginas web, analizar su estructura y extraer información específica de ellas. Este proceso puede incluir la descarga de contenido web, el análisis de HTML para identificar patrones de datos y la extracción de datos relevantes según ciertos criterios, como etiquetas HTML específicas, clases CSS o ubicaciones en la página. El objetivo del web scraping es obtener datos de manera eficiente y automatizada para su posterior análisis, almacenamiento o uso en otras aplicaciones.**"
   ]
  },
  {
   "cell_type": "markdown",
   "metadata": {},
   "source": [
    "#### Importamos librerias necesarias para nuestro trabajo"
   ]
  },
  {
   "cell_type": "code",
   "execution_count": 1,
   "metadata": {},
   "outputs": [],
   "source": [
    "import pandas as pd  # Importar la librería pandas para manipulación y análisis de datos\n",
    "import os  # Importar el módulo os para operaciones relacionadas con el sistema operativo\n",
    "import re  # Importar el módulo re para operaciones de expresiones regulares\n",
    "import requests  # Importar el módulo requests para realizar solicitudes HTTP\n",
    "from bs4 import BeautifulSoup  # Importar BeautifulSoup desde el módulo bs4 para analizar HTML\n",
    "import fastparquet  # Importar la biblioteca fastparquet para leer y escribir archivos Parquet"
   ]
  },
  {
   "cell_type": "markdown",
   "metadata": {},
   "source": [
    "#### Primer WebScraping: página web de **Comisión de Taxis y Limusinas de Nueva York (TLC)**"
   ]
  },
  {
   "cell_type": "markdown",
   "metadata": {},
   "source": [
    "Registros de viajes en taxis amarillos y verdes, incluye información sobre fechas, horas, ubicaciones, distancias, tarifas y tipos de pago. Estos datos fueron recopilados por proveedores tecnológicos autorizados y presentados a la Comisión de Taxis y Limusinas de Nueva York (TLC)."
   ]
  },
  {
   "cell_type": "code",
   "execution_count": null,
   "metadata": {},
   "outputs": [],
   "source": []
  }
 ],
 "metadata": {
  "kernelspec": {
   "display_name": "env_pfsh",
   "language": "python",
   "name": "python3"
  },
  "language_info": {
   "codemirror_mode": {
    "name": "ipython",
    "version": 3
   },
   "file_extension": ".py",
   "mimetype": "text/x-python",
   "name": "python",
   "nbconvert_exporter": "python",
   "pygments_lexer": "ipython3",
   "version": "3.9.7"
  }
 },
 "nbformat": 4,
 "nbformat_minor": 2
}
