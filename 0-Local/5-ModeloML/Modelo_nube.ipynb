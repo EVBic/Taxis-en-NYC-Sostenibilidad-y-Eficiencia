{
 "cells": [
  {
   "cell_type": "markdown",
   "metadata": {},
   "source": [
    "-------------------"
   ]
  },
  {
   "cell_type": "markdown",
   "metadata": {},
   "source": [
    "#### *Modelo Machine Learning*"
   ]
  },
  {
   "cell_type": "code",
   "execution_count": 3,
   "metadata": {},
   "outputs": [
    {
     "data": {
      "text/plain": [
       "['model_taxi2.pkl']"
      ]
     },
     "execution_count": 3,
     "metadata": {},
     "output_type": "execute_result"
    }
   ],
   "source": [
    "import pandas as pd  # Importa la librería pandas para el manejo de datos\n",
    "from sklearn.model_selection import train_test_split  # Importa la función train_test_split de sklearn para dividir los datos en conjuntos de entrenamiento y prueba\n",
    "from sklearn.ensemble import RandomForestRegressor  # Importa el modelo RandomForestRegressor de sklearn\n",
    "from sklearn.metrics import r2_score\n",
    "\n",
    "# Lee el archivo de datos de los taxis para el año 2023 en formato parquet y lo guarda en el DataFrame taxis_NYC\n",
    "taxis_NYC =pd.read_parquet('../dataset limpios api/taxis_2023.parquet')\n",
    "\n",
    "# Filtra los viajes con distancia menor o igual a 100 millas\n",
    "taxis_NYC = taxis_NYC[taxis_NYC['trip_distance'] <= 100]\n",
    "\n",
    "# Filtra los viajes con costo mayor o igual a 5 dólares\n",
    "taxis_NYC = taxis_NYC[taxis_NYC['amount'] >= 5] \n",
    "\n",
    "# Elimina los viajes que tienen como punto de recogida el aeropuerto Newark\n",
    "taxis_NYC = taxis_NYC[taxis_NYC['pickup_borough'] != 'EWR']\n",
    "\n",
    "# Extrae el año, mes, día y día de la semana de la fecha de recogida\n",
    "taxis_NYC['año'] = pd.to_datetime(taxis_NYC['pickup_date']).dt.year\n",
    "taxis_NYC['mes'] = pd.to_datetime(taxis_NYC['pickup_date']).dt.month\n",
    "taxis_NYC['dia'] = pd.to_datetime(taxis_NYC['pickup_date']).dt.day\n",
    "taxis_NYC['dayofweek'] = pd.to_datetime(taxis_NYC['pickup_date']).dt.dayofweek\n",
    "\n",
    "# Utiliza la hora de recogida como hora de viaje\n",
    "taxis_NYC['hora'] = taxis_NYC['pickup_hour']\n",
    "\n",
    "# Rellena las horas con un 0 al principio y agrega ':00' para formatearlas como HH:00\n",
    "taxis_NYC['hora'] = taxis_NYC['hora'].str.zfill(2) + ':00'\n",
    "\n",
    "# Agrupa los viajes por tipo de servicio, punto de recogida, día de la semana y hora, y cuenta la cantidad de viajes\n",
    "taxis_NYC = taxis_NYC.groupby(['service_type', 'pickup_borough', 'año', 'mes', 'dia', 'dayofweek', 'hora']).agg({'passenger_count': 'count'}).reset_index()\n",
    "\n",
    "# Renombra la columna resultante como 'demand'\n",
    "taxis_NYC.columns = ['service_type', 'pickup_borough', 'año', 'mes', 'dia', 'dayofweek', 'hora', 'demand']\n",
    "\n",
    "# Agrupa los viajes por tipo de servicio, punto de recogida, día de la semana y hora, y cuenta la cantidad de viajes (de nuevo)\n",
    "taxis_NYC = taxis_NYC.groupby(['service_type', 'pickup_borough', 'dayofweek','hora']).size().reset_index(name='demand')\n",
    "\n",
    "# Convierte el DataFrame resultante en un DataFrame de pandas\n",
    "taxis_NYC = pd.DataFrame(taxis_NYC)\n",
    "\n",
    "# Normaliza la columna 'demand' dividiendo cada valor por el máximo valor y multiplicándolo por 100\n",
    "taxis_NYC['demand'] = taxis_NYC['demand'].apply(lambda x :  (x / taxis_NYC['demand'].max()))\n",
    "taxis_NYC['demand'] = round(taxis_NYC['demand']*100,2)\n",
    "\n",
    "# Asigna un ID numérico a los tipos de servicio ('yellow': 1, 'green': 0)\n",
    "taxis_NYC['serviceID'] = taxis_NYC['service_type'].map({'yellow': 1, 'green': 0})\n",
    "\n",
    "# Asigna un ID numérico a los puntos de recogida ('Manhattan': 1, 'Queens': 2, 'Brooklyn': 3, 'Bronx': 4, 'Staten Island': 5)\n",
    "taxis_NYC['borough2ID'] = taxis_NYC['pickup_borough'].map({'Manhattan': 1, 'Queens': 2, 'Brooklyn': 3, 'Bronx': 4, 'Staten Island': 5})\n",
    "\n",
    "# Elimina las columnas 'service_type' y 'pickup_borough' del DataFrame\n",
    "taxis_NYC = taxis_NYC.drop(columns={'service_type','pickup_borough'})\n",
    "\n",
    "# Convierte la hora de formato HH:MM a un valor numérico de 0 a 23\n",
    "taxis_NYC['hora'] = pd.to_datetime(taxis_NYC['hora'], format='%H:%M').dt.hour\n",
    "\n",
    "# Asigna el DataFrame resultante a la variable df\n",
    "df = taxis_NYC\n",
    "\n",
    "# Separa las características (X) y la variable objetivo (y)\n",
    "X = df.drop(['demand'], axis=1)\n",
    "y = df['demand']\n",
    "\n",
    "# Divide los datos en conjuntos de entrenamiento y prueba (70% entrenamiento, 30% prueba)\n",
    "X_train, X_test, y_train, y_test = train_test_split(X, y, test_size=0.3, random_state=65)\n",
    "\n",
    "# Inicializa el modelo RandomForestRegressor con una semilla aleatoria\n",
    "model_taxi = RandomForestRegressor(random_state=10)\n",
    "\n",
    "# Entrena el modelo con los datos de entrenamiento\n",
    "model_taxi.fit(X_train, y_train)\n",
    "\n",
    "#\n",
    "#\n",
    
    "# Evaluación de modelos\n",
    "y_pred = model_taxi.predict(X_test) # por si quieres testear y hacer graficas\n",
    "\n",
    "r2_taxi = r2_score(y_test, y_pred)\n",
    "\n",
    "# Guarda el modelo entrenado en un archivo llamado 'model_taxi.pkl'\n",
    "import joblib\n",
    "joblib.dump(model_taxi, 'model_taxi.pkl') # por si crean un baket y lo guardan\n"
   ]
  },
  {
   "cell_type": "markdown",
   "metadata": {},
   "source": [
    "### "
   ]
  },
  {
   "cell_type": "markdown",
   "metadata": {},
   "source": [
    "--------------------"
   ]
  },
  {
   "cell_type": "markdown",
   "metadata": {},
   "source": [
    "esto es para validar pero va en el SageMaker"
   ]
  },
  {
   "cell_type": "code",
   "execution_count": 4,
   "metadata": {},
   "outputs": [
    {
     "name": "stdout",
     "output_type": "stream",
     "text": [
      "Predicciones del modelo cargado: [98.3316 64.6907  1.8927]\n"
     ]
    },
    {
     "name": "stderr",
     "output_type": "stream",
     "text": [
      "c:\\Users\\Pc\\anaconda3\\lib\\site-packages\\sklearn\\base.py:493: FutureWarning: The feature names should match those that were passed during fit. Starting version 1.2, an error will be raised.\n",
      "Feature names unseen at fit time:\n",
      "- dia\n",
      "- pickup_borough2\n",
      "- service_type2\n",
      "Feature names seen at fit time, yet now missing:\n",
      "- borough2ID\n",
      "- dayofweek\n",
      "- serviceID\n",
      "\n",
      "  warnings.warn(message, FutureWarning)\n"
     ]
    }
   ],
   "source": [
    "# Suponiendo que tienes algunos datos para hacer predicciones\n",
    "nuevos_datos = {\n",
    "    'dia': [1, 2, 4],  # Ejemplo de valores de día\n",
    "    'hora': ['17:00', '2:00', '21:00'],  # Ejemplo de valores de hora\n",
    "    'service_type2': [1, 0, 0],  # Ejemplo de valores de service_type2\n",
    "    'pickup_borough2': ['1', '2', '5']  # Ejemplo de valores de pickup_borough2\n",
    "} #dia\thora\ttotal_millas_recorridas\tganancia_hora\tservice_type2\tpickup_borough2\n",
    "# Crear DataFrame de nuevos datos\n",
    "X_nuevos_datos = pd.DataFrame(nuevos_datos)\n",
    "X_nuevos_datos['hora'] = pd.to_datetime(X_nuevos_datos['hora'], format='%H:%M').dt.hour\n",
    "\n",
    "# Cargar el modelo desde el archivo pickle\n",
    "loaded_model = joblib.load('model_taxi2.pkl')\n",
    "\n",
    "# Suponiendo que tienes nuevos datos en X_nuevos_datos\n",
    "# Hacer predicciones con el modelo cargado\n",
    "y_pred_ml = loaded_model.predict(X_nuevos_datos)\n",
    "\n",
    "# Imprimir las predicciones\n",
    "print(\"Predicciones del modelo cargado:\", y_pred_ml)"
   ]
  },
  {
   "cell_type": "code",
   "execution_count": null,
   "metadata": {},
   "outputs": [],
   "source": []
  }
 ],
 "metadata": {
  "kernelspec": {
   "display_name": "base",
   "language": "python",
   "name": "python3"
  },
  "language_info": {
   "codemirror_mode": {
    "name": "ipython",
    "version": 3
   },
   "file_extension": ".py",
   "mimetype": "text/x-python",
   "name": "python",
   "nbconvert_exporter": "python",
   "pygments_lexer": "ipython3",
   "version": "3.9.7"
  }
 },
 "nbformat": 4,
 "nbformat_minor": 2
}
