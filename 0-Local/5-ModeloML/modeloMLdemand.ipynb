{
 "cells": [
  {
   "cell_type": "markdown",
   "metadata": {},
   "source": [
    "### Recopilación de datos"
   ]
  },
  {
   "cell_type": "markdown",
   "metadata": {},
   "source": [
    "## Modelado Machine Learnin Prediccion de Demanda de taxis en la Ciudad de Nueva York"
   ]
  },
  {
   "cell_type": "markdown",
   "metadata": {},
   "source": [
    "El modelado en desarrollo predecirá la demanda de taxis en la ciudad de nueva york, como resultado entregará el porcentaje de la demanda por los ususarios, asi los taxistas poder tener un mapa de zonas de alta demanda. La predicción trabaja bajo los parametros de 'borough', 'tipo de servicio', 'dia de la semana' y la 'hora que se desea tomar el taxi'.\n",
    "\n",
    "Se tomó la decisión de solo tomar el dataset económico de taxis_2023.parquet que vienes como producto del scrapeo de la pagina web https://www.nyc.gov/site/tlc/index.page, esta decisión fue tomada bajo el análisis de cada datasets dentro de nuestro Data Werehouse después de haber realizado una Matriz de Correlación. "
   ]
  },
  {
   "cell_type": "markdown",
   "metadata": {},
   "source": [
    "### Importamos la libreria Pandas para realizar la visualizacion y cambios necesarios a nuestro dataset "
   ]
  },
  {
   "cell_type": "code",
   "execution_count": 239,
   "metadata": {},
   "outputs": [
    {
     "data": {
      "text/html": [
       "<div>\n",
       "<style scoped>\n",
       "    .dataframe tbody tr th:only-of-type {\n",
       "        vertical-align: middle;\n",
       "    }\n",
       "\n",
       "    .dataframe tbody tr th {\n",
       "        vertical-align: top;\n",
       "    }\n",
       "\n",
       "    .dataframe thead th {\n",
       "        text-align: right;\n",
       "    }\n",
       "</style>\n",
       "<table border=\"1\" class=\"dataframe\">\n",
       "  <thead>\n",
       "    <tr style=\"text-align: right;\">\n",
       "      <th></th>\n",
       "      <th>RatecodeID</th>\n",
       "      <th>passenger_count</th>\n",
       "      <th>trip_distance</th>\n",
       "      <th>amount</th>\n",
       "      <th>service_type</th>\n",
       "      <th>pickup_borough</th>\n",
       "      <th>dropoff_borough</th>\n",
       "      <th>pickup_date</th>\n",
       "      <th>pickup_hour</th>\n",
       "      <th>dropoff_date</th>\n",
       "      <th>dropoff_hour</th>\n",
       "    </tr>\n",
       "  </thead>\n",
       "  <tbody>\n",
       "    <tr>\n",
       "      <th>0</th>\n",
       "      <td>1.0</td>\n",
       "      <td>1</td>\n",
       "      <td>0.97</td>\n",
       "      <td>14.30</td>\n",
       "      <td>yellow</td>\n",
       "      <td>Manhattan</td>\n",
       "      <td>Manhattan</td>\n",
       "      <td>2023-01-01</td>\n",
       "      <td>0</td>\n",
       "      <td>2023-01-01</td>\n",
       "      <td>0</td>\n",
       "    </tr>\n",
       "    <tr>\n",
       "      <th>1</th>\n",
       "      <td>1.0</td>\n",
       "      <td>1</td>\n",
       "      <td>1.10</td>\n",
       "      <td>20.90</td>\n",
       "      <td>yellow</td>\n",
       "      <td>Manhattan</td>\n",
       "      <td>Manhattan</td>\n",
       "      <td>2023-01-01</td>\n",
       "      <td>0</td>\n",
       "      <td>2023-01-01</td>\n",
       "      <td>1</td>\n",
       "    </tr>\n",
       "    <tr>\n",
       "      <th>2</th>\n",
       "      <td>1.0</td>\n",
       "      <td>1</td>\n",
       "      <td>1.43</td>\n",
       "      <td>22.96</td>\n",
       "      <td>yellow</td>\n",
       "      <td>Manhattan</td>\n",
       "      <td>Manhattan</td>\n",
       "      <td>2023-01-01</td>\n",
       "      <td>0</td>\n",
       "      <td>2023-01-01</td>\n",
       "      <td>0</td>\n",
       "    </tr>\n",
       "    <tr>\n",
       "      <th>3</th>\n",
       "      <td>1.0</td>\n",
       "      <td>1</td>\n",
       "      <td>1.66</td>\n",
       "      <td>23.94</td>\n",
       "      <td>yellow</td>\n",
       "      <td>Manhattan</td>\n",
       "      <td>Manhattan</td>\n",
       "      <td>2023-01-01</td>\n",
       "      <td>0</td>\n",
       "      <td>2023-01-01</td>\n",
       "      <td>0</td>\n",
       "    </tr>\n",
       "    <tr>\n",
       "      <th>4</th>\n",
       "      <td>1.0</td>\n",
       "      <td>1</td>\n",
       "      <td>11.70</td>\n",
       "      <td>75.18</td>\n",
       "      <td>yellow</td>\n",
       "      <td>Manhattan</td>\n",
       "      <td>Bronx</td>\n",
       "      <td>2023-01-01</td>\n",
       "      <td>0</td>\n",
       "      <td>2023-01-01</td>\n",
       "      <td>0</td>\n",
       "    </tr>\n",
       "    <tr>\n",
       "      <th>...</th>\n",
       "      <td>...</td>\n",
       "      <td>...</td>\n",
       "      <td>...</td>\n",
       "      <td>...</td>\n",
       "      <td>...</td>\n",
       "      <td>...</td>\n",
       "      <td>...</td>\n",
       "      <td>...</td>\n",
       "      <td>...</td>\n",
       "      <td>...</td>\n",
       "      <td>...</td>\n",
       "    </tr>\n",
       "    <tr>\n",
       "      <th>7861599</th>\n",
       "      <td>1.0</td>\n",
       "      <td>1</td>\n",
       "      <td>0.58</td>\n",
       "      <td>8.30</td>\n",
       "      <td>green</td>\n",
       "      <td>Manhattan</td>\n",
       "      <td>Manhattan</td>\n",
       "      <td>2024-01-31</td>\n",
       "      <td>22</td>\n",
       "      <td>2024-01-31</td>\n",
       "      <td>22</td>\n",
       "    </tr>\n",
       "    <tr>\n",
       "      <th>7861600</th>\n",
       "      <td>1.0</td>\n",
       "      <td>1</td>\n",
       "      <td>2.18</td>\n",
       "      <td>26.25</td>\n",
       "      <td>green</td>\n",
       "      <td>Manhattan</td>\n",
       "      <td>Manhattan</td>\n",
       "      <td>2024-01-31</td>\n",
       "      <td>22</td>\n",
       "      <td>2024-01-31</td>\n",
       "      <td>22</td>\n",
       "    </tr>\n",
       "    <tr>\n",
       "      <th>7861601</th>\n",
       "      <td>1.0</td>\n",
       "      <td>2</td>\n",
       "      <td>1.12</td>\n",
       "      <td>9.70</td>\n",
       "      <td>green</td>\n",
       "      <td>Queens</td>\n",
       "      <td>Queens</td>\n",
       "      <td>2024-01-31</td>\n",
       "      <td>23</td>\n",
       "      <td>2024-01-31</td>\n",
       "      <td>23</td>\n",
       "    </tr>\n",
       "    <tr>\n",
       "      <th>7861602</th>\n",
       "      <td>1.0</td>\n",
       "      <td>1</td>\n",
       "      <td>4.59</td>\n",
       "      <td>39.97</td>\n",
       "      <td>green</td>\n",
       "      <td>Brooklyn</td>\n",
       "      <td>Manhattan</td>\n",
       "      <td>2024-01-31</td>\n",
       "      <td>23</td>\n",
       "      <td>2024-02-01</td>\n",
       "      <td>0</td>\n",
       "    </tr>\n",
       "    <tr>\n",
       "      <th>7861603</th>\n",
       "      <td>1.0</td>\n",
       "      <td>1</td>\n",
       "      <td>2.03</td>\n",
       "      <td>16.60</td>\n",
       "      <td>green</td>\n",
       "      <td>Manhattan</td>\n",
       "      <td>Manhattan</td>\n",
       "      <td>2024-01-31</td>\n",
       "      <td>23</td>\n",
       "      <td>2024-01-31</td>\n",
       "      <td>23</td>\n",
       "    </tr>\n",
       "  </tbody>\n",
       "</table>\n",
       "<p>7861604 rows × 11 columns</p>\n",
       "</div>"
      ],
      "text/plain": [
       "         RatecodeID  passenger_count  trip_distance  amount service_type  \\\n",
       "0               1.0                1           0.97   14.30       yellow   \n",
       "1               1.0                1           1.10   20.90       yellow   \n",
       "2               1.0                1           1.43   22.96       yellow   \n",
       "3               1.0                1           1.66   23.94       yellow   \n",
       "4               1.0                1          11.70   75.18       yellow   \n",
       "...             ...              ...            ...     ...          ...   \n",
       "7861599         1.0                1           0.58    8.30        green   \n",
       "7861600         1.0                1           2.18   26.25        green   \n",
       "7861601         1.0                2           1.12    9.70        green   \n",
       "7861602         1.0                1           4.59   39.97        green   \n",
       "7861603         1.0                1           2.03   16.60        green   \n",
       "\n",
       "        pickup_borough dropoff_borough pickup_date pickup_hour dropoff_date  \\\n",
       "0            Manhattan       Manhattan  2023-01-01           0   2023-01-01   \n",
       "1            Manhattan       Manhattan  2023-01-01           0   2023-01-01   \n",
       "2            Manhattan       Manhattan  2023-01-01           0   2023-01-01   \n",
       "3            Manhattan       Manhattan  2023-01-01           0   2023-01-01   \n",
       "4            Manhattan           Bronx  2023-01-01           0   2023-01-01   \n",
       "...                ...             ...         ...         ...          ...   \n",
       "7861599      Manhattan       Manhattan  2024-01-31          22   2024-01-31   \n",
       "7861600      Manhattan       Manhattan  2024-01-31          22   2024-01-31   \n",
       "7861601         Queens          Queens  2024-01-31          23   2024-01-31   \n",
       "7861602       Brooklyn       Manhattan  2024-01-31          23   2024-02-01   \n",
       "7861603      Manhattan       Manhattan  2024-01-31          23   2024-01-31   \n",
       "\n",
       "        dropoff_hour  \n",
       "0                  0  \n",
       "1                  1  \n",
       "2                  0  \n",
       "3                  0  \n",
       "4                  0  \n",
       "...              ...  \n",
       "7861599           22  \n",
       "7861600           22  \n",
       "7861601           23  \n",
       "7861602            0  \n",
       "7861603           23  \n",
       "\n",
       "[7861604 rows x 11 columns]"
      ]
     },
     "execution_count": 239,
     "metadata": {},
     "output_type": "execute_result"
    }
   ],
   "source": [
    "# importamos la libreria y leemos el archivo taxis_2023.parquet\n",
    "import pandas as pd\n",
    "taxis_NYC =pd.read_parquet('../0-DataSets/3-DatosScrapingConETL/taxis_2023.parquet')\n",
    "taxis_NYC "
   ]
  },
  {
   "cell_type": "markdown",
   "metadata": {},
   "source": [
    "### ETL: "
   ]
  },
  {
   "cell_type": "markdown",
   "metadata": {},
   "source": [
    "Este proceso de realiza para poder tener un dataset mas limpio y prolijo de particularidades como datos atípicos, además de realizar la transformación de la forma mas adecuada para nuestro modelo de Machine Learning.\n"
   ]
  },
  {
   "cell_type": "code",
   "execution_count": 240,
   "metadata": {},
   "outputs": [],
   "source": [
    "#Restringiendo parametros atipicos\n",
    "taxis_NYC = taxis_NYC[taxis_NYC['trip_distance'] <= 100] # este filtro es por que existe datos de atipicos, mayores a 100 millas con un tiempo de desplazamiento de 3 minutos. \n",
    "taxis_NYC = taxis_NYC[taxis_NYC['amount'] >= 5] # este filtro es por que existe datos de atipicos, menores a 5 dolares y analizando solo es la propina sin haber havido desplazamiento de distancia. \n",
    "taxis_NYC = taxis_NYC[taxis_NYC['pickup_borough'] != 'EWR'] # este filtro es por que existe datos de atipicos, 'EWR' es un  aeropuerto pero esta lleno de errores en tiempos de deplazamiento. "
   ]
  },
  {
   "cell_type": "code",
   "execution_count": 241,
   "metadata": {},
   "outputs": [
    {
     "data": {
      "text/html": [
       "<div>\n",
       "<style scoped>\n",
       "    .dataframe tbody tr th:only-of-type {\n",
       "        vertical-align: middle;\n",
       "    }\n",
       "\n",
       "    .dataframe tbody tr th {\n",
       "        vertical-align: top;\n",
       "    }\n",
       "\n",
       "    .dataframe thead th {\n",
       "        text-align: right;\n",
       "    }\n",
       "</style>\n",
       "<table border=\"1\" class=\"dataframe\">\n",
       "  <thead>\n",
       "    <tr style=\"text-align: right;\">\n",
       "      <th></th>\n",
       "      <th>RatecodeID</th>\n",
       "      <th>passenger_count</th>\n",
       "      <th>trip_distance</th>\n",
       "      <th>amount</th>\n",
       "      <th>service_type</th>\n",
       "      <th>pickup_borough</th>\n",
       "      <th>dropoff_borough</th>\n",
       "      <th>pickup_date</th>\n",
       "      <th>pickup_hour</th>\n",
       "      <th>dropoff_date</th>\n",
       "      <th>dropoff_hour</th>\n",
       "      <th>año</th>\n",
       "      <th>mes</th>\n",
       "      <th>dia</th>\n",
       "      <th>dayofweek</th>\n",
       "      <th>hora</th>\n",
       "    </tr>\n",
       "  </thead>\n",
       "  <tbody>\n",
       "    <tr>\n",
       "      <th>0</th>\n",
       "      <td>1.0</td>\n",
       "      <td>1</td>\n",
       "      <td>0.97</td>\n",
       "      <td>14.30</td>\n",
       "      <td>yellow</td>\n",
       "      <td>Manhattan</td>\n",
       "      <td>Manhattan</td>\n",
       "      <td>2023-01-01</td>\n",
       "      <td>0</td>\n",
       "      <td>2023-01-01</td>\n",
       "      <td>0</td>\n",
       "      <td>2023</td>\n",
       "      <td>1</td>\n",
       "      <td>1</td>\n",
       "      <td>6</td>\n",
       "      <td>00:00</td>\n",
       "    </tr>\n",
       "    <tr>\n",
       "      <th>1</th>\n",
       "      <td>1.0</td>\n",
       "      <td>1</td>\n",
       "      <td>1.10</td>\n",
       "      <td>20.90</td>\n",
       "      <td>yellow</td>\n",
       "      <td>Manhattan</td>\n",
       "      <td>Manhattan</td>\n",
       "      <td>2023-01-01</td>\n",
       "      <td>0</td>\n",
       "      <td>2023-01-01</td>\n",
       "      <td>1</td>\n",
       "      <td>2023</td>\n",
       "      <td>1</td>\n",
       "      <td>1</td>\n",
       "      <td>6</td>\n",
       "      <td>00:00</td>\n",
       "    </tr>\n",
       "    <tr>\n",
       "      <th>2</th>\n",
       "      <td>1.0</td>\n",
       "      <td>1</td>\n",
       "      <td>1.43</td>\n",
       "      <td>22.96</td>\n",
       "      <td>yellow</td>\n",
       "      <td>Manhattan</td>\n",
       "      <td>Manhattan</td>\n",
       "      <td>2023-01-01</td>\n",
       "      <td>0</td>\n",
       "      <td>2023-01-01</td>\n",
       "      <td>0</td>\n",
       "      <td>2023</td>\n",
       "      <td>1</td>\n",
       "      <td>1</td>\n",
       "      <td>6</td>\n",
       "      <td>00:00</td>\n",
       "    </tr>\n",
       "    <tr>\n",
       "      <th>3</th>\n",
       "      <td>1.0</td>\n",
       "      <td>1</td>\n",
       "      <td>1.66</td>\n",
       "      <td>23.94</td>\n",
       "      <td>yellow</td>\n",
       "      <td>Manhattan</td>\n",
       "      <td>Manhattan</td>\n",
       "      <td>2023-01-01</td>\n",
       "      <td>0</td>\n",
       "      <td>2023-01-01</td>\n",
       "      <td>0</td>\n",
       "      <td>2023</td>\n",
       "      <td>1</td>\n",
       "      <td>1</td>\n",
       "      <td>6</td>\n",
       "      <td>00:00</td>\n",
       "    </tr>\n",
       "    <tr>\n",
       "      <th>4</th>\n",
       "      <td>1.0</td>\n",
       "      <td>1</td>\n",
       "      <td>11.70</td>\n",
       "      <td>75.18</td>\n",
       "      <td>yellow</td>\n",
       "      <td>Manhattan</td>\n",
       "      <td>Bronx</td>\n",
       "      <td>2023-01-01</td>\n",
       "      <td>0</td>\n",
       "      <td>2023-01-01</td>\n",
       "      <td>0</td>\n",
       "      <td>2023</td>\n",
       "      <td>1</td>\n",
       "      <td>1</td>\n",
       "      <td>6</td>\n",
       "      <td>00:00</td>\n",
       "    </tr>\n",
       "    <tr>\n",
       "      <th>...</th>\n",
       "      <td>...</td>\n",
       "      <td>...</td>\n",
       "      <td>...</td>\n",
       "      <td>...</td>\n",
       "      <td>...</td>\n",
       "      <td>...</td>\n",
       "      <td>...</td>\n",
       "      <td>...</td>\n",
       "      <td>...</td>\n",
       "      <td>...</td>\n",
       "      <td>...</td>\n",
       "      <td>...</td>\n",
       "      <td>...</td>\n",
       "      <td>...</td>\n",
       "      <td>...</td>\n",
       "      <td>...</td>\n",
       "    </tr>\n",
       "    <tr>\n",
       "      <th>7861599</th>\n",
       "      <td>1.0</td>\n",
       "      <td>1</td>\n",
       "      <td>0.58</td>\n",
       "      <td>8.30</td>\n",
       "      <td>green</td>\n",
       "      <td>Manhattan</td>\n",
       "      <td>Manhattan</td>\n",
       "      <td>2024-01-31</td>\n",
       "      <td>22</td>\n",
       "      <td>2024-01-31</td>\n",
       "      <td>22</td>\n",
       "      <td>2024</td>\n",
       "      <td>1</td>\n",
       "      <td>31</td>\n",
       "      <td>2</td>\n",
       "      <td>22:00</td>\n",
       "    </tr>\n",
       "    <tr>\n",
       "      <th>7861600</th>\n",
       "      <td>1.0</td>\n",
       "      <td>1</td>\n",
       "      <td>2.18</td>\n",
       "      <td>26.25</td>\n",
       "      <td>green</td>\n",
       "      <td>Manhattan</td>\n",
       "      <td>Manhattan</td>\n",
       "      <td>2024-01-31</td>\n",
       "      <td>22</td>\n",
       "      <td>2024-01-31</td>\n",
       "      <td>22</td>\n",
       "      <td>2024</td>\n",
       "      <td>1</td>\n",
       "      <td>31</td>\n",
       "      <td>2</td>\n",
       "      <td>22:00</td>\n",
       "    </tr>\n",
       "    <tr>\n",
       "      <th>7861601</th>\n",
       "      <td>1.0</td>\n",
       "      <td>2</td>\n",
       "      <td>1.12</td>\n",
       "      <td>9.70</td>\n",
       "      <td>green</td>\n",
       "      <td>Queens</td>\n",
       "      <td>Queens</td>\n",
       "      <td>2024-01-31</td>\n",
       "      <td>23</td>\n",
       "      <td>2024-01-31</td>\n",
       "      <td>23</td>\n",
       "      <td>2024</td>\n",
       "      <td>1</td>\n",
       "      <td>31</td>\n",
       "      <td>2</td>\n",
       "      <td>23:00</td>\n",
       "    </tr>\n",
       "    <tr>\n",
       "      <th>7861602</th>\n",
       "      <td>1.0</td>\n",
       "      <td>1</td>\n",
       "      <td>4.59</td>\n",
       "      <td>39.97</td>\n",
       "      <td>green</td>\n",
       "      <td>Brooklyn</td>\n",
       "      <td>Manhattan</td>\n",
       "      <td>2024-01-31</td>\n",
       "      <td>23</td>\n",
       "      <td>2024-02-01</td>\n",
       "      <td>0</td>\n",
       "      <td>2024</td>\n",
       "      <td>1</td>\n",
       "      <td>31</td>\n",
       "      <td>2</td>\n",
       "      <td>23:00</td>\n",
       "    </tr>\n",
       "    <tr>\n",
       "      <th>7861603</th>\n",
       "      <td>1.0</td>\n",
       "      <td>1</td>\n",
       "      <td>2.03</td>\n",
       "      <td>16.60</td>\n",
       "      <td>green</td>\n",
       "      <td>Manhattan</td>\n",
       "      <td>Manhattan</td>\n",
       "      <td>2024-01-31</td>\n",
       "      <td>23</td>\n",
       "      <td>2024-01-31</td>\n",
       "      <td>23</td>\n",
       "      <td>2024</td>\n",
       "      <td>1</td>\n",
       "      <td>31</td>\n",
       "      <td>2</td>\n",
       "      <td>23:00</td>\n",
       "    </tr>\n",
       "  </tbody>\n",
       "</table>\n",
       "<p>7770334 rows × 16 columns</p>\n",
       "</div>"
      ],
      "text/plain": [
       "         RatecodeID  passenger_count  trip_distance  amount service_type  \\\n",
       "0               1.0                1           0.97   14.30       yellow   \n",
       "1               1.0                1           1.10   20.90       yellow   \n",
       "2               1.0                1           1.43   22.96       yellow   \n",
       "3               1.0                1           1.66   23.94       yellow   \n",
       "4               1.0                1          11.70   75.18       yellow   \n",
       "...             ...              ...            ...     ...          ...   \n",
       "7861599         1.0                1           0.58    8.30        green   \n",
       "7861600         1.0                1           2.18   26.25        green   \n",
       "7861601         1.0                2           1.12    9.70        green   \n",
       "7861602         1.0                1           4.59   39.97        green   \n",
       "7861603         1.0                1           2.03   16.60        green   \n",
       "\n",
       "        pickup_borough dropoff_borough pickup_date pickup_hour dropoff_date  \\\n",
       "0            Manhattan       Manhattan  2023-01-01           0   2023-01-01   \n",
       "1            Manhattan       Manhattan  2023-01-01           0   2023-01-01   \n",
       "2            Manhattan       Manhattan  2023-01-01           0   2023-01-01   \n",
       "3            Manhattan       Manhattan  2023-01-01           0   2023-01-01   \n",
       "4            Manhattan           Bronx  2023-01-01           0   2023-01-01   \n",
       "...                ...             ...         ...         ...          ...   \n",
       "7861599      Manhattan       Manhattan  2024-01-31          22   2024-01-31   \n",
       "7861600      Manhattan       Manhattan  2024-01-31          22   2024-01-31   \n",
       "7861601         Queens          Queens  2024-01-31          23   2024-01-31   \n",
       "7861602       Brooklyn       Manhattan  2024-01-31          23   2024-02-01   \n",
       "7861603      Manhattan       Manhattan  2024-01-31          23   2024-01-31   \n",
       "\n",
       "        dropoff_hour   año  mes  dia  dayofweek   hora  \n",
       "0                  0  2023    1    1          6  00:00  \n",
       "1                  1  2023    1    1          6  00:00  \n",
       "2                  0  2023    1    1          6  00:00  \n",
       "3                  0  2023    1    1          6  00:00  \n",
       "4                  0  2023    1    1          6  00:00  \n",
       "...              ...   ...  ...  ...        ...    ...  \n",
       "7861599           22  2024    1   31          2  22:00  \n",
       "7861600           22  2024    1   31          2  22:00  \n",
       "7861601           23  2024    1   31          2  23:00  \n",
       "7861602            0  2024    1   31          2  23:00  \n",
       "7861603           23  2024    1   31          2  23:00  \n",
       "\n",
       "[7770334 rows x 16 columns]"
      ]
     },
     "execution_count": 241,
     "metadata": {},
     "output_type": "execute_result"
    }
   ],
   "source": [
    "# Convertir la columna 'pickup_date' a tipo datetime y extraer año, mes y día\n",
    "taxis_NYC['año'] = pd.to_datetime(taxis_NYC['pickup_date']).dt.year\n",
    "taxis_NYC['mes'] = pd.to_datetime(taxis_NYC['pickup_date']).dt.month\n",
    "taxis_NYC['dia'] = pd.to_datetime(taxis_NYC['pickup_date']).dt.day\n",
    "taxis_NYC['dayofweek'] = pd.to_datetime(taxis_NYC['pickup_date']).dt.dayofweek\n",
    "\n",
    "# Convertir la columna 'pickup_hour' a tipo datetime y extraer solo la hora\n",
    "taxis_NYC['hora'] = taxis_NYC['pickup_time']\n",
    "\n",
    "#añadiendo ceros a la hora\n",
    "taxis_NYC['hora'] = taxis_NYC['hora'].str.zfill(2) + ':00'\n",
    "\n",
    "taxis_NYC"
   ]
  },
  {
   "cell_type": "code",
   "execution_count": 242,
   "metadata": {},
   "outputs": [
    {
     "data": {
      "text/html": [
       "<div>\n",
       "<style scoped>\n",
       "    .dataframe tbody tr th:only-of-type {\n",
       "        vertical-align: middle;\n",
       "    }\n",
       "\n",
       "    .dataframe tbody tr th {\n",
       "        vertical-align: top;\n",
       "    }\n",
       "\n",
       "    .dataframe thead th {\n",
       "        text-align: right;\n",
       "    }\n",
       "</style>\n",
       "<table border=\"1\" class=\"dataframe\">\n",
       "  <thead>\n",
       "    <tr style=\"text-align: right;\">\n",
       "      <th></th>\n",
       "      <th>service_type</th>\n",
       "      <th>pickup_borough</th>\n",
       "      <th>año</th>\n",
       "      <th>mes</th>\n",
       "      <th>dia</th>\n",
       "      <th>dayofweek</th>\n",
       "      <th>hora</th>\n",
       "      <th>demand</th>\n",
       "    </tr>\n",
       "  </thead>\n",
       "  <tbody>\n",
       "    <tr>\n",
       "      <th>0</th>\n",
       "      <td>green</td>\n",
       "      <td>Bronx</td>\n",
       "      <td>2023</td>\n",
       "      <td>1</td>\n",
       "      <td>1</td>\n",
       "      <td>6</td>\n",
       "      <td>01:00</td>\n",
       "      <td>1</td>\n",
       "    </tr>\n",
       "    <tr>\n",
       "      <th>1</th>\n",
       "      <td>green</td>\n",
       "      <td>Bronx</td>\n",
       "      <td>2023</td>\n",
       "      <td>1</td>\n",
       "      <td>1</td>\n",
       "      <td>6</td>\n",
       "      <td>12:00</td>\n",
       "      <td>2</td>\n",
       "    </tr>\n",
       "    <tr>\n",
       "      <th>2</th>\n",
       "      <td>green</td>\n",
       "      <td>Bronx</td>\n",
       "      <td>2023</td>\n",
       "      <td>1</td>\n",
       "      <td>1</td>\n",
       "      <td>6</td>\n",
       "      <td>18:00</td>\n",
       "      <td>1</td>\n",
       "    </tr>\n",
       "    <tr>\n",
       "      <th>3</th>\n",
       "      <td>green</td>\n",
       "      <td>Bronx</td>\n",
       "      <td>2023</td>\n",
       "      <td>1</td>\n",
       "      <td>1</td>\n",
       "      <td>6</td>\n",
       "      <td>20:00</td>\n",
       "      <td>1</td>\n",
       "    </tr>\n",
       "    <tr>\n",
       "      <th>4</th>\n",
       "      <td>green</td>\n",
       "      <td>Bronx</td>\n",
       "      <td>2023</td>\n",
       "      <td>1</td>\n",
       "      <td>2</td>\n",
       "      <td>0</td>\n",
       "      <td>09:00</td>\n",
       "      <td>1</td>\n",
       "    </tr>\n",
       "    <tr>\n",
       "      <th>...</th>\n",
       "      <td>...</td>\n",
       "      <td>...</td>\n",
       "      <td>...</td>\n",
       "      <td>...</td>\n",
       "      <td>...</td>\n",
       "      <td>...</td>\n",
       "      <td>...</td>\n",
       "      <td>...</td>\n",
       "    </tr>\n",
       "    <tr>\n",
       "      <th>58605</th>\n",
       "      <td>yellow</td>\n",
       "      <td>Staten Island</td>\n",
       "      <td>2024</td>\n",
       "      <td>1</td>\n",
       "      <td>26</td>\n",
       "      <td>4</td>\n",
       "      <td>12:00</td>\n",
       "      <td>1</td>\n",
       "    </tr>\n",
       "    <tr>\n",
       "      <th>58606</th>\n",
       "      <td>yellow</td>\n",
       "      <td>Staten Island</td>\n",
       "      <td>2024</td>\n",
       "      <td>1</td>\n",
       "      <td>27</td>\n",
       "      <td>5</td>\n",
       "      <td>19:00</td>\n",
       "      <td>1</td>\n",
       "    </tr>\n",
       "    <tr>\n",
       "      <th>58607</th>\n",
       "      <td>yellow</td>\n",
       "      <td>Staten Island</td>\n",
       "      <td>2024</td>\n",
       "      <td>1</td>\n",
       "      <td>28</td>\n",
       "      <td>6</td>\n",
       "      <td>12:00</td>\n",
       "      <td>1</td>\n",
       "    </tr>\n",
       "    <tr>\n",
       "      <th>58608</th>\n",
       "      <td>yellow</td>\n",
       "      <td>Staten Island</td>\n",
       "      <td>2024</td>\n",
       "      <td>1</td>\n",
       "      <td>29</td>\n",
       "      <td>0</td>\n",
       "      <td>08:00</td>\n",
       "      <td>1</td>\n",
       "    </tr>\n",
       "    <tr>\n",
       "      <th>58609</th>\n",
       "      <td>yellow</td>\n",
       "      <td>Staten Island</td>\n",
       "      <td>2024</td>\n",
       "      <td>1</td>\n",
       "      <td>29</td>\n",
       "      <td>0</td>\n",
       "      <td>17:00</td>\n",
       "      <td>1</td>\n",
       "    </tr>\n",
       "  </tbody>\n",
       "</table>\n",
       "<p>58610 rows × 8 columns</p>\n",
       "</div>"
      ],
      "text/plain": [
       "      service_type pickup_borough   año  mes  dia  dayofweek   hora  demand\n",
       "0            green          Bronx  2023    1    1          6  01:00       1\n",
       "1            green          Bronx  2023    1    1          6  12:00       2\n",
       "2            green          Bronx  2023    1    1          6  18:00       1\n",
       "3            green          Bronx  2023    1    1          6  20:00       1\n",
       "4            green          Bronx  2023    1    2          0  09:00       1\n",
       "...            ...            ...   ...  ...  ...        ...    ...     ...\n",
       "58605       yellow  Staten Island  2024    1   26          4  12:00       1\n",
       "58606       yellow  Staten Island  2024    1   27          5  19:00       1\n",
       "58607       yellow  Staten Island  2024    1   28          6  12:00       1\n",
       "58608       yellow  Staten Island  2024    1   29          0  08:00       1\n",
       "58609       yellow  Staten Island  2024    1   29          0  17:00       1\n",
       "\n",
       "[58610 rows x 8 columns]"
      ]
     },
     "execution_count": 242,
     "metadata": {},
     "output_type": "execute_result"
    }
   ],
   "source": [
    "#Primero agrupamos por ciertas columnas para verificar si nos conviene o no los datos de la columna 'demand'\n",
    "\n",
    "# Agrupa los datos en el DataFrame taxis_NYC por varias columnas y realiza agregaciones\n",
    "# para calcular estadísticas como el número de pasajeros, la distancia promedio del viaje\n",
    "# y el monto promedio del viaje para cada grupo definido por las columnas especificadas.\n",
    "taxis_NYC = taxis_NYC.groupby(['service_type', 'pickup_borough', 'año', 'mes', 'dia', 'dayofweek', 'hora']).agg({'passenger_count': 'count'}).reset_index()\n",
    "\n",
    "# Renombra las columnas del DataFrame resultante para hacerlas más descriptivas.\n",
    "# Las nuevas columnas son 'service_type', 'pickup_borough', 'año', 'mes', 'dia', 'dayofweek', 'hora',\n",
    "# 'demand' (número de pasajeros), 'total_millas_recorridas' (distancia promedio del viaje),\n",
    "# y 'ganancia_hora' (monto promedio del viaje).\n",
    "taxis_NYC.columns = ['service_type', 'pickup_borough', 'año', 'mes', 'dia', 'dayofweek', 'hora', 'demand']\n",
    "\n",
    "# Imprime el DataFrame resultante después de aplicar las transformaciones anteriores.\n",
    "taxis_NYC\n"
   ]
  },
  {
   "cell_type": "code",
   "execution_count": 10,
   "metadata": {},
   "outputs": [],
   "source": [
    "#taxis_NYC.to_parquet('../modeloML/DataSetML.parquet')"
   ]
  },
  {
   "cell_type": "markdown",
   "metadata": {},
   "source": [
    "### EDA"
   ]
  },
  {
   "cell_type": "markdown",
   "metadata": {},
   "source": [
    "Se realiza un muertedo de los datos en graficas para tener contexto de lo que nos dicen los datos"
   ]
  },
  {
   "cell_type": "code",
   "execution_count": 243,
   "metadata": {},
   "outputs": [],
   "source": [
    "#hacemos una doble copia por seguridad\n",
    "conexion = taxis_NYC.copy()\n",
    "DataSetEDA = conexion.copy()"
   ]
  },
  {
   "cell_type": "code",
   "execution_count": 244,
   "metadata": {},
   "outputs": [
    {
     "data": {
      "image/png": "[encoded data removed]",
      "text/plain": [
       "<Figure size 864x432 with 1 Axes>"
      ]
     },
     "metadata": {
      "needs_background": "light"
     },
     "output_type": "display_data"
    }
   ],
   "source": [
    "import matplotlib.pyplot as plt\n",
    "\n",
    "# Suponiendo que tienes un DataFrame llamado 'taxis_NYC' con las columnas 'service_type' y 'demand'\n",
    "\n",
    "# Agrupa los datos por tipo de servicio y calcula la demanda promedio para cada tipo\n",
    "demand_por_servicio = taxis_NYC.groupby('service_type')['demand'].mean()\n",
    "\n",
    "# Obtiene los tipos de servicio y la demanda promedio\n",
    "tipos_servicio = demand_por_servicio.index\n",
    "demanda_promedio = demand_por_servicio.values\n",
    "\n",
    "plt.figure(figsize=(12, 6))  # Ajusta el tamaño a 10 pulgadas de ancho y 6 pulgadas de alto\n",
    "\n",
    "# Crea el gráfico de barras\n",
    "plt.bar(tipos_servicio, demanda_promedio, color=['green','orange'])\n",
    "\n",
    "# Agrega etiquetas y título al gráfico\n",
    "plt.xlabel('Tipo de Servicio')\n",
    "plt.ylabel('Demanda Promedio')\n",
    "plt.title('Demanda Promedio por Tipo de Servicio')\n",
    "\n",
    "# Muestra el gráfico\n",
    "plt.show()\n"
   ]
  },
  {
   "cell_type": "markdown",
   "metadata": {},
   "source": [
    "Esta grafica nos proporciona informacion de la demanda real segun tipo de servicio y vemos que los taxis amarillos tienen una mayor demanda sobre los verdes."
   ]
  },
  {
   "cell_type": "code",
   "execution_count": 245,
   "metadata": {},
   "outputs": [
    {
     "data": {
      "image/png": "[encoded data removed]",
      "text/plain": [
       "<Figure size 864x432 with 1 Axes>"
      ]
     },
     "metadata": {
      "needs_background": "light"
     },
     "output_type": "display_data"
    }
   ],
   "source": [
    "import matplotlib.pyplot as plt\n",
    "import numpy as np\n",
    "\n",
    "# Suponiendo que tienes un DataFrame llamado 'taxis_NYC' con las columnas 'service_type' y 'pickup_borough'\n",
    "\n",
    "# Agrupa los datos por tipo de servicio y borough y calcula la demanda promedio para cada grupo\n",
    "demand_por_tipo_y_borough = taxis_NYC.groupby(['service_type', 'pickup_borough'])['demand'].mean().unstack()\n",
    "\n",
    "# Obtiene los tipos de servicio y boroughs\n",
    "tipos_servicio = demand_por_tipo_y_borough.index\n",
    "boroughs = demand_por_tipo_y_borough.columns\n",
    "\n",
    "# Configura las posiciones de las barras\n",
    "posiciones = np.arange(len(boroughs))\n",
    "\n",
    "# Ancho de las barras\n",
    "ancho_barra = 0.35\n",
    "\n",
    "# Ajusta el tamaño de la figura\n",
    "plt.figure(figsize=(12, 6))  # Ajusta el tamaño a 10 pulgadas de ancho y 6 pulgadas de alto\n",
    "\n",
    "# Crea el gráfico de barras agrupadas\n",
    "plt.bar(posiciones - ancho_barra/2, demand_por_tipo_y_borough.loc['yellow'], width=ancho_barra, label='Yellow', color=['orange'])\n",
    "#plt.bar(posiciones + ancho_barra/2, demand_por_tipo_y_borough.loc['green']*10, width=ancho_barra, label='Green', color=['green'])\n",
    "\n",
    "# Configura las etiquetas de los ejes y el título\n",
    "plt.xlabel('Borough')\n",
    "plt.ylabel('Demanda Promedio')\n",
    "plt.title('Demanda Promedio por Tipo de Servicio y Borough')\n",
    "plt.xticks(posiciones, boroughs)  # Establece las etiquetas del eje x como los boroughs\n",
    "plt.legend()  # Muestra la leyenda\n",
    "\n",
    "# Muestra el gráfico\n",
    "plt.tight_layout()  # Ajusta el diseño para que las etiquetas no se superpongan\n",
    "plt.show()\n"
   ]
  },
  {
   "cell_type": "code",
   "execution_count": 246,
   "metadata": {},
   "outputs": [
    {
     "data": {
      "image/png": "[encoded data removed]",
      "text/plain": [
       "<Figure size 864x432 with 1 Axes>"
      ]
     },
     "metadata": {
      "needs_background": "light"
     },
     "output_type": "display_data"
    }
   ],
   "source": [
    "import matplotlib.pyplot as plt\n",
    "import numpy as np\n",
    "\n",
    "# Suponiendo que tienes un DataFrame llamado 'taxis_NYC' con las columnas 'service_type' y 'pickup_borough'\n",
    "\n",
    "# Agrupa los datos por tipo de servicio y borough y calcula la demanda promedio para cada grupo\n",
    "demand_por_tipo_y_borough = taxis_NYC.groupby(['service_type', 'pickup_borough'])['demand'].mean().unstack()\n",
    "\n",
    "# Obtiene los tipos de servicio y boroughs\n",
    "tipos_servicio = demand_por_tipo_y_borough.index\n",
    "boroughs = demand_por_tipo_y_borough.columns\n",
    "\n",
    "# Configura las posiciones de las barras\n",
    "posiciones = np.arange(len(boroughs))\n",
    "\n",
    "# Ancho de las barras\n",
    "ancho_barra = 0.35\n",
    "\n",
    "# Ajusta el tamaño de la figura\n",
    "plt.figure(figsize=(12, 6))  # Ajusta el tamaño a 10 pulgadas de ancho y 6 pulgadas de alto\n",
    "\n",
    "# Crea el gráfico de barras agrupadas\n",
    "#plt.bar(posiciones - ancho_barra/2, demand_por_tipo_y_borough.loc['yellow'], width=ancho_barra, label='Yellow', color=['orange'])\n",
    "plt.bar(posiciones + ancho_barra/2, demand_por_tipo_y_borough.loc['green'], width=ancho_barra, label='Green', color=['green'])\n",
    "\n",
    "# Configura las etiquetas de los ejes y el título\n",
    "plt.xlabel('Borough')\n",
    "plt.ylabel('Demanda Promedio')\n",
    "plt.title('Demanda Promedio por Tipo de Servicio y Borough')\n",
    "plt.xticks(posiciones, boroughs)  # Establece las etiquetas del eje x como los boroughs\n",
    "plt.legend()  # Muestra la leyenda\n",
    "\n",
    "# Muestra el gráfico\n",
    "plt.tight_layout()  # Ajusta el diseño para que las etiquetas no se superpongan\n",
    "plt.show()\n"
   ]
  },
  {
   "cell_type": "code",
   "execution_count": 247,
   "metadata": {},
   "outputs": [
    {
     "data": {
      "image/png": "[encoded data removed]",
      "text/plain": [
       "<Figure size 864x432 with 1 Axes>"
      ]
     },
     "metadata": {
      "needs_background": "light"
     },
     "output_type": "display_data"
    }
   ],
   "source": [
    "import matplotlib.pyplot as plt\n",
    "import numpy as np\n",
    "\n",
    "# Suponiendo que tienes un DataFrame llamado 'taxis_NYC' con las columnas 'service_type' y 'pickup_borough'\n",
    "\n",
    "# Agrupa los datos por tipo de servicio y borough y calcula la demanda promedio para cada grupo\n",
    "demand_por_tipo_y_borough = taxis_NYC.groupby(['service_type', 'pickup_borough'])['demand'].mean().unstack()\n",
    "\n",
    "# Obtiene los tipos de servicio y boroughs\n",
    "tipos_servicio = demand_por_tipo_y_borough.index\n",
    "boroughs = demand_por_tipo_y_borough.columns\n",
    "\n",
    "# Configura las posiciones de las barras\n",
    "posiciones = np.arange(len(boroughs))\n",
    "\n",
    "# Ancho de las barras\n",
    "ancho_barra = 0.35\n",
    "\n",
    "# Ajusta el tamaño de la figura\n",
    "plt.figure(figsize=(12, 6))  # Ajusta el tamaño a 10 pulgadas de ancho y 6 pulgadas de alto\n",
    "\n",
    "# Crea el gráfico de barras agrupadas\n",
    "plt.bar(posiciones - ancho_barra/2, demand_por_tipo_y_borough.loc['yellow'], width=ancho_barra, label='Yellow', color=['orange'])\n",
    "plt.bar(posiciones + ancho_barra/2, demand_por_tipo_y_borough.loc['green']*10, width=ancho_barra, label='Green', color=['green'])\n",
    "\n",
    "# Configura las etiquetas de los ejes y el título\n",
    "plt.xlabel('Borough')\n",
    "plt.ylabel('Demanda Promedio')\n",
    "plt.title('Demanda Promedio por Tipo de Servicio y Borough')\n",
    "plt.xticks(posiciones, boroughs)  # Establece las etiquetas del eje x como los boroughs\n",
    "plt.legend()  # Muestra la leyenda\n",
    "\n",
    "# Muestra el gráfico\n",
    "plt.tight_layout()  # Ajusta el diseño para que las etiquetas no se superpongan\n",
    "plt.show()\n"
   ]
  },
  {
   "cell_type": "markdown",
   "metadata": {},
   "source": [
    "Esta grafica se analiza la demanda por Distrito, se extrapola que la mayor demanda de taxis es en el Distrito de Manhattan y donde se demuestra que existen carros verdes que dan el servicio desde este distrito a otros. El segundo distrito impórtante es Queens donde se ve que hay demanda por los taxis verdes."
   ]
  },
  {
   "cell_type": "code",
   "execution_count": 248,
   "metadata": {},
   "outputs": [
    {
     "data": {
      "image/png": "[encoded data removed]",
      "text/plain": [
       "<Figure size 864x432 with 1 Axes>"
      ]
     },
     "metadata": {
      "needs_background": "light"
     },
     "output_type": "display_data"
    }
   ],
   "source": [
    "import matplotlib.pyplot as plt\n",
    "import numpy as np\n",
    "\n",
    "# Suponiendo que tienes un DataFrame llamado 'taxis_NYC' con las columnas 'service_type' y 'pickup_borough'\n",
    "\n",
    "# Agrupa los datos por tipo de servicio y hora y calcula la demanda promedio para cada grupo\n",
    "demand_por_tipo_y_hora = taxis_NYC.groupby(['service_type', 'hora'])['demand'].mean().unstack()\n",
    "\n",
    "# Obtiene los tipos de servicio y horas\n",
    "tipos_servicio = demand_por_tipo_y_hora.index\n",
    "horas = demand_por_tipo_y_hora.columns\n",
    "\n",
    "# Configura las posiciones de las barras\n",
    "posiciones = np.arange(len(horas))\n",
    "\n",
    "# Ancho de las barras\n",
    "ancho_barra = 0.35\n",
    "\n",
    "# Ajusta el tamaño de la figura\n",
    "plt.figure(figsize=(12, 6))  # Ajusta el tamaño a 10 pulgadas de ancho y 6 pulgadas de alto\n",
    "\n",
    "# Crea el gráfico de barras agrupadas\n",
    "plt.bar(posiciones - ancho_barra/2, demand_por_tipo_y_hora.loc['yellow'], width=ancho_barra, label='Yellow', color='orange')\n",
    "plt.bar(posiciones + ancho_barra/2, demand_por_tipo_y_hora.loc['green']*10, width=ancho_barra, label='Green', color='green')\n",
    "\n",
    "# Configura las etiquetas de los ejes y el título\n",
    "plt.xlabel('Hora')\n",
    "plt.ylabel('Demanda Promedio')\n",
    "plt.title('Demanda Promedio por Tipo de Servicio y Hora')\n",
    "plt.xticks(posiciones, horas)  # Establece las etiquetas del eje x como las horas\n",
    "plt.legend()  # Muestra la leyenda\n",
    "plt.xticks(rotation=45)  # Rotación de las etiquetas del eje x\n",
    "\n",
    "# Muestra el gráfico\n",
    "plt.tight_layout()  # Ajusta el diseño para que las etiquetas no se superpongan\n",
    "plt.show()\n"
   ]
  },
  {
   "cell_type": "markdown",
   "metadata": {},
   "source": [
    "Analizamos de esta grafica que los horarios de mayor demanda es en horario diurno desde la hora de trabajo en la mañana y escuela de los niños 6am, hasta las 23hrs."
   ]
  },
  {
   "cell_type": "code",
   "execution_count": 249,
   "metadata": {},
   "outputs": [
    {
     "data": {
      "image/png": "[encoded data removed]",
      "text/plain": [
       "<Figure size 864x432 with 1 Axes>"
      ]
     },
     "metadata": {
      "needs_background": "light"
     },
     "output_type": "display_data"
    }
   ],
   "source": [
    "import matplotlib.pyplot as plt\n",
    "import numpy as np\n",
    "\n",
    "# Suponiendo que tienes un DataFrame llamado 'taxis_NYC' con las columnas 'service_type' y 'pickup_borough'\n",
    "\n",
    "# Agrupa los datos por tipo de servicio y borough y calcula la demanda promedio para cada grupo\n",
    "demand_por_tipo_y_borough = taxis_NYC.groupby(['service_type', 'dayofweek'])['demand'].mean().unstack()\n",
    "\n",
    "# Obtiene los tipos de servicio y boroughs\n",
    "tipos_servicio = demand_por_tipo_y_borough.index\n",
    "boroughs = demand_por_tipo_y_borough.columns\n",
    "\n",
    "# Configura las posiciones de las barras\n",
    "posiciones = np.arange(len(boroughs))\n",
    "\n",
    "# Ancho de las barras\n",
    "ancho_barra = 0.35\n",
    "\n",
    "plt.figure(figsize=(12, 6))  # Ajusta el tamaño a 10 pulgadas de ancho y 6 pulgadas de alto\n",
    "\n",
    "# Crea el gráfico de barras agrupadas\n",
    "plt.bar(posiciones - ancho_barra/2, demand_por_tipo_y_borough.loc['yellow'], width=ancho_barra, label='Yellow', color=['orange'])\n",
    "plt.bar(posiciones + ancho_barra/2, demand_por_tipo_y_borough.loc['green']*10, width=ancho_barra, label='Green', color=['green'])\n",
    "\n",
    "# Configura las etiquetas de los ejes y el título\n",
    "plt.xlabel('Dia')\n",
    "plt.ylabel('Demanda Promedio')\n",
    "plt.title('Demanda Promedio por Tipo de Servicio y Día')\n",
    "plt.xticks(posiciones, boroughs)  # Establece las etiquetas del eje x como los boroughs\n",
    "plt.legend()  # Muestra la leyenda\n",
    "plt.xticks(rotation=45)\n",
    "# Muestra el gráfico\n",
    "plt.tight_layout()  # Ajusta el diseño para que las etiquetas no se superpongan\n",
    "plt.show()\n"
   ]
  },
  {
   "cell_type": "markdown",
   "metadata": {},
   "source": [
    "Podemos analizar de este grafico quesi bien existe mas demanda en los taxis amarillos, la demanda en todos los horarios tiene la misma tendencia, de lunes a viernes es donde ligeramente toman mas taxis y se extrapola por que son los dias de trabajo."
   ]
  },
  {
   "cell_type": "markdown",
   "metadata": {},
   "source": [
    "## Modelamiento de Machine Learning"
   ]
  },
  {
   "cell_type": "markdown",
   "metadata": {},
   "source": [
    "### Se cambiaran ciertos parametros adecuando a nuestro modelo de prediccion de demanda"
   ]
  },
  {
   "cell_type": "code",
   "execution_count": 265,
   "metadata": {},
   "outputs": [],
   "source": [
    "#hacemos una copia de nuestro DF taxis_NYC.parquet en DataSetML\n",
    "conexion = taxis_NYC.copy()\n",
    "DataSetML = conexion.copy()"
   ]
  },
  {
   "cell_type": "code",
   "execution_count": 266,
   "metadata": {},
   "outputs": [
    {
     "data": {
      "text/html": [
       "<div>\n",
       "<style scoped>\n",
       "    .dataframe tbody tr th:only-of-type {\n",
       "        vertical-align: middle;\n",
       "    }\n",
       "\n",
       "    .dataframe tbody tr th {\n",
       "        vertical-align: top;\n",
       "    }\n",
       "\n",
       "    .dataframe thead th {\n",
       "        text-align: right;\n",
       "    }\n",
       "</style>\n",
       "<table border=\"1\" class=\"dataframe\">\n",
       "  <thead>\n",
       "    <tr style=\"text-align: right;\">\n",
       "      <th></th>\n",
       "      <th>service_type</th>\n",
       "      <th>pickup_borough</th>\n",
       "      <th>dayofweek</th>\n",
       "      <th>hora</th>\n",
       "      <th>demand</th>\n",
       "    </tr>\n",
       "  </thead>\n",
       "  <tbody>\n",
       "    <tr>\n",
       "      <th>0</th>\n",
       "      <td>green</td>\n",
       "      <td>Bronx</td>\n",
       "      <td>0</td>\n",
       "      <td>00:00</td>\n",
       "      <td>17.24</td>\n",
       "    </tr>\n",
       "    <tr>\n",
       "      <th>1</th>\n",
       "      <td>green</td>\n",
       "      <td>Bronx</td>\n",
       "      <td>0</td>\n",
       "      <td>01:00</td>\n",
       "      <td>5.17</td>\n",
       "    </tr>\n",
       "    <tr>\n",
       "      <th>2</th>\n",
       "      <td>green</td>\n",
       "      <td>Bronx</td>\n",
       "      <td>0</td>\n",
       "      <td>02:00</td>\n",
       "      <td>6.90</td>\n",
       "    </tr>\n",
       "    <tr>\n",
       "      <th>3</th>\n",
       "      <td>green</td>\n",
       "      <td>Bronx</td>\n",
       "      <td>0</td>\n",
       "      <td>03:00</td>\n",
       "      <td>13.79</td>\n",
       "    </tr>\n",
       "    <tr>\n",
       "      <th>4</th>\n",
       "      <td>green</td>\n",
       "      <td>Bronx</td>\n",
       "      <td>0</td>\n",
       "      <td>04:00</td>\n",
       "      <td>6.90</td>\n",
       "    </tr>\n",
       "    <tr>\n",
       "      <th>...</th>\n",
       "      <td>...</td>\n",
       "      <td>...</td>\n",
       "      <td>...</td>\n",
       "      <td>...</td>\n",
       "      <td>...</td>\n",
       "    </tr>\n",
       "    <tr>\n",
       "      <th>1500</th>\n",
       "      <td>yellow</td>\n",
       "      <td>Staten Island</td>\n",
       "      <td>6</td>\n",
       "      <td>19:00</td>\n",
       "      <td>1.72</td>\n",
       "    </tr>\n",
       "    <tr>\n",
       "      <th>1501</th>\n",
       "      <td>yellow</td>\n",
       "      <td>Staten Island</td>\n",
       "      <td>6</td>\n",
       "      <td>20:00</td>\n",
       "      <td>6.90</td>\n",
       "    </tr>\n",
       "    <tr>\n",
       "      <th>1502</th>\n",
       "      <td>yellow</td>\n",
       "      <td>Staten Island</td>\n",
       "      <td>6</td>\n",
       "      <td>21:00</td>\n",
       "      <td>3.45</td>\n",
       "    </tr>\n",
       "    <tr>\n",
       "      <th>1503</th>\n",
       "      <td>yellow</td>\n",
       "      <td>Staten Island</td>\n",
       "      <td>6</td>\n",
       "      <td>22:00</td>\n",
       "      <td>3.45</td>\n",
       "    </tr>\n",
       "    <tr>\n",
       "      <th>1504</th>\n",
       "      <td>yellow</td>\n",
       "      <td>Staten Island</td>\n",
       "      <td>6</td>\n",
       "      <td>23:00</td>\n",
       "      <td>6.90</td>\n",
       "    </tr>\n",
       "  </tbody>\n",
       "</table>\n",
       "<p>1505 rows × 5 columns</p>\n",
       "</div>"
      ],
      "text/plain": [
       "     service_type pickup_borough  dayofweek   hora  demand\n",
       "0           green          Bronx          0  00:00   17.24\n",
       "1           green          Bronx          0  01:00    5.17\n",
       "2           green          Bronx          0  02:00    6.90\n",
       "3           green          Bronx          0  03:00   13.79\n",
       "4           green          Bronx          0  04:00    6.90\n",
       "...           ...            ...        ...    ...     ...\n",
       "1500       yellow  Staten Island          6  19:00    1.72\n",
       "1501       yellow  Staten Island          6  20:00    6.90\n",
       "1502       yellow  Staten Island          6  21:00    3.45\n",
       "1503       yellow  Staten Island          6  22:00    3.45\n",
       "1504       yellow  Staten Island          6  23:00    6.90\n",
       "\n",
       "[1505 rows x 5 columns]"
      ]
     },
     "execution_count": 266,
     "metadata": {},
     "output_type": "execute_result"
    }
   ],
   "source": [
    "\n",
    "# como la frecuencia es muy pequena, se hace una agrupacion de demanda por dias de la semana, fuera del año o mes, asi tendremos una demanda mas frecuente.\n",
    "\n",
    "# Agrupa los datos en el DataFrame taxis_NYC por las columnas 'service_type', 'pickup_borough',\n",
    "# 'dayofweek' y 'hora', y cuenta el número de registros en cada grupo.\n",
    "DataSetML = DataSetML.groupby(['service_type', 'pickup_borough', 'dayofweek','hora']).size().reset_index(name='demand')\n",
    "\n",
    "# Convierte el resultado en un nuevo DataFrame, taxis_NYC.\n",
    "DataSetML = pd.DataFrame(DataSetML)\n",
    "\n",
    "# Normaliza la columna 'demand' dividiendo cada valor por el valor máximo en la columna y\n",
    "# luego multiplicando por 100 para obtener un porcentaje.\n",
    "DataSetML['demand'] = DataSetML['demand'].apply(lambda x :  (x / DataSetML['demand'].max()))\n",
    "DataSetML['demand'] = round(DataSetML['demand']*100,2)\n",
    "\n",
    "# Devuelve el DataFrame resultante después de aplicar las transformaciones anteriores.\n",
    "DataSetML"
   ]
  },
  {
   "cell_type": "code",
   "execution_count": 267,
   "metadata": {},
   "outputs": [
    {
     "data": {
      "text/html": [
       "<div>\n",
       "<style scoped>\n",
       "    .dataframe tbody tr th:only-of-type {\n",
       "        vertical-align: middle;\n",
       "    }\n",
       "\n",
       "    .dataframe tbody tr th {\n",
       "        vertical-align: top;\n",
       "    }\n",
       "\n",
       "    .dataframe thead th {\n",
       "        text-align: right;\n",
       "    }\n",
       "</style>\n",
       "<table border=\"1\" class=\"dataframe\">\n",
       "  <thead>\n",
       "    <tr style=\"text-align: right;\">\n",
       "      <th></th>\n",
       "      <th>service_type</th>\n",
       "      <th>pickup_borough</th>\n",
       "      <th>dayofweek</th>\n",
       "      <th>hora</th>\n",
       "      <th>demand</th>\n",
       "      <th>serviceID</th>\n",
       "      <th>borough2ID</th>\n",
       "    </tr>\n",
       "  </thead>\n",
       "  <tbody>\n",
       "    <tr>\n",
       "      <th>0</th>\n",
       "      <td>green</td>\n",
       "      <td>Bronx</td>\n",
       "      <td>0</td>\n",
       "      <td>00:00</td>\n",
       "      <td>17.24</td>\n",
       "      <td>0</td>\n",
       "      <td>4</td>\n",
       "    </tr>\n",
       "    <tr>\n",
       "      <th>1</th>\n",
       "      <td>green</td>\n",
       "      <td>Bronx</td>\n",
       "      <td>0</td>\n",
       "      <td>01:00</td>\n",
       "      <td>5.17</td>\n",
       "      <td>0</td>\n",
       "      <td>4</td>\n",
       "    </tr>\n",
       "    <tr>\n",
       "      <th>2</th>\n",
       "      <td>green</td>\n",
       "      <td>Bronx</td>\n",
       "      <td>0</td>\n",
       "      <td>02:00</td>\n",
       "      <td>6.90</td>\n",
       "      <td>0</td>\n",
       "      <td>4</td>\n",
       "    </tr>\n",
       "    <tr>\n",
       "      <th>3</th>\n",
       "      <td>green</td>\n",
       "      <td>Bronx</td>\n",
       "      <td>0</td>\n",
       "      <td>03:00</td>\n",
       "      <td>13.79</td>\n",
       "      <td>0</td>\n",
       "      <td>4</td>\n",
       "    </tr>\n",
       "    <tr>\n",
       "      <th>4</th>\n",
       "      <td>green</td>\n",
       "      <td>Bronx</td>\n",
       "      <td>0</td>\n",
       "      <td>04:00</td>\n",
       "      <td>6.90</td>\n",
       "      <td>0</td>\n",
       "      <td>4</td>\n",
       "    </tr>\n",
       "    <tr>\n",
       "      <th>...</th>\n",
       "      <td>...</td>\n",
       "      <td>...</td>\n",
       "      <td>...</td>\n",
       "      <td>...</td>\n",
       "      <td>...</td>\n",
       "      <td>...</td>\n",
       "      <td>...</td>\n",
       "    </tr>\n",
       "    <tr>\n",
       "      <th>1500</th>\n",
       "      <td>yellow</td>\n",
       "      <td>Staten Island</td>\n",
       "      <td>6</td>\n",
       "      <td>19:00</td>\n",
       "      <td>1.72</td>\n",
       "      <td>1</td>\n",
       "      <td>5</td>\n",
       "    </tr>\n",
       "    <tr>\n",
       "      <th>1501</th>\n",
       "      <td>yellow</td>\n",
       "      <td>Staten Island</td>\n",
       "      <td>6</td>\n",
       "      <td>20:00</td>\n",
       "      <td>6.90</td>\n",
       "      <td>1</td>\n",
       "      <td>5</td>\n",
       "    </tr>\n",
       "    <tr>\n",
       "      <th>1502</th>\n",
       "      <td>yellow</td>\n",
       "      <td>Staten Island</td>\n",
       "      <td>6</td>\n",
       "      <td>21:00</td>\n",
       "      <td>3.45</td>\n",
       "      <td>1</td>\n",
       "      <td>5</td>\n",
       "    </tr>\n",
       "    <tr>\n",
       "      <th>1503</th>\n",
       "      <td>yellow</td>\n",
       "      <td>Staten Island</td>\n",
       "      <td>6</td>\n",
       "      <td>22:00</td>\n",
       "      <td>3.45</td>\n",
       "      <td>1</td>\n",
       "      <td>5</td>\n",
       "    </tr>\n",
       "    <tr>\n",
       "      <th>1504</th>\n",
       "      <td>yellow</td>\n",
       "      <td>Staten Island</td>\n",
       "      <td>6</td>\n",
       "      <td>23:00</td>\n",
       "      <td>6.90</td>\n",
       "      <td>1</td>\n",
       "      <td>5</td>\n",
       "    </tr>\n",
       "  </tbody>\n",
       "</table>\n",
       "<p>1505 rows × 7 columns</p>\n",
       "</div>"
      ],
      "text/plain": [
       "     service_type pickup_borough  dayofweek   hora  demand  serviceID  \\\n",
       "0           green          Bronx          0  00:00   17.24          0   \n",
       "1           green          Bronx          0  01:00    5.17          0   \n",
       "2           green          Bronx          0  02:00    6.90          0   \n",
       "3           green          Bronx          0  03:00   13.79          0   \n",
       "4           green          Bronx          0  04:00    6.90          0   \n",
       "...           ...            ...        ...    ...     ...        ...   \n",
       "1500       yellow  Staten Island          6  19:00    1.72          1   \n",
       "1501       yellow  Staten Island          6  20:00    6.90          1   \n",
       "1502       yellow  Staten Island          6  21:00    3.45          1   \n",
       "1503       yellow  Staten Island          6  22:00    3.45          1   \n",
       "1504       yellow  Staten Island          6  23:00    6.90          1   \n",
       "\n",
       "      borough2ID  \n",
       "0              4  \n",
       "1              4  \n",
       "2              4  \n",
       "3              4  \n",
       "4              4  \n",
       "...          ...  \n",
       "1500           5  \n",
       "1501           5  \n",
       "1502           5  \n",
       "1503           5  \n",
       "1504           5  \n",
       "\n",
       "[1505 rows x 7 columns]"
      ]
     },
     "execution_count": 267,
     "metadata": {},
     "output_type": "execute_result"
    }
   ],
   "source": [
    "# Mapea los valores de la columna 'service_type' a valores numéricos.\n",
    "DataSetML['serviceID'] = DataSetML['service_type'].map({'yellow': 1, 'green': 0})\n",
    "\n",
    "# Mapea los valores de la columna 'pickup_borough' a valores numéricos.\n",
    "DataSetML['borough2ID'] = DataSetML['pickup_borough'].map({'Manhattan': 1, 'Queens': 2, 'Brooklyn': 3, 'Bronx': 4, 'Staten Island': 5})\n",
    "\n",
    "# Devuelve el DataFrame resultante con las columnas 'serviceID' y 'borough2ID' añadidas.\n",
    "DataSetML\n"
   ]
  },
  {
   "cell_type": "code",
   "execution_count": 268,
   "metadata": {},
   "outputs": [
    {
     "data": {
      "text/html": [
       "<div>\n",
       "<style scoped>\n",
       "    .dataframe tbody tr th:only-of-type {\n",
       "        vertical-align: middle;\n",
       "    }\n",
       "\n",
       "    .dataframe tbody tr th {\n",
       "        vertical-align: top;\n",
       "    }\n",
       "\n",
       "    .dataframe thead th {\n",
       "        text-align: right;\n",
       "    }\n",
       "</style>\n",
       "<table border=\"1\" class=\"dataframe\">\n",
       "  <thead>\n",
       "    <tr style=\"text-align: right;\">\n",
       "      <th></th>\n",
       "      <th>dayofweek</th>\n",
       "      <th>hora</th>\n",
       "      <th>demand</th>\n",
       "      <th>serviceID</th>\n",
       "      <th>borough2ID</th>\n",
       "    </tr>\n",
       "  </thead>\n",
       "  <tbody>\n",
       "    <tr>\n",
       "      <th>0</th>\n",
       "      <td>0</td>\n",
       "      <td>00:00</td>\n",
       "      <td>17.24</td>\n",
       "      <td>0</td>\n",
       "      <td>4</td>\n",
       "    </tr>\n",
       "    <tr>\n",
       "      <th>1</th>\n",
       "      <td>0</td>\n",
       "      <td>01:00</td>\n",
       "      <td>5.17</td>\n",
       "      <td>0</td>\n",
       "      <td>4</td>\n",
       "    </tr>\n",
       "    <tr>\n",
       "      <th>2</th>\n",
       "      <td>0</td>\n",
       "      <td>02:00</td>\n",
       "      <td>6.90</td>\n",
       "      <td>0</td>\n",
       "      <td>4</td>\n",
       "    </tr>\n",
       "    <tr>\n",
       "      <th>3</th>\n",
       "      <td>0</td>\n",
       "      <td>03:00</td>\n",
       "      <td>13.79</td>\n",
       "      <td>0</td>\n",
       "      <td>4</td>\n",
       "    </tr>\n",
       "    <tr>\n",
       "      <th>4</th>\n",
       "      <td>0</td>\n",
       "      <td>04:00</td>\n",
       "      <td>6.90</td>\n",
       "      <td>0</td>\n",
       "      <td>4</td>\n",
       "    </tr>\n",
       "    <tr>\n",
       "      <th>...</th>\n",
       "      <td>...</td>\n",
       "      <td>...</td>\n",
       "      <td>...</td>\n",
       "      <td>...</td>\n",
       "      <td>...</td>\n",
       "    </tr>\n",
       "    <tr>\n",
       "      <th>1500</th>\n",
       "      <td>6</td>\n",
       "      <td>19:00</td>\n",
       "      <td>1.72</td>\n",
       "      <td>1</td>\n",
       "      <td>5</td>\n",
       "    </tr>\n",
       "    <tr>\n",
       "      <th>1501</th>\n",
       "      <td>6</td>\n",
       "      <td>20:00</td>\n",
       "      <td>6.90</td>\n",
       "      <td>1</td>\n",
       "      <td>5</td>\n",
       "    </tr>\n",
       "    <tr>\n",
       "      <th>1502</th>\n",
       "      <td>6</td>\n",
       "      <td>21:00</td>\n",
       "      <td>3.45</td>\n",
       "      <td>1</td>\n",
       "      <td>5</td>\n",
       "    </tr>\n",
       "    <tr>\n",
       "      <th>1503</th>\n",
       "      <td>6</td>\n",
       "      <td>22:00</td>\n",
       "      <td>3.45</td>\n",
       "      <td>1</td>\n",
       "      <td>5</td>\n",
       "    </tr>\n",
       "    <tr>\n",
       "      <th>1504</th>\n",
       "      <td>6</td>\n",
       "      <td>23:00</td>\n",
       "      <td>6.90</td>\n",
       "      <td>1</td>\n",
       "      <td>5</td>\n",
       "    </tr>\n",
       "  </tbody>\n",
       "</table>\n",
       "<p>1505 rows × 5 columns</p>\n",
       "</div>"
      ],
      "text/plain": [
       "      dayofweek   hora  demand  serviceID  borough2ID\n",
       "0             0  00:00   17.24          0           4\n",
       "1             0  01:00    5.17          0           4\n",
       "2             0  02:00    6.90          0           4\n",
       "3             0  03:00   13.79          0           4\n",
       "4             0  04:00    6.90          0           4\n",
       "...         ...    ...     ...        ...         ...\n",
       "1500          6  19:00    1.72          1           5\n",
       "1501          6  20:00    6.90          1           5\n",
       "1502          6  21:00    3.45          1           5\n",
       "1503          6  22:00    3.45          1           5\n",
       "1504          6  23:00    6.90          1           5\n",
       "\n",
       "[1505 rows x 5 columns]"
      ]
     },
     "execution_count": 268,
     "metadata": {},
     "output_type": "execute_result"
    }
   ],
   "source": [
    "#eliminando las columnas que tienes strings\n",
    "DataSetML = DataSetML.drop(columns={'service_type','pickup_borough'})\n",
    "DataSetML"
   ]
  },
  {
   "cell_type": "code",
   "execution_count": 269,
   "metadata": {},
   "outputs": [],
   "source": [
    "ModeladoDemanda = DataSetML.copy()"
   ]
  },
  {
   "cell_type": "markdown",
   "metadata": {},
   "source": [
    "### Entrenamiento del Modelo"
   ]
  },
  {
   "cell_type": "code",
   "execution_count": 270,
   "metadata": {},
   "outputs": [
    {
     "data": {
      "text/plain": [
       "RandomForestRegressor(random_state=10)"
      ]
     },
     "execution_count": 270,
     "metadata": {},
     "output_type": "execute_result"
    }
   ],
   "source": [
    "import pandas as pd\n",
    "import numpy as np\n",
    "from sklearn.model_selection import train_test_split\n",
    "from sklearn.ensemble import RandomForestRegressor\n",
    "from sklearn.metrics import mean_squared_error\n",
    "from sklearn.metrics import r2_score\n",
    "from sklearn.metrics import mean_absolute_error, mean_squared_error\n",
    "\n",
    "ModeladoDemanda['hora'] = pd.to_datetime(ModeladoDemanda['hora'], format='%H:%M').dt.hour\n",
    "\n",
    "df = ModeladoDemanda\n",
    "# Separación de características y variable objetivo\n",
    "X = df.drop(['demand'], axis=1)\n",
    "y = df['demand']\n",
    "\n",
    "# Dividimos los datos en conjuntos de entrenamiento 70% y prueba 30%\n",
    "X_train, X_test, y_train, y_test = train_test_split(X, y, test_size=0.3, random_state=65)#65=0.9853196519149915:15=0.9850329496606642\n",
    "\n",
    "# Dividimos los datos de testeo en dos conjuntos: unos el de testeto 50%=15%T y Validacion 50%=15%T\n",
    "X_test, X_validation, y_test, y_validation = train_test_split(X_test, y_test, test_size=0.5, random_state=65)\n",
    "\n",
    "# Inicializamos y entrenamos el modelo RandomForestRegressor con parámetros ajustados\n",
    "model_taxi = RandomForestRegressor(random_state=10)      # Semilla para reproducibilidad\n",
    "\n",
    "# Entrenamiento de modelos\n",
    "model_taxi.fit(X_train, y_train)\n",
    "\n"
   ]
  },
  {
   "cell_type": "markdown",
   "metadata": {},
   "source": [
    "### Testeo del Modelo"
   ]
  },
  {
   "cell_type": "code",
   "execution_count": 271,
   "metadata": {},
   "outputs": [
    {
     "name": "stdout",
     "output_type": "stream",
     "text": [
      "MSE para taxi : 15.939678326814134\n",
      "R-squared (R2) para taxi : 0.9879368262758187\n",
      "Mean Absolute Error (MAE) para taxi : 2.513383185840703\n",
      "Root Mean Squared Error (RMSE) para taxi : 3.9924526705790933\n",
      "            importance\n",
      "borough2ID    0.696492\n",
      "hora          0.141224\n",
      "serviceID     0.137070\n",
      "dayofweek     0.025214\n"
     ]
    }
   ],
   "source": [
    "# Evaluación de modelos\n",
    "y_pred = model_taxi.predict(X_test)\n",
    "\n",
    "mse_taxi = mean_squared_error(y_test, y_pred)\n",
    "r2_taxi = r2_score(y_test, y_pred)\n",
    "mae_taxi = mean_absolute_error(y_test, y_pred)\n",
    "rmse_taxi = np.sqrt(mean_squared_error(y_test, y_pred))\n",
    "print(\"MSE para taxi :\", mse_taxi)\n",
    "print(\"R-squared (R2) para taxi :\", r2_taxi)\n",
    "print(\"Mean Absolute Error (MAE) para taxi :\", mae_taxi)\n",
    "print(\"Root Mean Squared Error (RMSE) para taxi :\", rmse_taxi)\n",
    "\n",
    "\n",
    "# Paso 3: Mejora de los taxis verdes\n",
    "# Analizar características importantes\n",
    "feature_importances = pd.DataFrame(model_taxi.feature_importances_,\n",
    "                                   index=X_train.columns,\n",
    "                                   columns=['importance']).sort_values('importance', ascending=False)\n",
    "print(feature_importances)"
   ]
  },
  {
   "cell_type": "markdown",
   "metadata": {},
   "source": [
    "### Mejoramiento del modelo"
   ]
  },
  {
   "cell_type": "code",
   "execution_count": 272,
   "metadata": {},
   "outputs": [],
   "source": [
    "param_grid = {'n_estimators':[50,150,250], # Número de árboles en el bosque\n",
    "              'max_depth':[5,15,25],       # Profundidad máxima de los árboles\n",
    "              'min_samples_split':[2,4,6], # Número mínimo de muestras requeridas para dividir un nodo interno\n",
    "              'min_samples_leaf':[1,2,3]}   # Número mínimo de muestras requeridas para ser un nodo hoja"
   ]
  },
  {
   "cell_type": "code",
   "execution_count": 273,
   "metadata": {},
   "outputs": [
    {
     "name": "stdout",
     "output_type": "stream",
     "text": [
      "MSE para taxi : 15.776420208353986\n",
      "R-squared (R2) para taxi : 0.9880603802776303\n",
      "Mean Absolute Error (MAE) para taxi : 2.4561890265487323\n",
      "Root Mean Squared Error (RMSE) para taxi : 3.9719542052186334\n"
     ]
    }
   ],
   "source": [
    "from sklearn.model_selection import GridSearchCV\n",
    "model_taxi_cv = GridSearchCV(estimator=model_taxi,param_grid=param_grid, cv=3,scoring='neg_mean_squared_error')\n",
    "model_taxi_cv.fit(X_train, y_train)\n",
    "# Evaluación de modelos\n",
    "y_pred = model_taxi_cv.predict(X_test)\n",
    "\n",
    "mse_taxi = mean_squared_error(y_test, y_pred)\n",
    "r2_taxi = r2_score(y_test, y_pred)\n",
    "mae_taxi = mean_absolute_error(y_test, y_pred)\n",
    "rmse_taxi = np.sqrt(mean_squared_error(y_test, y_pred))\n",
    "print(\"MSE para taxi :\", mse_taxi)\n",
    "print(\"R-squared (R2) para taxi :\", r2_taxi)\n",
    "print(\"Mean Absolute Error (MAE) para taxi :\", mae_taxi)\n",
    "print(\"Root Mean Squared Error (RMSE) para taxi :\", rmse_taxi)"
   ]
  },
  {
   "cell_type": "markdown",
   "metadata": {},
   "source": [
    "### Guardamos el Modelo en formato .pkl"
   ]
  },
  {
   "cell_type": "code",
   "execution_count": 259,
   "metadata": {},
   "outputs": [
    {
     "data": {
      "text/plain": [
       "['model_taxi_cv.pkl']"
      ]
     },
     "execution_count": 259,
     "metadata": {},
     "output_type": "execute_result"
    }
   ],
   "source": [
    "import joblib\n",
    "# Guardamos el modelo en un archivo pickle\n",
    "joblib.dump(model_taxi, '../0-DataSets/4-ModelosPrediccion/model_taxi.pkl')\n",
    "joblib.dump(model_taxi_cv, '../0-DataSets/4-ModelosPrediccion/model_taxi_cv.pkl')"
   ]
  },
  {
   "cell_type": "markdown",
   "metadata": {},
   "source": [
    "### Prueba del modelo con datos creados"
   ]
  },
  {
   "cell_type": "markdown",
   "metadata": {},
   "source": [
    "Vemos el formato de la estructura de dataframe de ingreso al modelo"
   ]
  },
  {
   "cell_type": "code",
   "execution_count": 274,
   "metadata": {},
   "outputs": [],
   "source": [
    "import joblib\n",
    "import pandas as pd"
   ]
  },
  {
   "cell_type": "code",
   "execution_count": 275,
   "metadata": {},
   "outputs": [
    {
     "data": {
      "text/html": [
       "<div>\n",
       "<style scoped>\n",
       "    .dataframe tbody tr th:only-of-type {\n",
       "        vertical-align: middle;\n",
       "    }\n",
       "\n",
       "    .dataframe tbody tr th {\n",
       "        vertical-align: top;\n",
       "    }\n",
       "\n",
       "    .dataframe thead th {\n",
       "        text-align: right;\n",
       "    }\n",
       "</style>\n",
       "<table border=\"1\" class=\"dataframe\">\n",
       "  <thead>\n",
       "    <tr style=\"text-align: right;\">\n",
       "      <th></th>\n",
       "      <th>dayofweek</th>\n",
       "      <th>hora</th>\n",
       "      <th>serviceID</th>\n",
       "      <th>borough2ID</th>\n",
       "    </tr>\n",
       "  </thead>\n",
       "  <tbody>\n",
       "    <tr>\n",
       "      <th>0</th>\n",
       "      <td>0</td>\n",
       "      <td>00:00</td>\n",
       "      <td>0</td>\n",
       "      <td>4</td>\n",
       "    </tr>\n",
       "  </tbody>\n",
       "</table>\n",
       "</div>"
      ],
      "text/plain": [
       "   dayofweek   hora  serviceID  borough2ID\n",
       "0          0  00:00          0           4"
      ]
     },
     "execution_count": 275,
     "metadata": {},
     "output_type": "execute_result"
    }
   ],
   "source": [
    "df = DataSetML\n",
    "# Separación de características y variable objetivo\n",
    "X = df.drop(['demand'], axis=1)\n",
    "X.head(1)"
   ]
  },
  {
   "cell_type": "markdown",
   "metadata": {},
   "source": [
    "Preparando datos creados"
   ]
  },
  {
   "cell_type": "code",
   "execution_count": 278,
   "metadata": {},
   "outputs": [
    {
     "name": "stdout",
     "output_type": "stream",
     "text": [
      "Nuevos datos para hacer predicciones:\n"
     ]
    },
    {
     "data": {
      "text/html": [
       "<div>\n",
       "<style scoped>\n",
       "    .dataframe tbody tr th:only-of-type {\n",
       "        vertical-align: middle;\n",
       "    }\n",
       "\n",
       "    .dataframe tbody tr th {\n",
       "        vertical-align: top;\n",
       "    }\n",
       "\n",
       "    .dataframe thead th {\n",
       "        text-align: right;\n",
       "    }\n",
       "</style>\n",
       "<table border=\"1\" class=\"dataframe\">\n",
       "  <thead>\n",
       "    <tr style=\"text-align: right;\">\n",
       "      <th></th>\n",
       "      <th>dia</th>\n",
       "      <th>hora</th>\n",
       "      <th>service_type2</th>\n",
       "      <th>pickup_borough2</th>\n",
       "    </tr>\n",
       "  </thead>\n",
       "  <tbody>\n",
       "    <tr>\n",
       "      <th>0</th>\n",
       "      <td>1</td>\n",
       "      <td>17</td>\n",
       "      <td>1</td>\n",
       "      <td>1</td>\n",
       "    </tr>\n",
       "    <tr>\n",
       "      <th>1</th>\n",
       "      <td>2</td>\n",
       "      <td>2</td>\n",
       "      <td>0</td>\n",
       "      <td>2</td>\n",
       "    </tr>\n",
       "    <tr>\n",
       "      <th>2</th>\n",
       "      <td>4</td>\n",
       "      <td>21</td>\n",
       "      <td>0</td>\n",
       "      <td>5</td>\n",
       "    </tr>\n",
       "  </tbody>\n",
       "</table>\n",
       "</div>"
      ],
      "text/plain": [
       "   dia  hora  service_type2 pickup_borough2\n",
       "0    1    17              1               1\n",
       "1    2     2              0               2\n",
       "2    4    21              0               5"
      ]
     },
     "execution_count": 278,
     "metadata": {},
     "output_type": "execute_result"
    }
   ],
   "source": [
    "# Suponiendo que tienes algunos datos para hacer predicciones\n",
    "nuevos_datos = {\n",
    "    'dia': [1, 2, 4],  # Ejemplo de valores de día\n",
    "    'hora': ['17:00', '2:00', '21:00'],  # Ejemplo de valores de hora\n",
    "    'service_type2': [1, 0, 0],  # Ejemplo de valores de service_type2\n",
    "    'pickup_borough2': ['1', '2', '5']  # Ejemplo de valores de pickup_borough2\n",
    "} #dia\thora\ttotal_millas_recorridas\tganancia_hora\tservice_type2\tpickup_borough2\n",
    "# Crear DataFrame de nuevos datos\n",
    "X_nuevos_datos = pd.DataFrame(nuevos_datos)\n",
    "X_nuevos_datos['hora'] = pd.to_datetime(X_nuevos_datos['hora'], format='%H:%M').dt.hour\n",
    "# Imprimir los nuevos datos\n",
    "print(\"Nuevos datos para hacer predicciones:\")\n",
    "X_nuevos_datos\n",
    "#dayofweek\thora\tserviceID\tborough2ID"
   ]
  },
  {
   "cell_type": "markdown",
   "metadata": {},
   "source": [
    "Prediciendo la demanda de los datos creados"
   ]
  },
  {
   "cell_type": "code",
   "execution_count": 279,
   "metadata": {},
   "outputs": [
    {
     "name": "stdout",
     "output_type": "stream",
     "text": [
      "Predicciones del modelo cargado: [98.30752 64.7112   1.83056]\n"
     ]
    },
    {
     "name": "stderr",
     "output_type": "stream",
     "text": [
      "c:\\Users\\Pc\\anaconda3\\lib\\site-packages\\sklearn\\base.py:493: FutureWarning:\n",
      "\n",
      "The feature names should match those that were passed during fit. Starting version 1.2, an error will be raised.\n",
      "Feature names unseen at fit time:\n",
      "- dia\n",
      "- pickup_borough2\n",
      "- service_type2\n",
      "Feature names seen at fit time, yet now missing:\n",
      "- borough2ID\n",
      "- dayofweek\n",
      "- serviceID\n",
      "\n",
      "\n"
     ]
    }
   ],
   "source": [
    "# Cargar el modelo desde el archivo pickle\n",
    "loaded_model = joblib.load('../0-DataSets/4-ModelosPrediccion/model_taxi_cv.pkl')\n",
    "\n",
    "# Suponiendo que tienes nuevos datos en X_nuevos_datos\n",
    "# Hacer predicciones con el modelo cargado\n",
    "y_pred_ml = loaded_model.predict(X_nuevos_datos)\n",
    "\n",
    "# Imprimir las predicciones\n",
    "print(\"Predicciones del modelo cargado:\", y_pred_ml)\n"
   ]
  },
  {
   "cell_type": "markdown",
   "metadata": {},
   "source": [
    "### Graficando el proceso de entrenamiendo y testeo del Modelo"
   ]
  },
  {
   "cell_type": "code",
   "execution_count": 230,
   "metadata": {},
   "outputs": [
    {
     "data": {
      "application/vnd.plotly.v1+json": {
       "config": {
        "plotlyServerURL": "https://plot.ly"
       },
       "data": [
        {
         "mode": "lines",
         "name": "Training Score",
         "type": "scatter",
         "x": [
          96,
          312,
          529,
          746,
          963
         ],
         "y": [
          0.9786927762983997,
          0.9904218385683139,
          0.9943452968512174,
          0.9956317777266837,
          0.9965349938814152
         ]
        },
        {
         "mode": "lines",
         "name": "Cross-validation Score",
         "type": "scatter",
         "x": [
          96,
          312,
          529,
          746,
          963
         ],
         "y": [
          0.8816144846829331,
          0.9554042515203751,
          0.9654891891610392,
          0.9726617171263336,
          0.9768292840100017
         ]
        }
       ],
       "layout": {
        "legend": {
         "orientation": "h",
         "traceorder": "normal",
         "x": 0,
         "y": 1
        },
        "template": {
         "data": {
          "bar": [
           {
            "error_x": {
             "color": "#2a3f5f"
            },
            "error_y": {
             "color": "#2a3f5f"
            },
            "marker": {
             "line": {
              "color": "#E5ECF6",
              "width": 0.5
             },
             "pattern": {
              "fillmode": "overlay",
              "size": 10,
              "solidity": 0.2
             }
            },
            "type": "bar"
           }
          ],
          "barpolar": [
           {
            "marker": {
             "line": {
              "color": "#E5ECF6",
              "width": 0.5
             },
             "pattern": {
              "fillmode": "overlay",
              "size": 10,
              "solidity": 0.2
             }
            },
            "type": "barpolar"
           }
          ],
          "carpet": [
           {
            "aaxis": {
             "endlinecolor": "#2a3f5f",
             "gridcolor": "white",
             "linecolor": "white",
             "minorgridcolor": "white",
             "startlinecolor": "#2a3f5f"
            },
            "baxis": {
             "endlinecolor": "#2a3f5f",
             "gridcolor": "white",
             "linecolor": "white",
             "minorgridcolor": "white",
             "startlinecolor": "#2a3f5f"
            },
            "type": "carpet"
           }
          ],
          "choropleth": [
           {
            "colorbar": {
             "outlinewidth": 0,
             "ticks": ""
            },
            "type": "choropleth"
           }
          ],
          "contour": [
           {
            "colorbar": {
             "outlinewidth": 0,
             "ticks": ""
            },
            "colorscale": [
             [
              0,
              "#0d0887"
             ],
             [
              0.1111111111111111,
              "#46039f"
             ],
             [
              0.2222222222222222,
              "#7201a8"
             ],
             [
              0.3333333333333333,
              "#9c179e"
             ],
             [
              0.4444444444444444,
              "#bd3786"
             ],
             [
              0.5555555555555556,
              "#d8576b"
             ],
             [
              0.6666666666666666,
              "#ed7953"
             ],
             [
              0.7777777777777778,
              "#fb9f3a"
             ],
             [
              0.8888888888888888,
              "#fdca26"
             ],
             [
              1,
              "#f0f921"
             ]
            ],
            "type": "contour"
           }
          ],
          "contourcarpet": [
           {
            "colorbar": {
             "outlinewidth": 0,
             "ticks": ""
            },
            "type": "contourcarpet"
           }
          ],
          "heatmap": [
           {
            "colorbar": {
             "outlinewidth": 0,
             "ticks": ""
            },
            "colorscale": [
             [
              0,
              "#0d0887"
             ],
             [
              0.1111111111111111,
              "#46039f"
             ],
             [
              0.2222222222222222,
              "#7201a8"
             ],
             [
              0.3333333333333333,
              "#9c179e"
             ],
             [
              0.4444444444444444,
              "#bd3786"
             ],
             [
              0.5555555555555556,
              "#d8576b"
             ],
             [
              0.6666666666666666,
              "#ed7953"
             ],
             [
              0.7777777777777778,
              "#fb9f3a"
             ],
             [
              0.8888888888888888,
              "#fdca26"
             ],
             [
              1,
              "#f0f921"
             ]
            ],
            "type": "heatmap"
           }
          ],
          "heatmapgl": [
           {
            "colorbar": {
             "outlinewidth": 0,
             "ticks": ""
            },
            "colorscale": [
             [
              0,
              "#0d0887"
             ],
             [
              0.1111111111111111,
              "#46039f"
             ],
             [
              0.2222222222222222,
              "#7201a8"
             ],
             [
              0.3333333333333333,
              "#9c179e"
             ],
             [
              0.4444444444444444,
              "#bd3786"
             ],
             [
              0.5555555555555556,
              "#d8576b"
             ],
             [
              0.6666666666666666,
              "#ed7953"
             ],
             [
              0.7777777777777778,
              "#fb9f3a"
             ],
             [
              0.8888888888888888,
              "#fdca26"
             ],
             [
              1,
              "#f0f921"
             ]
            ],
            "type": "heatmapgl"
           }
          ],
          "histogram": [
           {
            "marker": {
             "pattern": {
              "fillmode": "overlay",
              "size": 10,
              "solidity": 0.2
             }
            },
            "type": "histogram"
           }
          ],
          "histogram2d": [
           {
            "colorbar": {
             "outlinewidth": 0,
             "ticks": ""
            },
            "colorscale": [
             [
              0,
              "#0d0887"
             ],
             [
              0.1111111111111111,
              "#46039f"
             ],
             [
              0.2222222222222222,
              "#7201a8"
             ],
             [
              0.3333333333333333,
              "#9c179e"
             ],
             [
              0.4444444444444444,
              "#bd3786"
             ],
             [
              0.5555555555555556,
              "#d8576b"
             ],
             [
              0.6666666666666666,
              "#ed7953"
             ],
             [
              0.7777777777777778,
              "#fb9f3a"
             ],
             [
              0.8888888888888888,
              "#fdca26"
             ],
             [
              1,
              "#f0f921"
             ]
            ],
            "type": "histogram2d"
           }
          ],
          "histogram2dcontour": [
           {
            "colorbar": {
             "outlinewidth": 0,
             "ticks": ""
            },
            "colorscale": [
             [
              0,
              "#0d0887"
             ],
             [
              0.1111111111111111,
              "#46039f"
             ],
             [
              0.2222222222222222,
              "#7201a8"
             ],
             [
              0.3333333333333333,
              "#9c179e"
             ],
             [
              0.4444444444444444,
              "#bd3786"
             ],
             [
              0.5555555555555556,
              "#d8576b"
             ],
             [
              0.6666666666666666,
              "#ed7953"
             ],
             [
              0.7777777777777778,
              "#fb9f3a"
             ],
             [
              0.8888888888888888,
              "#fdca26"
             ],
             [
              1,
              "#f0f921"
             ]
            ],
            "type": "histogram2dcontour"
           }
          ],
          "mesh3d": [
           {
            "colorbar": {
             "outlinewidth": 0,
             "ticks": ""
            },
            "type": "mesh3d"
           }
          ],
          "parcoords": [
           {
            "line": {
             "colorbar": {
              "outlinewidth": 0,
              "ticks": ""
             }
            },
            "type": "parcoords"
           }
          ],
          "pie": [
           {
            "automargin": true,
            "type": "pie"
           }
          ],
          "scatter": [
           {
            "fillpattern": {
             "fillmode": "overlay",
             "size": 10,
             "solidity": 0.2
            },
            "type": "scatter"
           }
          ],
          "scatter3d": [
           {
            "line": {
             "colorbar": {
              "outlinewidth": 0,
              "ticks": ""
             }
            },
            "marker": {
             "colorbar": {
              "outlinewidth": 0,
              "ticks": ""
             }
            },
            "type": "scatter3d"
           }
          ],
          "scattercarpet": [
           {
            "marker": {
             "colorbar": {
              "outlinewidth": 0,
              "ticks": ""
             }
            },
            "type": "scattercarpet"
           }
          ],
          "scattergeo": [
           {
            "marker": {
             "colorbar": {
              "outlinewidth": 0,
              "ticks": ""
             }
            },
            "type": "scattergeo"
           }
          ],
          "scattergl": [
           {
            "marker": {
             "colorbar": {
              "outlinewidth": 0,
              "ticks": ""
             }
            },
            "type": "scattergl"
           }
          ],
          "scattermapbox": [
           {
            "marker": {
             "colorbar": {
              "outlinewidth": 0,
              "ticks": ""
             }
            },
            "type": "scattermapbox"
           }
          ],
          "scatterpolar": [
           {
            "marker": {
             "colorbar": {
              "outlinewidth": 0,
              "ticks": ""
             }
            },
            "type": "scatterpolar"
           }
          ],
          "scatterpolargl": [
           {
            "marker": {
             "colorbar": {
              "outlinewidth": 0,
              "ticks": ""
             }
            },
            "type": "scatterpolargl"
           }
          ],
          "scatterternary": [
           {
            "marker": {
             "colorbar": {
              "outlinewidth": 0,
              "ticks": ""
             }
            },
            "type": "scatterternary"
           }
          ],
          "surface": [
           {
            "colorbar": {
             "outlinewidth": 0,
             "ticks": ""
            },
            "colorscale": [
             [
              0,
              "#0d0887"
             ],
             [
              0.1111111111111111,
              "#46039f"
             ],
             [
              0.2222222222222222,
              "#7201a8"
             ],
             [
              0.3333333333333333,
              "#9c179e"
             ],
             [
              0.4444444444444444,
              "#bd3786"
             ],
             [
              0.5555555555555556,
              "#d8576b"
             ],
             [
              0.6666666666666666,
              "#ed7953"
             ],
             [
              0.7777777777777778,
              "#fb9f3a"
             ],
             [
              0.8888888888888888,
              "#fdca26"
             ],
             [
              1,
              "#f0f921"
             ]
            ],
            "type": "surface"
           }
          ],
          "table": [
           {
            "cells": {
             "fill": {
              "color": "#EBF0F8"
             },
             "line": {
              "color": "white"
             }
            },
            "header": {
             "fill": {
              "color": "#C8D4E3"
             },
             "line": {
              "color": "white"
             }
            },
            "type": "table"
           }
          ]
         },
         "layout": {
          "annotationdefaults": {
           "arrowcolor": "#2a3f5f",
           "arrowhead": 0,
           "arrowwidth": 1
          },
          "autotypenumbers": "strict",
          "coloraxis": {
           "colorbar": {
            "outlinewidth": 0,
            "ticks": ""
           }
          },
          "colorscale": {
           "diverging": [
            [
             0,
             "#8e0152"
            ],
            [
             0.1,
             "#c51b7d"
            ],
            [
             0.2,
             "#de77ae"
            ],
            [
             0.3,
             "#f1b6da"
            ],
            [
             0.4,
             "#fde0ef"
            ],
            [
             0.5,
             "#f7f7f7"
            ],
            [
             0.6,
             "#e6f5d0"
            ],
            [
             0.7,
             "#b8e186"
            ],
            [
             0.8,
             "#7fbc41"
            ],
            [
             0.9,
             "#4d9221"
            ],
            [
             1,
             "#276419"
            ]
           ],
           "sequential": [
            [
             0,
             "#0d0887"
            ],
            [
             0.1111111111111111,
             "#46039f"
            ],
            [
             0.2222222222222222,
             "#7201a8"
            ],
            [
             0.3333333333333333,
             "#9c179e"
            ],
            [
             0.4444444444444444,
             "#bd3786"
            ],
            [
             0.5555555555555556,
             "#d8576b"
            ],
            [
             0.6666666666666666,
             "#ed7953"
            ],
            [
             0.7777777777777778,
             "#fb9f3a"
            ],
            [
             0.8888888888888888,
             "#fdca26"
            ],
            [
             1,
             "#f0f921"
            ]
           ],
           "sequentialminus": [
            [
             0,
             "#0d0887"
            ],
            [
             0.1111111111111111,
             "#46039f"
            ],
            [
             0.2222222222222222,
             "#7201a8"
            ],
            [
             0.3333333333333333,
             "#9c179e"
            ],
            [
             0.4444444444444444,
             "#bd3786"
            ],
            [
             0.5555555555555556,
             "#d8576b"
            ],
            [
             0.6666666666666666,
             "#ed7953"
            ],
            [
             0.7777777777777778,
             "#fb9f3a"
            ],
            [
             0.8888888888888888,
             "#fdca26"
            ],
            [
             1,
             "#f0f921"
            ]
           ]
          },
          "colorway": [
           "#636efa",
           "#EF553B",
           "#00cc96",
           "#ab63fa",
           "#FFA15A",
           "#19d3f3",
           "#FF6692",
           "#B6E880",
           "#FF97FF",
           "#FECB52"
          ],
          "font": {
           "color": "#2a3f5f"
          },
          "geo": {
           "bgcolor": "white",
           "lakecolor": "white",
           "landcolor": "#E5ECF6",
           "showlakes": true,
           "showland": true,
           "subunitcolor": "white"
          },
          "hoverlabel": {
           "align": "left"
          },
          "hovermode": "closest",
          "mapbox": {
           "style": "light"
          },
          "paper_bgcolor": "white",
          "plot_bgcolor": "#E5ECF6",
          "polar": {
           "angularaxis": {
            "gridcolor": "white",
            "linecolor": "white",
            "ticks": ""
           },
           "bgcolor": "#E5ECF6",
           "radialaxis": {
            "gridcolor": "white",
            "linecolor": "white",
            "ticks": ""
           }
          },
          "scene": {
           "xaxis": {
            "backgroundcolor": "#E5ECF6",
            "gridcolor": "white",
            "gridwidth": 2,
            "linecolor": "white",
            "showbackground": true,
            "ticks": "",
            "zerolinecolor": "white"
           },
           "yaxis": {
            "backgroundcolor": "#E5ECF6",
            "gridcolor": "white",
            "gridwidth": 2,
            "linecolor": "white",
            "showbackground": true,
            "ticks": "",
            "zerolinecolor": "white"
           },
           "zaxis": {
            "backgroundcolor": "#E5ECF6",
            "gridcolor": "white",
            "gridwidth": 2,
            "linecolor": "white",
            "showbackground": true,
            "ticks": "",
            "zerolinecolor": "white"
           }
          },
          "shapedefaults": {
           "line": {
            "color": "#2a3f5f"
           }
          },
          "ternary": {
           "aaxis": {
            "gridcolor": "white",
            "linecolor": "white",
            "ticks": ""
           },
           "baxis": {
            "gridcolor": "white",
            "linecolor": "white",
            "ticks": ""
           },
           "bgcolor": "#E5ECF6",
           "caxis": {
            "gridcolor": "white",
            "linecolor": "white",
            "ticks": ""
           }
          },
          "title": {
           "x": 0.05
          },
          "xaxis": {
           "automargin": true,
           "gridcolor": "white",
           "linecolor": "white",
           "ticks": "",
           "title": {
            "standoff": 15
           },
           "zerolinecolor": "white",
           "zerolinewidth": 2
          },
          "yaxis": {
           "automargin": true,
           "gridcolor": "white",
           "linecolor": "white",
           "ticks": "",
           "title": {
            "standoff": 15
           },
           "zerolinecolor": "white",
           "zerolinewidth": 2
          }
         }
        },
        "title": {
         "text": "Curva de Aprendizaje"
        },
        "xaxis": {
         "title": {
          "text": "Training examples"
         }
        },
        "yaxis": {
         "title": {
          "text": "Score"
         }
        }
       }
      }
     },
     "metadata": {},
     "output_type": "display_data"
    }
   ],
   "source": [
    "from sklearn.model_selection import learning_curve\n",
    "import plotly.graph_objects as go\n",
    "# Calculamos la curva de aprendizaje\n",
    "train_sizes, train_scores, test_scores = learning_curve(model_taxi, X_train, y_train, cv=5)\n",
    "train_scores_mean = np.mean(train_scores, axis=1)\n",
    "test_scores_mean = np.mean(test_scores, axis=1)\n",
    "\n",
    "# Creamos el gráfico con Plotly\n",
    "fig = go.Figure()\n",
    "\n",
    "# Agregamos la curva de Training score\n",
    "fig.add_trace(go.Scatter(x=train_sizes, y=train_scores_mean, mode='lines', name='Training Score'))\n",
    "\n",
    "# Agregamos la curva de Cross-validation score\n",
    "fig.add_trace(go.Scatter(x=train_sizes, y=test_scores_mean, mode='lines', name='Cross-validation Score'))\n",
    "\n",
    "# Configuramos el diseño del gráfico\n",
    "fig.update_layout(\n",
    "    title='Curva de Aprendizaje',\n",
    "    xaxis_title='Training examples',\n",
    "    yaxis_title='Score',\n",
    "    legend=dict(x=0, y=1, traceorder='normal', orientation='h'),\n",
    ")\n",
    "\n",
    "# Mostramos el gráfico\n",
    "fig.show()"
   ]
  },
  {
   "cell_type": "code",
   "execution_count": 231,
   "metadata": {},
   "outputs": [
    {
     "data": {
      "application/vnd.plotly.v1+json": {
       "config": {
        "plotlyServerURL": "https://plot.ly"
       },
       "data": [
        {
         "alignmentgroup": "True",
         "bingroup": "x",
         "hovertemplate": "variable=Valor Real<br>Valor=%{x}<br>count=%{y}<extra></extra>",
         "legendgroup": "Valor Real",
         "marker": {
          "color": "blue",
          "opacity": 0.5,
          "pattern": {
           "shape": ""
          }
         },
         "name": "Valor Real",
         "nbinsx": 30,
         "offsetgroup": "Valor Real",
         "orientation": "v",
         "showlegend": true,
         "type": "histogram",
         "x": [
          12.07,
          91.38,
          96.55,
          41.38,
          96.55,
          18.97,
          98.28,
          20.69,
          1.72,
          77.59,
          6.9,
          98.28,
          60.34,
          31.03,
          36.21,
          31.03,
          15.52,
          8.62,
          98.28,
          94.83,
          98.28,
          44.83,
          10.34,
          10.34,
          96.55,
          98.28,
          96.55,
          20.69,
          24.14,
          98.28,
          100,
          96.55,
          87.93,
          3.45,
          94.83,
          5.17,
          10.34,
          5.17,
          98.28,
          1.72,
          94.83,
          5.17,
          5.17,
          6.9,
          98.28,
          98.28,
          96.55,
          96.55,
          96.55,
          98.28,
          10.34,
          1.72,
          98.28,
          87.93,
          91.38,
          82.76,
          34.48,
          5.17,
          62.07,
          34.48,
          96.55,
          94.83,
          98.28,
          20.69,
          46.55,
          89.66,
          96.55,
          20.69,
          65.52,
          72.41,
          18.97,
          89.66,
          94.83,
          87.93,
          48.28,
          53.45,
          93.1,
          98.28,
          93.1,
          89.66,
          84.48,
          1.72,
          91.38,
          13.79,
          51.72,
          96.55,
          79.31,
          98.28,
          96.55,
          96.55,
          91.38,
          94.83,
          20.69,
          44.83,
          96.55,
          98.28,
          89.66,
          39.66,
          82.76,
          98.28,
          94.83,
          98.28,
          94.83,
          98.28,
          6.9,
          98.28,
          27.59,
          98.28,
          94.83,
          5.17,
          94.83,
          12.07,
          94.83,
          94.83,
          34.48,
          94.83,
          96.55,
          82.76,
          44.83,
          98.28,
          94.83,
          98.28,
          94.83,
          98.28,
          94.83,
          56.9,
          94.83,
          98.28,
          98.28,
          94.83,
          15.52,
          89.66,
          98.28,
          13.79,
          93.1,
          5.17,
          98.28,
          94.83,
          94.83,
          18.97,
          96.55,
          6.9,
          96.55,
          22.41,
          93.1,
          34.48,
          53.45,
          1.72,
          93.1,
          89.66,
          44.83,
          22.41,
          91.38,
          5.17,
          98.28,
          27.59,
          43.1,
          13.79,
          3.45,
          96.55,
          98.28,
          94.83,
          98.28,
          94.83,
          94.83,
          25.86,
          100,
          91.38,
          27.59,
          3.45,
          96.55,
          44.83,
          96.55,
          91.38,
          75.86,
          98.28,
          86.21,
          46.55,
          12.07,
          24.14,
          32.76,
          96.55,
          94.83,
          3.45,
          51.72,
          44.83,
          98.28,
          89.66,
          98.28,
          50,
          94.83,
          98.28,
          96.55,
          17.24,
          70.69,
          8.62,
          94.83,
          86.21,
          1.72,
          70.69,
          10.34,
          22.41,
          98.28,
          96.55,
          93.1,
          94.83,
          98.28,
          94.83,
          98.28,
          96.55,
          53.45,
          5.17,
          98.28,
          93.1,
          56.9,
          6.9,
          91.38,
          96.55,
          94.83,
          94.83,
          70.69,
          91.38,
          93.1,
          62.07,
          93.1,
          98.28,
          63.79,
          98.28,
          96.55,
          18.97,
          75.86,
          87.93,
          77.59,
          25.86,
          96.55,
          89.66,
          3.45,
          96.55,
          36.21,
          96.55,
          70.69,
          87.93,
          12.07,
          62.07,
          98.28,
          98.28,
          94.83,
          86.21,
          96.55,
          56.9,
          94.83,
          18.97,
          91.38,
          94.83,
          41.38,
          98.28,
          96.55,
          96.55,
          96.55,
          8.62,
          3.45,
          98.28,
          98.28,
          98.28,
          98.28,
          22.41,
          5.17,
          98.28,
          93.1,
          93.1,
          5.17,
          81.03,
          94.83,
          94.83,
          56.9,
          94.83,
          98.28,
          24.14,
          6.9,
          98.28,
          17.24,
          3.45,
          98.28,
          6.9,
          96.55,
          89.66,
          94.83,
          94.83,
          5.17,
          1.72,
          96.55,
          98.28,
          50,
          94.83,
          3.45,
          56.9,
          3.45,
          98.28,
          98.28,
          65.52,
          3.45
         ],
         "xaxis": "x",
         "yaxis": "y"
        },
        {
         "alignmentgroup": "True",
         "boxpoints": "all",
         "fillcolor": "rgba(255,255,255,0)",
         "hoveron": "points",
         "hovertemplate": "variable=Valor Real<br>Valor=%{x}<extra></extra>",
         "jitter": 0,
         "legendgroup": "Valor Real",
         "line": {
          "color": "rgba(255,255,255,0)"
         },
         "marker": {
          "color": "blue",
          "symbol": "line-ns-open"
         },
         "name": "Valor Real",
         "offsetgroup": "Valor Real",
         "showlegend": false,
         "type": "box",
         "x": [
          12.07,
          91.38,
          96.55,
          41.38,
          96.55,
          18.97,
          98.28,
          20.69,
          1.72,
          77.59,
          6.9,
          98.28,
          60.34,
          31.03,
          36.21,
          31.03,
          15.52,
          8.62,
          98.28,
          94.83,
          98.28,
          44.83,
          10.34,
          10.34,
          96.55,
          98.28,
          96.55,
          20.69,
          24.14,
          98.28,
          100,
          96.55,
          87.93,
          3.45,
          94.83,
          5.17,
          10.34,
          5.17,
          98.28,
          1.72,
          94.83,
          5.17,
          5.17,
          6.9,
          98.28,
          98.28,
          96.55,
          96.55,
          96.55,
          98.28,
          10.34,
          1.72,
          98.28,
          87.93,
          91.38,
          82.76,
          34.48,
          5.17,
          62.07,
          34.48,
          96.55,
          94.83,
          98.28,
          20.69,
          46.55,
          89.66,
          96.55,
          20.69,
          65.52,
          72.41,
          18.97,
          89.66,
          94.83,
          87.93,
          48.28,
          53.45,
          93.1,
          98.28,
          93.1,
          89.66,
          84.48,
          1.72,
          91.38,
          13.79,
          51.72,
          96.55,
          79.31,
          98.28,
          96.55,
          96.55,
          91.38,
          94.83,
          20.69,
          44.83,
          96.55,
          98.28,
          89.66,
          39.66,
          82.76,
          98.28,
          94.83,
          98.28,
          94.83,
          98.28,
          6.9,
          98.28,
          27.59,
          98.28,
          94.83,
          5.17,
          94.83,
          12.07,
          94.83,
          94.83,
          34.48,
          94.83,
          96.55,
          82.76,
          44.83,
          98.28,
          94.83,
          98.28,
          94.83,
          98.28,
          94.83,
          56.9,
          94.83,
          98.28,
          98.28,
          94.83,
          15.52,
          89.66,
          98.28,
          13.79,
          93.1,
          5.17,
          98.28,
          94.83,
          94.83,
          18.97,
          96.55,
          6.9,
          96.55,
          22.41,
          93.1,
          34.48,
          53.45,
          1.72,
          93.1,
          89.66,
          44.83,
          22.41,
          91.38,
          5.17,
          98.28,
          27.59,
          43.1,
          13.79,
          3.45,
          96.55,
          98.28,
          94.83,
          98.28,
          94.83,
          94.83,
          25.86,
          100,
          91.38,
          27.59,
          3.45,
          96.55,
          44.83,
          96.55,
          91.38,
          75.86,
          98.28,
          86.21,
          46.55,
          12.07,
          24.14,
          32.76,
          96.55,
          94.83,
          3.45,
          51.72,
          44.83,
          98.28,
          89.66,
          98.28,
          50,
          94.83,
          98.28,
          96.55,
          17.24,
          70.69,
          8.62,
          94.83,
          86.21,
          1.72,
          70.69,
          10.34,
          22.41,
          98.28,
          96.55,
          93.1,
          94.83,
          98.28,
          94.83,
          98.28,
          96.55,
          53.45,
          5.17,
          98.28,
          93.1,
          56.9,
          6.9,
          91.38,
          96.55,
          94.83,
          94.83,
          70.69,
          91.38,
          93.1,
          62.07,
          93.1,
          98.28,
          63.79,
          98.28,
          96.55,
          18.97,
          75.86,
          87.93,
          77.59,
          25.86,
          96.55,
          89.66,
          3.45,
          96.55,
          36.21,
          96.55,
          70.69,
          87.93,
          12.07,
          62.07,
          98.28,
          98.28,
          94.83,
          86.21,
          96.55,
          56.9,
          94.83,
          18.97,
          91.38,
          94.83,
          41.38,
          98.28,
          96.55,
          96.55,
          96.55,
          8.62,
          3.45,
          98.28,
          98.28,
          98.28,
          98.28,
          22.41,
          5.17,
          98.28,
          93.1,
          93.1,
          5.17,
          81.03,
          94.83,
          94.83,
          56.9,
          94.83,
          98.28,
          24.14,
          6.9,
          98.28,
          17.24,
          3.45,
          98.28,
          6.9,
          96.55,
          89.66,
          94.83,
          94.83,
          5.17,
          1.72,
          96.55,
          98.28,
          50,
          94.83,
          3.45,
          56.9,
          3.45,
          98.28,
          98.28,
          65.52,
          3.45
         ],
         "xaxis": "x2",
         "yaxis": "y2"
        },
        {
         "alignmentgroup": "True",
         "bingroup": "x",
         "hovertemplate": "variable=Predicciones<br>Valor=%{x}<br>count=%{y}<extra></extra>",
         "legendgroup": "Predicciones",
         "marker": {
          "color": "orange",
          "opacity": 0.5,
          "pattern": {
           "shape": ""
          }
         },
         "name": "Predicciones",
         "nbinsx": 30,
         "offsetgroup": "Predicciones",
         "orientation": "v",
         "showlegend": true,
         "type": "histogram",
         "x": [
          18.613149999999976,
          86.26586666666661,
          96.54999999999976,
          40.239333333333306,
          96.53853333333309,
          23.872399999999978,
          96.8642000000001,
          20.310499999999962,
          8.75646666666667,
          81.13866666666667,
          4.552533333333338,
          97.4059333333335,
          69.66693333333333,
          57.50446666666665,
          40.13979999999992,
          41.43833333333334,
          16.508599999999984,
          10.974111111111096,
          98.04933333333351,
          95.64273333333321,
          98.33733333333356,
          41.839933333333335,
          15.094333333333315,
          15.445333333333329,
          96.20726666666651,
          98.10746666666691,
          96.54999999999976,
          35.55099999999998,
          20.887133333333324,
          99.08266666666678,
          99.24200000000008,
          94.87386666666653,
          88.59886666666662,
          3.068799999999999,
          84.14999999999993,
          6.743159999999997,
          14.737933333333322,
          3.998333333333335,
          98.29146666666692,
          4.124266666666672,
          90.74511666666659,
          5.2284666666666615,
          13.882666666666662,
          2.7968666666666713,
          98.28000000000024,
          96.63340000000005,
          96.52706666666641,
          96.22813333333312,
          96.54999999999976,
          97.87633333333346,
          14.045400000000008,
          3.9418000000000037,
          98.19940000000024,
          85.47319999999976,
          92.41459999999994,
          83.2640666666668,
          36.79259999999997,
          2.0196000000000023,
          58.48066666666668,
          14.573400000000008,
          96.99486666666681,
          93.61973333333339,
          98.17588222222246,
          28.009133333333395,
          50.91953333333333,
          83.56173333333325,
          96.30893333333309,
          16.966133333333303,
          72.03493333333331,
          76.05673333333336,
          19.554466666666652,
          88.00953333333337,
          94.72886666666656,
          87.40199999999975,
          36.86226666666672,
          51.11493333333333,
          88.1504666666666,
          98.18793333333356,
          81.6891333333335,
          91.61540000000007,
          88.93280000000013,
          3.8268000000000044,
          94.80008055555548,
          5.875266666666658,
          48.0902666666667,
          96.54999999999976,
          79.2408666666667,
          97.16126666666658,
          88.37026666666651,
          94.76938333333324,
          82.83946666666667,
          94.85293333333327,
          21.95326666666662,
          41.56293333333342,
          96.71146666666647,
          98.16466666666685,
          90.88371888888878,
          36.437533333333434,
          79.94233333333327,
          98.28000000000024,
          93.0697999999999,
          99.14000000000011,
          94.85293333333327,
          98.25693333333356,
          20.78033333333331,
          96.66993333333345,
          25.058266666666682,
          98.28000000000024,
          92.80993888888882,
          5.971862222222212,
          95.59839999999984,
          4.665666666666673,
          92.10766666666674,
          93.75176666666677,
          42.24293333333332,
          94.72639999999993,
          95.84999999999987,
          76.18379999999995,
          46.932799999999986,
          98.15320000000021,
          93.48328333333326,
          98.25693333333356,
          95.02493333333327,
          97.9343333333335,
          94.86673333333323,
          46.51739999999998,
          95.43899999999994,
          98.28000000000024,
          98.29146666666692,
          93.74666666666656,
          16.565066666666663,
          92.9306222222223,
          98.28000000000024,
          21.916099999999997,
          93.88526666666671,
          4.032400000000004,
          87.4953333333332,
          94.45533333333329,
          93.79446666666661,
          15.06073333333334,
          95.18266666666656,
          3.1816666666666733,
          96.51773333333325,
          22.82779999999997,
          96.25186666666646,
          20.528333333333297,
          71.05706666666661,
          1.8580000000000003,
          93.40226666666649,
          89.0132666666665,
          46.41386666666664,
          21.184933333333277,
          86.92663333333309,
          6.459866666666681,
          98.28000000000024,
          35.14879999999999,
          48.48379999999999,
          17.726333333333315,
          5.137800000000005,
          93.49626666666654,
          98.28000000000024,
          95.07133333333327,
          98.14200000000024,
          94.94466666666659,
          95.03619999999988,
          11.666200000000018,
          98.28000000000024,
          83.97779999999995,
          21.9312,
          4.606199999999998,
          96.48119999999975,
          45.84859999999997,
          98.1074666666669,
          88.39286666666663,
          71.65593333333331,
          98.43766666666669,
          95.00373333333337,
          38.549799999999905,
          14.147466666666658,
          15.11479999999999,
          32.47206666666677,
          97.09233333333324,
          95.02379999999991,
          2.8836666666666684,
          43.06866666666674,
          32.805266666666675,
          98.04946666666687,
          87.66979999999991,
          98.28000000000024,
          55.37933333333333,
          94.88733333333326,
          96.1296000000002,
          94.72519999999987,
          22.13993333333332,
          74.8847999999999,
          11.364933333333322,
          94.94459999999994,
          86.85406666666648,
          4.400466666666666,
          84.78359999999992,
          5.7076399999999925,
          16.724399999999974,
          98.28000000000024,
          95.27706666666657,
          93.1613333333333,
          94.93319999999993,
          98.25606666666685,
          93.95319999999987,
          94.79506666666659,
          94.35077222222219,
          54.24400000000001,
          9.492333333333331,
          92.5525333333334,
          95.4821333333331,
          61.921200000000084,
          6.207014444444445,
          90.06846666666664,
          94.80346666666652,
          94.85293333333327,
          94.82999999999994,
          75.10173333333343,
          92.52739999999999,
          93.78200000000002,
          41.083333333333314,
          96.5414,
          97.93520000000022,
          73.1968666666666,
          98.28000000000024,
          96.54999999999976,
          29.676466666666638,
          79.40206666666656,
          84.25219999999977,
          78.41700000000007,
          15.954066666666659,
          96.06813333333317,
          82.37846666666654,
          5.438133333333329,
          96.54999999999976,
          32.19593333333335,
          95.3788666666665,
          66.78053333333325,
          85.45959999999975,
          15.089999999999987,
          77.88593333333338,
          96.6551333333332,
          96.39366666666685,
          94.71406666666654,
          79.26493333333343,
          97.81135000000022,
          69.25059999999993,
          95.12813333333324,
          17.78359999999997,
          87.54186666666646,
          95.10513333333324,
          55.344066666666755,
          98.28000000000024,
          96.54999999999976,
          96.54999999999976,
          96.33213333333312,
          4.953400000000004,
          4.240866666666666,
          99.05973333333345,
          97.95706666666682,
          98.28000000000024,
          98.16466666666685,
          19.10126666666665,
          10.459599999999995,
          98.33733333333358,
          82.41466666666663,
          95.69139999999997,
          4.45057777777778,
          86.20720000000011,
          85.0228666666666,
          95.03639999999993,
          61.03226666666669,
          93.56533333333331,
          98.19933333333356,
          23.813933333333335,
          5.759733333333338,
          97.07206666666673,
          16.13833333333331,
          4.206666666666667,
          98.28000000000024,
          8.805200000000008,
          91.86193333333348,
          88.06955555555537,
          95.43773333333321,
          93.75873333333332,
          5.411933333333328,
          3.9055333333333366,
          95.79413333333324,
          98.24540000000023,
          40.05433333333332,
          96.11406666666653,
          2.9469333333333365,
          65.37693333333337,
          2.974933333333337,
          98.38320000000024,
          98.25693333333356,
          63.31153333333333,
          5.496666666666662
         ],
         "xaxis": "x",
         "yaxis": "y"
        },
        {
         "alignmentgroup": "True",
         "boxpoints": "all",
         "fillcolor": "rgba(255,255,255,0)",
         "hoveron": "points",
         "hovertemplate": "variable=Predicciones<br>Valor=%{x}<extra></extra>",
         "jitter": 0,
         "legendgroup": "Predicciones",
         "line": {
          "color": "rgba(255,255,255,0)"
         },
         "marker": {
          "color": "orange",
          "symbol": "line-ns-open"
         },
         "name": "Predicciones",
         "offsetgroup": "Predicciones",
         "showlegend": false,
         "type": "box",
         "x": [
          18.613149999999976,
          86.26586666666661,
          96.54999999999976,
          40.239333333333306,
          96.53853333333309,
          23.872399999999978,
          96.8642000000001,
          20.310499999999962,
          8.75646666666667,
          81.13866666666667,
          4.552533333333338,
          97.4059333333335,
          69.66693333333333,
          57.50446666666665,
          40.13979999999992,
          41.43833333333334,
          16.508599999999984,
          10.974111111111096,
          98.04933333333351,
          95.64273333333321,
          98.33733333333356,
          41.839933333333335,
          15.094333333333315,
          15.445333333333329,
          96.20726666666651,
          98.10746666666691,
          96.54999999999976,
          35.55099999999998,
          20.887133333333324,
          99.08266666666678,
          99.24200000000008,
          94.87386666666653,
          88.59886666666662,
          3.068799999999999,
          84.14999999999993,
          6.743159999999997,
          14.737933333333322,
          3.998333333333335,
          98.29146666666692,
          4.124266666666672,
          90.74511666666659,
          5.2284666666666615,
          13.882666666666662,
          2.7968666666666713,
          98.28000000000024,
          96.63340000000005,
          96.52706666666641,
          96.22813333333312,
          96.54999999999976,
          97.87633333333346,
          14.045400000000008,
          3.9418000000000037,
          98.19940000000024,
          85.47319999999976,
          92.41459999999994,
          83.2640666666668,
          36.79259999999997,
          2.0196000000000023,
          58.48066666666668,
          14.573400000000008,
          96.99486666666681,
          93.61973333333339,
          98.17588222222246,
          28.009133333333395,
          50.91953333333333,
          83.56173333333325,
          96.30893333333309,
          16.966133333333303,
          72.03493333333331,
          76.05673333333336,
          19.554466666666652,
          88.00953333333337,
          94.72886666666656,
          87.40199999999975,
          36.86226666666672,
          51.11493333333333,
          88.1504666666666,
          98.18793333333356,
          81.6891333333335,
          91.61540000000007,
          88.93280000000013,
          3.8268000000000044,
          94.80008055555548,
          5.875266666666658,
          48.0902666666667,
          96.54999999999976,
          79.2408666666667,
          97.16126666666658,
          88.37026666666651,
          94.76938333333324,
          82.83946666666667,
          94.85293333333327,
          21.95326666666662,
          41.56293333333342,
          96.71146666666647,
          98.16466666666685,
          90.88371888888878,
          36.437533333333434,
          79.94233333333327,
          98.28000000000024,
          93.0697999999999,
          99.14000000000011,
          94.85293333333327,
          98.25693333333356,
          20.78033333333331,
          96.66993333333345,
          25.058266666666682,
          98.28000000000024,
          92.80993888888882,
          5.971862222222212,
          95.59839999999984,
          4.665666666666673,
          92.10766666666674,
          93.75176666666677,
          42.24293333333332,
          94.72639999999993,
          95.84999999999987,
          76.18379999999995,
          46.932799999999986,
          98.15320000000021,
          93.48328333333326,
          98.25693333333356,
          95.02493333333327,
          97.9343333333335,
          94.86673333333323,
          46.51739999999998,
          95.43899999999994,
          98.28000000000024,
          98.29146666666692,
          93.74666666666656,
          16.565066666666663,
          92.9306222222223,
          98.28000000000024,
          21.916099999999997,
          93.88526666666671,
          4.032400000000004,
          87.4953333333332,
          94.45533333333329,
          93.79446666666661,
          15.06073333333334,
          95.18266666666656,
          3.1816666666666733,
          96.51773333333325,
          22.82779999999997,
          96.25186666666646,
          20.528333333333297,
          71.05706666666661,
          1.8580000000000003,
          93.40226666666649,
          89.0132666666665,
          46.41386666666664,
          21.184933333333277,
          86.92663333333309,
          6.459866666666681,
          98.28000000000024,
          35.14879999999999,
          48.48379999999999,
          17.726333333333315,
          5.137800000000005,
          93.49626666666654,
          98.28000000000024,
          95.07133333333327,
          98.14200000000024,
          94.94466666666659,
          95.03619999999988,
          11.666200000000018,
          98.28000000000024,
          83.97779999999995,
          21.9312,
          4.606199999999998,
          96.48119999999975,
          45.84859999999997,
          98.1074666666669,
          88.39286666666663,
          71.65593333333331,
          98.43766666666669,
          95.00373333333337,
          38.549799999999905,
          14.147466666666658,
          15.11479999999999,
          32.47206666666677,
          97.09233333333324,
          95.02379999999991,
          2.8836666666666684,
          43.06866666666674,
          32.805266666666675,
          98.04946666666687,
          87.66979999999991,
          98.28000000000024,
          55.37933333333333,
          94.88733333333326,
          96.1296000000002,
          94.72519999999987,
          22.13993333333332,
          74.8847999999999,
          11.364933333333322,
          94.94459999999994,
          86.85406666666648,
          4.400466666666666,
          84.78359999999992,
          5.7076399999999925,
          16.724399999999974,
          98.28000000000024,
          95.27706666666657,
          93.1613333333333,
          94.93319999999993,
          98.25606666666685,
          93.95319999999987,
          94.79506666666659,
          94.35077222222219,
          54.24400000000001,
          9.492333333333331,
          92.5525333333334,
          95.4821333333331,
          61.921200000000084,
          6.207014444444445,
          90.06846666666664,
          94.80346666666652,
          94.85293333333327,
          94.82999999999994,
          75.10173333333343,
          92.52739999999999,
          93.78200000000002,
          41.083333333333314,
          96.5414,
          97.93520000000022,
          73.1968666666666,
          98.28000000000024,
          96.54999999999976,
          29.676466666666638,
          79.40206666666656,
          84.25219999999977,
          78.41700000000007,
          15.954066666666659,
          96.06813333333317,
          82.37846666666654,
          5.438133333333329,
          96.54999999999976,
          32.19593333333335,
          95.3788666666665,
          66.78053333333325,
          85.45959999999975,
          15.089999999999987,
          77.88593333333338,
          96.6551333333332,
          96.39366666666685,
          94.71406666666654,
          79.26493333333343,
          97.81135000000022,
          69.25059999999993,
          95.12813333333324,
          17.78359999999997,
          87.54186666666646,
          95.10513333333324,
          55.344066666666755,
          98.28000000000024,
          96.54999999999976,
          96.54999999999976,
          96.33213333333312,
          4.953400000000004,
          4.240866666666666,
          99.05973333333345,
          97.95706666666682,
          98.28000000000024,
          98.16466666666685,
          19.10126666666665,
          10.459599999999995,
          98.33733333333358,
          82.41466666666663,
          95.69139999999997,
          4.45057777777778,
          86.20720000000011,
          85.0228666666666,
          95.03639999999993,
          61.03226666666669,
          93.56533333333331,
          98.19933333333356,
          23.813933333333335,
          5.759733333333338,
          97.07206666666673,
          16.13833333333331,
          4.206666666666667,
          98.28000000000024,
          8.805200000000008,
          91.86193333333348,
          88.06955555555537,
          95.43773333333321,
          93.75873333333332,
          5.411933333333328,
          3.9055333333333366,
          95.79413333333324,
          98.24540000000023,
          40.05433333333332,
          96.11406666666653,
          2.9469333333333365,
          65.37693333333337,
          2.974933333333337,
          98.38320000000024,
          98.25693333333356,
          63.31153333333333,
          5.496666666666662
         ],
         "xaxis": "x2",
         "yaxis": "y2"
        }
       ],
       "layout": {
        "barmode": "overlay",
        "legend": {
         "title": {
          "text": "variable"
         },
         "tracegroupgap": 0
        },
        "template": {
         "data": {
          "bar": [
           {
            "error_x": {
             "color": "#2a3f5f"
            },
            "error_y": {
             "color": "#2a3f5f"
            },
            "marker": {
             "line": {
              "color": "#E5ECF6",
              "width": 0.5
             },
             "pattern": {
              "fillmode": "overlay",
              "size": 10,
              "solidity": 0.2
             }
            },
            "type": "bar"
           }
          ],
          "barpolar": [
           {
            "marker": {
             "line": {
              "color": "#E5ECF6",
              "width": 0.5
             },
             "pattern": {
              "fillmode": "overlay",
              "size": 10,
              "solidity": 0.2
             }
            },
            "type": "barpolar"
           }
          ],
          "carpet": [
           {
            "aaxis": {
             "endlinecolor": "#2a3f5f",
             "gridcolor": "white",
             "linecolor": "white",
             "minorgridcolor": "white",
             "startlinecolor": "#2a3f5f"
            },
            "baxis": {
             "endlinecolor": "#2a3f5f",
             "gridcolor": "white",
             "linecolor": "white",
             "minorgridcolor": "white",
             "startlinecolor": "#2a3f5f"
            },
            "type": "carpet"
           }
          ],
          "choropleth": [
           {
            "colorbar": {
             "outlinewidth": 0,
             "ticks": ""
            },
            "type": "choropleth"
           }
          ],
          "contour": [
           {
            "colorbar": {
             "outlinewidth": 0,
             "ticks": ""
            },
            "colorscale": [
             [
              0,
              "#0d0887"
             ],
             [
              0.1111111111111111,
              "#46039f"
             ],
             [
              0.2222222222222222,
              "#7201a8"
             ],
             [
              0.3333333333333333,
              "#9c179e"
             ],
             [
              0.4444444444444444,
              "#bd3786"
             ],
             [
              0.5555555555555556,
              "#d8576b"
             ],
             [
              0.6666666666666666,
              "#ed7953"
             ],
             [
              0.7777777777777778,
              "#fb9f3a"
             ],
             [
              0.8888888888888888,
              "#fdca26"
             ],
             [
              1,
              "#f0f921"
             ]
            ],
            "type": "contour"
           }
          ],
          "contourcarpet": [
           {
            "colorbar": {
             "outlinewidth": 0,
             "ticks": ""
            },
            "type": "contourcarpet"
           }
          ],
          "heatmap": [
           {
            "colorbar": {
             "outlinewidth": 0,
             "ticks": ""
            },
            "colorscale": [
             [
              0,
              "#0d0887"
             ],
             [
              0.1111111111111111,
              "#46039f"
             ],
             [
              0.2222222222222222,
              "#7201a8"
             ],
             [
              0.3333333333333333,
              "#9c179e"
             ],
             [
              0.4444444444444444,
              "#bd3786"
             ],
             [
              0.5555555555555556,
              "#d8576b"
             ],
             [
              0.6666666666666666,
              "#ed7953"
             ],
             [
              0.7777777777777778,
              "#fb9f3a"
             ],
             [
              0.8888888888888888,
              "#fdca26"
             ],
             [
              1,
              "#f0f921"
             ]
            ],
            "type": "heatmap"
           }
          ],
          "heatmapgl": [
           {
            "colorbar": {
             "outlinewidth": 0,
             "ticks": ""
            },
            "colorscale": [
             [
              0,
              "#0d0887"
             ],
             [
              0.1111111111111111,
              "#46039f"
             ],
             [
              0.2222222222222222,
              "#7201a8"
             ],
             [
              0.3333333333333333,
              "#9c179e"
             ],
             [
              0.4444444444444444,
              "#bd3786"
             ],
             [
              0.5555555555555556,
              "#d8576b"
             ],
             [
              0.6666666666666666,
              "#ed7953"
             ],
             [
              0.7777777777777778,
              "#fb9f3a"
             ],
             [
              0.8888888888888888,
              "#fdca26"
             ],
             [
              1,
              "#f0f921"
             ]
            ],
            "type": "heatmapgl"
           }
          ],
          "histogram": [
           {
            "marker": {
             "pattern": {
              "fillmode": "overlay",
              "size": 10,
              "solidity": 0.2
             }
            },
            "type": "histogram"
           }
          ],
          "histogram2d": [
           {
            "colorbar": {
             "outlinewidth": 0,
             "ticks": ""
            },
            "colorscale": [
             [
              0,
              "#0d0887"
             ],
             [
              0.1111111111111111,
              "#46039f"
             ],
             [
              0.2222222222222222,
              "#7201a8"
             ],
             [
              0.3333333333333333,
              "#9c179e"
             ],
             [
              0.4444444444444444,
              "#bd3786"
             ],
             [
              0.5555555555555556,
              "#d8576b"
             ],
             [
              0.6666666666666666,
              "#ed7953"
             ],
             [
              0.7777777777777778,
              "#fb9f3a"
             ],
             [
              0.8888888888888888,
              "#fdca26"
             ],
             [
              1,
              "#f0f921"
             ]
            ],
            "type": "histogram2d"
           }
          ],
          "histogram2dcontour": [
           {
            "colorbar": {
             "outlinewidth": 0,
             "ticks": ""
            },
            "colorscale": [
             [
              0,
              "#0d0887"
             ],
             [
              0.1111111111111111,
              "#46039f"
             ],
             [
              0.2222222222222222,
              "#7201a8"
             ],
             [
              0.3333333333333333,
              "#9c179e"
             ],
             [
              0.4444444444444444,
              "#bd3786"
             ],
             [
              0.5555555555555556,
              "#d8576b"
             ],
             [
              0.6666666666666666,
              "#ed7953"
             ],
             [
              0.7777777777777778,
              "#fb9f3a"
             ],
             [
              0.8888888888888888,
              "#fdca26"
             ],
             [
              1,
              "#f0f921"
             ]
            ],
            "type": "histogram2dcontour"
           }
          ],
          "mesh3d": [
           {
            "colorbar": {
             "outlinewidth": 0,
             "ticks": ""
            },
            "type": "mesh3d"
           }
          ],
          "parcoords": [
           {
            "line": {
             "colorbar": {
              "outlinewidth": 0,
              "ticks": ""
             }
            },
            "type": "parcoords"
           }
          ],
          "pie": [
           {
            "automargin": true,
            "type": "pie"
           }
          ],
          "scatter": [
           {
            "fillpattern": {
             "fillmode": "overlay",
             "size": 10,
             "solidity": 0.2
            },
            "type": "scatter"
           }
          ],
          "scatter3d": [
           {
            "line": {
             "colorbar": {
              "outlinewidth": 0,
              "ticks": ""
             }
            },
            "marker": {
             "colorbar": {
              "outlinewidth": 0,
              "ticks": ""
             }
            },
            "type": "scatter3d"
           }
          ],
          "scattercarpet": [
           {
            "marker": {
             "colorbar": {
              "outlinewidth": 0,
              "ticks": ""
             }
            },
            "type": "scattercarpet"
           }
          ],
          "scattergeo": [
           {
            "marker": {
             "colorbar": {
              "outlinewidth": 0,
              "ticks": ""
             }
            },
            "type": "scattergeo"
           }
          ],
          "scattergl": [
           {
            "marker": {
             "colorbar": {
              "outlinewidth": 0,
              "ticks": ""
             }
            },
            "type": "scattergl"
           }
          ],
          "scattermapbox": [
           {
            "marker": {
             "colorbar": {
              "outlinewidth": 0,
              "ticks": ""
             }
            },
            "type": "scattermapbox"
           }
          ],
          "scatterpolar": [
           {
            "marker": {
             "colorbar": {
              "outlinewidth": 0,
              "ticks": ""
             }
            },
            "type": "scatterpolar"
           }
          ],
          "scatterpolargl": [
           {
            "marker": {
             "colorbar": {
              "outlinewidth": 0,
              "ticks": ""
             }
            },
            "type": "scatterpolargl"
           }
          ],
          "scatterternary": [
           {
            "marker": {
             "colorbar": {
              "outlinewidth": 0,
              "ticks": ""
             }
            },
            "type": "scatterternary"
           }
          ],
          "surface": [
           {
            "colorbar": {
             "outlinewidth": 0,
             "ticks": ""
            },
            "colorscale": [
             [
              0,
              "#0d0887"
             ],
             [
              0.1111111111111111,
              "#46039f"
             ],
             [
              0.2222222222222222,
              "#7201a8"
             ],
             [
              0.3333333333333333,
              "#9c179e"
             ],
             [
              0.4444444444444444,
              "#bd3786"
             ],
             [
              0.5555555555555556,
              "#d8576b"
             ],
             [
              0.6666666666666666,
              "#ed7953"
             ],
             [
              0.7777777777777778,
              "#fb9f3a"
             ],
             [
              0.8888888888888888,
              "#fdca26"
             ],
             [
              1,
              "#f0f921"
             ]
            ],
            "type": "surface"
           }
          ],
          "table": [
           {
            "cells": {
             "fill": {
              "color": "#EBF0F8"
             },
             "line": {
              "color": "white"
             }
            },
            "header": {
             "fill": {
              "color": "#C8D4E3"
             },
             "line": {
              "color": "white"
             }
            },
            "type": "table"
           }
          ]
         },
         "layout": {
          "annotationdefaults": {
           "arrowcolor": "#2a3f5f",
           "arrowhead": 0,
           "arrowwidth": 1
          },
          "autotypenumbers": "strict",
          "coloraxis": {
           "colorbar": {
            "outlinewidth": 0,
            "ticks": ""
           }
          },
          "colorscale": {
           "diverging": [
            [
             0,
             "#8e0152"
            ],
            [
             0.1,
             "#c51b7d"
            ],
            [
             0.2,
             "#de77ae"
            ],
            [
             0.3,
             "#f1b6da"
            ],
            [
             0.4,
             "#fde0ef"
            ],
            [
             0.5,
             "#f7f7f7"
            ],
            [
             0.6,
             "#e6f5d0"
            ],
            [
             0.7,
             "#b8e186"
            ],
            [
             0.8,
             "#7fbc41"
            ],
            [
             0.9,
             "#4d9221"
            ],
            [
             1,
             "#276419"
            ]
           ],
           "sequential": [
            [
             0,
             "#0d0887"
            ],
            [
             0.1111111111111111,
             "#46039f"
            ],
            [
             0.2222222222222222,
             "#7201a8"
            ],
            [
             0.3333333333333333,
             "#9c179e"
            ],
            [
             0.4444444444444444,
             "#bd3786"
            ],
            [
             0.5555555555555556,
             "#d8576b"
            ],
            [
             0.6666666666666666,
             "#ed7953"
            ],
            [
             0.7777777777777778,
             "#fb9f3a"
            ],
            [
             0.8888888888888888,
             "#fdca26"
            ],
            [
             1,
             "#f0f921"
            ]
           ],
           "sequentialminus": [
            [
             0,
             "#0d0887"
            ],
            [
             0.1111111111111111,
             "#46039f"
            ],
            [
             0.2222222222222222,
             "#7201a8"
            ],
            [
             0.3333333333333333,
             "#9c179e"
            ],
            [
             0.4444444444444444,
             "#bd3786"
            ],
            [
             0.5555555555555556,
             "#d8576b"
            ],
            [
             0.6666666666666666,
             "#ed7953"
            ],
            [
             0.7777777777777778,
             "#fb9f3a"
            ],
            [
             0.8888888888888888,
             "#fdca26"
            ],
            [
             1,
             "#f0f921"
            ]
           ]
          },
          "colorway": [
           "#636efa",
           "#EF553B",
           "#00cc96",
           "#ab63fa",
           "#FFA15A",
           "#19d3f3",
           "#FF6692",
           "#B6E880",
           "#FF97FF",
           "#FECB52"
          ],
          "font": {
           "color": "#2a3f5f"
          },
          "geo": {
           "bgcolor": "white",
           "lakecolor": "white",
           "landcolor": "#E5ECF6",
           "showlakes": true,
           "showland": true,
           "subunitcolor": "white"
          },
          "hoverlabel": {
           "align": "left"
          },
          "hovermode": "closest",
          "mapbox": {
           "style": "light"
          },
          "paper_bgcolor": "white",
          "plot_bgcolor": "#E5ECF6",
          "polar": {
           "angularaxis": {
            "gridcolor": "white",
            "linecolor": "white",
            "ticks": ""
           },
           "bgcolor": "#E5ECF6",
           "radialaxis": {
            "gridcolor": "white",
            "linecolor": "white",
            "ticks": ""
           }
          },
          "scene": {
           "xaxis": {
            "backgroundcolor": "#E5ECF6",
            "gridcolor": "white",
            "gridwidth": 2,
            "linecolor": "white",
            "showbackground": true,
            "ticks": "",
            "zerolinecolor": "white"
           },
           "yaxis": {
            "backgroundcolor": "#E5ECF6",
            "gridcolor": "white",
            "gridwidth": 2,
            "linecolor": "white",
            "showbackground": true,
            "ticks": "",
            "zerolinecolor": "white"
           },
           "zaxis": {
            "backgroundcolor": "#E5ECF6",
            "gridcolor": "white",
            "gridwidth": 2,
            "linecolor": "white",
            "showbackground": true,
            "ticks": "",
            "zerolinecolor": "white"
           }
          },
          "shapedefaults": {
           "line": {
            "color": "#2a3f5f"
           }
          },
          "ternary": {
           "aaxis": {
            "gridcolor": "white",
            "linecolor": "white",
            "ticks": ""
           },
           "baxis": {
            "gridcolor": "white",
            "linecolor": "white",
            "ticks": ""
           },
           "bgcolor": "#E5ECF6",
           "caxis": {
            "gridcolor": "white",
            "linecolor": "white",
            "ticks": ""
           }
          },
          "title": {
           "x": 0.05
          },
          "xaxis": {
           "automargin": true,
           "gridcolor": "white",
           "linecolor": "white",
           "ticks": "",
           "title": {
            "standoff": 15
           },
           "zerolinecolor": "white",
           "zerolinewidth": 2
          },
          "yaxis": {
           "automargin": true,
           "gridcolor": "white",
           "linecolor": "white",
           "ticks": "",
           "title": {
            "standoff": 15
           },
           "zerolinecolor": "white",
           "zerolinewidth": 2
          }
         }
        },
        "title": {
         "text": "Distribución de Predicciones y Valores Reales"
        },
        "xaxis": {
         "anchor": "y",
         "domain": [
          0,
          1
         ],
         "title": {
          "text": "Valor"
         }
        },
        "xaxis2": {
         "anchor": "y2",
         "domain": [
          0,
          1
         ],
         "matches": "x",
         "showgrid": true,
         "showticklabels": false
        },
        "yaxis": {
         "anchor": "x",
         "domain": [
          0,
          0.7326
         ],
         "title": {
          "text": "Frecuencia"
         }
        },
        "yaxis2": {
         "anchor": "x2",
         "domain": [
          0.7426,
          1
         ],
         "matches": "y2",
         "showgrid": false,
         "showline": false,
         "showticklabels": false,
         "ticks": ""
        }
       }
      }
     },
     "metadata": {},
     "output_type": "display_data"
    }
   ],
   "source": [
    "import plotly.express as px\n",
    "\n",
    "# Creamos un DataFrame para Plotly Express\n",
    "df = pd.DataFrame({'Valor Real': y_test, 'Predicciones': y_pred})\n",
    "\n",
    "# Creamos gráfico de histograma apilado con Plotly Express\n",
    "fig = px.histogram(df, nbins=30, marginal='rug', labels={'value': 'Valor'},\n",
    "                   title='Distribución de Predicciones y Valores Reales',\n",
    "                   category_orders={'variable': ['Valor Real', 'Predicciones']},\n",
    "                   color_discrete_sequence=['blue', 'orange'],\n",
    "                   barmode='overlay')\n",
    "\n",
    "# Configuramos el diseño del gráfico\n",
    "fig.update_layout(\n",
    "    xaxis_title='Valor',\n",
    "    yaxis_title='Frecuencia',\n",
    ")\n",
    "\n",
    "# Mostramos el gráfico\n",
    "fig.show()"
   ]
  },
  {
   "cell_type": "code",
   "execution_count": 233,
   "metadata": {},
   "outputs": [
    {
     "data": {
      "application/vnd.plotly.v1+json": {
       "config": {
        "plotlyServerURL": "https://plot.ly"
       },
       "data": [
        {
         "hovertemplate": "variable=Actual<br>index=%{x}<br>Valor=%{y}<extra></extra>",
         "legendgroup": "Actual",
         "marker": {
          "color": "red",
          "symbol": "circle"
         },
         "mode": "markers",
         "name": "Actual",
         "orientation": "v",
         "showlegend": true,
         "type": "scatter",
         "x": [
          680,
          1384,
          1461,
          1434,
          1366,
          1492,
          1455,
          1410,
          1386,
          52,
          1456,
          1418,
          1454,
          76,
          1431,
          1480,
          74,
          1441,
          27,
          1383,
          1408,
          1395,
          1364,
          1402,
          1460,
          1499,
          1469,
          1462,
          1428,
          1415,
          1453,
          1406,
          148,
          1420,
          153,
          44,
          1369,
          1379,
          1359,
          129,
          102,
          1473,
          54,
          708,
          1360,
          9,
          24,
          93,
          3,
          89,
          58,
          94,
          13,
          805,
          10,
          61,
          316,
          143,
          37,
          56,
          57,
          729,
          730,
          68,
          88,
          67,
          140,
          110,
          16,
          109,
          108,
          142,
          156,
          164,
          803,
          705,
          137,
          848,
          190,
          828,
          801,
          116,
          702,
          780,
          704,
          800,
          826,
          482,
          819,
          901,
          728,
          824,
          317,
          411,
          408,
          686,
          294,
          384,
          831,
          529,
          852,
          363,
          773,
          603,
          508,
          318,
          734,
          602,
          652,
          875,
          580,
          314,
          823,
          238,
          999,
          836,
          811,
          600,
          484,
          504,
          627,
          406,
          698,
          320,
          599,
          274,
          759,
          950,
          654,
          605,
          792,
          835,
          655,
          550,
          1237,
          692,
          767,
          744,
          790,
          743,
          284,
          253,
          307,
          312,
          329,
          179,
          235,
          1014,
          278,
          735,
          978,
          927,
          973,
          624,
          598,
          281,
          712,
          980,
          784,
          252,
          185,
          893,
          988,
          476,
          380,
          502,
          940,
          966,
          324,
          310,
          436,
          260,
          1124,
          1322,
          1139,
          1294,
          1316,
          741,
          943,
          622,
          1311,
          1321,
          994,
          1262,
          1333,
          1279,
          668,
          996,
          1275,
          1307,
          608,
          1313,
          231,
          934,
          1305,
          1141,
          1145,
          302,
          1329,
          982,
          205,
          1290,
          891,
          1315,
          1159,
          1292,
          649,
          941,
          1121,
          1142,
          1006,
          418,
          612,
          591,
          617,
          414,
          658,
          425,
          660,
          423,
          1263,
          424,
          299,
          1010,
          419,
          1334,
          1350,
          618,
          1330,
          522,
          921,
          450,
          590,
          1338,
          856,
          516,
          439,
          1100,
          1342,
          548,
          305,
          1165,
          1353,
          570,
          896,
          571,
          396,
          1040,
          863,
          349,
          1023,
          858,
          490,
          1196,
          544,
          1180,
          1182,
          1046,
          404,
          1076,
          664,
          906,
          540,
          495,
          1257,
          1049,
          665,
          1087,
          1195,
          1052,
          1063,
          1050,
          1241,
          573,
          542,
          1080,
          1072,
          496,
          1026,
          1042,
          1207,
          1211,
          1059,
          488,
          354,
          368,
          1226,
          343,
          378,
          1079,
          397,
          1186,
          353,
          1218,
          569,
          341,
          375,
          572,
          880,
          1089,
          1244
         ],
         "xaxis": "x",
         "y": [
          1.72,
          1.72,
          1.72,
          1.72,
          1.72,
          1.72,
          1.72,
          3.45,
          3.45,
          3.45,
          3.45,
          3.45,
          3.45,
          3.45,
          3.45,
          3.45,
          3.45,
          5.17,
          5.17,
          5.17,
          5.17,
          5.17,
          5.17,
          5.17,
          5.17,
          5.17,
          5.17,
          5.17,
          5.17,
          6.9,
          6.9,
          6.9,
          6.9,
          6.9,
          6.9,
          6.9,
          8.62,
          8.62,
          8.62,
          10.34,
          10.34,
          10.34,
          10.34,
          10.34,
          12.07,
          12.07,
          12.07,
          12.07,
          13.79,
          13.79,
          13.79,
          15.52,
          15.52,
          17.24,
          17.24,
          18.97,
          18.97,
          18.97,
          18.97,
          18.97,
          20.69,
          20.69,
          20.69,
          20.69,
          20.69,
          22.41,
          22.41,
          22.41,
          22.41,
          24.14,
          24.14,
          24.14,
          25.86,
          25.86,
          27.59,
          27.59,
          27.59,
          31.03,
          31.03,
          32.76,
          34.48,
          34.48,
          34.48,
          34.48,
          36.21,
          36.21,
          39.66,
          41.38,
          41.38,
          43.1,
          44.83,
          44.83,
          44.83,
          44.83,
          44.83,
          44.83,
          46.55,
          46.55,
          48.28,
          50,
          50,
          51.72,
          51.72,
          53.45,
          53.45,
          53.45,
          56.9,
          56.9,
          56.9,
          56.9,
          56.9,
          60.34,
          62.07,
          62.07,
          62.07,
          63.79,
          65.52,
          65.52,
          70.69,
          70.69,
          70.69,
          70.69,
          72.41,
          75.86,
          75.86,
          77.59,
          77.59,
          79.31,
          81.03,
          82.76,
          82.76,
          82.76,
          84.48,
          86.21,
          86.21,
          86.21,
          87.93,
          87.93,
          87.93,
          87.93,
          87.93,
          89.66,
          89.66,
          89.66,
          89.66,
          89.66,
          89.66,
          89.66,
          89.66,
          89.66,
          91.38,
          91.38,
          91.38,
          91.38,
          91.38,
          91.38,
          91.38,
          91.38,
          91.38,
          91.38,
          93.1,
          93.1,
          93.1,
          93.1,
          93.1,
          93.1,
          93.1,
          93.1,
          93.1,
          93.1,
          93.1,
          94.83,
          94.83,
          94.83,
          94.83,
          94.83,
          94.83,
          94.83,
          94.83,
          94.83,
          94.83,
          94.83,
          94.83,
          94.83,
          94.83,
          94.83,
          94.83,
          94.83,
          94.83,
          94.83,
          94.83,
          94.83,
          94.83,
          94.83,
          94.83,
          94.83,
          94.83,
          94.83,
          94.83,
          94.83,
          94.83,
          94.83,
          94.83,
          94.83,
          94.83,
          94.83,
          94.83,
          94.83,
          94.83,
          94.83,
          96.55,
          96.55,
          96.55,
          96.55,
          96.55,
          96.55,
          96.55,
          96.55,
          96.55,
          96.55,
          96.55,
          96.55,
          96.55,
          96.55,
          96.55,
          96.55,
          96.55,
          96.55,
          96.55,
          96.55,
          96.55,
          96.55,
          96.55,
          96.55,
          96.55,
          96.55,
          96.55,
          96.55,
          96.55,
          96.55,
          96.55,
          96.55,
          96.55,
          96.55,
          96.55,
          98.28,
          98.28,
          98.28,
          98.28,
          98.28,
          98.28,
          98.28,
          98.28,
          98.28,
          98.28,
          98.28,
          98.28,
          98.28,
          98.28,
          98.28,
          98.28,
          98.28,
          98.28,
          98.28,
          98.28,
          98.28,
          98.28,
          98.28,
          98.28,
          98.28,
          98.28,
          98.28,
          98.28,
          98.28,
          98.28,
          98.28,
          98.28,
          98.28,
          98.28,
          98.28,
          98.28,
          98.28,
          98.28,
          98.28,
          98.28,
          98.28,
          98.28,
          98.28,
          98.28,
          98.28,
          98.28,
          98.28,
          98.28,
          98.28,
          98.28,
          98.28,
          98.28,
          98.28,
          98.28,
          100,
          100
         ],
         "yaxis": "y"
        },
        {
         "hovertemplate": "variable=Predicted<br>index=%{x}<br>Valor=%{y}<extra></extra>",
         "legendgroup": "Predicted",
         "marker": {
          "color": "blue",
          "symbol": "circle"
         },
         "mode": "markers",
         "name": "Predicted",
         "orientation": "v",
         "showlegend": true,
         "type": "scatter",
         "x": [
          680,
          1384,
          1461,
          1434,
          1366,
          1492,
          1455,
          1410,
          1386,
          52,
          1456,
          1418,
          1454,
          76,
          1431,
          1480,
          74,
          1441,
          27,
          1383,
          1408,
          1395,
          1364,
          1402,
          1460,
          1499,
          1469,
          1462,
          1428,
          1415,
          1453,
          1406,
          148,
          1420,
          153,
          44,
          1369,
          1379,
          1359,
          129,
          102,
          1473,
          54,
          708,
          1360,
          9,
          24,
          93,
          3,
          89,
          58,
          94,
          13,
          805,
          10,
          61,
          316,
          143,
          37,
          56,
          57,
          729,
          730,
          68,
          88,
          67,
          140,
          110,
          16,
          109,
          108,
          142,
          156,
          164,
          803,
          705,
          137,
          848,
          190,
          828,
          801,
          116,
          702,
          780,
          704,
          800,
          826,
          482,
          819,
          901,
          728,
          824,
          317,
          411,
          408,
          686,
          294,
          384,
          831,
          529,
          852,
          363,
          773,
          603,
          508,
          318,
          734,
          602,
          652,
          875,
          580,
          314,
          823,
          238,
          999,
          836,
          811,
          600,
          484,
          504,
          627,
          406,
          698,
          320,
          599,
          274,
          759,
          950,
          654,
          605,
          792,
          835,
          655,
          550,
          1237,
          692,
          767,
          744,
          790,
          743,
          284,
          253,
          307,
          312,
          329,
          179,
          235,
          1014,
          278,
          735,
          978,
          927,
          973,
          624,
          598,
          281,
          712,
          980,
          784,
          252,
          185,
          893,
          988,
          476,
          380,
          502,
          940,
          966,
          324,
          310,
          436,
          260,
          1124,
          1322,
          1139,
          1294,
          1316,
          741,
          943,
          622,
          1311,
          1321,
          994,
          1262,
          1333,
          1279,
          668,
          996,
          1275,
          1307,
          608,
          1313,
          231,
          934,
          1305,
          1141,
          1145,
          302,
          1329,
          982,
          205,
          1290,
          891,
          1315,
          1159,
          1292,
          649,
          941,
          1121,
          1142,
          1006,
          418,
          612,
          591,
          617,
          414,
          658,
          425,
          660,
          423,
          1263,
          424,
          299,
          1010,
          419,
          1334,
          1350,
          618,
          1330,
          522,
          921,
          450,
          590,
          1338,
          856,
          516,
          439,
          1100,
          1342,
          548,
          305,
          1165,
          1353,
          570,
          896,
          571,
          396,
          1040,
          863,
          349,
          1023,
          858,
          490,
          1196,
          544,
          1180,
          1182,
          1046,
          404,
          1076,
          664,
          906,
          540,
          495,
          1257,
          1049,
          665,
          1087,
          1195,
          1052,
          1063,
          1050,
          1241,
          573,
          542,
          1080,
          1072,
          496,
          1026,
          1042,
          1207,
          1211,
          1059,
          488,
          354,
          368,
          1226,
          343,
          378,
          1079,
          397,
          1186,
          353,
          1218,
          569,
          341,
          375,
          572,
          880,
          1089,
          1244
         ],
         "xaxis": "x",
         "y": [
          1.8580000000000003,
          3.9055333333333366,
          4.124266666666672,
          3.9418000000000037,
          4.400466666666666,
          8.75646666666667,
          3.8268000000000044,
          5.137800000000005,
          4.606199999999998,
          2.8836666666666684,
          5.438133333333329,
          3.068799999999999,
          5.496666666666662,
          2.974933333333337,
          2.9469333333333365,
          4.206666666666667,
          4.240866666666666,
          10.459599999999995,
          5.2284666666666615,
          5.411933333333328,
          13.882666666666662,
          2.0196000000000023,
          3.998333333333335,
          9.492333333333331,
          4.032400000000004,
          4.45057777777778,
          5.971862222222212,
          6.459866666666681,
          6.743159999999997,
          3.1816666666666733,
          2.7968666666666713,
          6.207014444444445,
          4.552533333333338,
          5.759733333333338,
          8.805200000000008,
          20.78033333333331,
          10.974111111111096,
          4.953400000000004,
          11.364933333333322,
          15.445333333333329,
          15.094333333333315,
          5.7076399999999925,
          14.737933333333322,
          14.045400000000008,
          4.665666666666673,
          14.147466666666658,
          15.089999999999987,
          18.613149999999976,
          5.875266666666658,
          21.916099999999997,
          17.726333333333315,
          16.565066666666663,
          16.508599999999984,
          22.13993333333332,
          16.13833333333331,
          23.872399999999978,
          29.676466666666638,
          15.06073333333334,
          17.78359999999997,
          19.554466666666652,
          16.966133333333303,
          35.55099999999998,
          28.009133333333395,
          21.95326666666662,
          20.310499999999962,
          21.184933333333277,
          19.10126666666665,
          22.82779999999997,
          16.724399999999974,
          23.813933333333335,
          15.11479999999999,
          20.887133333333324,
          11.666200000000018,
          15.954066666666659,
          25.058266666666682,
          35.14879999999999,
          21.9312,
          41.43833333333334,
          57.50446666666665,
          32.47206666666677,
          42.24293333333332,
          20.528333333333297,
          36.79259999999997,
          14.573400000000008,
          32.19593333333335,
          40.13979999999992,
          36.437533333333434,
          40.239333333333306,
          55.344066666666755,
          48.48379999999999,
          32.805266666666675,
          41.839933333333335,
          41.56293333333342,
          46.932799999999986,
          45.84859999999997,
          46.41386666666664,
          50.91953333333333,
          38.549799999999905,
          36.86226666666672,
          55.37933333333333,
          40.05433333333332,
          48.0902666666667,
          43.06866666666674,
          54.24400000000001,
          71.05706666666661,
          51.11493333333333,
          46.51739999999998,
          61.921200000000084,
          65.37693333333337,
          61.03226666666669,
          69.25059999999993,
          69.66693333333333,
          41.083333333333314,
          58.48066666666668,
          77.88593333333338,
          73.1968666666666,
          72.03493333333331,
          63.31153333333333,
          74.8847999999999,
          66.78053333333325,
          75.10173333333343,
          84.78359999999992,
          76.05673333333336,
          79.40206666666656,
          71.65593333333331,
          78.41700000000007,
          81.13866666666667,
          79.2408666666667,
          86.20720000000011,
          83.2640666666668,
          79.94233333333327,
          76.18379999999995,
          88.93280000000013,
          79.26493333333343,
          95.00373333333337,
          86.85406666666648,
          85.47319999999976,
          84.25219999999977,
          85.45959999999975,
          87.40199999999975,
          88.59886666666662,
          90.88371888888878,
          91.61540000000007,
          82.37846666666654,
          92.9306222222223,
          88.00953333333337,
          87.66979999999991,
          89.0132666666665,
          88.06955555555537,
          83.56173333333325,
          92.41459999999994,
          88.39286666666663,
          86.26586666666661,
          83.97779999999995,
          87.54186666666646,
          94.80008055555548,
          90.06846666666664,
          92.52739999999999,
          82.83946666666667,
          86.92663333333309,
          95.4821333333331,
          95.69139999999997,
          93.78200000000002,
          96.25186666666646,
          96.5414,
          81.6891333333335,
          93.1613333333333,
          93.88526666666671,
          93.40226666666649,
          88.1504666666666,
          82.41466666666663,
          85.0228666666666,
          94.93319999999993,
          94.85293333333327,
          95.03639999999993,
          94.88733333333326,
          94.86673333333323,
          90.74511666666659,
          93.0697999999999,
          93.56533333333331,
          94.94459999999994,
          94.85293333333327,
          95.64273333333321,
          93.95319999999987,
          93.61973333333339,
          94.85293333333327,
          95.43899999999994,
          93.74666666666656,
          95.02493333333327,
          95.10513333333324,
          94.45533333333329,
          93.79446666666661,
          93.48328333333326,
          96.11406666666653,
          95.12813333333324,
          94.72639999999993,
          95.02379999999991,
          92.10766666666674,
          95.59839999999984,
          93.75176666666677,
          92.80993888888882,
          94.71406666666654,
          95.07133333333327,
          94.72886666666656,
          94.94466666666659,
          95.03619999999988,
          84.14999999999993,
          93.75873333333332,
          95.43773333333321,
          94.82999999999994,
          96.06813333333317,
          96.33213333333312,
          96.54999999999976,
          96.54999999999976,
          96.54999999999976,
          96.30893333333309,
          97.81135000000022,
          96.54999999999976,
          96.99486666666681,
          96.54999999999976,
          95.3788666666665,
          96.54999999999976,
          88.37026666666651,
          94.87386666666653,
          96.54999999999976,
          95.18266666666656,
          96.51773333333325,
          96.52706666666641,
          95.84999999999987,
          95.79413333333324,
          93.49626666666654,
          96.53853333333309,
          96.54999999999976,
          94.80346666666652,
          91.86193333333348,
          98.1074666666669,
          96.22813333333312,
          96.48119999999975,
          96.71146666666647,
          94.76938333333324,
          94.35077222222219,
          95.27706666666657,
          94.72519999999987,
          97.09233333333324,
          96.20726666666651,
          97.07206666666673,
          98.25693333333356,
          98.38320000000024,
          97.87633333333346,
          98.28000000000024,
          98.28000000000024,
          96.8642000000001,
          98.28000000000024,
          98.19940000000024,
          98.24540000000023,
          97.95706666666682,
          98.19933333333356,
          98.16466666666685,
          96.63340000000005,
          98.33733333333358,
          97.4059333333335,
          97.9343333333335,
          98.17588222222246,
          98.25693333333356,
          98.43766666666669,
          98.29146666666692,
          96.66993333333345,
          98.28000000000024,
          98.14200000000024,
          98.28000000000024,
          98.28000000000024,
          99.08266666666678,
          98.15320000000021,
          87.4953333333332,
          98.25693333333356,
          98.28000000000024,
          98.29146666666692,
          98.28000000000024,
          99.05973333333345,
          99.14000000000011,
          98.10746666666691,
          98.04946666666687,
          98.28000000000024,
          96.39366666666685,
          96.6551333333332,
          98.18793333333356,
          98.28000000000024,
          97.93520000000022,
          97.16126666666658,
          98.28000000000024,
          98.04933333333351,
          98.25606666666685,
          98.28000000000024,
          98.33733333333356,
          98.16466666666685,
          96.1296000000002,
          98.28000000000024,
          94.79506666666659,
          92.5525333333334,
          99.24200000000008,
          98.28000000000024
         ],
         "yaxis": "y"
        }
       ],
       "layout": {
        "legend": {
         "title": {
          "text": "variable"
         },
         "tracegroupgap": 0
        },
        "template": {
         "data": {
          "bar": [
           {
            "error_x": {
             "color": "#2a3f5f"
            },
            "error_y": {
             "color": "#2a3f5f"
            },
            "marker": {
             "line": {
              "color": "#E5ECF6",
              "width": 0.5
             },
             "pattern": {
              "fillmode": "overlay",
              "size": 10,
              "solidity": 0.2
             }
            },
            "type": "bar"
           }
          ],
          "barpolar": [
           {
            "marker": {
             "line": {
              "color": "#E5ECF6",
              "width": 0.5
             },
             "pattern": {
              "fillmode": "overlay",
              "size": 10,
              "solidity": 0.2
             }
            },
            "type": "barpolar"
           }
          ],
          "carpet": [
           {
            "aaxis": {
             "endlinecolor": "#2a3f5f",
             "gridcolor": "white",
             "linecolor": "white",
             "minorgridcolor": "white",
             "startlinecolor": "#2a3f5f"
            },
            "baxis": {
             "endlinecolor": "#2a3f5f",
             "gridcolor": "white",
             "linecolor": "white",
             "minorgridcolor": "white",
             "startlinecolor": "#2a3f5f"
            },
            "type": "carpet"
           }
          ],
          "choropleth": [
           {
            "colorbar": {
             "outlinewidth": 0,
             "ticks": ""
            },
            "type": "choropleth"
           }
          ],
          "contour": [
           {
            "colorbar": {
             "outlinewidth": 0,
             "ticks": ""
            },
            "colorscale": [
             [
              0,
              "#0d0887"
             ],
             [
              0.1111111111111111,
              "#46039f"
             ],
             [
              0.2222222222222222,
              "#7201a8"
             ],
             [
              0.3333333333333333,
              "#9c179e"
             ],
             [
              0.4444444444444444,
              "#bd3786"
             ],
             [
              0.5555555555555556,
              "#d8576b"
             ],
             [
              0.6666666666666666,
              "#ed7953"
             ],
             [
              0.7777777777777778,
              "#fb9f3a"
             ],
             [
              0.8888888888888888,
              "#fdca26"
             ],
             [
              1,
              "#f0f921"
             ]
            ],
            "type": "contour"
           }
          ],
          "contourcarpet": [
           {
            "colorbar": {
             "outlinewidth": 0,
             "ticks": ""
            },
            "type": "contourcarpet"
           }
          ],
          "heatmap": [
           {
            "colorbar": {
             "outlinewidth": 0,
             "ticks": ""
            },
            "colorscale": [
             [
              0,
              "#0d0887"
             ],
             [
              0.1111111111111111,
              "#46039f"
             ],
             [
              0.2222222222222222,
              "#7201a8"
             ],
             [
              0.3333333333333333,
              "#9c179e"
             ],
             [
              0.4444444444444444,
              "#bd3786"
             ],
             [
              0.5555555555555556,
              "#d8576b"
             ],
             [
              0.6666666666666666,
              "#ed7953"
             ],
             [
              0.7777777777777778,
              "#fb9f3a"
             ],
             [
              0.8888888888888888,
              "#fdca26"
             ],
             [
              1,
              "#f0f921"
             ]
            ],
            "type": "heatmap"
           }
          ],
          "heatmapgl": [
           {
            "colorbar": {
             "outlinewidth": 0,
             "ticks": ""
            },
            "colorscale": [
             [
              0,
              "#0d0887"
             ],
             [
              0.1111111111111111,
              "#46039f"
             ],
             [
              0.2222222222222222,
              "#7201a8"
             ],
             [
              0.3333333333333333,
              "#9c179e"
             ],
             [
              0.4444444444444444,
              "#bd3786"
             ],
             [
              0.5555555555555556,
              "#d8576b"
             ],
             [
              0.6666666666666666,
              "#ed7953"
             ],
             [
              0.7777777777777778,
              "#fb9f3a"
             ],
             [
              0.8888888888888888,
              "#fdca26"
             ],
             [
              1,
              "#f0f921"
             ]
            ],
            "type": "heatmapgl"
           }
          ],
          "histogram": [
           {
            "marker": {
             "pattern": {
              "fillmode": "overlay",
              "size": 10,
              "solidity": 0.2
             }
            },
            "type": "histogram"
           }
          ],
          "histogram2d": [
           {
            "colorbar": {
             "outlinewidth": 0,
             "ticks": ""
            },
            "colorscale": [
             [
              0,
              "#0d0887"
             ],
             [
              0.1111111111111111,
              "#46039f"
             ],
             [
              0.2222222222222222,
              "#7201a8"
             ],
             [
              0.3333333333333333,
              "#9c179e"
             ],
             [
              0.4444444444444444,
              "#bd3786"
             ],
             [
              0.5555555555555556,
              "#d8576b"
             ],
             [
              0.6666666666666666,
              "#ed7953"
             ],
             [
              0.7777777777777778,
              "#fb9f3a"
             ],
             [
              0.8888888888888888,
              "#fdca26"
             ],
             [
              1,
              "#f0f921"
             ]
            ],
            "type": "histogram2d"
           }
          ],
          "histogram2dcontour": [
           {
            "colorbar": {
             "outlinewidth": 0,
             "ticks": ""
            },
            "colorscale": [
             [
              0,
              "#0d0887"
             ],
             [
              0.1111111111111111,
              "#46039f"
             ],
             [
              0.2222222222222222,
              "#7201a8"
             ],
             [
              0.3333333333333333,
              "#9c179e"
             ],
             [
              0.4444444444444444,
              "#bd3786"
             ],
             [
              0.5555555555555556,
              "#d8576b"
             ],
             [
              0.6666666666666666,
              "#ed7953"
             ],
             [
              0.7777777777777778,
              "#fb9f3a"
             ],
             [
              0.8888888888888888,
              "#fdca26"
             ],
             [
              1,
              "#f0f921"
             ]
            ],
            "type": "histogram2dcontour"
           }
          ],
          "mesh3d": [
           {
            "colorbar": {
             "outlinewidth": 0,
             "ticks": ""
            },
            "type": "mesh3d"
           }
          ],
          "parcoords": [
           {
            "line": {
             "colorbar": {
              "outlinewidth": 0,
              "ticks": ""
             }
            },
            "type": "parcoords"
           }
          ],
          "pie": [
           {
            "automargin": true,
            "type": "pie"
           }
          ],
          "scatter": [
           {
            "fillpattern": {
             "fillmode": "overlay",
             "size": 10,
             "solidity": 0.2
            },
            "type": "scatter"
           }
          ],
          "scatter3d": [
           {
            "line": {
             "colorbar": {
              "outlinewidth": 0,
              "ticks": ""
             }
            },
            "marker": {
             "colorbar": {
              "outlinewidth": 0,
              "ticks": ""
             }
            },
            "type": "scatter3d"
           }
          ],
          "scattercarpet": [
           {
            "marker": {
             "colorbar": {
              "outlinewidth": 0,
              "ticks": ""
             }
            },
            "type": "scattercarpet"
           }
          ],
          "scattergeo": [
           {
            "marker": {
             "colorbar": {
              "outlinewidth": 0,
              "ticks": ""
             }
            },
            "type": "scattergeo"
           }
          ],
          "scattergl": [
           {
            "marker": {
             "colorbar": {
              "outlinewidth": 0,
              "ticks": ""
             }
            },
            "type": "scattergl"
           }
          ],
          "scattermapbox": [
           {
            "marker": {
             "colorbar": {
              "outlinewidth": 0,
              "ticks": ""
             }
            },
            "type": "scattermapbox"
           }
          ],
          "scatterpolar": [
           {
            "marker": {
             "colorbar": {
              "outlinewidth": 0,
              "ticks": ""
             }
            },
            "type": "scatterpolar"
           }
          ],
          "scatterpolargl": [
           {
            "marker": {
             "colorbar": {
              "outlinewidth": 0,
              "ticks": ""
             }
            },
            "type": "scatterpolargl"
           }
          ],
          "scatterternary": [
           {
            "marker": {
             "colorbar": {
              "outlinewidth": 0,
              "ticks": ""
             }
            },
            "type": "scatterternary"
           }
          ],
          "surface": [
           {
            "colorbar": {
             "outlinewidth": 0,
             "ticks": ""
            },
            "colorscale": [
             [
              0,
              "#0d0887"
             ],
             [
              0.1111111111111111,
              "#46039f"
             ],
             [
              0.2222222222222222,
              "#7201a8"
             ],
             [
              0.3333333333333333,
              "#9c179e"
             ],
             [
              0.4444444444444444,
              "#bd3786"
             ],
             [
              0.5555555555555556,
              "#d8576b"
             ],
             [
              0.6666666666666666,
              "#ed7953"
             ],
             [
              0.7777777777777778,
              "#fb9f3a"
             ],
             [
              0.8888888888888888,
              "#fdca26"
             ],
             [
              1,
              "#f0f921"
             ]
            ],
            "type": "surface"
           }
          ],
          "table": [
           {
            "cells": {
             "fill": {
              "color": "#EBF0F8"
             },
             "line": {
              "color": "white"
             }
            },
            "header": {
             "fill": {
              "color": "#C8D4E3"
             },
             "line": {
              "color": "white"
             }
            },
            "type": "table"
           }
          ]
         },
         "layout": {
          "annotationdefaults": {
           "arrowcolor": "#2a3f5f",
           "arrowhead": 0,
           "arrowwidth": 1
          },
          "autotypenumbers": "strict",
          "coloraxis": {
           "colorbar": {
            "outlinewidth": 0,
            "ticks": ""
           }
          },
          "colorscale": {
           "diverging": [
            [
             0,
             "#8e0152"
            ],
            [
             0.1,
             "#c51b7d"
            ],
            [
             0.2,
             "#de77ae"
            ],
            [
             0.3,
             "#f1b6da"
            ],
            [
             0.4,
             "#fde0ef"
            ],
            [
             0.5,
             "#f7f7f7"
            ],
            [
             0.6,
             "#e6f5d0"
            ],
            [
             0.7,
             "#b8e186"
            ],
            [
             0.8,
             "#7fbc41"
            ],
            [
             0.9,
             "#4d9221"
            ],
            [
             1,
             "#276419"
            ]
           ],
           "sequential": [
            [
             0,
             "#0d0887"
            ],
            [
             0.1111111111111111,
             "#46039f"
            ],
            [
             0.2222222222222222,
             "#7201a8"
            ],
            [
             0.3333333333333333,
             "#9c179e"
            ],
            [
             0.4444444444444444,
             "#bd3786"
            ],
            [
             0.5555555555555556,
             "#d8576b"
            ],
            [
             0.6666666666666666,
             "#ed7953"
            ],
            [
             0.7777777777777778,
             "#fb9f3a"
            ],
            [
             0.8888888888888888,
             "#fdca26"
            ],
            [
             1,
             "#f0f921"
            ]
           ],
           "sequentialminus": [
            [
             0,
             "#0d0887"
            ],
            [
             0.1111111111111111,
             "#46039f"
            ],
            [
             0.2222222222222222,
             "#7201a8"
            ],
            [
             0.3333333333333333,
             "#9c179e"
            ],
            [
             0.4444444444444444,
             "#bd3786"
            ],
            [
             0.5555555555555556,
             "#d8576b"
            ],
            [
             0.6666666666666666,
             "#ed7953"
            ],
            [
             0.7777777777777778,
             "#fb9f3a"
            ],
            [
             0.8888888888888888,
             "#fdca26"
            ],
            [
             1,
             "#f0f921"
            ]
           ]
          },
          "colorway": [
           "#636efa",
           "#EF553B",
           "#00cc96",
           "#ab63fa",
           "#FFA15A",
           "#19d3f3",
           "#FF6692",
           "#B6E880",
           "#FF97FF",
           "#FECB52"
          ],
          "font": {
           "color": "#2a3f5f"
          },
          "geo": {
           "bgcolor": "white",
           "lakecolor": "white",
           "landcolor": "#E5ECF6",
           "showlakes": true,
           "showland": true,
           "subunitcolor": "white"
          },
          "hoverlabel": {
           "align": "left"
          },
          "hovermode": "closest",
          "mapbox": {
           "style": "light"
          },
          "paper_bgcolor": "white",
          "plot_bgcolor": "#E5ECF6",
          "polar": {
           "angularaxis": {
            "gridcolor": "white",
            "linecolor": "white",
            "ticks": ""
           },
           "bgcolor": "#E5ECF6",
           "radialaxis": {
            "gridcolor": "white",
            "linecolor": "white",
            "ticks": ""
           }
          },
          "scene": {
           "xaxis": {
            "backgroundcolor": "#E5ECF6",
            "gridcolor": "white",
            "gridwidth": 2,
            "linecolor": "white",
            "showbackground": true,
            "ticks": "",
            "zerolinecolor": "white"
           },
           "yaxis": {
            "backgroundcolor": "#E5ECF6",
            "gridcolor": "white",
            "gridwidth": 2,
            "linecolor": "white",
            "showbackground": true,
            "ticks": "",
            "zerolinecolor": "white"
           },
           "zaxis": {
            "backgroundcolor": "#E5ECF6",
            "gridcolor": "white",
            "gridwidth": 2,
            "linecolor": "white",
            "showbackground": true,
            "ticks": "",
            "zerolinecolor": "white"
           }
          },
          "shapedefaults": {
           "line": {
            "color": "#2a3f5f"
           }
          },
          "ternary": {
           "aaxis": {
            "gridcolor": "white",
            "linecolor": "white",
            "ticks": ""
           },
           "baxis": {
            "gridcolor": "white",
            "linecolor": "white",
            "ticks": ""
           },
           "bgcolor": "#E5ECF6",
           "caxis": {
            "gridcolor": "white",
            "linecolor": "white",
            "ticks": ""
           }
          },
          "title": {
           "x": 0.05
          },
          "xaxis": {
           "automargin": true,
           "gridcolor": "white",
           "linecolor": "white",
           "ticks": "",
           "title": {
            "standoff": 15
           },
           "zerolinecolor": "white",
           "zerolinewidth": 2
          },
          "yaxis": {
           "automargin": true,
           "gridcolor": "white",
           "linecolor": "white",
           "ticks": "",
           "title": {
            "standoff": 15
           },
           "zerolinecolor": "white",
           "zerolinewidth": 2
          }
         }
        },
        "title": {
         "text": "Predicciones vs. Valores Reales"
        },
        "xaxis": {
         "anchor": "y",
         "domain": [
          0,
          1
         ],
         "title": {
          "text": "Índice"
         }
        },
        "yaxis": {
         "anchor": "x",
         "domain": [
          0,
          1
         ],
         "title": {
          "text": "Valor"
         }
        }
       }
      }
     },
     "metadata": {},
     "output_type": "display_data"
    }
   ],
   "source": [
    "# Creamos un DataFrame con las predicciones y valores reales\n",
    "results_df = pd.DataFrame({'Actual': y_test, 'Predicted': y_pred})\n",
    "\n",
    "# Ordenamos el DataFrame por los valores reales para una mejor visualización\n",
    "results_df = results_df.sort_values(by='Actual')\n",
    "\n",
    "# Creamos gráfico de dispersión con Plotly Express\n",
    "fig = px.scatter(results_df, x=results_df.index, y=['Actual', 'Predicted'],\n",
    "                 labels={'value': 'Valor'},\n",
    "                 title='Predicciones vs. Valores Reales',\n",
    "                 color_discrete_sequence=['red', 'blue'])\n",
    "\n",
    "# Configuramos el diseño del gráfico\n",
    "fig.update_layout(\n",
    "    xaxis_title='Índice',\n",
    "    yaxis_title='Valor',\n",
    ")\n",
    "\n",
    "# Mostramos el gráfico\n",
    "fig.show()"
   ]
  },
  {
   "cell_type": "code",
   "execution_count": 232,
   "metadata": {},
   "outputs": [
    {
     "data": {
      "application/vnd.plotly.v1+json": {
       "config": {
        "plotlyServerURL": "https://plot.ly"
       },
       "data": [
        {
         "alignmentgroup": "True",
         "box": {
          "visible": true
         },
         "hovertemplate": "Tipo=%{x}<br>Valor=%{y}<extra></extra>",
         "legendgroup": "Valores Reales",
         "marker": {
          "color": "#636efa"
         },
         "name": "Valores Reales",
         "offsetgroup": "Valores Reales",
         "orientation": "v",
         "points": "all",
         "scalegroup": "True",
         "showlegend": true,
         "type": "violin",
         "x": [
          "Valores Reales",
          "Valores Reales",
          "Valores Reales",
          "Valores Reales",
          "Valores Reales",
          "Valores Reales",
          "Valores Reales",
          "Valores Reales",
          "Valores Reales",
          "Valores Reales",
          "Valores Reales",
          "Valores Reales",
          "Valores Reales",
          "Valores Reales",
          "Valores Reales",
          "Valores Reales",
          "Valores Reales",
          "Valores Reales",
          "Valores Reales",
          "Valores Reales",
          "Valores Reales",
          "Valores Reales",
          "Valores Reales",
          "Valores Reales",
          "Valores Reales",
          "Valores Reales",
          "Valores Reales",
          "Valores Reales",
          "Valores Reales",
          "Valores Reales",
          "Valores Reales",
          "Valores Reales",
          "Valores Reales",
          "Valores Reales",
          "Valores Reales",
          "Valores Reales",
          "Valores Reales",
          "Valores Reales",
          "Valores Reales",
          "Valores Reales",
          "Valores Reales",
          "Valores Reales",
          "Valores Reales",
          "Valores Reales",
          "Valores Reales",
          "Valores Reales",
          "Valores Reales",
          "Valores Reales",
          "Valores Reales",
          "Valores Reales",
          "Valores Reales",
          "Valores Reales",
          "Valores Reales",
          "Valores Reales",
          "Valores Reales",
          "Valores Reales",
          "Valores Reales",
          "Valores Reales",
          "Valores Reales",
          "Valores Reales",
          "Valores Reales",
          "Valores Reales",
          "Valores Reales",
          "Valores Reales",
          "Valores Reales",
          "Valores Reales",
          "Valores Reales",
          "Valores Reales",
          "Valores Reales",
          "Valores Reales",
          "Valores Reales",
          "Valores Reales",
          "Valores Reales",
          "Valores Reales",
          "Valores Reales",
          "Valores Reales",
          "Valores Reales",
          "Valores Reales",
          "Valores Reales",
          "Valores Reales",
          "Valores Reales",
          "Valores Reales",
          "Valores Reales",
          "Valores Reales",
          "Valores Reales",
          "Valores Reales",
          "Valores Reales",
          "Valores Reales",
          "Valores Reales",
          "Valores Reales",
          "Valores Reales",
          "Valores Reales",
          "Valores Reales",
          "Valores Reales",
          "Valores Reales",
          "Valores Reales",
          "Valores Reales",
          "Valores Reales",
          "Valores Reales",
          "Valores Reales",
          "Valores Reales",
          "Valores Reales",
          "Valores Reales",
          "Valores Reales",
          "Valores Reales",
          "Valores Reales",
          "Valores Reales",
          "Valores Reales",
          "Valores Reales",
          "Valores Reales",
          "Valores Reales",
          "Valores Reales",
          "Valores Reales",
          "Valores Reales",
          "Valores Reales",
          "Valores Reales",
          "Valores Reales",
          "Valores Reales",
          "Valores Reales",
          "Valores Reales",
          "Valores Reales",
          "Valores Reales",
          "Valores Reales",
          "Valores Reales",
          "Valores Reales",
          "Valores Reales",
          "Valores Reales",
          "Valores Reales",
          "Valores Reales",
          "Valores Reales",
          "Valores Reales",
          "Valores Reales",
          "Valores Reales",
          "Valores Reales",
          "Valores Reales",
          "Valores Reales",
          "Valores Reales",
          "Valores Reales",
          "Valores Reales",
          "Valores Reales",
          "Valores Reales",
          "Valores Reales",
          "Valores Reales",
          "Valores Reales",
          "Valores Reales",
          "Valores Reales",
          "Valores Reales",
          "Valores Reales",
          "Valores Reales",
          "Valores Reales",
          "Valores Reales",
          "Valores Reales",
          "Valores Reales",
          "Valores Reales",
          "Valores Reales",
          "Valores Reales",
          "Valores Reales",
          "Valores Reales",
          "Valores Reales",
          "Valores Reales",
          "Valores Reales",
          "Valores Reales",
          "Valores Reales",
          "Valores Reales",
          "Valores Reales",
          "Valores Reales",
          "Valores Reales",
          "Valores Reales",
          "Valores Reales",
          "Valores Reales",
          "Valores Reales",
          "Valores Reales",
          "Valores Reales",
          "Valores Reales",
          "Valores Reales",
          "Valores Reales",
          "Valores Reales",
          "Valores Reales",
          "Valores Reales",
          "Valores Reales",
          "Valores Reales",
          "Valores Reales",
          "Valores Reales",
          "Valores Reales",
          "Valores Reales",
          "Valores Reales",
          "Valores Reales",
          "Valores Reales",
          "Valores Reales",
          "Valores Reales",
          "Valores Reales",
          "Valores Reales",
          "Valores Reales",
          "Valores Reales",
          "Valores Reales",
          "Valores Reales",
          "Valores Reales",
          "Valores Reales",
          "Valores Reales",
          "Valores Reales",
          "Valores Reales",
          "Valores Reales",
          "Valores Reales",
          "Valores Reales",
          "Valores Reales",
          "Valores Reales",
          "Valores Reales",
          "Valores Reales",
          "Valores Reales",
          "Valores Reales",
          "Valores Reales",
          "Valores Reales",
          "Valores Reales",
          "Valores Reales",
          "Valores Reales",
          "Valores Reales",
          "Valores Reales",
          "Valores Reales",
          "Valores Reales",
          "Valores Reales",
          "Valores Reales",
          "Valores Reales",
          "Valores Reales",
          "Valores Reales",
          "Valores Reales",
          "Valores Reales",
          "Valores Reales",
          "Valores Reales",
          "Valores Reales",
          "Valores Reales",
          "Valores Reales",
          "Valores Reales",
          "Valores Reales",
          "Valores Reales",
          "Valores Reales",
          "Valores Reales",
          "Valores Reales",
          "Valores Reales",
          "Valores Reales",
          "Valores Reales",
          "Valores Reales",
          "Valores Reales",
          "Valores Reales",
          "Valores Reales",
          "Valores Reales",
          "Valores Reales",
          "Valores Reales",
          "Valores Reales",
          "Valores Reales",
          "Valores Reales",
          "Valores Reales",
          "Valores Reales",
          "Valores Reales",
          "Valores Reales",
          "Valores Reales",
          "Valores Reales",
          "Valores Reales",
          "Valores Reales",
          "Valores Reales",
          "Valores Reales",
          "Valores Reales",
          "Valores Reales",
          "Valores Reales",
          "Valores Reales",
          "Valores Reales",
          "Valores Reales",
          "Valores Reales",
          "Valores Reales",
          "Valores Reales",
          "Valores Reales",
          "Valores Reales",
          "Valores Reales",
          "Valores Reales",
          "Valores Reales",
          "Valores Reales",
          "Valores Reales",
          "Valores Reales",
          "Valores Reales",
          "Valores Reales",
          "Valores Reales",
          "Valores Reales",
          "Valores Reales",
          "Valores Reales",
          "Valores Reales",
          "Valores Reales",
          "Valores Reales",
          "Valores Reales",
          "Valores Reales",
          "Valores Reales",
          "Valores Reales",
          "Valores Reales",
          "Valores Reales",
          "Valores Reales",
          "Valores Reales",
          "Valores Reales",
          "Valores Reales",
          "Valores Reales",
          "Valores Reales",
          "Valores Reales",
          "Valores Reales",
          "Valores Reales"
         ],
         "x0": " ",
         "xaxis": "x",
         "y": [
          12.07,
          91.38,
          96.55,
          41.38,
          96.55,
          18.97,
          98.28,
          20.69,
          1.72,
          77.59,
          6.9,
          98.28,
          60.34,
          31.03,
          36.21,
          31.03,
          15.52,
          8.62,
          98.28,
          94.83,
          98.28,
          44.83,
          10.34,
          10.34,
          96.55,
          98.28,
          96.55,
          20.69,
          24.14,
          98.28,
          100,
          96.55,
          87.93,
          3.45,
          94.83,
          5.17,
          10.34,
          5.17,
          98.28,
          1.72,
          94.83,
          5.17,
          5.17,
          6.9,
          98.28,
          98.28,
          96.55,
          96.55,
          96.55,
          98.28,
          10.34,
          1.72,
          98.28,
          87.93,
          91.38,
          82.76,
          34.48,
          5.17,
          62.07,
          34.48,
          96.55,
          94.83,
          98.28,
          20.69,
          46.55,
          89.66,
          96.55,
          20.69,
          65.52,
          72.41,
          18.97,
          89.66,
          94.83,
          87.93,
          48.28,
          53.45,
          93.1,
          98.28,
          93.1,
          89.66,
          84.48,
          1.72,
          91.38,
          13.79,
          51.72,
          96.55,
          79.31,
          98.28,
          96.55,
          96.55,
          91.38,
          94.83,
          20.69,
          44.83,
          96.55,
          98.28,
          89.66,
          39.66,
          82.76,
          98.28,
          94.83,
          98.28,
          94.83,
          98.28,
          6.9,
          98.28,
          27.59,
          98.28,
          94.83,
          5.17,
          94.83,
          12.07,
          94.83,
          94.83,
          34.48,
          94.83,
          96.55,
          82.76,
          44.83,
          98.28,
          94.83,
          98.28,
          94.83,
          98.28,
          94.83,
          56.9,
          94.83,
          98.28,
          98.28,
          94.83,
          15.52,
          89.66,
          98.28,
          13.79,
          93.1,
          5.17,
          98.28,
          94.83,
          94.83,
          18.97,
          96.55,
          6.9,
          96.55,
          22.41,
          93.1,
          34.48,
          53.45,
          1.72,
          93.1,
          89.66,
          44.83,
          22.41,
          91.38,
          5.17,
          98.28,
          27.59,
          43.1,
          13.79,
          3.45,
          96.55,
          98.28,
          94.83,
          98.28,
          94.83,
          94.83,
          25.86,
          100,
          91.38,
          27.59,
          3.45,
          96.55,
          44.83,
          96.55,
          91.38,
          75.86,
          98.28,
          86.21,
          46.55,
          12.07,
          24.14,
          32.76,
          96.55,
          94.83,
          3.45,
          51.72,
          44.83,
          98.28,
          89.66,
          98.28,
          50,
          94.83,
          98.28,
          96.55,
          17.24,
          70.69,
          8.62,
          94.83,
          86.21,
          1.72,
          70.69,
          10.34,
          22.41,
          98.28,
          96.55,
          93.1,
          94.83,
          98.28,
          94.83,
          98.28,
          96.55,
          53.45,
          5.17,
          98.28,
          93.1,
          56.9,
          6.9,
          91.38,
          96.55,
          94.83,
          94.83,
          70.69,
          91.38,
          93.1,
          62.07,
          93.1,
          98.28,
          63.79,
          98.28,
          96.55,
          18.97,
          75.86,
          87.93,
          77.59,
          25.86,
          96.55,
          89.66,
          3.45,
          96.55,
          36.21,
          96.55,
          70.69,
          87.93,
          12.07,
          62.07,
          98.28,
          98.28,
          94.83,
          86.21,
          96.55,
          56.9,
          94.83,
          18.97,
          91.38,
          94.83,
          41.38,
          98.28,
          96.55,
          96.55,
          96.55,
          8.62,
          3.45,
          98.28,
          98.28,
          98.28,
          98.28,
          22.41,
          5.17,
          98.28,
          93.1,
          93.1,
          5.17,
          81.03,
          94.83,
          94.83,
          56.9,
          94.83,
          98.28,
          24.14,
          6.9,
          98.28,
          17.24,
          3.45,
          98.28,
          6.9,
          96.55,
          89.66,
          94.83,
          94.83,
          5.17,
          1.72,
          96.55,
          98.28,
          50,
          94.83,
          3.45,
          56.9,
          3.45,
          98.28,
          98.28,
          65.52,
          3.45
         ],
         "y0": " ",
         "yaxis": "y"
        },
        {
         "alignmentgroup": "True",
         "box": {
          "visible": true
         },
         "hovertemplate": "Tipo=%{x}<br>Valor=%{y}<extra></extra>",
         "legendgroup": "Predicciones",
         "marker": {
          "color": "#EF553B"
         },
         "name": "Predicciones",
         "offsetgroup": "Predicciones",
         "orientation": "v",
         "points": "all",
         "scalegroup": "True",
         "showlegend": true,
         "type": "violin",
         "x": [
          "Predicciones",
          "Predicciones",
          "Predicciones",
          "Predicciones",
          "Predicciones",
          "Predicciones",
          "Predicciones",
          "Predicciones",
          "Predicciones",
          "Predicciones",
          "Predicciones",
          "Predicciones",
          "Predicciones",
          "Predicciones",
          "Predicciones",
          "Predicciones",
          "Predicciones",
          "Predicciones",
          "Predicciones",
          "Predicciones",
          "Predicciones",
          "Predicciones",
          "Predicciones",
          "Predicciones",
          "Predicciones",
          "Predicciones",
          "Predicciones",
          "Predicciones",
          "Predicciones",
          "Predicciones",
          "Predicciones",
          "Predicciones",
          "Predicciones",
          "Predicciones",
          "Predicciones",
          "Predicciones",
          "Predicciones",
          "Predicciones",
          "Predicciones",
          "Predicciones",
          "Predicciones",
          "Predicciones",
          "Predicciones",
          "Predicciones",
          "Predicciones",
          "Predicciones",
          "Predicciones",
          "Predicciones",
          "Predicciones",
          "Predicciones",
          "Predicciones",
          "Predicciones",
          "Predicciones",
          "Predicciones",
          "Predicciones",
          "Predicciones",
          "Predicciones",
          "Predicciones",
          "Predicciones",
          "Predicciones",
          "Predicciones",
          "Predicciones",
          "Predicciones",
          "Predicciones",
          "Predicciones",
          "Predicciones",
          "Predicciones",
          "Predicciones",
          "Predicciones",
          "Predicciones",
          "Predicciones",
          "Predicciones",
          "Predicciones",
          "Predicciones",
          "Predicciones",
          "Predicciones",
          "Predicciones",
          "Predicciones",
          "Predicciones",
          "Predicciones",
          "Predicciones",
          "Predicciones",
          "Predicciones",
          "Predicciones",
          "Predicciones",
          "Predicciones",
          "Predicciones",
          "Predicciones",
          "Predicciones",
          "Predicciones",
          "Predicciones",
          "Predicciones",
          "Predicciones",
          "Predicciones",
          "Predicciones",
          "Predicciones",
          "Predicciones",
          "Predicciones",
          "Predicciones",
          "Predicciones",
          "Predicciones",
          "Predicciones",
          "Predicciones",
          "Predicciones",
          "Predicciones",
          "Predicciones",
          "Predicciones",
          "Predicciones",
          "Predicciones",
          "Predicciones",
          "Predicciones",
          "Predicciones",
          "Predicciones",
          "Predicciones",
          "Predicciones",
          "Predicciones",
          "Predicciones",
          "Predicciones",
          "Predicciones",
          "Predicciones",
          "Predicciones",
          "Predicciones",
          "Predicciones",
          "Predicciones",
          "Predicciones",
          "Predicciones",
          "Predicciones",
          "Predicciones",
          "Predicciones",
          "Predicciones",
          "Predicciones",
          "Predicciones",
          "Predicciones",
          "Predicciones",
          "Predicciones",
          "Predicciones",
          "Predicciones",
          "Predicciones",
          "Predicciones",
          "Predicciones",
          "Predicciones",
          "Predicciones",
          "Predicciones",
          "Predicciones",
          "Predicciones",
          "Predicciones",
          "Predicciones",
          "Predicciones",
          "Predicciones",
          "Predicciones",
          "Predicciones",
          "Predicciones",
          "Predicciones",
          "Predicciones",
          "Predicciones",
          "Predicciones",
          "Predicciones",
          "Predicciones",
          "Predicciones",
          "Predicciones",
          "Predicciones",
          "Predicciones",
          "Predicciones",
          "Predicciones",
          "Predicciones",
          "Predicciones",
          "Predicciones",
          "Predicciones",
          "Predicciones",
          "Predicciones",
          "Predicciones",
          "Predicciones",
          "Predicciones",
          "Predicciones",
          "Predicciones",
          "Predicciones",
          "Predicciones",
          "Predicciones",
          "Predicciones",
          "Predicciones",
          "Predicciones",
          "Predicciones",
          "Predicciones",
          "Predicciones",
          "Predicciones",
          "Predicciones",
          "Predicciones",
          "Predicciones",
          "Predicciones",
          "Predicciones",
          "Predicciones",
          "Predicciones",
          "Predicciones",
          "Predicciones",
          "Predicciones",
          "Predicciones",
          "Predicciones",
          "Predicciones",
          "Predicciones",
          "Predicciones",
          "Predicciones",
          "Predicciones",
          "Predicciones",
          "Predicciones",
          "Predicciones",
          "Predicciones",
          "Predicciones",
          "Predicciones",
          "Predicciones",
          "Predicciones",
          "Predicciones",
          "Predicciones",
          "Predicciones",
          "Predicciones",
          "Predicciones",
          "Predicciones",
          "Predicciones",
          "Predicciones",
          "Predicciones",
          "Predicciones",
          "Predicciones",
          "Predicciones",
          "Predicciones",
          "Predicciones",
          "Predicciones",
          "Predicciones",
          "Predicciones",
          "Predicciones",
          "Predicciones",
          "Predicciones",
          "Predicciones",
          "Predicciones",
          "Predicciones",
          "Predicciones",
          "Predicciones",
          "Predicciones",
          "Predicciones",
          "Predicciones",
          "Predicciones",
          "Predicciones",
          "Predicciones",
          "Predicciones",
          "Predicciones",
          "Predicciones",
          "Predicciones",
          "Predicciones",
          "Predicciones",
          "Predicciones",
          "Predicciones",
          "Predicciones",
          "Predicciones",
          "Predicciones",
          "Predicciones",
          "Predicciones",
          "Predicciones",
          "Predicciones",
          "Predicciones",
          "Predicciones",
          "Predicciones",
          "Predicciones",
          "Predicciones",
          "Predicciones",
          "Predicciones",
          "Predicciones",
          "Predicciones",
          "Predicciones",
          "Predicciones",
          "Predicciones",
          "Predicciones",
          "Predicciones",
          "Predicciones",
          "Predicciones",
          "Predicciones",
          "Predicciones",
          "Predicciones",
          "Predicciones",
          "Predicciones",
          "Predicciones",
          "Predicciones",
          "Predicciones",
          "Predicciones",
          "Predicciones",
          "Predicciones",
          "Predicciones",
          "Predicciones",
          "Predicciones",
          "Predicciones",
          "Predicciones",
          "Predicciones",
          "Predicciones",
          "Predicciones",
          "Predicciones",
          "Predicciones",
          "Predicciones",
          "Predicciones",
          "Predicciones",
          "Predicciones",
          "Predicciones",
          "Predicciones",
          "Predicciones",
          "Predicciones"
         ],
         "x0": " ",
         "xaxis": "x",
         "y": [
          18.613149999999976,
          86.26586666666661,
          96.54999999999976,
          40.239333333333306,
          96.53853333333309,
          23.872399999999978,
          96.8642000000001,
          20.310499999999962,
          8.75646666666667,
          81.13866666666667,
          4.552533333333338,
          97.4059333333335,
          69.66693333333333,
          57.50446666666665,
          40.13979999999992,
          41.43833333333334,
          16.508599999999984,
          10.974111111111096,
          98.04933333333351,
          95.64273333333321,
          98.33733333333356,
          41.839933333333335,
          15.094333333333315,
          15.445333333333329,
          96.20726666666651,
          98.10746666666691,
          96.54999999999976,
          35.55099999999998,
          20.887133333333324,
          99.08266666666678,
          99.24200000000008,
          94.87386666666653,
          88.59886666666662,
          3.068799999999999,
          84.14999999999993,
          6.743159999999997,
          14.737933333333322,
          3.998333333333335,
          98.29146666666692,
          4.124266666666672,
          90.74511666666659,
          5.2284666666666615,
          13.882666666666662,
          2.7968666666666713,
          98.28000000000024,
          96.63340000000005,
          96.52706666666641,
          96.22813333333312,
          96.54999999999976,
          97.87633333333346,
          14.045400000000008,
          3.9418000000000037,
          98.19940000000024,
          85.47319999999976,
          92.41459999999994,
          83.2640666666668,
          36.79259999999997,
          2.0196000000000023,
          58.48066666666668,
          14.573400000000008,
          96.99486666666681,
          93.61973333333339,
          98.17588222222246,
          28.009133333333395,
          50.91953333333333,
          83.56173333333325,
          96.30893333333309,
          16.966133333333303,
          72.03493333333331,
          76.05673333333336,
          19.554466666666652,
          88.00953333333337,
          94.72886666666656,
          87.40199999999975,
          36.86226666666672,
          51.11493333333333,
          88.1504666666666,
          98.18793333333356,
          81.6891333333335,
          91.61540000000007,
          88.93280000000013,
          3.8268000000000044,
          94.80008055555548,
          5.875266666666658,
          48.0902666666667,
          96.54999999999976,
          79.2408666666667,
          97.16126666666658,
          88.37026666666651,
          94.76938333333324,
          82.83946666666667,
          94.85293333333327,
          21.95326666666662,
          41.56293333333342,
          96.71146666666647,
          98.16466666666685,
          90.88371888888878,
          36.437533333333434,
          79.94233333333327,
          98.28000000000024,
          93.0697999999999,
          99.14000000000011,
          94.85293333333327,
          98.25693333333356,
          20.78033333333331,
          96.66993333333345,
          25.058266666666682,
          98.28000000000024,
          92.80993888888882,
          5.971862222222212,
          95.59839999999984,
          4.665666666666673,
          92.10766666666674,
          93.75176666666677,
          42.24293333333332,
          94.72639999999993,
          95.84999999999987,
          76.18379999999995,
          46.932799999999986,
          98.15320000000021,
          93.48328333333326,
          98.25693333333356,
          95.02493333333327,
          97.9343333333335,
          94.86673333333323,
          46.51739999999998,
          95.43899999999994,
          98.28000000000024,
          98.29146666666692,
          93.74666666666656,
          16.565066666666663,
          92.9306222222223,
          98.28000000000024,
          21.916099999999997,
          93.88526666666671,
          4.032400000000004,
          87.4953333333332,
          94.45533333333329,
          93.79446666666661,
          15.06073333333334,
          95.18266666666656,
          3.1816666666666733,
          96.51773333333325,
          22.82779999999997,
          96.25186666666646,
          20.528333333333297,
          71.05706666666661,
          1.8580000000000003,
          93.40226666666649,
          89.0132666666665,
          46.41386666666664,
          21.184933333333277,
          86.92663333333309,
          6.459866666666681,
          98.28000000000024,
          35.14879999999999,
          48.48379999999999,
          17.726333333333315,
          5.137800000000005,
          93.49626666666654,
          98.28000000000024,
          95.07133333333327,
          98.14200000000024,
          94.94466666666659,
          95.03619999999988,
          11.666200000000018,
          98.28000000000024,
          83.97779999999995,
          21.9312,
          4.606199999999998,
          96.48119999999975,
          45.84859999999997,
          98.1074666666669,
          88.39286666666663,
          71.65593333333331,
          98.43766666666669,
          95.00373333333337,
          38.549799999999905,
          14.147466666666658,
          15.11479999999999,
          32.47206666666677,
          97.09233333333324,
          95.02379999999991,
          2.8836666666666684,
          43.06866666666674,
          32.805266666666675,
          98.04946666666687,
          87.66979999999991,
          98.28000000000024,
          55.37933333333333,
          94.88733333333326,
          96.1296000000002,
          94.72519999999987,
          22.13993333333332,
          74.8847999999999,
          11.364933333333322,
          94.94459999999994,
          86.85406666666648,
          4.400466666666666,
          84.78359999999992,
          5.7076399999999925,
          16.724399999999974,
          98.28000000000024,
          95.27706666666657,
          93.1613333333333,
          94.93319999999993,
          98.25606666666685,
          93.95319999999987,
          94.79506666666659,
          94.35077222222219,
          54.24400000000001,
          9.492333333333331,
          92.5525333333334,
          95.4821333333331,
          61.921200000000084,
          6.207014444444445,
          90.06846666666664,
          94.80346666666652,
          94.85293333333327,
          94.82999999999994,
          75.10173333333343,
          92.52739999999999,
          93.78200000000002,
          41.083333333333314,
          96.5414,
          97.93520000000022,
          73.1968666666666,
          98.28000000000024,
          96.54999999999976,
          29.676466666666638,
          79.40206666666656,
          84.25219999999977,
          78.41700000000007,
          15.954066666666659,
          96.06813333333317,
          82.37846666666654,
          5.438133333333329,
          96.54999999999976,
          32.19593333333335,
          95.3788666666665,
          66.78053333333325,
          85.45959999999975,
          15.089999999999987,
          77.88593333333338,
          96.6551333333332,
          96.39366666666685,
          94.71406666666654,
          79.26493333333343,
          97.81135000000022,
          69.25059999999993,
          95.12813333333324,
          17.78359999999997,
          87.54186666666646,
          95.10513333333324,
          55.344066666666755,
          98.28000000000024,
          96.54999999999976,
          96.54999999999976,
          96.33213333333312,
          4.953400000000004,
          4.240866666666666,
          99.05973333333345,
          97.95706666666682,
          98.28000000000024,
          98.16466666666685,
          19.10126666666665,
          10.459599999999995,
          98.33733333333358,
          82.41466666666663,
          95.69139999999997,
          4.45057777777778,
          86.20720000000011,
          85.0228666666666,
          95.03639999999993,
          61.03226666666669,
          93.56533333333331,
          98.19933333333356,
          23.813933333333335,
          5.759733333333338,
          97.07206666666673,
          16.13833333333331,
          4.206666666666667,
          98.28000000000024,
          8.805200000000008,
          91.86193333333348,
          88.06955555555537,
          95.43773333333321,
          93.75873333333332,
          5.411933333333328,
          3.9055333333333366,
          95.79413333333324,
          98.24540000000023,
          40.05433333333332,
          96.11406666666653,
          2.9469333333333365,
          65.37693333333337,
          2.974933333333337,
          98.38320000000024,
          98.25693333333356,
          63.31153333333333,
          5.496666666666662
         ],
         "y0": " ",
         "yaxis": "y"
        }
       ],
       "layout": {
        "legend": {
         "title": {
          "text": "Tipo"
         },
         "tracegroupgap": 0,
         "x": 0.8,
         "y": 0.95
        },
        "margin": {
         "t": 60
        },
        "template": {
         "data": {
          "bar": [
           {
            "error_x": {
             "color": "#2a3f5f"
            },
            "error_y": {
             "color": "#2a3f5f"
            },
            "marker": {
             "line": {
              "color": "#E5ECF6",
              "width": 0.5
             },
             "pattern": {
              "fillmode": "overlay",
              "size": 10,
              "solidity": 0.2
             }
            },
            "type": "bar"
           }
          ],
          "barpolar": [
           {
            "marker": {
             "line": {
              "color": "#E5ECF6",
              "width": 0.5
             },
             "pattern": {
              "fillmode": "overlay",
              "size": 10,
              "solidity": 0.2
             }
            },
            "type": "barpolar"
           }
          ],
          "carpet": [
           {
            "aaxis": {
             "endlinecolor": "#2a3f5f",
             "gridcolor": "white",
             "linecolor": "white",
             "minorgridcolor": "white",
             "startlinecolor": "#2a3f5f"
            },
            "baxis": {
             "endlinecolor": "#2a3f5f",
             "gridcolor": "white",
             "linecolor": "white",
             "minorgridcolor": "white",
             "startlinecolor": "#2a3f5f"
            },
            "type": "carpet"
           }
          ],
          "choropleth": [
           {
            "colorbar": {
             "outlinewidth": 0,
             "ticks": ""
            },
            "type": "choropleth"
           }
          ],
          "contour": [
           {
            "colorbar": {
             "outlinewidth": 0,
             "ticks": ""
            },
            "colorscale": [
             [
              0,
              "#0d0887"
             ],
             [
              0.1111111111111111,
              "#46039f"
             ],
             [
              0.2222222222222222,
              "#7201a8"
             ],
             [
              0.3333333333333333,
              "#9c179e"
             ],
             [
              0.4444444444444444,
              "#bd3786"
             ],
             [
              0.5555555555555556,
              "#d8576b"
             ],
             [
              0.6666666666666666,
              "#ed7953"
             ],
             [
              0.7777777777777778,
              "#fb9f3a"
             ],
             [
              0.8888888888888888,
              "#fdca26"
             ],
             [
              1,
              "#f0f921"
             ]
            ],
            "type": "contour"
           }
          ],
          "contourcarpet": [
           {
            "colorbar": {
             "outlinewidth": 0,
             "ticks": ""
            },
            "type": "contourcarpet"
           }
          ],
          "heatmap": [
           {
            "colorbar": {
             "outlinewidth": 0,
             "ticks": ""
            },
            "colorscale": [
             [
              0,
              "#0d0887"
             ],
             [
              0.1111111111111111,
              "#46039f"
             ],
             [
              0.2222222222222222,
              "#7201a8"
             ],
             [
              0.3333333333333333,
              "#9c179e"
             ],
             [
              0.4444444444444444,
              "#bd3786"
             ],
             [
              0.5555555555555556,
              "#d8576b"
             ],
             [
              0.6666666666666666,
              "#ed7953"
             ],
             [
              0.7777777777777778,
              "#fb9f3a"
             ],
             [
              0.8888888888888888,
              "#fdca26"
             ],
             [
              1,
              "#f0f921"
             ]
            ],
            "type": "heatmap"
           }
          ],
          "heatmapgl": [
           {
            "colorbar": {
             "outlinewidth": 0,
             "ticks": ""
            },
            "colorscale": [
             [
              0,
              "#0d0887"
             ],
             [
              0.1111111111111111,
              "#46039f"
             ],
             [
              0.2222222222222222,
              "#7201a8"
             ],
             [
              0.3333333333333333,
              "#9c179e"
             ],
             [
              0.4444444444444444,
              "#bd3786"
             ],
             [
              0.5555555555555556,
              "#d8576b"
             ],
             [
              0.6666666666666666,
              "#ed7953"
             ],
             [
              0.7777777777777778,
              "#fb9f3a"
             ],
             [
              0.8888888888888888,
              "#fdca26"
             ],
             [
              1,
              "#f0f921"
             ]
            ],
            "type": "heatmapgl"
           }
          ],
          "histogram": [
           {
            "marker": {
             "pattern": {
              "fillmode": "overlay",
              "size": 10,
              "solidity": 0.2
             }
            },
            "type": "histogram"
           }
          ],
          "histogram2d": [
           {
            "colorbar": {
             "outlinewidth": 0,
             "ticks": ""
            },
            "colorscale": [
             [
              0,
              "#0d0887"
             ],
             [
              0.1111111111111111,
              "#46039f"
             ],
             [
              0.2222222222222222,
              "#7201a8"
             ],
             [
              0.3333333333333333,
              "#9c179e"
             ],
             [
              0.4444444444444444,
              "#bd3786"
             ],
             [
              0.5555555555555556,
              "#d8576b"
             ],
             [
              0.6666666666666666,
              "#ed7953"
             ],
             [
              0.7777777777777778,
              "#fb9f3a"
             ],
             [
              0.8888888888888888,
              "#fdca26"
             ],
             [
              1,
              "#f0f921"
             ]
            ],
            "type": "histogram2d"
           }
          ],
          "histogram2dcontour": [
           {
            "colorbar": {
             "outlinewidth": 0,
             "ticks": ""
            },
            "colorscale": [
             [
              0,
              "#0d0887"
             ],
             [
              0.1111111111111111,
              "#46039f"
             ],
             [
              0.2222222222222222,
              "#7201a8"
             ],
             [
              0.3333333333333333,
              "#9c179e"
             ],
             [
              0.4444444444444444,
              "#bd3786"
             ],
             [
              0.5555555555555556,
              "#d8576b"
             ],
             [
              0.6666666666666666,
              "#ed7953"
             ],
             [
              0.7777777777777778,
              "#fb9f3a"
             ],
             [
              0.8888888888888888,
              "#fdca26"
             ],
             [
              1,
              "#f0f921"
             ]
            ],
            "type": "histogram2dcontour"
           }
          ],
          "mesh3d": [
           {
            "colorbar": {
             "outlinewidth": 0,
             "ticks": ""
            },
            "type": "mesh3d"
           }
          ],
          "parcoords": [
           {
            "line": {
             "colorbar": {
              "outlinewidth": 0,
              "ticks": ""
             }
            },
            "type": "parcoords"
           }
          ],
          "pie": [
           {
            "automargin": true,
            "type": "pie"
           }
          ],
          "scatter": [
           {
            "fillpattern": {
             "fillmode": "overlay",
             "size": 10,
             "solidity": 0.2
            },
            "type": "scatter"
           }
          ],
          "scatter3d": [
           {
            "line": {
             "colorbar": {
              "outlinewidth": 0,
              "ticks": ""
             }
            },
            "marker": {
             "colorbar": {
              "outlinewidth": 0,
              "ticks": ""
             }
            },
            "type": "scatter3d"
           }
          ],
          "scattercarpet": [
           {
            "marker": {
             "colorbar": {
              "outlinewidth": 0,
              "ticks": ""
             }
            },
            "type": "scattercarpet"
           }
          ],
          "scattergeo": [
           {
            "marker": {
             "colorbar": {
              "outlinewidth": 0,
              "ticks": ""
             }
            },
            "type": "scattergeo"
           }
          ],
          "scattergl": [
           {
            "marker": {
             "colorbar": {
              "outlinewidth": 0,
              "ticks": ""
             }
            },
            "type": "scattergl"
           }
          ],
          "scattermapbox": [
           {
            "marker": {
             "colorbar": {
              "outlinewidth": 0,
              "ticks": ""
             }
            },
            "type": "scattermapbox"
           }
          ],
          "scatterpolar": [
           {
            "marker": {
             "colorbar": {
              "outlinewidth": 0,
              "ticks": ""
             }
            },
            "type": "scatterpolar"
           }
          ],
          "scatterpolargl": [
           {
            "marker": {
             "colorbar": {
              "outlinewidth": 0,
              "ticks": ""
             }
            },
            "type": "scatterpolargl"
           }
          ],
          "scatterternary": [
           {
            "marker": {
             "colorbar": {
              "outlinewidth": 0,
              "ticks": ""
             }
            },
            "type": "scatterternary"
           }
          ],
          "surface": [
           {
            "colorbar": {
             "outlinewidth": 0,
             "ticks": ""
            },
            "colorscale": [
             [
              0,
              "#0d0887"
             ],
             [
              0.1111111111111111,
              "#46039f"
             ],
             [
              0.2222222222222222,
              "#7201a8"
             ],
             [
              0.3333333333333333,
              "#9c179e"
             ],
             [
              0.4444444444444444,
              "#bd3786"
             ],
             [
              0.5555555555555556,
              "#d8576b"
             ],
             [
              0.6666666666666666,
              "#ed7953"
             ],
             [
              0.7777777777777778,
              "#fb9f3a"
             ],
             [
              0.8888888888888888,
              "#fdca26"
             ],
             [
              1,
              "#f0f921"
             ]
            ],
            "type": "surface"
           }
          ],
          "table": [
           {
            "cells": {
             "fill": {
              "color": "#EBF0F8"
             },
             "line": {
              "color": "white"
             }
            },
            "header": {
             "fill": {
              "color": "#C8D4E3"
             },
             "line": {
              "color": "white"
             }
            },
            "type": "table"
           }
          ]
         },
         "layout": {
          "annotationdefaults": {
           "arrowcolor": "#2a3f5f",
           "arrowhead": 0,
           "arrowwidth": 1
          },
          "autotypenumbers": "strict",
          "coloraxis": {
           "colorbar": {
            "outlinewidth": 0,
            "ticks": ""
           }
          },
          "colorscale": {
           "diverging": [
            [
             0,
             "#8e0152"
            ],
            [
             0.1,
             "#c51b7d"
            ],
            [
             0.2,
             "#de77ae"
            ],
            [
             0.3,
             "#f1b6da"
            ],
            [
             0.4,
             "#fde0ef"
            ],
            [
             0.5,
             "#f7f7f7"
            ],
            [
             0.6,
             "#e6f5d0"
            ],
            [
             0.7,
             "#b8e186"
            ],
            [
             0.8,
             "#7fbc41"
            ],
            [
             0.9,
             "#4d9221"
            ],
            [
             1,
             "#276419"
            ]
           ],
           "sequential": [
            [
             0,
             "#0d0887"
            ],
            [
             0.1111111111111111,
             "#46039f"
            ],
            [
             0.2222222222222222,
             "#7201a8"
            ],
            [
             0.3333333333333333,
             "#9c179e"
            ],
            [
             0.4444444444444444,
             "#bd3786"
            ],
            [
             0.5555555555555556,
             "#d8576b"
            ],
            [
             0.6666666666666666,
             "#ed7953"
            ],
            [
             0.7777777777777778,
             "#fb9f3a"
            ],
            [
             0.8888888888888888,
             "#fdca26"
            ],
            [
             1,
             "#f0f921"
            ]
           ],
           "sequentialminus": [
            [
             0,
             "#0d0887"
            ],
            [
             0.1111111111111111,
             "#46039f"
            ],
            [
             0.2222222222222222,
             "#7201a8"
            ],
            [
             0.3333333333333333,
             "#9c179e"
            ],
            [
             0.4444444444444444,
             "#bd3786"
            ],
            [
             0.5555555555555556,
             "#d8576b"
            ],
            [
             0.6666666666666666,
             "#ed7953"
            ],
            [
             0.7777777777777778,
             "#fb9f3a"
            ],
            [
             0.8888888888888888,
             "#fdca26"
            ],
            [
             1,
             "#f0f921"
            ]
           ]
          },
          "colorway": [
           "#636efa",
           "#EF553B",
           "#00cc96",
           "#ab63fa",
           "#FFA15A",
           "#19d3f3",
           "#FF6692",
           "#B6E880",
           "#FF97FF",
           "#FECB52"
          ],
          "font": {
           "color": "#2a3f5f"
          },
          "geo": {
           "bgcolor": "white",
           "lakecolor": "white",
           "landcolor": "#E5ECF6",
           "showlakes": true,
           "showland": true,
           "subunitcolor": "white"
          },
          "hoverlabel": {
           "align": "left"
          },
          "hovermode": "closest",
          "mapbox": {
           "style": "light"
          },
          "paper_bgcolor": "white",
          "plot_bgcolor": "#E5ECF6",
          "polar": {
           "angularaxis": {
            "gridcolor": "white",
            "linecolor": "white",
            "ticks": ""
           },
           "bgcolor": "#E5ECF6",
           "radialaxis": {
            "gridcolor": "white",
            "linecolor": "white",
            "ticks": ""
           }
          },
          "scene": {
           "xaxis": {
            "backgroundcolor": "#E5ECF6",
            "gridcolor": "white",
            "gridwidth": 2,
            "linecolor": "white",
            "showbackground": true,
            "ticks": "",
            "zerolinecolor": "white"
           },
           "yaxis": {
            "backgroundcolor": "#E5ECF6",
            "gridcolor": "white",
            "gridwidth": 2,
            "linecolor": "white",
            "showbackground": true,
            "ticks": "",
            "zerolinecolor": "white"
           },
           "zaxis": {
            "backgroundcolor": "#E5ECF6",
            "gridcolor": "white",
            "gridwidth": 2,
            "linecolor": "white",
            "showbackground": true,
            "ticks": "",
            "zerolinecolor": "white"
           }
          },
          "shapedefaults": {
           "line": {
            "color": "#2a3f5f"
           }
          },
          "ternary": {
           "aaxis": {
            "gridcolor": "white",
            "linecolor": "white",
            "ticks": ""
           },
           "baxis": {
            "gridcolor": "white",
            "linecolor": "white",
            "ticks": ""
           },
           "bgcolor": "#E5ECF6",
           "caxis": {
            "gridcolor": "white",
            "linecolor": "white",
            "ticks": ""
           }
          },
          "title": {
           "x": 0.05
          },
          "xaxis": {
           "automargin": true,
           "gridcolor": "white",
           "linecolor": "white",
           "ticks": "",
           "title": {
            "standoff": 15
           },
           "zerolinecolor": "white",
           "zerolinewidth": 2
          },
          "yaxis": {
           "automargin": true,
           "gridcolor": "white",
           "linecolor": "white",
           "ticks": "",
           "title": {
            "standoff": 15
           },
           "zerolinecolor": "white",
           "zerolinewidth": 2
          }
         }
        },
        "title": {
         "text": "Distribución de Predicciones y Valores Reales"
        },
        "violinmode": "overlay",
        "xaxis": {
         "anchor": "y",
         "categoryarray": [
          "Valores Reales",
          "Predicciones"
         ],
         "categoryorder": "array",
         "domain": [
          0,
          1
         ],
         "title": {
          "text": "Tipo"
         }
        },
        "yaxis": {
         "anchor": "x",
         "domain": [
          0,
          1
         ],
         "title": {
          "text": "Valor"
         }
        }
       }
      }
     },
     "metadata": {},
     "output_type": "display_data"
    }
   ],
   "source": [
    "# Creamos un DataFrame para Plotly Express\n",
    "df = pd.DataFrame({'Tipo': ['Valores Reales'] * len(y_test) + ['Predicciones'] * len(y_pred),\n",
    "                   'Valor': list(y_test) + list(y_pred)})\n",
    "\n",
    "# Creamos gráfico de violín con Plotly Express\n",
    "fig = px.violin(df, x='Tipo', y='Valor', box=True, points=\"all\", color='Tipo',\n",
    "                labels={'Tipo': 'Tipo', 'Valor': 'Valor'},\n",
    "                category_orders={'Tipo': ['Valores Reales', 'Predicciones']},\n",
    "                violinmode='overlay')\n",
    "\n",
    "# Configuramos el diseño del gráfico\n",
    "fig.update_layout(\n",
    "    title='Distribución de Predicciones y Valores Reales',\n",
    "    xaxis_title='Tipo',\n",
    "    yaxis_title='Valor',\n",
    "    legend=dict(x=0.8, y=0.95),\n",
    ")\n",
    "\n",
    "# Mostramos el gráfico\n",
    "fig.show()"
   ]
  },
  {
   "cell_type": "markdown",
   "metadata": {},
   "source": []
  },
  {
   "cell_type": "markdown",
   "metadata": {},
   "source": [
    "### Validacion del Modelo"
   ]
  },
  {
   "cell_type": "code",
   "execution_count": 262,
   "metadata": {},
   "outputs": [
    {
     "name": "stdout",
     "output_type": "stream",
     "text": [
      "Predicciones del modelo cargado: [93.46252 18.15796 98.23168  4.51584 98.26616  1.94828 21.18736  4.05544\n",
      " 94.85064 93.3242  92.05528 95.66248 85.99976 92.54376 93.1884  87.55256\n",
      " 96.48152 15.79884 12.12404 86.3362  97.53288  4.26032 98.28    89.73888\n",
      "  4.95804 98.22464 95.74504 91.56572 35.04768  5.7314  95.18716 95.87668\n",
      "  5.67336 89.25008 97.54712 93.02712 67.24172  4.51584 65.61432 84.8702\n",
      " 72.62016 72.46956 98.19008 94.71204 15.95408  8.16664 98.28    50.3102\n",
      " 14.2916  95.70312 96.92656 98.09316 98.2524  84.98092 19.23252 94.9598\n",
      "  5.58584 87.58568 95.48392 98.07932 16.02092 94.8914  93.15364 91.70964\n",
      " 34.51128 80.32364 67.722   98.28688 97.70068 97.25584 36.46876 94.53208\n",
      "  6.11448 98.13468 16.8978   4.17964 78.37008 98.273    6.21408 95.23592\n",
      "  4.7578  84.97908 42.13092 96.55    94.17944 93.78644  4.26032 72.29704\n",
      " 18.58212 95.06372 94.88504 98.03796 37.39344 12.0248  89.63152 94.83\n",
      " 97.84536 84.69048 96.41228 40.8502  95.05404 98.28    26.7124  89.45696\n",
      " 26.75316 83.932   96.53624 95.26284 16.13824  9.89096 95.24968 87.1304\n",
      " 98.03832 58.1014  95.05024  5.01284  2.70124 10.83376 87.5678  18.8276\n",
      " 49.52452 98.28684 95.82936 96.87672  6.54336 20.3168  98.27304 98.24548\n",
      " 89.145   91.55008 96.37112 95.93692 21.66904 97.0234  98.0588  46.66032\n",
      "  5.57244 77.09092  3.57768 96.55    96.32956 39.32228 39.62928 79.87684\n",
      " 79.20072 26.66336 41.35956 94.84996 98.176   95.35216 74.4744  46.25328\n",
      " 16.73996 93.10972 57.5436   3.93572 92.23384  5.5088  95.00888 15.27488\n",
      " 96.35736 14.24604 22.04248  5.35764 95.1886  98.27976 66.17868 96.55\n",
      " 73.23956 98.19028 60.94572 70.2946  97.3324  39.29024 98.796   94.50616\n",
      " 37.40752 97.8866  28.9394  98.22472 98.51916 23.81396 94.8644  86.61632\n",
      " 37.82132 97.8108  97.61064 94.8226  80.3592  88.3266  14.71528 93.09036\n",
      " 41.57488 20.42708 94.98824 96.10172 96.55924 17.49752 88.86056 79.22164\n",
      " 93.89708 46.2598  95.15084 57.77992 98.10008 88.3936  20.64308 98.95416\n",
      " 96.96836 93.31976  5.05416 96.55    15.06184 96.53624 18.40184 95.29096\n",
      " 28.65448 96.54048 94.08348 62.51504 96.92068 96.56816 98.09352  4.78684\n",
      " 89.76784 61.46212]\n"
     ]
    }
   ],
   "source": [
    "# Cargar el modelo desde el archivo pickle\n",
    "loaded_model = joblib.load('../0-DataSets/4-ModelosPrediccion/model_taxi_cv.pkl')\n",
    "\n",
    "# Suponiendo que tienes nuevos datos en X_nuevos_datos\n",
    "# Hacer predicciones con el modelo cargado\n",
    "y_pred_validacion = loaded_model.predict(X_validation)\n",
    "\n",
    "# Imprimir las predicciones\n",
    "print(\"Predicciones del modelo cargado:\", y_pred_validacion)\n"
   ]
  },
  {
   "cell_type": "code",
   "execution_count": 263,
   "metadata": {},
   "outputs": [
    {
     "name": "stdout",
     "output_type": "stream",
     "text": [
      "MSE para taxi : 32.73527668339834\n",
      "R-squared (R2) para taxi : 0.9745638595598586\n",
      "Mean Absolute Error (MAE) para taxi : 3.3606899115044984\n",
      "Root Mean Squared Error (RMSE) para taxi : 5.721475044374339\n"
     ]
    }
   ],
   "source": [
    "mse_taxi = mean_squared_error(y_validation, y_pred_validacion)\n",
    "r2_taxi = r2_score(y_validation, y_pred_validacion)\n",
    "mae_taxi = mean_absolute_error(y_validation, y_pred_validacion)\n",
    "rmse_taxi = np.sqrt(mean_squared_error(y_validation, y_pred_validacion))\n",
    "print(\"MSE para taxi :\", mse_taxi)\n",
    "print(\"R-squared (R2) para taxi :\", r2_taxi)\n",
    "print(\"Mean Absolute Error (MAE) para taxi :\", mae_taxi)\n",
    "print(\"Root Mean Squared Error (RMSE) para taxi :\", rmse_taxi)"
   ]
  },
  {
   "cell_type": "code",
   "execution_count": 264,
   "metadata": {},
   "outputs": [
    {
     "data": {
      "application/vnd.plotly.v1+json": {
       "config": {
        "plotlyServerURL": "https://plot.ly"
       },
       "data": [
        {
         "hovertemplate": "variable=Actual<br>index=%{x}<br>Valor=%{y}<extra></extra>",
         "legendgroup": "Actual",
         "marker": {
          "color": "red",
          "symbol": "circle"
         },
         "mode": "markers",
         "name": "Actual",
         "orientation": "v",
         "showlegend": true,
         "type": "scatter",
         "x": [
          1366,
          1384,
          1477,
          74,
          1480,
          1386,
          1425,
          1450,
          1442,
          1364,
          1462,
          1474,
          1408,
          1499,
          1395,
          1472,
          1428,
          1420,
          1406,
          44,
          1453,
          125,
          1449,
          148,
          1415,
          1379,
          1359,
          122,
          1473,
          102,
          9,
          40,
          58,
          45,
          292,
          13,
          10,
          56,
          143,
          316,
          37,
          39,
          57,
          729,
          779,
          16,
          140,
          110,
          410,
          108,
          109,
          142,
          164,
          806,
          156,
          803,
          137,
          190,
          828,
          702,
          780,
          116,
          776,
          830,
          726,
          482,
          827,
          901,
          317,
          877,
          686,
          824,
          604,
          849,
          831,
          852,
          363,
          480,
          508,
          875,
          580,
          652,
          407,
          772,
          314,
          238,
          999,
          823,
          175,
          811,
          504,
          406,
          627,
          176,
          599,
          759,
          236,
          654,
          177,
          655,
          789,
          947,
          692,
          767,
          762,
          284,
          225,
          790,
          1015,
          312,
          329,
          1014,
          524,
          624,
          252,
          980,
          784,
          927,
          973,
          324,
          310,
          380,
          436,
          893,
          210,
          558,
          1003,
          988,
          1316,
          1315,
          996,
          943,
          1274,
          891,
          1124,
          1333,
          1275,
          1294,
          963,
          1147,
          1302,
          1292,
          649,
          279,
          1281,
          941,
          608,
          1277,
          1322,
          1145,
          260,
          1305,
          1278,
          1290,
          622,
          586,
          205,
          1321,
          715,
          299,
          422,
          896,
          439,
          522,
          1338,
          1165,
          619,
          565,
          423,
          617,
          1330,
          658,
          921,
          419,
          424,
          1006,
          418,
          414,
          591,
          1172,
          428,
          1334,
          1094,
          611,
          1026,
          1072,
          1040,
          571,
          354,
          911,
          378,
          1090,
          353,
          341,
          397,
          665,
          858,
          1196,
          1071,
          1031,
          543,
          540,
          403,
          1252,
          487,
          343,
          1039,
          1080,
          1046,
          1051,
          1241,
          519,
          1052,
          495,
          664,
          1218,
          1087,
          493,
          572,
          1211,
          1069,
          490,
          404,
          1207,
          1025,
          1065
         ],
         "xaxis": "x",
         "y": [
          1.72,
          1.72,
          1.72,
          3.45,
          3.45,
          3.45,
          3.45,
          3.45,
          3.45,
          5.17,
          5.17,
          5.17,
          5.17,
          5.17,
          5.17,
          5.17,
          5.17,
          6.9,
          6.9,
          6.9,
          6.9,
          6.9,
          6.9,
          6.9,
          6.9,
          8.62,
          8.62,
          8.62,
          10.34,
          10.34,
          12.07,
          12.07,
          13.79,
          13.79,
          13.79,
          15.52,
          17.24,
          18.97,
          18.97,
          18.97,
          18.97,
          18.97,
          20.69,
          20.69,
          20.69,
          22.41,
          22.41,
          22.41,
          24.14,
          24.14,
          24.14,
          24.14,
          25.86,
          25.86,
          25.86,
          27.59,
          27.59,
          31.03,
          32.76,
          34.48,
          34.48,
          34.48,
          34.48,
          37.93,
          37.93,
          41.38,
          41.38,
          43.1,
          44.83,
          44.83,
          44.83,
          44.83,
          46.55,
          46.55,
          48.28,
          50,
          51.72,
          53.45,
          53.45,
          56.9,
          56.9,
          56.9,
          58.62,
          58.62,
          60.34,
          62.07,
          62.07,
          62.07,
          63.79,
          65.52,
          70.69,
          70.69,
          70.69,
          72.41,
          75.86,
          77.59,
          79.31,
          81.03,
          82.76,
          84.48,
          84.48,
          86.21,
          86.21,
          87.93,
          87.93,
          87.93,
          87.93,
          87.93,
          87.93,
          89.66,
          89.66,
          89.66,
          91.38,
          91.38,
          91.38,
          91.38,
          91.38,
          91.38,
          91.38,
          93.1,
          93.1,
          93.1,
          93.1,
          93.1,
          93.1,
          93.1,
          93.1,
          93.1,
          94.83,
          94.83,
          94.83,
          94.83,
          94.83,
          94.83,
          94.83,
          94.83,
          94.83,
          94.83,
          94.83,
          94.83,
          94.83,
          94.83,
          94.83,
          94.83,
          94.83,
          94.83,
          94.83,
          94.83,
          94.83,
          94.83,
          94.83,
          94.83,
          94.83,
          94.83,
          94.83,
          94.83,
          94.83,
          94.83,
          94.83,
          96.55,
          96.55,
          96.55,
          96.55,
          96.55,
          96.55,
          96.55,
          96.55,
          96.55,
          96.55,
          96.55,
          96.55,
          96.55,
          96.55,
          96.55,
          96.55,
          96.55,
          96.55,
          96.55,
          96.55,
          96.55,
          96.55,
          96.55,
          96.55,
          96.55,
          98.28,
          98.28,
          98.28,
          98.28,
          98.28,
          98.28,
          98.28,
          98.28,
          98.28,
          98.28,
          98.28,
          98.28,
          98.28,
          98.28,
          98.28,
          98.28,
          98.28,
          98.28,
          98.28,
          98.28,
          98.28,
          98.28,
          98.28,
          98.28,
          98.28,
          98.28,
          98.28,
          98.28,
          98.28,
          98.28,
          98.28,
          98.28,
          98.28,
          98.28,
          98.28,
          98.28,
          98.28,
          98.28,
          98.28,
          98.28,
          98.28,
          100
         ],
         "yaxis": "y"
        },
        {
         "hovertemplate": "variable=Predicted<br>index=%{x}<br>Valor=%{y}<extra></extra>",
         "legendgroup": "Predicted",
         "marker": {
          "color": "blue",
          "symbol": "circle"
         },
         "mode": "markers",
         "name": "Predicted",
         "orientation": "v",
         "showlegend": true,
         "type": "scatter",
         "x": [
          1366,
          1384,
          1477,
          74,
          1480,
          1386,
          1425,
          1450,
          1442,
          1364,
          1462,
          1474,
          1408,
          1499,
          1395,
          1472,
          1428,
          1420,
          1406,
          44,
          1453,
          125,
          1449,
          148,
          1415,
          1379,
          1359,
          122,
          1473,
          102,
          9,
          40,
          58,
          45,
          292,
          13,
          10,
          56,
          143,
          316,
          37,
          39,
          57,
          729,
          779,
          16,
          140,
          110,
          410,
          108,
          109,
          142,
          164,
          806,
          156,
          803,
          137,
          190,
          828,
          702,
          780,
          116,
          776,
          830,
          726,
          482,
          827,
          901,
          317,
          877,
          686,
          824,
          604,
          849,
          831,
          852,
          363,
          480,
          508,
          875,
          580,
          652,
          407,
          772,
          314,
          238,
          999,
          823,
          175,
          811,
          504,
          406,
          627,
          176,
          599,
          759,
          236,
          654,
          177,
          655,
          789,
          947,
          692,
          767,
          762,
          284,
          225,
          790,
          1015,
          312,
          329,
          1014,
          524,
          624,
          252,
          980,
          784,
          927,
          973,
          324,
          310,
          380,
          436,
          893,
          210,
          558,
          1003,
          988,
          1316,
          1315,
          996,
          943,
          1274,
          891,
          1124,
          1333,
          1275,
          1294,
          963,
          1147,
          1302,
          1292,
          649,
          279,
          1281,
          941,
          608,
          1277,
          1322,
          1145,
          260,
          1305,
          1278,
          1290,
          622,
          586,
          205,
          1321,
          715,
          299,
          422,
          896,
          439,
          522,
          1338,
          1165,
          619,
          565,
          423,
          617,
          1330,
          658,
          921,
          419,
          424,
          1006,
          418,
          414,
          591,
          1172,
          428,
          1334,
          1094,
          611,
          1026,
          1072,
          1040,
          571,
          354,
          911,
          378,
          1090,
          353,
          341,
          397,
          665,
          858,
          1196,
          1071,
          1031,
          543,
          540,
          403,
          1252,
          487,
          343,
          1039,
          1080,
          1046,
          1051,
          1241,
          519,
          1052,
          495,
          664,
          1218,
          1087,
          493,
          572,
          1211,
          1069,
          490,
          404,
          1207,
          1025,
          1065
         ],
         "xaxis": "x",
         "y": [
          4.958040000000004,
          3.9357200000000017,
          4.055440000000006,
          5.012840000000007,
          4.7868400000000095,
          4.5158400000000025,
          4.757800000000004,
          5.731400000000012,
          4.260320000000009,
          4.260320000000003,
          10.833760000000005,
          5.508800000000009,
          14.24603999999995,
          4.515840000000003,
          1.9482800000000096,
          5.673360000000005,
          6.543360000000011,
          5.572440000000013,
          5.5858400000000135,
          20.427080000000014,
          2.70124000000001,
          6.214079999999997,
          5.357640000000009,
          4.179640000000012,
          3.5776800000000066,
          5.05416000000001,
          12.024799999999978,
          9.890959999999994,
          6.114480000000004,
          14.291599999999988,
          14.71527999999995,
          21.18736,
          16.739959999999964,
          18.827599999999993,
          28.654480000000007,
          15.95407999999997,
          15.798839999999934,
          18.401839999999986,
          8.166640000000019,
          36.46876000000009,
          16.89779999999995,
          18.582119999999986,
          16.13823999999994,
          35.04767999999986,
          26.71240000000008,
          17.497519999999977,
          19.232519999999987,
          22.042479999999998,
          23.813960000000016,
          15.06183999999999,
          18.15795999999995,
          20.643080000000037,
          16.020919999999997,
          37.40752,
          12.124040000000017,
          26.753160000000097,
          21.66904000000001,
          57.54360000000019,
          26.663360000000115,
          37.393439999999885,
          15.274880000000037,
          20.316799999999965,
          34.51128000000007,
          37.82132,
          40.85019999999994,
          39.32227999999998,
          28.939400000000123,
          50.31019999999984,
          42.13092000000015,
          46.25327999999985,
          49.524520000000024,
          41.3595599999999,
          70.2946000000001,
          39.62927999999995,
          39.290240000000026,
          46.25979999999984,
          46.66031999999993,
          60.94571999999984,
          72.62015999999993,
          62.51503999999997,
          73.23955999999995,
          67.72200000000021,
          61.462120000000205,
          57.77992000000023,
          67.24172000000014,
          58.10140000000012,
          79.22164000000001,
          41.57487999999989,
          65.6143200000002,
          72.29704000000002,
          66.17867999999989,
          84.87019999999978,
          74.4744000000001,
          78.37007999999999,
          72.46955999999999,
          79.20072000000002,
          85.99976000000012,
          84.97907999999993,
          80.35919999999994,
          89.25007999999987,
          89.76783999999994,
          86.33619999999996,
          88.86055999999986,
          84.9809199999997,
          91.55007999999988,
          89.14499999999994,
          77.09092000000004,
          86.61631999999966,
          89.6315199999998,
          80.32363999999981,
          93.02711999999994,
          89.45695999999967,
          94.08347999999985,
          83.93199999999987,
          87.13039999999982,
          92.54375999999986,
          79.87684000000007,
          87.56779999999988,
          88.39360000000009,
          93.32419999999982,
          87.55255999999991,
          97.53287999999978,
          89.7388800000002,
          95.82936000000016,
          93.31975999999995,
          95.35215999999996,
          94.53208000000028,
          93.89708000000022,
          94.84996000000035,
          94.82260000000046,
          92.23383999999986,
          93.09036000000008,
          95.00888000000042,
          95.18860000000046,
          94.98824000000042,
          93.10971999999991,
          95.29096000000028,
          94.86440000000047,
          93.46252000000011,
          95.0502400000004,
          94.8300000000005,
          95.06372000000036,
          84.69047999999991,
          91.70963999999985,
          94.71204000000031,
          93.78644000000014,
          94.1794400000001,
          95.24968000000031,
          94.88504000000046,
          94.95980000000029,
          87.58568000000001,
          95.48392000000024,
          95.23592000000032,
          94.89140000000039,
          93.18839999999993,
          95.66248000000007,
          92.05527999999997,
          94.8506400000005,
          91.56572000000013,
          88.32659999999996,
          96.54999999999956,
          96.55923999999982,
          96.10171999999963,
          95.87667999999972,
          95.15083999999975,
          95.18716000000015,
          95.74504000000007,
          98.2246399999998,
          96.54999999999956,
          96.53623999999957,
          95.70311999999991,
          98.2247199999998,
          93.15363999999995,
          96.53623999999957,
          96.54999999999956,
          95.26284000000017,
          96.37111999999966,
          95.93691999999973,
          96.54999999999956,
          97.02339999999977,
          96.41227999999961,
          95.05403999999983,
          96.3295599999996,
          96.35735999999969,
          98.95415999999992,
          98.28683999999981,
          98.17599999999983,
          96.9683599999998,
          96.8767199999997,
          98.10007999999976,
          97.25583999999967,
          96.4815199999996,
          98.2454799999998,
          96.54047999999972,
          98.2661599999998,
          96.92068000000019,
          96.56815999999993,
          98.0935199999998,
          98.2316799999998,
          98.2799999999998,
          98.27303999999981,
          98.1900799999998,
          97.54711999999978,
          98.79599999999984,
          94.50615999999998,
          97.7006799999998,
          97.88659999999986,
          98.2868799999998,
          98.13467999999976,
          98.27299999999983,
          98.05879999999976,
          98.19027999999982,
          98.2799999999998,
          98.07931999999975,
          97.61064,
          98.27975999999983,
          98.25239999999981,
          98.09315999999977,
          96.92655999999982,
          98.0379599999998,
          97.8453599999998,
          98.2799999999998,
          97.33239999999975,
          97.81079999999987,
          98.0383199999998,
          98.51916000000006
         ],
         "yaxis": "y"
        }
       ],
       "layout": {
        "legend": {
         "title": {
          "text": "variable"
         },
         "tracegroupgap": 0
        },
        "template": {
         "data": {
          "bar": [
           {
            "error_x": {
             "color": "#2a3f5f"
            },
            "error_y": {
             "color": "#2a3f5f"
            },
            "marker": {
             "line": {
              "color": "#E5ECF6",
              "width": 0.5
             },
             "pattern": {
              "fillmode": "overlay",
              "size": 10,
              "solidity": 0.2
             }
            },
            "type": "bar"
           }
          ],
          "barpolar": [
           {
            "marker": {
             "line": {
              "color": "#E5ECF6",
              "width": 0.5
             },
             "pattern": {
              "fillmode": "overlay",
              "size": 10,
              "solidity": 0.2
             }
            },
            "type": "barpolar"
           }
          ],
          "carpet": [
           {
            "aaxis": {
             "endlinecolor": "#2a3f5f",
             "gridcolor": "white",
             "linecolor": "white",
             "minorgridcolor": "white",
             "startlinecolor": "#2a3f5f"
            },
            "baxis": {
             "endlinecolor": "#2a3f5f",
             "gridcolor": "white",
             "linecolor": "white",
             "minorgridcolor": "white",
             "startlinecolor": "#2a3f5f"
            },
            "type": "carpet"
           }
          ],
          "choropleth": [
           {
            "colorbar": {
             "outlinewidth": 0,
             "ticks": ""
            },
            "type": "choropleth"
           }
          ],
          "contour": [
           {
            "colorbar": {
             "outlinewidth": 0,
             "ticks": ""
            },
            "colorscale": [
             [
              0,
              "#0d0887"
             ],
             [
              0.1111111111111111,
              "#46039f"
             ],
             [
              0.2222222222222222,
              "#7201a8"
             ],
             [
              0.3333333333333333,
              "#9c179e"
             ],
             [
              0.4444444444444444,
              "#bd3786"
             ],
             [
              0.5555555555555556,
              "#d8576b"
             ],
             [
              0.6666666666666666,
              "#ed7953"
             ],
             [
              0.7777777777777778,
              "#fb9f3a"
             ],
             [
              0.8888888888888888,
              "#fdca26"
             ],
             [
              1,
              "#f0f921"
             ]
            ],
            "type": "contour"
           }
          ],
          "contourcarpet": [
           {
            "colorbar": {
             "outlinewidth": 0,
             "ticks": ""
            },
            "type": "contourcarpet"
           }
          ],
          "heatmap": [
           {
            "colorbar": {
             "outlinewidth": 0,
             "ticks": ""
            },
            "colorscale": [
             [
              0,
              "#0d0887"
             ],
             [
              0.1111111111111111,
              "#46039f"
             ],
             [
              0.2222222222222222,
              "#7201a8"
             ],
             [
              0.3333333333333333,
              "#9c179e"
             ],
             [
              0.4444444444444444,
              "#bd3786"
             ],
             [
              0.5555555555555556,
              "#d8576b"
             ],
             [
              0.6666666666666666,
              "#ed7953"
             ],
             [
              0.7777777777777778,
              "#fb9f3a"
             ],
             [
              0.8888888888888888,
              "#fdca26"
             ],
             [
              1,
              "#f0f921"
             ]
            ],
            "type": "heatmap"
           }
          ],
          "heatmapgl": [
           {
            "colorbar": {
             "outlinewidth": 0,
             "ticks": ""
            },
            "colorscale": [
             [
              0,
              "#0d0887"
             ],
             [
              0.1111111111111111,
              "#46039f"
             ],
             [
              0.2222222222222222,
              "#7201a8"
             ],
             [
              0.3333333333333333,
              "#9c179e"
             ],
             [
              0.4444444444444444,
              "#bd3786"
             ],
             [
              0.5555555555555556,
              "#d8576b"
             ],
             [
              0.6666666666666666,
              "#ed7953"
             ],
             [
              0.7777777777777778,
              "#fb9f3a"
             ],
             [
              0.8888888888888888,
              "#fdca26"
             ],
             [
              1,
              "#f0f921"
             ]
            ],
            "type": "heatmapgl"
           }
          ],
          "histogram": [
           {
            "marker": {
             "pattern": {
              "fillmode": "overlay",
              "size": 10,
              "solidity": 0.2
             }
            },
            "type": "histogram"
           }
          ],
          "histogram2d": [
           {
            "colorbar": {
             "outlinewidth": 0,
             "ticks": ""
            },
            "colorscale": [
             [
              0,
              "#0d0887"
             ],
             [
              0.1111111111111111,
              "#46039f"
             ],
             [
              0.2222222222222222,
              "#7201a8"
             ],
             [
              0.3333333333333333,
              "#9c179e"
             ],
             [
              0.4444444444444444,
              "#bd3786"
             ],
             [
              0.5555555555555556,
              "#d8576b"
             ],
             [
              0.6666666666666666,
              "#ed7953"
             ],
             [
              0.7777777777777778,
              "#fb9f3a"
             ],
             [
              0.8888888888888888,
              "#fdca26"
             ],
             [
              1,
              "#f0f921"
             ]
            ],
            "type": "histogram2d"
           }
          ],
          "histogram2dcontour": [
           {
            "colorbar": {
             "outlinewidth": 0,
             "ticks": ""
            },
            "colorscale": [
             [
              0,
              "#0d0887"
             ],
             [
              0.1111111111111111,
              "#46039f"
             ],
             [
              0.2222222222222222,
              "#7201a8"
             ],
             [
              0.3333333333333333,
              "#9c179e"
             ],
             [
              0.4444444444444444,
              "#bd3786"
             ],
             [
              0.5555555555555556,
              "#d8576b"
             ],
             [
              0.6666666666666666,
              "#ed7953"
             ],
             [
              0.7777777777777778,
              "#fb9f3a"
             ],
             [
              0.8888888888888888,
              "#fdca26"
             ],
             [
              1,
              "#f0f921"
             ]
            ],
            "type": "histogram2dcontour"
           }
          ],
          "mesh3d": [
           {
            "colorbar": {
             "outlinewidth": 0,
             "ticks": ""
            },
            "type": "mesh3d"
           }
          ],
          "parcoords": [
           {
            "line": {
             "colorbar": {
              "outlinewidth": 0,
              "ticks": ""
             }
            },
            "type": "parcoords"
           }
          ],
          "pie": [
           {
            "automargin": true,
            "type": "pie"
           }
          ],
          "scatter": [
           {
            "fillpattern": {
             "fillmode": "overlay",
             "size": 10,
             "solidity": 0.2
            },
            "type": "scatter"
           }
          ],
          "scatter3d": [
           {
            "line": {
             "colorbar": {
              "outlinewidth": 0,
              "ticks": ""
             }
            },
            "marker": {
             "colorbar": {
              "outlinewidth": 0,
              "ticks": ""
             }
            },
            "type": "scatter3d"
           }
          ],
          "scattercarpet": [
           {
            "marker": {
             "colorbar": {
              "outlinewidth": 0,
              "ticks": ""
             }
            },
            "type": "scattercarpet"
           }
          ],
          "scattergeo": [
           {
            "marker": {
             "colorbar": {
              "outlinewidth": 0,
              "ticks": ""
             }
            },
            "type": "scattergeo"
           }
          ],
          "scattergl": [
           {
            "marker": {
             "colorbar": {
              "outlinewidth": 0,
              "ticks": ""
             }
            },
            "type": "scattergl"
           }
          ],
          "scattermapbox": [
           {
            "marker": {
             "colorbar": {
              "outlinewidth": 0,
              "ticks": ""
             }
            },
            "type": "scattermapbox"
           }
          ],
          "scatterpolar": [
           {
            "marker": {
             "colorbar": {
              "outlinewidth": 0,
              "ticks": ""
             }
            },
            "type": "scatterpolar"
           }
          ],
          "scatterpolargl": [
           {
            "marker": {
             "colorbar": {
              "outlinewidth": 0,
              "ticks": ""
             }
            },
            "type": "scatterpolargl"
           }
          ],
          "scatterternary": [
           {
            "marker": {
             "colorbar": {
              "outlinewidth": 0,
              "ticks": ""
             }
            },
            "type": "scatterternary"
           }
          ],
          "surface": [
           {
            "colorbar": {
             "outlinewidth": 0,
             "ticks": ""
            },
            "colorscale": [
             [
              0,
              "#0d0887"
             ],
             [
              0.1111111111111111,
              "#46039f"
             ],
             [
              0.2222222222222222,
              "#7201a8"
             ],
             [
              0.3333333333333333,
              "#9c179e"
             ],
             [
              0.4444444444444444,
              "#bd3786"
             ],
             [
              0.5555555555555556,
              "#d8576b"
             ],
             [
              0.6666666666666666,
              "#ed7953"
             ],
             [
              0.7777777777777778,
              "#fb9f3a"
             ],
             [
              0.8888888888888888,
              "#fdca26"
             ],
             [
              1,
              "#f0f921"
             ]
            ],
            "type": "surface"
           }
          ],
          "table": [
           {
            "cells": {
             "fill": {
              "color": "#EBF0F8"
             },
             "line": {
              "color": "white"
             }
            },
            "header": {
             "fill": {
              "color": "#C8D4E3"
             },
             "line": {
              "color": "white"
             }
            },
            "type": "table"
           }
          ]
         },
         "layout": {
          "annotationdefaults": {
           "arrowcolor": "#2a3f5f",
           "arrowhead": 0,
           "arrowwidth": 1
          },
          "autotypenumbers": "strict",
          "coloraxis": {
           "colorbar": {
            "outlinewidth": 0,
            "ticks": ""
           }
          },
          "colorscale": {
           "diverging": [
            [
             0,
             "#8e0152"
            ],
            [
             0.1,
             "#c51b7d"
            ],
            [
             0.2,
             "#de77ae"
            ],
            [
             0.3,
             "#f1b6da"
            ],
            [
             0.4,
             "#fde0ef"
            ],
            [
             0.5,
             "#f7f7f7"
            ],
            [
             0.6,
             "#e6f5d0"
            ],
            [
             0.7,
             "#b8e186"
            ],
            [
             0.8,
             "#7fbc41"
            ],
            [
             0.9,
             "#4d9221"
            ],
            [
             1,
             "#276419"
            ]
           ],
           "sequential": [
            [
             0,
             "#0d0887"
            ],
            [
             0.1111111111111111,
             "#46039f"
            ],
            [
             0.2222222222222222,
             "#7201a8"
            ],
            [
             0.3333333333333333,
             "#9c179e"
            ],
            [
             0.4444444444444444,
             "#bd3786"
            ],
            [
             0.5555555555555556,
             "#d8576b"
            ],
            [
             0.6666666666666666,
             "#ed7953"
            ],
            [
             0.7777777777777778,
             "#fb9f3a"
            ],
            [
             0.8888888888888888,
             "#fdca26"
            ],
            [
             1,
             "#f0f921"
            ]
           ],
           "sequentialminus": [
            [
             0,
             "#0d0887"
            ],
            [
             0.1111111111111111,
             "#46039f"
            ],
            [
             0.2222222222222222,
             "#7201a8"
            ],
            [
             0.3333333333333333,
             "#9c179e"
            ],
            [
             0.4444444444444444,
             "#bd3786"
            ],
            [
             0.5555555555555556,
             "#d8576b"
            ],
            [
             0.6666666666666666,
             "#ed7953"
            ],
            [
             0.7777777777777778,
             "#fb9f3a"
            ],
            [
             0.8888888888888888,
             "#fdca26"
            ],
            [
             1,
             "#f0f921"
            ]
           ]
          },
          "colorway": [
           "#636efa",
           "#EF553B",
           "#00cc96",
           "#ab63fa",
           "#FFA15A",
           "#19d3f3",
           "#FF6692",
           "#B6E880",
           "#FF97FF",
           "#FECB52"
          ],
          "font": {
           "color": "#2a3f5f"
          },
          "geo": {
           "bgcolor": "white",
           "lakecolor": "white",
           "landcolor": "#E5ECF6",
           "showlakes": true,
           "showland": true,
           "subunitcolor": "white"
          },
          "hoverlabel": {
           "align": "left"
          },
          "hovermode": "closest",
          "mapbox": {
           "style": "light"
          },
          "paper_bgcolor": "white",
          "plot_bgcolor": "#E5ECF6",
          "polar": {
           "angularaxis": {
            "gridcolor": "white",
            "linecolor": "white",
            "ticks": ""
           },
           "bgcolor": "#E5ECF6",
           "radialaxis": {
            "gridcolor": "white",
            "linecolor": "white",
            "ticks": ""
           }
          },
          "scene": {
           "xaxis": {
            "backgroundcolor": "#E5ECF6",
            "gridcolor": "white",
            "gridwidth": 2,
            "linecolor": "white",
            "showbackground": true,
            "ticks": "",
            "zerolinecolor": "white"
           },
           "yaxis": {
            "backgroundcolor": "#E5ECF6",
            "gridcolor": "white",
            "gridwidth": 2,
            "linecolor": "white",
            "showbackground": true,
            "ticks": "",
            "zerolinecolor": "white"
           },
           "zaxis": {
            "backgroundcolor": "#E5ECF6",
            "gridcolor": "white",
            "gridwidth": 2,
            "linecolor": "white",
            "showbackground": true,
            "ticks": "",
            "zerolinecolor": "white"
           }
          },
          "shapedefaults": {
           "line": {
            "color": "#2a3f5f"
           }
          },
          "ternary": {
           "aaxis": {
            "gridcolor": "white",
            "linecolor": "white",
            "ticks": ""
           },
           "baxis": {
            "gridcolor": "white",
            "linecolor": "white",
            "ticks": ""
           },
           "bgcolor": "#E5ECF6",
           "caxis": {
            "gridcolor": "white",
            "linecolor": "white",
            "ticks": ""
           }
          },
          "title": {
           "x": 0.05
          },
          "xaxis": {
           "automargin": true,
           "gridcolor": "white",
           "linecolor": "white",
           "ticks": "",
           "title": {
            "standoff": 15
           },
           "zerolinecolor": "white",
           "zerolinewidth": 2
          },
          "yaxis": {
           "automargin": true,
           "gridcolor": "white",
           "linecolor": "white",
           "ticks": "",
           "title": {
            "standoff": 15
           },
           "zerolinecolor": "white",
           "zerolinewidth": 2
          }
         }
        },
        "title": {
         "text": "Predicciones vs. Valores Reales"
        },
        "xaxis": {
         "anchor": "y",
         "domain": [
          0,
          1
         ],
         "title": {
          "text": "Índice"
         }
        },
        "yaxis": {
         "anchor": "x",
         "domain": [
          0,
          1
         ],
         "title": {
          "text": "Valor"
         }
        }
       }
      }
     },
     "metadata": {},
     "output_type": "display_data"
    }
   ],
   "source": [
    "# Creamos un DataFrame con las predicciones y valores reales\n",
    "results_df = pd.DataFrame({'Actual': y_validation, 'Predicted': y_pred_validacion})\n",
    "\n",
    "# Ordenamos el DataFrame por los valores reales para una mejor visualización\n",
    "results_df = results_df.sort_values(by='Actual')\n",
    "\n",
    "# Creamos gráfico de dispersión con Plotly Express\n",
    "fig = px.scatter(results_df, x=results_df.index, y=['Actual', 'Predicted'],\n",
    "                 labels={'value': 'Valor'},\n",
    "                 title='Predicciones vs. Valores Reales',\n",
    "                 color_discrete_sequence=['red', 'blue'])\n",
    "\n",
    "# Configuramos el diseño del gráfico\n",
    "fig.update_layout(\n",
    "    xaxis_title='Índice',\n",
    "    yaxis_title='Valor',\n",
    ")\n",
    "\n",
    "# Mostramos el gráfico\n",
    "fig.show()"
   ]
  }
 ],
 "metadata": {
  "kernelspec": {
   "display_name": "base",
   "language": "python",
   "name": "python3"
  },
  "language_info": {
   "codemirror_mode": {
    "name": "ipython",
    "version": 3
   },
   "file_extension": ".py",
   "mimetype": "text/x-python",
   "name": "python",
   "nbconvert_exporter": "python",
   "pygments_lexer": "ipython3",
   "version": "3.9.7"
  }
 },
 "nbformat": 4,
 "nbformat_minor": 2
}
