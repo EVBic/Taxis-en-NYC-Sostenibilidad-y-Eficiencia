{
 "cells": [
  {
   "cell_type": "markdown",
   "metadata": {},
   "source": [
    "### Recopilación de datos"
   ]
  },
  {
   "cell_type": "markdown",
   "metadata": {},
   "source": [
    "## Modelado Machine Learnin Prediccion de Demanda de taxis en la Ciudad de Nueva York"
   ]
  },
  {
   "cell_type": "markdown",
   "metadata": {},
   "source": [
    "El modelado en desarrollo predecirá la demanda de taxis en la ciudad de nueva york, como resultado entregará el porcentaje de la demanda por los ususarios, asi los taxistas poder tener un mapa de zonas de alta demanda. La predicción trabaja bajo los parametros de 'borough', 'tipo de servicio', 'dia de la semana' y la 'hora que se desea tomar el taxi'.\n",
    "\n",
    "Se tomó la decisión de solo tomar el dataset económico de taxis_2023.parquet que vienes como producto del scrapeo de la pagina web https://www.nyc.gov/site/tlc/index.page, esta decisión fue tomada bajo el análisis de cada datasets dentro de nuestro Data Werehouse después de haber realizado una Matriz de Correlación. "
   ]
  },
  {
   "cell_type": "markdown",
   "metadata": {},
   "source": [
    "### Importamos la libreria Pandas para realizar la visualizacion y cambios necesarios a nuestro dataset "
   ]
  },
  {
   "cell_type": "code",
   "execution_count": 4,
   "metadata": {},
   "outputs": [
    {
     "data": {
      "text/html": [
       "<div>\n",
       "<style scoped>\n",
       "    .dataframe tbody tr th:only-of-type {\n",
       "        vertical-align: middle;\n",
       "    }\n",
       "\n",
       "    .dataframe tbody tr th {\n",
       "        vertical-align: top;\n",
       "    }\n",
       "\n",
       "    .dataframe thead th {\n",
       "        text-align: right;\n",
       "    }\n",
       "</style>\n",
       "<table border=\"1\" class=\"dataframe\">\n",
       "  <thead>\n",
       "    <tr style=\"text-align: right;\">\n",
       "      <th></th>\n",
       "      <th>RatecodeID</th>\n",
       "      <th>passenger_count</th>\n",
       "      <th>trip_distance</th>\n",
       "      <th>amount</th>\n",
       "      <th>service_type</th>\n",
       "      <th>pickup_borough</th>\n",
       "      <th>dropoff_borough</th>\n",
       "      <th>pickup_date</th>\n",
       "      <th>pickup_hour</th>\n",
       "      <th>dropoff_date</th>\n",
       "      <th>dropoff_hour</th>\n",
       "    </tr>\n",
       "  </thead>\n",
       "  <tbody>\n",
       "    <tr>\n",
       "      <th>0</th>\n",
       "      <td>1.0</td>\n",
       "      <td>1</td>\n",
       "      <td>0.97</td>\n",
       "      <td>14.30</td>\n",
       "      <td>yellow</td>\n",
       "      <td>Manhattan</td>\n",
       "      <td>Manhattan</td>\n",
       "      <td>2023-01-01</td>\n",
       "      <td>0</td>\n",
       "      <td>2023-01-01</td>\n",
       "      <td>0</td>\n",
       "    </tr>\n",
       "    <tr>\n",
       "      <th>1</th>\n",
       "      <td>1.0</td>\n",
       "      <td>1</td>\n",
       "      <td>1.10</td>\n",
       "      <td>20.90</td>\n",
       "      <td>yellow</td>\n",
       "      <td>Manhattan</td>\n",
       "      <td>Manhattan</td>\n",
       "      <td>2023-01-01</td>\n",
       "      <td>0</td>\n",
       "      <td>2023-01-01</td>\n",
       "      <td>1</td>\n",
       "    </tr>\n",
       "    <tr>\n",
       "      <th>2</th>\n",
       "      <td>1.0</td>\n",
       "      <td>1</td>\n",
       "      <td>1.43</td>\n",
       "      <td>22.96</td>\n",
       "      <td>yellow</td>\n",
       "      <td>Manhattan</td>\n",
       "      <td>Manhattan</td>\n",
       "      <td>2023-01-01</td>\n",
       "      <td>0</td>\n",
       "      <td>2023-01-01</td>\n",
       "      <td>0</td>\n",
       "    </tr>\n",
       "    <tr>\n",
       "      <th>3</th>\n",
       "      <td>1.0</td>\n",
       "      <td>1</td>\n",
       "      <td>1.66</td>\n",
       "      <td>23.94</td>\n",
       "      <td>yellow</td>\n",
       "      <td>Manhattan</td>\n",
       "      <td>Manhattan</td>\n",
       "      <td>2023-01-01</td>\n",
       "      <td>0</td>\n",
       "      <td>2023-01-01</td>\n",
       "      <td>0</td>\n",
       "    </tr>\n",
       "    <tr>\n",
       "      <th>4</th>\n",
       "      <td>1.0</td>\n",
       "      <td>1</td>\n",
       "      <td>11.70</td>\n",
       "      <td>75.18</td>\n",
       "      <td>yellow</td>\n",
       "      <td>Manhattan</td>\n",
       "      <td>Bronx</td>\n",
       "      <td>2023-01-01</td>\n",
       "      <td>0</td>\n",
       "      <td>2023-01-01</td>\n",
       "      <td>0</td>\n",
       "    </tr>\n",
       "    <tr>\n",
       "      <th>...</th>\n",
       "      <td>...</td>\n",
       "      <td>...</td>\n",
       "      <td>...</td>\n",
       "      <td>...</td>\n",
       "      <td>...</td>\n",
       "      <td>...</td>\n",
       "      <td>...</td>\n",
       "      <td>...</td>\n",
       "      <td>...</td>\n",
       "      <td>...</td>\n",
       "      <td>...</td>\n",
       "    </tr>\n",
       "    <tr>\n",
       "      <th>7861599</th>\n",
       "      <td>1.0</td>\n",
       "      <td>1</td>\n",
       "      <td>0.58</td>\n",
       "      <td>8.30</td>\n",
       "      <td>green</td>\n",
       "      <td>Manhattan</td>\n",
       "      <td>Manhattan</td>\n",
       "      <td>2024-01-31</td>\n",
       "      <td>22</td>\n",
       "      <td>2024-01-31</td>\n",
       "      <td>22</td>\n",
       "    </tr>\n",
       "    <tr>\n",
       "      <th>7861600</th>\n",
       "      <td>1.0</td>\n",
       "      <td>1</td>\n",
       "      <td>2.18</td>\n",
       "      <td>26.25</td>\n",
       "      <td>green</td>\n",
       "      <td>Manhattan</td>\n",
       "      <td>Manhattan</td>\n",
       "      <td>2024-01-31</td>\n",
       "      <td>22</td>\n",
       "      <td>2024-01-31</td>\n",
       "      <td>22</td>\n",
       "    </tr>\n",
       "    <tr>\n",
       "      <th>7861601</th>\n",
       "      <td>1.0</td>\n",
       "      <td>2</td>\n",
       "      <td>1.12</td>\n",
       "      <td>9.70</td>\n",
       "      <td>green</td>\n",
       "      <td>Queens</td>\n",
       "      <td>Queens</td>\n",
       "      <td>2024-01-31</td>\n",
       "      <td>23</td>\n",
       "      <td>2024-01-31</td>\n",
       "      <td>23</td>\n",
       "    </tr>\n",
       "    <tr>\n",
       "      <th>7861602</th>\n",
       "      <td>1.0</td>\n",
       "      <td>1</td>\n",
       "      <td>4.59</td>\n",
       "      <td>39.97</td>\n",
       "      <td>green</td>\n",
       "      <td>Brooklyn</td>\n",
       "      <td>Manhattan</td>\n",
       "      <td>2024-01-31</td>\n",
       "      <td>23</td>\n",
       "      <td>2024-02-01</td>\n",
       "      <td>0</td>\n",
       "    </tr>\n",
       "    <tr>\n",
       "      <th>7861603</th>\n",
       "      <td>1.0</td>\n",
       "      <td>1</td>\n",
       "      <td>2.03</td>\n",
       "      <td>16.60</td>\n",
       "      <td>green</td>\n",
       "      <td>Manhattan</td>\n",
       "      <td>Manhattan</td>\n",
       "      <td>2024-01-31</td>\n",
       "      <td>23</td>\n",
       "      <td>2024-01-31</td>\n",
       "      <td>23</td>\n",
       "    </tr>\n",
       "  </tbody>\n",
       "</table>\n",
       "<p>7861604 rows × 11 columns</p>\n",
       "</div>"
      ],
      "text/plain": [
       "         RatecodeID  passenger_count  trip_distance  amount service_type  \\\n",
       "0               1.0                1           0.97   14.30       yellow   \n",
       "1               1.0                1           1.10   20.90       yellow   \n",
       "2               1.0                1           1.43   22.96       yellow   \n",
       "3               1.0                1           1.66   23.94       yellow   \n",
       "4               1.0                1          11.70   75.18       yellow   \n",
       "...             ...              ...            ...     ...          ...   \n",
       "7861599         1.0                1           0.58    8.30        green   \n",
       "7861600         1.0                1           2.18   26.25        green   \n",
       "7861601         1.0                2           1.12    9.70        green   \n",
       "7861602         1.0                1           4.59   39.97        green   \n",
       "7861603         1.0                1           2.03   16.60        green   \n",
       "\n",
       "        pickup_borough dropoff_borough pickup_date pickup_hour dropoff_date  \\\n",
       "0            Manhattan       Manhattan  2023-01-01           0   2023-01-01   \n",
       "1            Manhattan       Manhattan  2023-01-01           0   2023-01-01   \n",
       "2            Manhattan       Manhattan  2023-01-01           0   2023-01-01   \n",
       "3            Manhattan       Manhattan  2023-01-01           0   2023-01-01   \n",
       "4            Manhattan           Bronx  2023-01-01           0   2023-01-01   \n",
       "...                ...             ...         ...         ...          ...   \n",
       "7861599      Manhattan       Manhattan  2024-01-31          22   2024-01-31   \n",
       "7861600      Manhattan       Manhattan  2024-01-31          22   2024-01-31   \n",
       "7861601         Queens          Queens  2024-01-31          23   2024-01-31   \n",
       "7861602       Brooklyn       Manhattan  2024-01-31          23   2024-02-01   \n",
       "7861603      Manhattan       Manhattan  2024-01-31          23   2024-01-31   \n",
       "\n",
       "        dropoff_hour  \n",
       "0                  0  \n",
       "1                  1  \n",
       "2                  0  \n",
       "3                  0  \n",
       "4                  0  \n",
       "...              ...  \n",
       "7861599           22  \n",
       "7861600           22  \n",
       "7861601           23  \n",
       "7861602            0  \n",
       "7861603           23  \n",
       "\n",
       "[7861604 rows x 11 columns]"
      ]
     },
     "execution_count": 4,
     "metadata": {},
     "output_type": "execute_result"
    }
   ],
   "source": [
    "# importamos la libreria y leemos el archivo taxis_2023.parquet\n",
    "import pandas as pd\n",
    "taxis_NYC =pd.read_parquet('../0-DataSets/4-ModelosPrediccion/taxis_2023.parquet')\n",
    "taxis_NYC"
   ]
  },
  {
   "cell_type": "markdown",
   "metadata": {},
   "source": [
    "### ETL: "
   ]
  },
  {
   "cell_type": "markdown",
   "metadata": {},
   "source": [
    "Este proceso de realiza para poder tener un dataset mas limpio y prolijo de particularidades como datos atípicos, además de realizar la transformación de la forma mas adecuada para nuestro modelo de Machine Learning.\n"
   ]
  },
  {
   "cell_type": "code",
   "execution_count": 5,
   "metadata": {},
   "outputs": [],
   "source": [
    "#Restringiendo parametros atipicos\n",
    "taxis_NYC = taxis_NYC[taxis_NYC['trip_distance'] <= 100] # este filtro es por que existe datos de atipicos, mayores a 100 millas con un tiempo de desplazamiento de 3 minutos. \n",
    "taxis_NYC = taxis_NYC[taxis_NYC['amount'] >= 5] # este filtro es por que existe datos de atipicos, menores a 5 dolares y analizando solo es la propina sin haber havido desplazamiento de distancia. \n",
    "taxis_NYC = taxis_NYC[taxis_NYC['pickup_borough'] != 'EWR'] # este filtro es por que existe datos de atipicos, 'EWR' es un  aeropuerto pero esta lleno de errores en tiempos de deplazamiento. "
   ]
  },
  {
   "cell_type": "code",
   "execution_count": 6,
   "metadata": {},
   "outputs": [
    {
     "data": {
      "text/html": [
       "<div>\n",
       "<style scoped>\n",
       "    .dataframe tbody tr th:only-of-type {\n",
       "        vertical-align: middle;\n",
       "    }\n",
       "\n",
       "    .dataframe tbody tr th {\n",
       "        vertical-align: top;\n",
       "    }\n",
       "\n",
       "    .dataframe thead th {\n",
       "        text-align: right;\n",
       "    }\n",
       "</style>\n",
       "<table border=\"1\" class=\"dataframe\">\n",
       "  <thead>\n",
       "    <tr style=\"text-align: right;\">\n",
       "      <th></th>\n",
       "      <th>RatecodeID</th>\n",
       "      <th>passenger_count</th>\n",
       "      <th>trip_distance</th>\n",
       "      <th>amount</th>\n",
       "      <th>service_type</th>\n",
       "      <th>pickup_borough</th>\n",
       "      <th>dropoff_borough</th>\n",
       "      <th>pickup_date</th>\n",
       "      <th>pickup_hour</th>\n",
       "      <th>dropoff_date</th>\n",
       "      <th>dropoff_hour</th>\n",
       "      <th>año</th>\n",
       "      <th>mes</th>\n",
       "      <th>dia</th>\n",
       "      <th>dayofweek</th>\n",
       "      <th>hora</th>\n",
       "    </tr>\n",
       "  </thead>\n",
       "  <tbody>\n",
       "    <tr>\n",
       "      <th>0</th>\n",
       "      <td>1.0</td>\n",
       "      <td>1</td>\n",
       "      <td>0.97</td>\n",
       "      <td>14.30</td>\n",
       "      <td>yellow</td>\n",
       "      <td>Manhattan</td>\n",
       "      <td>Manhattan</td>\n",
       "      <td>2023-01-01</td>\n",
       "      <td>0</td>\n",
       "      <td>2023-01-01</td>\n",
       "      <td>0</td>\n",
       "      <td>2023</td>\n",
       "      <td>1</td>\n",
       "      <td>1</td>\n",
       "      <td>6</td>\n",
       "      <td>00:00</td>\n",
       "    </tr>\n",
       "    <tr>\n",
       "      <th>1</th>\n",
       "      <td>1.0</td>\n",
       "      <td>1</td>\n",
       "      <td>1.10</td>\n",
       "      <td>20.90</td>\n",
       "      <td>yellow</td>\n",
       "      <td>Manhattan</td>\n",
       "      <td>Manhattan</td>\n",
       "      <td>2023-01-01</td>\n",
       "      <td>0</td>\n",
       "      <td>2023-01-01</td>\n",
       "      <td>1</td>\n",
       "      <td>2023</td>\n",
       "      <td>1</td>\n",
       "      <td>1</td>\n",
       "      <td>6</td>\n",
       "      <td>00:00</td>\n",
       "    </tr>\n",
       "    <tr>\n",
       "      <th>2</th>\n",
       "      <td>1.0</td>\n",
       "      <td>1</td>\n",
       "      <td>1.43</td>\n",
       "      <td>22.96</td>\n",
       "      <td>yellow</td>\n",
       "      <td>Manhattan</td>\n",
       "      <td>Manhattan</td>\n",
       "      <td>2023-01-01</td>\n",
       "      <td>0</td>\n",
       "      <td>2023-01-01</td>\n",
       "      <td>0</td>\n",
       "      <td>2023</td>\n",
       "      <td>1</td>\n",
       "      <td>1</td>\n",
       "      <td>6</td>\n",
       "      <td>00:00</td>\n",
       "    </tr>\n",
       "    <tr>\n",
       "      <th>3</th>\n",
       "      <td>1.0</td>\n",
       "      <td>1</td>\n",
       "      <td>1.66</td>\n",
       "      <td>23.94</td>\n",
       "      <td>yellow</td>\n",
       "      <td>Manhattan</td>\n",
       "      <td>Manhattan</td>\n",
       "      <td>2023-01-01</td>\n",
       "      <td>0</td>\n",
       "      <td>2023-01-01</td>\n",
       "      <td>0</td>\n",
       "      <td>2023</td>\n",
       "      <td>1</td>\n",
       "      <td>1</td>\n",
       "      <td>6</td>\n",
       "      <td>00:00</td>\n",
       "    </tr>\n",
       "    <tr>\n",
       "      <th>4</th>\n",
       "      <td>1.0</td>\n",
       "      <td>1</td>\n",
       "      <td>11.70</td>\n",
       "      <td>75.18</td>\n",
       "      <td>yellow</td>\n",
       "      <td>Manhattan</td>\n",
       "      <td>Bronx</td>\n",
       "      <td>2023-01-01</td>\n",
       "      <td>0</td>\n",
       "      <td>2023-01-01</td>\n",
       "      <td>0</td>\n",
       "      <td>2023</td>\n",
       "      <td>1</td>\n",
       "      <td>1</td>\n",
       "      <td>6</td>\n",
       "      <td>00:00</td>\n",
       "    </tr>\n",
       "    <tr>\n",
       "      <th>...</th>\n",
       "      <td>...</td>\n",
       "      <td>...</td>\n",
       "      <td>...</td>\n",
       "      <td>...</td>\n",
       "      <td>...</td>\n",
       "      <td>...</td>\n",
       "      <td>...</td>\n",
       "      <td>...</td>\n",
       "      <td>...</td>\n",
       "      <td>...</td>\n",
       "      <td>...</td>\n",
       "      <td>...</td>\n",
       "      <td>...</td>\n",
       "      <td>...</td>\n",
       "      <td>...</td>\n",
       "      <td>...</td>\n",
       "    </tr>\n",
       "    <tr>\n",
       "      <th>7861599</th>\n",
       "      <td>1.0</td>\n",
       "      <td>1</td>\n",
       "      <td>0.58</td>\n",
       "      <td>8.30</td>\n",
       "      <td>green</td>\n",
       "      <td>Manhattan</td>\n",
       "      <td>Manhattan</td>\n",
       "      <td>2024-01-31</td>\n",
       "      <td>22</td>\n",
       "      <td>2024-01-31</td>\n",
       "      <td>22</td>\n",
       "      <td>2024</td>\n",
       "      <td>1</td>\n",
       "      <td>31</td>\n",
       "      <td>2</td>\n",
       "      <td>22:00</td>\n",
       "    </tr>\n",
       "    <tr>\n",
       "      <th>7861600</th>\n",
       "      <td>1.0</td>\n",
       "      <td>1</td>\n",
       "      <td>2.18</td>\n",
       "      <td>26.25</td>\n",
       "      <td>green</td>\n",
       "      <td>Manhattan</td>\n",
       "      <td>Manhattan</td>\n",
       "      <td>2024-01-31</td>\n",
       "      <td>22</td>\n",
       "      <td>2024-01-31</td>\n",
       "      <td>22</td>\n",
       "      <td>2024</td>\n",
       "      <td>1</td>\n",
       "      <td>31</td>\n",
       "      <td>2</td>\n",
       "      <td>22:00</td>\n",
       "    </tr>\n",
       "    <tr>\n",
       "      <th>7861601</th>\n",
       "      <td>1.0</td>\n",
       "      <td>2</td>\n",
       "      <td>1.12</td>\n",
       "      <td>9.70</td>\n",
       "      <td>green</td>\n",
       "      <td>Queens</td>\n",
       "      <td>Queens</td>\n",
       "      <td>2024-01-31</td>\n",
       "      <td>23</td>\n",
       "      <td>2024-01-31</td>\n",
       "      <td>23</td>\n",
       "      <td>2024</td>\n",
       "      <td>1</td>\n",
       "      <td>31</td>\n",
       "      <td>2</td>\n",
       "      <td>23:00</td>\n",
       "    </tr>\n",
       "    <tr>\n",
       "      <th>7861602</th>\n",
       "      <td>1.0</td>\n",
       "      <td>1</td>\n",
       "      <td>4.59</td>\n",
       "      <td>39.97</td>\n",
       "      <td>green</td>\n",
       "      <td>Brooklyn</td>\n",
       "      <td>Manhattan</td>\n",
       "      <td>2024-01-31</td>\n",
       "      <td>23</td>\n",
       "      <td>2024-02-01</td>\n",
       "      <td>0</td>\n",
       "      <td>2024</td>\n",
       "      <td>1</td>\n",
       "      <td>31</td>\n",
       "      <td>2</td>\n",
       "      <td>23:00</td>\n",
       "    </tr>\n",
       "    <tr>\n",
       "      <th>7861603</th>\n",
       "      <td>1.0</td>\n",
       "      <td>1</td>\n",
       "      <td>2.03</td>\n",
       "      <td>16.60</td>\n",
       "      <td>green</td>\n",
       "      <td>Manhattan</td>\n",
       "      <td>Manhattan</td>\n",
       "      <td>2024-01-31</td>\n",
       "      <td>23</td>\n",
       "      <td>2024-01-31</td>\n",
       "      <td>23</td>\n",
       "      <td>2024</td>\n",
       "      <td>1</td>\n",
       "      <td>31</td>\n",
       "      <td>2</td>\n",
       "      <td>23:00</td>\n",
       "    </tr>\n",
       "  </tbody>\n",
       "</table>\n",
       "<p>7770334 rows × 16 columns</p>\n",
       "</div>"
      ],
      "text/plain": [
       "         RatecodeID  passenger_count  trip_distance  amount service_type  \\\n",
       "0               1.0                1           0.97   14.30       yellow   \n",
       "1               1.0                1           1.10   20.90       yellow   \n",
       "2               1.0                1           1.43   22.96       yellow   \n",
       "3               1.0                1           1.66   23.94       yellow   \n",
       "4               1.0                1          11.70   75.18       yellow   \n",
       "...             ...              ...            ...     ...          ...   \n",
       "7861599         1.0                1           0.58    8.30        green   \n",
       "7861600         1.0                1           2.18   26.25        green   \n",
       "7861601         1.0                2           1.12    9.70        green   \n",
       "7861602         1.0                1           4.59   39.97        green   \n",
       "7861603         1.0                1           2.03   16.60        green   \n",
       "\n",
       "        pickup_borough dropoff_borough pickup_date pickup_hour dropoff_date  \\\n",
       "0            Manhattan       Manhattan  2023-01-01           0   2023-01-01   \n",
       "1            Manhattan       Manhattan  2023-01-01           0   2023-01-01   \n",
       "2            Manhattan       Manhattan  2023-01-01           0   2023-01-01   \n",
       "3            Manhattan       Manhattan  2023-01-01           0   2023-01-01   \n",
       "4            Manhattan           Bronx  2023-01-01           0   2023-01-01   \n",
       "...                ...             ...         ...         ...          ...   \n",
       "7861599      Manhattan       Manhattan  2024-01-31          22   2024-01-31   \n",
       "7861600      Manhattan       Manhattan  2024-01-31          22   2024-01-31   \n",
       "7861601         Queens          Queens  2024-01-31          23   2024-01-31   \n",
       "7861602       Brooklyn       Manhattan  2024-01-31          23   2024-02-01   \n",
       "7861603      Manhattan       Manhattan  2024-01-31          23   2024-01-31   \n",
       "\n",
       "        dropoff_hour   año  mes  dia  dayofweek   hora  \n",
       "0                  0  2023    1    1          6  00:00  \n",
       "1                  1  2023    1    1          6  00:00  \n",
       "2                  0  2023    1    1          6  00:00  \n",
       "3                  0  2023    1    1          6  00:00  \n",
       "4                  0  2023    1    1          6  00:00  \n",
       "...              ...   ...  ...  ...        ...    ...  \n",
       "7861599           22  2024    1   31          2  22:00  \n",
       "7861600           22  2024    1   31          2  22:00  \n",
       "7861601           23  2024    1   31          2  23:00  \n",
       "7861602            0  2024    1   31          2  23:00  \n",
       "7861603           23  2024    1   31          2  23:00  \n",
       "\n",
       "[7770334 rows x 16 columns]"
      ]
     },
     "execution_count": 6,
     "metadata": {},
     "output_type": "execute_result"
    }
   ],
   "source": [
    "# Convertir la columna 'pickup_date' a tipo datetime y extraer año, mes y día\n",
    "taxis_NYC['año'] = pd.to_datetime(taxis_NYC['pickup_date']).dt.year\n",
    "taxis_NYC['mes'] = pd.to_datetime(taxis_NYC['pickup_date']).dt.month\n",
    "taxis_NYC['dia'] = pd.to_datetime(taxis_NYC['pickup_date']).dt.day\n",
    "taxis_NYC['dayofweek'] = pd.to_datetime(taxis_NYC['pickup_date']).dt.dayofweek\n",
    "\n",
    "# Convertir la columna 'pickup_hour' a tipo datetime y extraer solo la hora\n",
    "taxis_NYC['hora'] = taxis_NYC['pickup_hour']\n",
    "\n",
    "#añadiendo ceros a la hora\n",
    "taxis_NYC['hora'] = taxis_NYC['hora'].str.zfill(2) + ':00'\n",
    "\n",
    "taxis_NYC"
   ]
  },
  {
   "cell_type": "code",
   "execution_count": 7,
   "metadata": {},
   "outputs": [
    {
     "data": {
      "text/html": [
       "<div>\n",
       "<style scoped>\n",
       "    .dataframe tbody tr th:only-of-type {\n",
       "        vertical-align: middle;\n",
       "    }\n",
       "\n",
       "    .dataframe tbody tr th {\n",
       "        vertical-align: top;\n",
       "    }\n",
       "\n",
       "    .dataframe thead th {\n",
       "        text-align: right;\n",
       "    }\n",
       "</style>\n",
       "<table border=\"1\" class=\"dataframe\">\n",
       "  <thead>\n",
       "    <tr style=\"text-align: right;\">\n",
       "      <th></th>\n",
       "      <th>service_type</th>\n",
       "      <th>pickup_borough</th>\n",
       "      <th>año</th>\n",
       "      <th>mes</th>\n",
       "      <th>dia</th>\n",
       "      <th>dayofweek</th>\n",
       "      <th>hora</th>\n",
       "      <th>amountt</th>\n",
       "    </tr>\n",
       "  </thead>\n",
       "  <tbody>\n",
       "    <tr>\n",
       "      <th>0</th>\n",
       "      <td>green</td>\n",
       "      <td>Bronx</td>\n",
       "      <td>2023</td>\n",
       "      <td>1</td>\n",
       "      <td>1</td>\n",
       "      <td>6</td>\n",
       "      <td>01:00</td>\n",
       "      <td>53.75</td>\n",
       "    </tr>\n",
       "    <tr>\n",
       "      <th>1</th>\n",
       "      <td>green</td>\n",
       "      <td>Bronx</td>\n",
       "      <td>2023</td>\n",
       "      <td>1</td>\n",
       "      <td>1</td>\n",
       "      <td>6</td>\n",
       "      <td>12:00</td>\n",
       "      <td>11.50</td>\n",
       "    </tr>\n",
       "    <tr>\n",
       "      <th>2</th>\n",
       "      <td>green</td>\n",
       "      <td>Bronx</td>\n",
       "      <td>2023</td>\n",
       "      <td>1</td>\n",
       "      <td>1</td>\n",
       "      <td>6</td>\n",
       "      <td>18:00</td>\n",
       "      <td>15.00</td>\n",
       "    </tr>\n",
       "    <tr>\n",
       "      <th>3</th>\n",
       "      <td>green</td>\n",
       "      <td>Bronx</td>\n",
       "      <td>2023</td>\n",
       "      <td>1</td>\n",
       "      <td>1</td>\n",
       "      <td>6</td>\n",
       "      <td>20:00</td>\n",
       "      <td>9.00</td>\n",
       "    </tr>\n",
       "    <tr>\n",
       "      <th>4</th>\n",
       "      <td>green</td>\n",
       "      <td>Bronx</td>\n",
       "      <td>2023</td>\n",
       "      <td>1</td>\n",
       "      <td>2</td>\n",
       "      <td>0</td>\n",
       "      <td>09:00</td>\n",
       "      <td>25.90</td>\n",
       "    </tr>\n",
       "    <tr>\n",
       "      <th>...</th>\n",
       "      <td>...</td>\n",
       "      <td>...</td>\n",
       "      <td>...</td>\n",
       "      <td>...</td>\n",
       "      <td>...</td>\n",
       "      <td>...</td>\n",
       "      <td>...</td>\n",
       "      <td>...</td>\n",
       "    </tr>\n",
       "    <tr>\n",
       "      <th>58605</th>\n",
       "      <td>yellow</td>\n",
       "      <td>Staten Island</td>\n",
       "      <td>2024</td>\n",
       "      <td>1</td>\n",
       "      <td>26</td>\n",
       "      <td>4</td>\n",
       "      <td>12:00</td>\n",
       "      <td>108.94</td>\n",
       "    </tr>\n",
       "    <tr>\n",
       "      <th>58606</th>\n",
       "      <td>yellow</td>\n",
       "      <td>Staten Island</td>\n",
       "      <td>2024</td>\n",
       "      <td>1</td>\n",
       "      <td>27</td>\n",
       "      <td>5</td>\n",
       "      <td>19:00</td>\n",
       "      <td>19.08</td>\n",
       "    </tr>\n",
       "    <tr>\n",
       "      <th>58607</th>\n",
       "      <td>yellow</td>\n",
       "      <td>Staten Island</td>\n",
       "      <td>2024</td>\n",
       "      <td>1</td>\n",
       "      <td>28</td>\n",
       "      <td>6</td>\n",
       "      <td>12:00</td>\n",
       "      <td>27.00</td>\n",
       "    </tr>\n",
       "    <tr>\n",
       "      <th>58608</th>\n",
       "      <td>yellow</td>\n",
       "      <td>Staten Island</td>\n",
       "      <td>2024</td>\n",
       "      <td>1</td>\n",
       "      <td>29</td>\n",
       "      <td>0</td>\n",
       "      <td>08:00</td>\n",
       "      <td>5.20</td>\n",
       "    </tr>\n",
       "    <tr>\n",
       "      <th>58609</th>\n",
       "      <td>yellow</td>\n",
       "      <td>Staten Island</td>\n",
       "      <td>2024</td>\n",
       "      <td>1</td>\n",
       "      <td>29</td>\n",
       "      <td>0</td>\n",
       "      <td>17:00</td>\n",
       "      <td>12.83</td>\n",
       "    </tr>\n",
       "  </tbody>\n",
       "</table>\n",
       "<p>58610 rows × 8 columns</p>\n",
       "</div>"
      ],
      "text/plain": [
       "      service_type pickup_borough   año  mes  dia  dayofweek   hora  amountt\n",
       "0            green          Bronx  2023    1    1          6  01:00    53.75\n",
       "1            green          Bronx  2023    1    1          6  12:00    11.50\n",
       "2            green          Bronx  2023    1    1          6  18:00    15.00\n",
       "3            green          Bronx  2023    1    1          6  20:00     9.00\n",
       "4            green          Bronx  2023    1    2          0  09:00    25.90\n",
       "...            ...            ...   ...  ...  ...        ...    ...      ...\n",
       "58605       yellow  Staten Island  2024    1   26          4  12:00   108.94\n",
       "58606       yellow  Staten Island  2024    1   27          5  19:00    19.08\n",
       "58607       yellow  Staten Island  2024    1   28          6  12:00    27.00\n",
       "58608       yellow  Staten Island  2024    1   29          0  08:00     5.20\n",
       "58609       yellow  Staten Island  2024    1   29          0  17:00    12.83\n",
       "\n",
       "[58610 rows x 8 columns]"
      ]
     },
     "execution_count": 7,
     "metadata": {},
     "output_type": "execute_result"
    }
   ],
   "source": [
    "#Primero agrupamos por ciertas columnas para verificar si nos conviene o no los datos de la columna 'demand'\n",
    "\n",
    "# Agrupa los datos en el DataFrame taxis_NYC por varias columnas y realiza agregaciones\n",
    "# para calcular estadísticas como el número de pasajeros, la distancia promedio del viaje\n",
    "# y el monto promedio del viaje para cada grupo definido por las columnas especificadas.\n",
    "taxis_NYC = taxis_NYC.groupby(['service_type', 'pickup_borough', 'año', 'mes', 'dia', 'dayofweek', 'hora']).agg({'amount': 'mean'}).reset_index()\n",
    "\n",
    "# Renombra las columnas del DataFrame resultante para hacerlas más descriptivas.\n",
    "# Las nuevas columnas son 'service_type', 'pickup_borough', 'año', 'mes', 'dia', 'dayofweek', 'hora',\n",
    "# 'demand' (número de pasajeros), 'total_millas_recorridas' (distancia promedio del viaje),\n",
    "# y 'ganancia_hora' (monto promedio del viaje).\n",
    "taxis_NYC.columns = ['service_type', 'pickup_borough', 'año', 'mes', 'dia', 'dayofweek', 'hora', 'amountt']\n",
    "\n",
    "# Imprime el DataFrame resultante después de aplicar las transformaciones anteriores.\n",
    "taxis_NYC\n"
   ]
  },
  {
   "cell_type": "code",
   "execution_count": 10,
   "metadata": {},
   "outputs": [],
   "source": [
    "#taxis_NYC.to_parquet('../modeloML/DataSetML.parquet')"
   ]
  },
  {
   "cell_type": "markdown",
   "metadata": {},
   "source": [
    "### EDA"
   ]
  },
  {
   "cell_type": "markdown",
   "metadata": {},
   "source": [
    "Se realiza un muestreo de los datos en graficas para tener contexto de lo que nos dicen los datos"
   ]
  },
  {
   "cell_type": "code",
   "execution_count": 8,
   "metadata": {},
   "outputs": [],
   "source": [
    "#hacemos una doble copia por seguridad\n",
    "conexion = taxis_NYC.copy()\n",
    "DataSetEDA = conexion.copy()"
   ]
  },
  {
   "cell_type": "code",
   "execution_count": 9,
   "metadata": {},
   "outputs": [
    {
     "data": {
      "text/html": [
       "<div>\n",
       "<style scoped>\n",
       "    .dataframe tbody tr th:only-of-type {\n",
       "        vertical-align: middle;\n",
       "    }\n",
       "\n",
       "    .dataframe tbody tr th {\n",
       "        vertical-align: top;\n",
       "    }\n",
       "\n",
       "    .dataframe thead th {\n",
       "        text-align: right;\n",
       "    }\n",
       "</style>\n",
       "<table border=\"1\" class=\"dataframe\">\n",
       "  <thead>\n",
       "    <tr style=\"text-align: right;\">\n",
       "      <th></th>\n",
       "      <th>service_type</th>\n",
       "      <th>pickup_borough</th>\n",
       "      <th>dayofweek</th>\n",
       "      <th>amountt</th>\n",
       "    </tr>\n",
       "  </thead>\n",
       "  <tbody>\n",
       "    <tr>\n",
       "      <th>0</th>\n",
       "      <td>green</td>\n",
       "      <td>Bronx</td>\n",
       "      <td>0</td>\n",
       "      <td>71.029575</td>\n",
       "    </tr>\n",
       "    <tr>\n",
       "      <th>1</th>\n",
       "      <td>green</td>\n",
       "      <td>Bronx</td>\n",
       "      <td>1</td>\n",
       "      <td>84.200676</td>\n",
       "    </tr>\n",
       "    <tr>\n",
       "      <th>2</th>\n",
       "      <td>green</td>\n",
       "      <td>Bronx</td>\n",
       "      <td>2</td>\n",
       "      <td>101.101038</td>\n",
       "    </tr>\n",
       "    <tr>\n",
       "      <th>3</th>\n",
       "      <td>green</td>\n",
       "      <td>Bronx</td>\n",
       "      <td>3</td>\n",
       "      <td>96.593106</td>\n",
       "    </tr>\n",
       "    <tr>\n",
       "      <th>4</th>\n",
       "      <td>green</td>\n",
       "      <td>Bronx</td>\n",
       "      <td>4</td>\n",
       "      <td>110.922447</td>\n",
       "    </tr>\n",
       "    <tr>\n",
       "      <th>...</th>\n",
       "      <td>...</td>\n",
       "      <td>...</td>\n",
       "      <td>...</td>\n",
       "      <td>...</td>\n",
       "    </tr>\n",
       "    <tr>\n",
       "      <th>63</th>\n",
       "      <td>yellow</td>\n",
       "      <td>Staten Island</td>\n",
       "      <td>2</td>\n",
       "      <td>131.321974</td>\n",
       "    </tr>\n",
       "    <tr>\n",
       "      <th>64</th>\n",
       "      <td>yellow</td>\n",
       "      <td>Staten Island</td>\n",
       "      <td>3</td>\n",
       "      <td>128.287258</td>\n",
       "    </tr>\n",
       "    <tr>\n",
       "      <th>65</th>\n",
       "      <td>yellow</td>\n",
       "      <td>Staten Island</td>\n",
       "      <td>4</td>\n",
       "      <td>109.618065</td>\n",
       "    </tr>\n",
       "    <tr>\n",
       "      <th>66</th>\n",
       "      <td>yellow</td>\n",
       "      <td>Staten Island</td>\n",
       "      <td>5</td>\n",
       "      <td>145.749375</td>\n",
       "    </tr>\n",
       "    <tr>\n",
       "      <th>67</th>\n",
       "      <td>yellow</td>\n",
       "      <td>Staten Island</td>\n",
       "      <td>6</td>\n",
       "      <td>132.063514</td>\n",
       "    </tr>\n",
       "  </tbody>\n",
       "</table>\n",
       "<p>68 rows × 4 columns</p>\n",
       "</div>"
      ],
      "text/plain": [
       "   service_type pickup_borough  dayofweek     amountt\n",
       "0         green          Bronx          0   71.029575\n",
       "1         green          Bronx          1   84.200676\n",
       "2         green          Bronx          2  101.101038\n",
       "3         green          Bronx          3   96.593106\n",
       "4         green          Bronx          4  110.922447\n",
       "..          ...            ...        ...         ...\n",
       "63       yellow  Staten Island          2  131.321974\n",
       "64       yellow  Staten Island          3  128.287258\n",
       "65       yellow  Staten Island          4  109.618065\n",
       "66       yellow  Staten Island          5  145.749375\n",
       "67       yellow  Staten Island          6  132.063514\n",
       "\n",
       "[68 rows x 4 columns]"
      ]
     },
     "execution_count": 9,
     "metadata": {},
     "output_type": "execute_result"
    }
   ],
   "source": [
    "# como la frecuencia es muy pequena, se hace una agrupacion de demanda por dias de la semana, fuera del año o mes, asi tendremos una demanda mas frecuente.\n",
    "\n",
    "# Agrupa los datos en el DataFrame taxis_NYC por las columnas 'service_type', 'pickup_borough',\n",
    "# 'dayofweek' y 'hora', y cuenta el número de registros en cada grupo.\n",
    "DataSetEDA = DataSetEDA.groupby(['service_type', 'pickup_borough','año','mes', 'dia', 'dayofweek']).agg({'amountt': 'sum'}).reset_index()\n",
    "DataSetEDA = DataSetEDA.groupby(['service_type', 'pickup_borough', 'dayofweek']).agg({'amountt': 'mean'}).reset_index()\n",
    "\n",
    "# Convierte el resultado en un nuevo DataFrame, taxis_NYC.\n",
    "DataSetEDA = pd.DataFrame(DataSetEDA)\n",
    "\n",
    "# Devuelve el DataFrame resultante después de aplicar las transformaciones anteriores.\n",
    "DataSetEDA"
   ]
  },
  {
   "cell_type": "code",
   "execution_count": 24,
   "metadata": {},
   "outputs": [
    {
     "data": {
      "image/png": "[encoded data removed]",
      "text/plain": [
       "<Figure size 864x432 with 1 Axes>"
      ]
     },
     "metadata": {
      "needs_background": "light"
     },
     "output_type": "display_data"
    }
   ],
   "source": [
    "import matplotlib.pyplot as plt\n",
    "\n",
    "# Suponiendo que tienes un DataFrame llamado 'taxis_NYC' con las columnas 'service_type' y 'demand'\n",
    "\n",
    "# Agrupa los datos por tipo de servicio y calcula la demanda promedio para cada tipo\n",
    "demand_por_servicio = DataSetEDA.groupby('service_type')['amountt'].sum()\n",
    "\n",
    "# Obtiene los tipos de servicio y la demanda promedio\n",
    "tipos_servicio = demand_por_servicio.index\n",
    "demanda_promedio = demand_por_servicio.values\n",
    "\n",
    "plt.figure(figsize=(12, 6))  # Ajusta el tamaño a 10 pulgadas de ancho y 6 pulgadas de alto\n",
    "\n",
    "# Crea el gráfico de barras\n",
    "plt.bar(tipos_servicio, demanda_promedio, color=['green','orange'])\n",
    "\n",
    "# Agrega etiquetas y título al gráfico\n",
    "plt.xlabel('Tipo de Servicio')\n",
    "plt.ylabel('Ganancia Promedio')\n",
    "plt.title('Ganancia Promedio por Tipo de Servicio')\n",
    "\n",
    "# Muestra el gráfico\n",
    "plt.show()\n"
   ]
  },
  {
   "cell_type": "markdown",
   "metadata": {},
   "source": [
    "Esta grafica nos proporciona informacion de las ganancias segun tipo de servicio y vemos que los taxis amarillos tienen una mayor adquisicion y es devido al gran numero de taxis que existen sobre los verdes."
   ]
  },
  {
   "cell_type": "code",
   "execution_count": 25,
   "metadata": {},
   "outputs": [
    {
     "data": {
      "image/png": "[encoded data removed]",
      "text/plain": [
       "<Figure size 864x432 with 1 Axes>"
      ]
     },
     "metadata": {
      "needs_background": "light"
     },
     "output_type": "display_data"
    }
   ],
   "source": [
    "import matplotlib.pyplot as plt\n",
    "import numpy as np\n",
    "\n",
    "# Suponiendo que tienes un DataFrame llamado 'taxis_NYC' con las columnas 'service_type' y 'pickup_borough'\n",
    "\n",
    "# Agrupa los datos por tipo de servicio y borough y calcula la demanda promedio para cada grupo\n",
    "demand_por_tipo_y_borough = DataSetEDA.groupby(['service_type', 'pickup_borough'])['amountt'].sum().unstack()\n",
    "\n",
    "# Obtiene los tipos de servicio y boroughs\n",
    "tipos_servicio = demand_por_tipo_y_borough.index\n",
    "boroughs = demand_por_tipo_y_borough.columns\n",
    "\n",
    "# Configura las posiciones de las barras\n",
    "posiciones = np.arange(len(boroughs))\n",
    "\n",
    "# Ancho de las barras\n",
    "ancho_barra = 0.35\n",
    "\n",
    "# Ajusta el tamaño de la figura\n",
    "plt.figure(figsize=(12, 6))  # Ajusta el tamaño a 10 pulgadas de ancho y 6 pulgadas de alto\n",
    "\n",
    "# Crea el gráfico de barras agrupadas\n",
    "plt.bar(posiciones - ancho_barra/2, demand_por_tipo_y_borough.loc['yellow'], width=ancho_barra, label='Yellow', color=['orange'])\n",
    "#plt.bar(posiciones + ancho_barra/2, demand_por_tipo_y_borough.loc['green']*10, width=ancho_barra, label='Green', color=['green'])\n",
    "\n",
    "# Configura las etiquetas de los ejes y el título\n",
    "plt.xlabel('Borough')\n",
    "plt.ylabel('Ganancia Promedio')\n",
    "plt.title('Ganancia Promedio por Tipo de Servicio y Borough')\n",
    "plt.xticks(posiciones, boroughs)  # Establece las etiquetas del eje x como los boroughs\n",
    "plt.legend()  # Muestra la leyenda\n",
    "\n",
    "# Muestra el gráfico\n",
    "plt.tight_layout()  # Ajusta el diseño para que las etiquetas no se superpongan\n",
    "plt.show()\n"
   ]
  },
  {
   "cell_type": "code",
   "execution_count": 26,
   "metadata": {},
   "outputs": [
    {
     "data": {
      "image/png": "[encoded data removed]",
      "text/plain": [
       "<Figure size 864x432 with 1 Axes>"
      ]
     },
     "metadata": {
      "needs_background": "light"
     },
     "output_type": "display_data"
    }
   ],
   "source": [
    "import matplotlib.pyplot as plt\n",
    "import numpy as np\n",
    "\n",
    "# Suponiendo que tienes un DataFrame llamado 'taxis_NYC' con las columnas 'service_type' y 'pickup_borough'\n",
    "\n",
    "# Agrupa los datos por tipo de servicio y borough y calcula la demanda promedio para cada grupo\n",
    "demand_por_tipo_y_borough = DataSetEDA.groupby(['service_type', 'pickup_borough'])['amountt'].sum().unstack()\n",
    "\n",
    "# Obtiene los tipos de servicio y boroughs\n",
    "tipos_servicio = demand_por_tipo_y_borough.index\n",
    "boroughs = demand_por_tipo_y_borough.columns\n",
    "\n",
    "# Configura las posiciones de las barras\n",
    "posiciones = np.arange(len(boroughs))\n",
    "\n",
    "# Ancho de las barras\n",
    "ancho_barra = 0.35\n",
    "\n",
    "# Ajusta el tamaño de la figura\n",
    "plt.figure(figsize=(12, 6))  # Ajusta el tamaño a 10 pulgadas de ancho y 6 pulgadas de alto\n",
    "\n",
    "# Crea el gráfico de barras agrupadas\n",
    "#plt.bar(posiciones - ancho_barra/2, demand_por_tipo_y_borough.loc['yellow'], width=ancho_barra, label='Yellow', color=['orange'])\n",
    "plt.bar(posiciones + ancho_barra/2, demand_por_tipo_y_borough.loc['green'], width=ancho_barra, label='Green', color=['green'])\n",
    "\n",
    "# Configura las etiquetas de los ejes y el título\n",
    "plt.xlabel('Borough')\n",
    "plt.ylabel('Ganancia Promedio')\n",
    "plt.title('Ganancia Promedio por Tipo de Servicio y Borough')\n",
    "plt.xticks(posiciones, boroughs)  # Establece las etiquetas del eje x como los boroughs\n",
    "plt.legend()  # Muestra la leyenda\n",
    "\n",
    "# Muestra el gráfico\n",
    "plt.tight_layout()  # Ajusta el diseño para que las etiquetas no se superpongan\n",
    "plt.show()\n"
   ]
  },
  {
   "cell_type": "code",
   "execution_count": 27,
   "metadata": {},
   "outputs": [
    {
     "data": {
      "image/png": "[encoded data removed]",
      "text/plain": [
       "<Figure size 864x432 with 1 Axes>"
      ]
     },
     "metadata": {
      "needs_background": "light"
     },
     "output_type": "display_data"
    }
   ],
   "source": [
    "import matplotlib.pyplot as plt\n",
    "import numpy as np\n",
    "\n",
    "# Suponiendo que tienes un DataFrame llamado 'taxis_NYC' con las columnas 'service_type' y 'pickup_borough'\n",
    "\n",
    "# Agrupa los datos por tipo de servicio y borough y calcula la demanda promedio para cada grupo\n",
    "demand_por_tipo_y_borough = DataSetEDA.groupby(['service_type', 'pickup_borough'])['amountt'].sum().unstack()\n",
    "\n",
    "# Obtiene los tipos de servicio y boroughs\n",
    "tipos_servicio = demand_por_tipo_y_borough.index\n",
    "boroughs = demand_por_tipo_y_borough.columns\n",
    "\n",
    "# Configura las posiciones de las barras\n",
    "posiciones = np.arange(len(boroughs))\n",
    "\n",
    "# Ancho de las barras\n",
    "ancho_barra = 0.35\n",
    "\n",
    "# Ajusta el tamaño de la figura\n",
    "plt.figure(figsize=(12, 6))  # Ajusta el tamaño a 10 pulgadas de ancho y 6 pulgadas de alto\n",
    "\n",
    "# Crea el gráfico de barras agrupadas\n",
    "plt.bar(posiciones - ancho_barra/2, demand_por_tipo_y_borough.loc['yellow'], width=ancho_barra, label='Yellow', color=['orange'])\n",
    "plt.bar(posiciones + ancho_barra/2, demand_por_tipo_y_borough.loc['green'], width=ancho_barra, label='Green', color=['green'])\n",
    "\n",
    "# Configura las etiquetas de los ejes y el título\n",
    "plt.xlabel('Borough')\n",
    "plt.ylabel('Ganancia Promedio')\n",
    "plt.title('Ganancia Promedio por Tipo de Servicio y Borough')\n",
    "plt.xticks(posiciones, boroughs)  # Establece las etiquetas del eje x como los boroughs\n",
    "plt.legend()  # Muestra la leyenda\n",
    "\n",
    "# Muestra el gráfico\n",
    "plt.tight_layout()  # Ajusta el diseño para que las etiquetas no se superpongan\n",
    "plt.show()\n"
   ]
  },
  {
   "cell_type": "markdown",
   "metadata": {},
   "source": [
    "Esta grafica se analiza las ganancias por Distrito, se extrapola que la mayor demanda de taxis es en el Distrito de Manhattan pero donde mas se genera ganacias es en el distrito de Queens."
   ]
  },
  {
   "cell_type": "code",
   "execution_count": 29,
   "metadata": {},
   "outputs": [
    {
     "data": {
      "image/png": "[encoded data removed]",
      "text/plain": [
       "<Figure size 864x432 with 1 Axes>"
      ]
     },
     "metadata": {
      "needs_background": "light"
     },
     "output_type": "display_data"
    }
   ],
   "source": [
    "import matplotlib.pyplot as plt\n",
    "import numpy as np\n",
    "\n",
    "# Suponiendo que tienes un DataFrame llamado 'taxis_NYC' con las columnas 'service_type' y 'pickup_borough'\n",
    "\n",
    "# Agrupa los datos por tipo de servicio y borough y calcula la demanda promedio para cada grupo\n",
    "demand_por_tipo_y_borough = taxis_NYC.groupby(['service_type', 'dayofweek'])['amountt'].sum().unstack()\n",
    "\n",
    "# Obtiene los tipos de servicio y boroughs\n",
    "tipos_servicio = demand_por_tipo_y_borough.index\n",
    "boroughs = demand_por_tipo_y_borough.columns\n",
    "\n",
    "# Configura las posiciones de las barras\n",
    "posiciones = np.arange(len(boroughs))\n",
    "\n",
    "# Ancho de las barras\n",
    "ancho_barra = 0.35\n",
    "\n",
    "plt.figure(figsize=(12, 6))  # Ajusta el tamaño a 10 pulgadas de ancho y 6 pulgadas de alto\n",
    "\n",
    "# Crea el gráfico de barras agrupadas\n",
    "plt.bar(posiciones - ancho_barra/2, demand_por_tipo_y_borough.loc['yellow'], width=ancho_barra, label='Yellow', color=['orange'])\n",
    "plt.bar(posiciones + ancho_barra/2, demand_por_tipo_y_borough.loc['green'], width=ancho_barra, label='Green', color=['green'])\n",
    "\n",
    "# Configura las etiquetas de los ejes y el título\n",
    "plt.xlabel('Dia')\n",
    "plt.ylabel('Ganancia Promedio')\n",
    "plt.title('Ganancia Promedio por Tipo de Servicio y Día')\n",
    "plt.xticks(posiciones, boroughs)  # Establece las etiquetas del eje x como los boroughs\n",
    "plt.legend()  # Muestra la leyenda\n",
    "plt.xticks(rotation=45)\n",
    "# Muestra el gráfico\n",
    "plt.tight_layout()  # Ajusta el diseño para que las etiquetas no se superpongan\n",
    "plt.show()\n"
   ]
  },
  {
   "cell_type": "markdown",
   "metadata": {},
   "source": [
    "Analizando este grafico notamos que todos los dias es casi la misma tendencia de ganancia, pero los dias de semana L-V hay un poco mas de ganancia."
   ]
  },
  {
   "cell_type": "markdown",
   "metadata": {},
   "source": [
    "## Modelamiento de Machine Learning"
   ]
  },
  {
   "cell_type": "markdown",
   "metadata": {},
   "source": [
    "### Se cambiaran ciertos parametros adecuando a nuestro modelo de prediccion de ganancia"
   ]
  },
  {
   "cell_type": "code",
   "execution_count": 39,
   "metadata": {},
   "outputs": [],
   "source": [
    "#hacemos una copia de nuestro DF taxis_NYC.parquet en DataSetML\n",
    "conexion = taxis_NYC.copy()\n",
    "DataSetML = conexion.copy()"
   ]
  },
  {
   "cell_type": "code",
   "execution_count": 40,
   "metadata": {},
   "outputs": [
    {
     "data": {
      "text/html": [
       "<div>\n",
       "<style scoped>\n",
       "    .dataframe tbody tr th:only-of-type {\n",
       "        vertical-align: middle;\n",
       "    }\n",
       "\n",
       "    .dataframe tbody tr th {\n",
       "        vertical-align: top;\n",
       "    }\n",
       "\n",
       "    .dataframe thead th {\n",
       "        text-align: right;\n",
       "    }\n",
       "</style>\n",
       "<table border=\"1\" class=\"dataframe\">\n",
       "  <thead>\n",
       "    <tr style=\"text-align: right;\">\n",
       "      <th></th>\n",
       "      <th>service_type</th>\n",
       "      <th>pickup_borough</th>\n",
       "      <th>año</th>\n",
       "      <th>mes</th>\n",
       "      <th>dia</th>\n",
       "      <th>dayofweek</th>\n",
       "      <th>hora</th>\n",
       "      <th>amountt</th>\n",
       "    </tr>\n",
       "  </thead>\n",
       "  <tbody>\n",
       "    <tr>\n",
       "      <th>0</th>\n",
       "      <td>green</td>\n",
       "      <td>Bronx</td>\n",
       "      <td>2023</td>\n",
       "      <td>1</td>\n",
       "      <td>1</td>\n",
       "      <td>6</td>\n",
       "      <td>01:00</td>\n",
       "      <td>53.75</td>\n",
       "    </tr>\n",
       "    <tr>\n",
       "      <th>1</th>\n",
       "      <td>green</td>\n",
       "      <td>Bronx</td>\n",
       "      <td>2023</td>\n",
       "      <td>1</td>\n",
       "      <td>1</td>\n",
       "      <td>6</td>\n",
       "      <td>12:00</td>\n",
       "      <td>11.50</td>\n",
       "    </tr>\n",
       "    <tr>\n",
       "      <th>2</th>\n",
       "      <td>green</td>\n",
       "      <td>Bronx</td>\n",
       "      <td>2023</td>\n",
       "      <td>1</td>\n",
       "      <td>1</td>\n",
       "      <td>6</td>\n",
       "      <td>18:00</td>\n",
       "      <td>15.00</td>\n",
       "    </tr>\n",
       "    <tr>\n",
       "      <th>3</th>\n",
       "      <td>green</td>\n",
       "      <td>Bronx</td>\n",
       "      <td>2023</td>\n",
       "      <td>1</td>\n",
       "      <td>1</td>\n",
       "      <td>6</td>\n",
       "      <td>20:00</td>\n",
       "      <td>9.00</td>\n",
       "    </tr>\n",
       "    <tr>\n",
       "      <th>4</th>\n",
       "      <td>green</td>\n",
       "      <td>Bronx</td>\n",
       "      <td>2023</td>\n",
       "      <td>1</td>\n",
       "      <td>2</td>\n",
       "      <td>0</td>\n",
       "      <td>09:00</td>\n",
       "      <td>25.90</td>\n",
       "    </tr>\n",
       "    <tr>\n",
       "      <th>...</th>\n",
       "      <td>...</td>\n",
       "      <td>...</td>\n",
       "      <td>...</td>\n",
       "      <td>...</td>\n",
       "      <td>...</td>\n",
       "      <td>...</td>\n",
       "      <td>...</td>\n",
       "      <td>...</td>\n",
       "    </tr>\n",
       "    <tr>\n",
       "      <th>58605</th>\n",
       "      <td>yellow</td>\n",
       "      <td>Staten Island</td>\n",
       "      <td>2024</td>\n",
       "      <td>1</td>\n",
       "      <td>26</td>\n",
       "      <td>4</td>\n",
       "      <td>12:00</td>\n",
       "      <td>108.94</td>\n",
       "    </tr>\n",
       "    <tr>\n",
       "      <th>58606</th>\n",
       "      <td>yellow</td>\n",
       "      <td>Staten Island</td>\n",
       "      <td>2024</td>\n",
       "      <td>1</td>\n",
       "      <td>27</td>\n",
       "      <td>5</td>\n",
       "      <td>19:00</td>\n",
       "      <td>19.08</td>\n",
       "    </tr>\n",
       "    <tr>\n",
       "      <th>58607</th>\n",
       "      <td>yellow</td>\n",
       "      <td>Staten Island</td>\n",
       "      <td>2024</td>\n",
       "      <td>1</td>\n",
       "      <td>28</td>\n",
       "      <td>6</td>\n",
       "      <td>12:00</td>\n",
       "      <td>27.00</td>\n",
       "    </tr>\n",
       "    <tr>\n",
       "      <th>58608</th>\n",
       "      <td>yellow</td>\n",
       "      <td>Staten Island</td>\n",
       "      <td>2024</td>\n",
       "      <td>1</td>\n",
       "      <td>29</td>\n",
       "      <td>0</td>\n",
       "      <td>08:00</td>\n",
       "      <td>5.20</td>\n",
       "    </tr>\n",
       "    <tr>\n",
       "      <th>58609</th>\n",
       "      <td>yellow</td>\n",
       "      <td>Staten Island</td>\n",
       "      <td>2024</td>\n",
       "      <td>1</td>\n",
       "      <td>29</td>\n",
       "      <td>0</td>\n",
       "      <td>17:00</td>\n",
       "      <td>12.83</td>\n",
       "    </tr>\n",
       "  </tbody>\n",
       "</table>\n",
       "<p>58610 rows × 8 columns</p>\n",
       "</div>"
      ],
      "text/plain": [
       "      service_type pickup_borough   año  mes  dia  dayofweek   hora  amountt\n",
       "0            green          Bronx  2023    1    1          6  01:00    53.75\n",
       "1            green          Bronx  2023    1    1          6  12:00    11.50\n",
       "2            green          Bronx  2023    1    1          6  18:00    15.00\n",
       "3            green          Bronx  2023    1    1          6  20:00     9.00\n",
       "4            green          Bronx  2023    1    2          0  09:00    25.90\n",
       "...            ...            ...   ...  ...  ...        ...    ...      ...\n",
       "58605       yellow  Staten Island  2024    1   26          4  12:00   108.94\n",
       "58606       yellow  Staten Island  2024    1   27          5  19:00    19.08\n",
       "58607       yellow  Staten Island  2024    1   28          6  12:00    27.00\n",
       "58608       yellow  Staten Island  2024    1   29          0  08:00     5.20\n",
       "58609       yellow  Staten Island  2024    1   29          0  17:00    12.83\n",
       "\n",
       "[58610 rows x 8 columns]"
      ]
     },
     "execution_count": 40,
     "metadata": {},
     "output_type": "execute_result"
    }
   ],
   "source": [
    "taxis_NYC"
   ]
  },
  {
   "cell_type": "code",
   "execution_count": 41,
   "metadata": {},
   "outputs": [
    {
     "data": {
      "text/html": [
       "<div>\n",
       "<style scoped>\n",
       "    .dataframe tbody tr th:only-of-type {\n",
       "        vertical-align: middle;\n",
       "    }\n",
       "\n",
       "    .dataframe tbody tr th {\n",
       "        vertical-align: top;\n",
       "    }\n",
       "\n",
       "    .dataframe thead th {\n",
       "        text-align: right;\n",
       "    }\n",
       "</style>\n",
       "<table border=\"1\" class=\"dataframe\">\n",
       "  <thead>\n",
       "    <tr style=\"text-align: right;\">\n",
       "      <th></th>\n",
       "      <th>service_type</th>\n",
       "      <th>pickup_borough</th>\n",
       "      <th>dayofweek</th>\n",
       "      <th>amountt</th>\n",
       "    </tr>\n",
       "  </thead>\n",
       "  <tbody>\n",
       "    <tr>\n",
       "      <th>0</th>\n",
       "      <td>green</td>\n",
       "      <td>Bronx</td>\n",
       "      <td>0</td>\n",
       "      <td>71.029575</td>\n",
       "    </tr>\n",
       "    <tr>\n",
       "      <th>1</th>\n",
       "      <td>green</td>\n",
       "      <td>Bronx</td>\n",
       "      <td>1</td>\n",
       "      <td>84.200676</td>\n",
       "    </tr>\n",
       "    <tr>\n",
       "      <th>2</th>\n",
       "      <td>green</td>\n",
       "      <td>Bronx</td>\n",
       "      <td>2</td>\n",
       "      <td>101.101038</td>\n",
       "    </tr>\n",
       "    <tr>\n",
       "      <th>3</th>\n",
       "      <td>green</td>\n",
       "      <td>Bronx</td>\n",
       "      <td>3</td>\n",
       "      <td>96.593106</td>\n",
       "    </tr>\n",
       "    <tr>\n",
       "      <th>4</th>\n",
       "      <td>green</td>\n",
       "      <td>Bronx</td>\n",
       "      <td>4</td>\n",
       "      <td>110.922447</td>\n",
       "    </tr>\n",
       "    <tr>\n",
       "      <th>...</th>\n",
       "      <td>...</td>\n",
       "      <td>...</td>\n",
       "      <td>...</td>\n",
       "      <td>...</td>\n",
       "    </tr>\n",
       "    <tr>\n",
       "      <th>63</th>\n",
       "      <td>yellow</td>\n",
       "      <td>Staten Island</td>\n",
       "      <td>2</td>\n",
       "      <td>131.321974</td>\n",
       "    </tr>\n",
       "    <tr>\n",
       "      <th>64</th>\n",
       "      <td>yellow</td>\n",
       "      <td>Staten Island</td>\n",
       "      <td>3</td>\n",
       "      <td>128.287258</td>\n",
       "    </tr>\n",
       "    <tr>\n",
       "      <th>65</th>\n",
       "      <td>yellow</td>\n",
       "      <td>Staten Island</td>\n",
       "      <td>4</td>\n",
       "      <td>109.618065</td>\n",
       "    </tr>\n",
       "    <tr>\n",
       "      <th>66</th>\n",
       "      <td>yellow</td>\n",
       "      <td>Staten Island</td>\n",
       "      <td>5</td>\n",
       "      <td>145.749375</td>\n",
       "    </tr>\n",
       "    <tr>\n",
       "      <th>67</th>\n",
       "      <td>yellow</td>\n",
       "      <td>Staten Island</td>\n",
       "      <td>6</td>\n",
       "      <td>132.063514</td>\n",
       "    </tr>\n",
       "  </tbody>\n",
       "</table>\n",
       "<p>68 rows × 4 columns</p>\n",
       "</div>"
      ],
      "text/plain": [
       "   service_type pickup_borough  dayofweek     amountt\n",
       "0         green          Bronx          0   71.029575\n",
       "1         green          Bronx          1   84.200676\n",
       "2         green          Bronx          2  101.101038\n",
       "3         green          Bronx          3   96.593106\n",
       "4         green          Bronx          4  110.922447\n",
       "..          ...            ...        ...         ...\n",
       "63       yellow  Staten Island          2  131.321974\n",
       "64       yellow  Staten Island          3  128.287258\n",
       "65       yellow  Staten Island          4  109.618065\n",
       "66       yellow  Staten Island          5  145.749375\n",
       "67       yellow  Staten Island          6  132.063514\n",
       "\n",
       "[68 rows x 4 columns]"
      ]
     },
     "execution_count": 41,
     "metadata": {},
     "output_type": "execute_result"
    }
   ],
   "source": [
    "\n",
    "# como la frecuencia es muy pequena, se hace una agrupacion de demanda por dias de la semana, fuera del año o mes, asi tendremos una demanda mas frecuente.\n",
    "\n",
    "# Agrupa los datos en el DataFrame taxis_NYC por las columnas 'service_type', 'pickup_borough',\n",
    "# 'dayofweek' y 'hora', y cuenta el número de registros en cada grupo.\n",
    "DataSetML = DataSetML.groupby(['service_type', 'pickup_borough','año','mes', 'dia', 'dayofweek']).agg({'amountt': 'sum'}).reset_index()#sumamos los promedios de las horas 24 horas y lo dejamos por dia\n",
    "DataSetML = DataSetML.groupby(['service_type', 'pickup_borough', 'dayofweek']).agg({'amountt': 'mean'}).reset_index()# aqui agrupamos mas los datos y tomamos los promedios de cada dia de lunes a viernes en todo el año\n",
    "\n",
    "# Convierte el resultado en un nuevo DataFrame, taxis_NYC.\n",
    "DataSetML = pd.DataFrame(DataSetML)\n",
    "\n",
    "# Devuelve el DataFrame resultante después de aplicar las transformaciones anteriores.\n",
    "DataSetML"
   ]
  },
  {
   "cell_type": "code",
   "execution_count": 130,
   "metadata": {},
   "outputs": [
    {
     "data": {
      "text/plain": [
       "amountt\n",
       "71.029575     1\n",
       "816.949181    1\n",
       "653.690998    1\n",
       "654.529416    1\n",
       "659.554452    1\n",
       "             ..\n",
       "22.470000     1\n",
       "35.490000     1\n",
       "57.353333     1\n",
       "49.200000     1\n",
       "132.063514    1\n",
       "Name: count, Length: 68, dtype: int64"
      ]
     },
     "execution_count": 130,
     "metadata": {},
     "output_type": "execute_result"
    }
   ],
   "source": [
    "DataSetML.amountt.value_counts()"
   ]
  },
  {
   "cell_type": "code",
   "execution_count": 131,
   "metadata": {},
   "outputs": [
    {
     "data": {
      "text/html": [
       "<div>\n",
       "<style scoped>\n",
       "    .dataframe tbody tr th:only-of-type {\n",
       "        vertical-align: middle;\n",
       "    }\n",
       "\n",
       "    .dataframe tbody tr th {\n",
       "        vertical-align: top;\n",
       "    }\n",
       "\n",
       "    .dataframe thead th {\n",
       "        text-align: right;\n",
       "    }\n",
       "</style>\n",
       "<table border=\"1\" class=\"dataframe\">\n",
       "  <thead>\n",
       "    <tr style=\"text-align: right;\">\n",
       "      <th></th>\n",
       "      <th>service_type</th>\n",
       "      <th>pickup_borough</th>\n",
       "      <th>dayofweek</th>\n",
       "      <th>amountt</th>\n",
       "      <th>serviceID</th>\n",
       "      <th>borough2ID</th>\n",
       "    </tr>\n",
       "  </thead>\n",
       "  <tbody>\n",
       "    <tr>\n",
       "      <th>0</th>\n",
       "      <td>green</td>\n",
       "      <td>Bronx</td>\n",
       "      <td>0</td>\n",
       "      <td>71.029575</td>\n",
       "      <td>0</td>\n",
       "      <td>4</td>\n",
       "    </tr>\n",
       "    <tr>\n",
       "      <th>1</th>\n",
       "      <td>green</td>\n",
       "      <td>Bronx</td>\n",
       "      <td>1</td>\n",
       "      <td>84.200676</td>\n",
       "      <td>0</td>\n",
       "      <td>4</td>\n",
       "    </tr>\n",
       "    <tr>\n",
       "      <th>2</th>\n",
       "      <td>green</td>\n",
       "      <td>Bronx</td>\n",
       "      <td>2</td>\n",
       "      <td>101.101038</td>\n",
       "      <td>0</td>\n",
       "      <td>4</td>\n",
       "    </tr>\n",
       "    <tr>\n",
       "      <th>3</th>\n",
       "      <td>green</td>\n",
       "      <td>Bronx</td>\n",
       "      <td>3</td>\n",
       "      <td>96.593106</td>\n",
       "      <td>0</td>\n",
       "      <td>4</td>\n",
       "    </tr>\n",
       "    <tr>\n",
       "      <th>4</th>\n",
       "      <td>green</td>\n",
       "      <td>Bronx</td>\n",
       "      <td>4</td>\n",
       "      <td>110.922447</td>\n",
       "      <td>0</td>\n",
       "      <td>4</td>\n",
       "    </tr>\n",
       "    <tr>\n",
       "      <th>...</th>\n",
       "      <td>...</td>\n",
       "      <td>...</td>\n",
       "      <td>...</td>\n",
       "      <td>...</td>\n",
       "      <td>...</td>\n",
       "      <td>...</td>\n",
       "    </tr>\n",
       "    <tr>\n",
       "      <th>63</th>\n",
       "      <td>yellow</td>\n",
       "      <td>Staten Island</td>\n",
       "      <td>2</td>\n",
       "      <td>131.321974</td>\n",
       "      <td>1</td>\n",
       "      <td>5</td>\n",
       "    </tr>\n",
       "    <tr>\n",
       "      <th>64</th>\n",
       "      <td>yellow</td>\n",
       "      <td>Staten Island</td>\n",
       "      <td>3</td>\n",
       "      <td>128.287258</td>\n",
       "      <td>1</td>\n",
       "      <td>5</td>\n",
       "    </tr>\n",
       "    <tr>\n",
       "      <th>65</th>\n",
       "      <td>yellow</td>\n",
       "      <td>Staten Island</td>\n",
       "      <td>4</td>\n",
       "      <td>109.618065</td>\n",
       "      <td>1</td>\n",
       "      <td>5</td>\n",
       "    </tr>\n",
       "    <tr>\n",
       "      <th>66</th>\n",
       "      <td>yellow</td>\n",
       "      <td>Staten Island</td>\n",
       "      <td>5</td>\n",
       "      <td>145.749375</td>\n",
       "      <td>1</td>\n",
       "      <td>5</td>\n",
       "    </tr>\n",
       "    <tr>\n",
       "      <th>67</th>\n",
       "      <td>yellow</td>\n",
       "      <td>Staten Island</td>\n",
       "      <td>6</td>\n",
       "      <td>132.063514</td>\n",
       "      <td>1</td>\n",
       "      <td>5</td>\n",
       "    </tr>\n",
       "  </tbody>\n",
       "</table>\n",
       "<p>68 rows × 6 columns</p>\n",
       "</div>"
      ],
      "text/plain": [
       "   service_type pickup_borough  dayofweek     amountt  serviceID  borough2ID\n",
       "0         green          Bronx          0   71.029575          0           4\n",
       "1         green          Bronx          1   84.200676          0           4\n",
       "2         green          Bronx          2  101.101038          0           4\n",
       "3         green          Bronx          3   96.593106          0           4\n",
       "4         green          Bronx          4  110.922447          0           4\n",
       "..          ...            ...        ...         ...        ...         ...\n",
       "63       yellow  Staten Island          2  131.321974          1           5\n",
       "64       yellow  Staten Island          3  128.287258          1           5\n",
       "65       yellow  Staten Island          4  109.618065          1           5\n",
       "66       yellow  Staten Island          5  145.749375          1           5\n",
       "67       yellow  Staten Island          6  132.063514          1           5\n",
       "\n",
       "[68 rows x 6 columns]"
      ]
     },
     "execution_count": 131,
     "metadata": {},
     "output_type": "execute_result"
    }
   ],
   "source": [
    "# Mapea los valores de la columna 'service_type' a valores numéricos.\n",
    "DataSetML['serviceID'] = DataSetML['service_type'].map({'yellow': 1, 'green': 0})\n",
    "\n",
    "# Mapea los valores de la columna 'pickup_borough' a valores numéricos.\n",
    "DataSetML['borough2ID'] = DataSetML['pickup_borough'].map({'Manhattan': 1, 'Queens': 2, 'Brooklyn': 3, 'Bronx': 4, 'Staten Island': 5})\n",
    "\n",
    "# Devuelve el DataFrame resultante con las columnas 'serviceID' y 'borough2ID' añadidas.\n",
    "DataSetML\n"
   ]
  },
  {
   "cell_type": "code",
   "execution_count": 132,
   "metadata": {},
   "outputs": [
    {
     "data": {
      "text/html": [
       "<div>\n",
       "<style scoped>\n",
       "    .dataframe tbody tr th:only-of-type {\n",
       "        vertical-align: middle;\n",
       "    }\n",
       "\n",
       "    .dataframe tbody tr th {\n",
       "        vertical-align: top;\n",
       "    }\n",
       "\n",
       "    .dataframe thead th {\n",
       "        text-align: right;\n",
       "    }\n",
       "</style>\n",
       "<table border=\"1\" class=\"dataframe\">\n",
       "  <thead>\n",
       "    <tr style=\"text-align: right;\">\n",
       "      <th></th>\n",
       "      <th>dayofweek</th>\n",
       "      <th>amountt</th>\n",
       "      <th>serviceID</th>\n",
       "      <th>borough2ID</th>\n",
       "    </tr>\n",
       "  </thead>\n",
       "  <tbody>\n",
       "    <tr>\n",
       "      <th>0</th>\n",
       "      <td>0</td>\n",
       "      <td>71.029575</td>\n",
       "      <td>0</td>\n",
       "      <td>4</td>\n",
       "    </tr>\n",
       "    <tr>\n",
       "      <th>1</th>\n",
       "      <td>1</td>\n",
       "      <td>84.200676</td>\n",
       "      <td>0</td>\n",
       "      <td>4</td>\n",
       "    </tr>\n",
       "    <tr>\n",
       "      <th>2</th>\n",
       "      <td>2</td>\n",
       "      <td>101.101038</td>\n",
       "      <td>0</td>\n",
       "      <td>4</td>\n",
       "    </tr>\n",
       "    <tr>\n",
       "      <th>3</th>\n",
       "      <td>3</td>\n",
       "      <td>96.593106</td>\n",
       "      <td>0</td>\n",
       "      <td>4</td>\n",
       "    </tr>\n",
       "    <tr>\n",
       "      <th>4</th>\n",
       "      <td>4</td>\n",
       "      <td>110.922447</td>\n",
       "      <td>0</td>\n",
       "      <td>4</td>\n",
       "    </tr>\n",
       "    <tr>\n",
       "      <th>...</th>\n",
       "      <td>...</td>\n",
       "      <td>...</td>\n",
       "      <td>...</td>\n",
       "      <td>...</td>\n",
       "    </tr>\n",
       "    <tr>\n",
       "      <th>63</th>\n",
       "      <td>2</td>\n",
       "      <td>131.321974</td>\n",
       "      <td>1</td>\n",
       "      <td>5</td>\n",
       "    </tr>\n",
       "    <tr>\n",
       "      <th>64</th>\n",
       "      <td>3</td>\n",
       "      <td>128.287258</td>\n",
       "      <td>1</td>\n",
       "      <td>5</td>\n",
       "    </tr>\n",
       "    <tr>\n",
       "      <th>65</th>\n",
       "      <td>4</td>\n",
       "      <td>109.618065</td>\n",
       "      <td>1</td>\n",
       "      <td>5</td>\n",
       "    </tr>\n",
       "    <tr>\n",
       "      <th>66</th>\n",
       "      <td>5</td>\n",
       "      <td>145.749375</td>\n",
       "      <td>1</td>\n",
       "      <td>5</td>\n",
       "    </tr>\n",
       "    <tr>\n",
       "      <th>67</th>\n",
       "      <td>6</td>\n",
       "      <td>132.063514</td>\n",
       "      <td>1</td>\n",
       "      <td>5</td>\n",
       "    </tr>\n",
       "  </tbody>\n",
       "</table>\n",
       "<p>68 rows × 4 columns</p>\n",
       "</div>"
      ],
      "text/plain": [
       "    dayofweek     amountt  serviceID  borough2ID\n",
       "0           0   71.029575          0           4\n",
       "1           1   84.200676          0           4\n",
       "2           2  101.101038          0           4\n",
       "3           3   96.593106          0           4\n",
       "4           4  110.922447          0           4\n",
       "..        ...         ...        ...         ...\n",
       "63          2  131.321974          1           5\n",
       "64          3  128.287258          1           5\n",
       "65          4  109.618065          1           5\n",
       "66          5  145.749375          1           5\n",
       "67          6  132.063514          1           5\n",
       "\n",
       "[68 rows x 4 columns]"
      ]
     },
     "execution_count": 132,
     "metadata": {},
     "output_type": "execute_result"
    }
   ],
   "source": [
    "#eliminando las columnas que tienes strings\n",
    "DataSetML = DataSetML.drop(columns={'service_type','pickup_borough'})\n",
    "DataSetML"
   ]
  },
  {
   "cell_type": "code",
   "execution_count": 133,
   "metadata": {},
   "outputs": [],
   "source": [
    "Modeladoganancia = DataSetML.copy()"
   ]
  },
  {
   "cell_type": "markdown",
   "metadata": {},
   "source": [
    "### Entrenamiento del Modelo"
   ]
  },
  {
   "cell_type": "code",
   "execution_count": 134,
   "metadata": {},
   "outputs": [
    {
     "data": {
      "text/plain": [
       "RandomForestRegressor(random_state=10)"
      ]
     },
     "execution_count": 134,
     "metadata": {},
     "output_type": "execute_result"
    }
   ],
   "source": [
    "import pandas as pd\n",
    "import numpy as np\n",
    "from sklearn.model_selection import train_test_split\n",
    "from sklearn.ensemble import RandomForestRegressor\n",
    "from sklearn.metrics import mean_squared_error\n",
    "from sklearn.metrics import r2_score\n",
    "from sklearn.metrics import mean_absolute_error, mean_squared_error\n",
    "\n",
    "#ModeladoDemanda['hora'] = pd.to_datetime(ModeladoDemanda['hora'], format='%H:%M').dt.hour\n",
    "\n",
    "df = Modeladoganancia\n",
    "# Separación de características y variable objetivo\n",
    "X = df.drop(['amountt'], axis=1)\n",
    "y = df['amountt']\n",
    "\n",
    "# Dividimos los datos en conjuntos de entrenamiento 70% y prueba 30%\n",
    "X_train, X_test, y_train, y_test = train_test_split(X, y, test_size=0.3, random_state=65)#65=0.9853196519149915:15=0.9850329496606642\n",
    "\n",
    "# Dividimos los datos de testeo en dos conjuntos: unos el de testeto 50%=15%T y Validacion 50%=15%T\n",
    "X_test, X_validation, y_test, y_validation = train_test_split(X_test, y_test, test_size=0.5, random_state=65)\n",
    "\n",
    "# Inicializamos y entrenamos el modelo RandomForestRegressor con parámetros ajustados\n",
    "model_taxi = RandomForestRegressor(random_state=10)      # Semilla para reproducibilidad\n",
    "\n",
    "# Entrenamiento de modelos\n",
    "model_taxi.fit(X_train, y_train)\n",
    "\n"
   ]
  },
  {
   "cell_type": "markdown",
   "metadata": {},
   "source": [
    "### Testeo del Modelo"
   ]
  },
  {
   "cell_type": "code",
   "execution_count": 135,
   "metadata": {},
   "outputs": [
    {
     "name": "stdout",
     "output_type": "stream",
     "text": [
      "MSE para taxi : 6114.564934824128\n",
      "R-squared (R2) para taxi : 0.9815771550990424\n",
      "Mean Absolute Error (MAE) para taxi : 61.737655716816235\n",
      "Root Mean Squared Error (RMSE) para taxi : 78.19568360737136\n",
      "            importance\n",
      "borough2ID    0.746716\n",
      "serviceID     0.217335\n",
      "dayofweek     0.035948\n"
     ]
    }
   ],
   "source": [
    "# Evaluación de modelos\n",
    "y_pred = model_taxi.predict(X_test)\n",
    "\n",
    "mse_taxi = mean_squared_error(y_test, y_pred)\n",
    "r2_taxi = r2_score(y_test, y_pred)\n",
    "mae_taxi = mean_absolute_error(y_test, y_pred)\n",
    "rmse_taxi = np.sqrt(mean_squared_error(y_test, y_pred))\n",
    "print(\"MSE para taxi :\", mse_taxi)\n",
    "print(\"R-squared (R2) para taxi :\", r2_taxi)\n",
    "print(\"Mean Absolute Error (MAE) para taxi :\", mae_taxi)\n",
    "print(\"Root Mean Squared Error (RMSE) para taxi :\", rmse_taxi)\n",
    "\n",
    "\n",
    "# Paso 3: Mejora de los taxis verdes\n",
    "# Analizar características importantes\n",
    "feature_importances = pd.DataFrame(model_taxi.feature_importances_,\n",
    "                                   index=X_train.columns,\n",
    "                                   columns=['importance']).sort_values('importance', ascending=False)\n",
    "print(feature_importances)"
   ]
  },
  {
   "cell_type": "markdown",
   "metadata": {},
   "source": [
    "### Mejoramiento del modelo"
   ]
  },
  {
   "cell_type": "code",
   "execution_count": 136,
   "metadata": {},
   "outputs": [],
   "source": [
    "param_grid = {'n_estimators':[50,150,250], # Número de árboles en el bosque\n",
    "              'max_depth':[5,15,25],       # Profundidad máxima de los árboles\n",
    "              'min_samples_split':[2,4,6], # Número mínimo de muestras requeridas para dividir un nodo interno\n",
    "              'min_samples_leaf':[1,2,3]}   # Número mínimo de muestras requeridas para ser un nodo hoja"
   ]
  },
  {
   "cell_type": "code",
   "execution_count": 137,
   "metadata": {},
   "outputs": [
    {
     "name": "stdout",
     "output_type": "stream",
     "text": [
      "MSE para taxi : 3103.167731197496\n",
      "R-squared (R2) para taxi : 0.9906503277955372\n",
      "Mean Absolute Error (MAE) para taxi : 41.91904461774078\n",
      "Root Mean Squared Error (RMSE) para taxi : 55.706083430784254\n"
     ]
    }
   ],
   "source": [
    "from sklearn.model_selection import GridSearchCV\n",
    "\n",
    "# Definir y configurar GridSearchCV\n",
    "model_taxi_cv = GridSearchCV(estimator=model_taxi, param_grid=param_grid, cv=3, scoring='neg_mean_squared_error')\n",
    "model_taxi_cv.fit(X_train, y_train)  # Entrenar el modelo y buscar los mejores hiperparámetros\n",
    "\n",
    "# Evaluación de modelos\n",
    "y_pred = model_taxi_cv.predict(X_test)  # Realizar predicciones en el conjunto de prueba\n",
    "\n",
    "# Calcular métricas de evaluación\n",
    "mse_taxi = mean_squared_error(y_test, y_pred)  # Calcular el error cuadrático medio\n",
    "r2_taxi = r2_score(y_test, y_pred)  # Calcular el coeficiente de determinación (R^2)\n",
    "mae_taxi = mean_absolute_error(y_test, y_pred)  # Calcular el error absoluto medio\n",
    "rmse_taxi = np.sqrt(mean_squared_error(y_test, y_pred))  # Calcular la raíz del error cuadrático medio\n",
    "\n",
    "# Imprimir resultados de evaluación\n",
    "print(\"MSE para taxi :\", mse_taxi)\n",
    "print(\"R-squared (R2) para taxi :\", r2_taxi)\n",
    "print(\"Mean Absolute Error (MAE) para taxi :\", mae_taxi)\n",
    "print(\"Root Mean Squared Error (RMSE) para taxi :\", rmse_taxi)\n"
   ]
  },
  {
   "cell_type": "markdown",
   "metadata": {},
   "source": [
    "### Guardamos el Modelo en formato .pkl"
   ]
  },
  {
   "cell_type": "code",
   "execution_count": 138,
   "metadata": {},
   "outputs": [
    {
     "data": {
      "text/plain": [
       "['model_taxi_eco_cv.pkl']"
      ]
     },
     "execution_count": 138,
     "metadata": {},
     "output_type": "execute_result"
    }
   ],
   "source": [
    "import joblib\n",
    "# Guardamos el modelo en un archivo pickle\n",
    "joblib.dump(model_taxi, '../0-DataSets/4-ModelosPrediccion/model_taxi_eco.pkl')\n",
    "joblib.dump(model_taxi_cv, '../0-DataSets/4-ModelosPrediccion/model_taxi_eco_cv.pkl')"
   ]
  },
  {
   "cell_type": "markdown",
   "metadata": {},
   "source": [
    "### Prueba del modelo con datos creados"
   ]
  },
  {
   "cell_type": "markdown",
   "metadata": {},
   "source": [
    "Vemos el formato de la estructura de dataframe de ingreso al modelo"
   ]
  },
  {
   "cell_type": "code",
   "execution_count": 139,
   "metadata": {},
   "outputs": [
    {
     "data": {
      "text/html": [
       "<div>\n",
       "<style scoped>\n",
       "    .dataframe tbody tr th:only-of-type {\n",
       "        vertical-align: middle;\n",
       "    }\n",
       "\n",
       "    .dataframe tbody tr th {\n",
       "        vertical-align: top;\n",
       "    }\n",
       "\n",
       "    .dataframe thead th {\n",
       "        text-align: right;\n",
       "    }\n",
       "</style>\n",
       "<table border=\"1\" class=\"dataframe\">\n",
       "  <thead>\n",
       "    <tr style=\"text-align: right;\">\n",
       "      <th></th>\n",
       "      <th>dayofweek</th>\n",
       "      <th>serviceID</th>\n",
       "      <th>borough2ID</th>\n",
       "    </tr>\n",
       "  </thead>\n",
       "  <tbody>\n",
       "    <tr>\n",
       "      <th>0</th>\n",
       "      <td>0</td>\n",
       "      <td>0</td>\n",
       "      <td>4</td>\n",
       "    </tr>\n",
       "  </tbody>\n",
       "</table>\n",
       "</div>"
      ],
      "text/plain": [
       "   dayofweek  serviceID  borough2ID\n",
       "0          0          0           4"
      ]
     },
     "execution_count": 139,
     "metadata": {},
     "output_type": "execute_result"
    }
   ],
   "source": [
    "df = DataSetML\n",
    "# Separación de características y variable objetivo\n",
    "X = df.drop(['amountt'], axis=1)\n",
    "X.head(1)"
   ]
  },
  {
   "cell_type": "markdown",
   "metadata": {},
   "source": [
    "Preparando datos creados"
   ]
  },
  {
   "cell_type": "code",
   "execution_count": 3,
   "metadata": {},
   "outputs": [
    {
     "name": "stdout",
     "output_type": "stream",
     "text": [
      "Nuevos datos para hacer predicciones:\n"
     ]
    },
    {
     "data": {
      "text/html": [
       "<div>\n",
       "<style scoped>\n",
       "    .dataframe tbody tr th:only-of-type {\n",
       "        vertical-align: middle;\n",
       "    }\n",
       "\n",
       "    .dataframe tbody tr th {\n",
       "        vertical-align: top;\n",
       "    }\n",
       "\n",
       "    .dataframe thead th {\n",
       "        text-align: right;\n",
       "    }\n",
       "</style>\n",
       "<table border=\"1\" class=\"dataframe\">\n",
       "  <thead>\n",
       "    <tr style=\"text-align: right;\">\n",
       "      <th></th>\n",
       "      <th>dayofweek</th>\n",
       "      <th>serviceID</th>\n",
       "      <th>borough2ID</th>\n",
       "    </tr>\n",
       "  </thead>\n",
       "  <tbody>\n",
       "    <tr>\n",
       "      <th>0</th>\n",
       "      <td>0</td>\n",
       "      <td>0</td>\n",
       "      <td>4</td>\n",
       "    </tr>\n",
       "    <tr>\n",
       "      <th>1</th>\n",
       "      <td>1</td>\n",
       "      <td>1</td>\n",
       "      <td>5</td>\n",
       "    </tr>\n",
       "    <tr>\n",
       "      <th>2</th>\n",
       "      <td>1</td>\n",
       "      <td>0</td>\n",
       "      <td>2</td>\n",
       "    </tr>\n",
       "  </tbody>\n",
       "</table>\n",
       "</div>"
      ],
      "text/plain": [
       "   dayofweek  serviceID borough2ID\n",
       "0          0          0          4\n",
       "1          1          1          5\n",
       "2          1          0          2"
      ]
     },
     "execution_count": 3,
     "metadata": {},
     "output_type": "execute_result"
    }
   ],
   "source": [
    "# Suponiendo que tienes algunos datos para hacer predicciones\n",
    "nuevos_datos = {\n",
    "    'dayofweek': [0, 1, 1],  # Ejemplo de valores de día #'hora': ['17:00', '2:00', '21:00'],  # Ejemplo de valores de hora\n",
    "    'serviceID': [0, 1, 0],  # Ejemplo de valores de service_type2\n",
    "    'borough2ID': ['4', '5', '2']  # Ejemplo de valores de pickup_borough2\n",
    "} #dia\thora\ttotal_millas_recorridas\tganancia_hora\tservice_type2\tpickup_borough2\n",
    "\n",
    "# Crear DataFrame de nuevos datos\n",
    "X_nuevos_datos = pd.DataFrame(nuevos_datos)\n",
    "#X_nuevos_datos['hora'] = pd.to_datetime(X_nuevos_datos['hora'], format='%H:%M').dt.hour\n",
    "\n",
    "# Imprimir los nuevos datos\n",
    "print(\"Nuevos datos para hacer predicciones:\")\n",
    "X_nuevos_datos\n",
    "#dayofweek\thora\tserviceID\tborough2ID"
   ]
  },
  {
   "cell_type": "markdown",
   "metadata": {},
   "source": [
    "Prediciendo la demanda de los datos creados"
   ]
  },
  {
   "cell_type": "code",
   "execution_count": 141,
   "metadata": {},
   "outputs": [
    {
     "name": "stdout",
     "output_type": "stream",
     "text": [
      "Predicciones del modelo cargado: [ 78.49188271 110.87872413 553.82545788]\n"
     ]
    },
    {
     "name": "stderr",
     "output_type": "stream",
     "text": [
      "c:\\Users\\Pc\\anaconda3\\lib\\site-packages\\sklearn\\base.py:493: FutureWarning:\n",
      "\n",
      "The feature names should match those that were passed during fit. Starting version 1.2, an error will be raised.\n",
      "Feature names unseen at fit time:\n",
      "- dia\n",
      "- pickup_borough2\n",
      "- service_type2\n",
      "Feature names seen at fit time, yet now missing:\n",
      "- borough2ID\n",
      "- dayofweek\n",
      "- serviceID\n",
      "\n",
      "\n"
     ]
    }
   ],
   "source": [
    "# Cargar el modelo desde el archivo pickle\n",
    "loaded_model = joblib.load('../0-DataSets/4-ModelosPrediccion/model_taxi_eco_cv.pkl')\n",
    "\n",
    "# Suponiendo que tienes nuevos datos en X_nuevos_datos\n",
    "# Hacer predicciones con el modelo cargado\n",
    "y_pred_ml = loaded_model.predict(X_nuevos_datos)\n",
    "\n",
    "# Imprimir las predicciones\n",
    "print(\"Predicciones del modelo cargado:\", y_pred_ml)\n"
   ]
  },
  {
   "cell_type": "markdown",
   "metadata": {},
   "source": [
    "### Graficando el proceso de entrenamiendo y testeo del Modelo"
   ]
  },
  {
   "cell_type": "code",
   "execution_count": 142,
   "metadata": {},
   "outputs": [
    {
     "data": {
      "application/vnd.plotly.v1+json": {
       "config": {
        "plotlyServerURL": "https://plot.ly"
       },
       "data": [
        {
         "mode": "lines",
         "name": "Training Score",
         "type": "scatter",
         "x": [
          3,
          12,
          20,
          28,
          37
         ],
         "y": [
          0.8197949629250676,
          0.8498522357646529,
          0.9121105814751219,
          0.9297711245367755,
          0.9797782374798818
         ]
        },
        {
         "mode": "lines",
         "name": "Cross-validation Score",
         "type": "scatter",
         "x": [
          3,
          12,
          20,
          28,
          37
         ],
         "y": [
          -0.4712785615111764,
          0.27530842331616867,
          0.6996542120985708,
          0.7497587413640693,
          0.9266049639918943
         ]
        }
       ],
       "layout": {
        "legend": {
         "orientation": "h",
         "traceorder": "normal",
         "x": 0,
         "y": 1
        },
        "template": {
         "data": {
          "bar": [
           {
            "error_x": {
             "color": "#2a3f5f"
            },
            "error_y": {
             "color": "#2a3f5f"
            },
            "marker": {
             "line": {
              "color": "#E5ECF6",
              "width": 0.5
             },
             "pattern": {
              "fillmode": "overlay",
              "size": 10,
              "solidity": 0.2
             }
            },
            "type": "bar"
           }
          ],
          "barpolar": [
           {
            "marker": {
             "line": {
              "color": "#E5ECF6",
              "width": 0.5
             },
             "pattern": {
              "fillmode": "overlay",
              "size": 10,
              "solidity": 0.2
             }
            },
            "type": "barpolar"
           }
          ],
          "carpet": [
           {
            "aaxis": {
             "endlinecolor": "#2a3f5f",
             "gridcolor": "white",
             "linecolor": "white",
             "minorgridcolor": "white",
             "startlinecolor": "#2a3f5f"
            },
            "baxis": {
             "endlinecolor": "#2a3f5f",
             "gridcolor": "white",
             "linecolor": "white",
             "minorgridcolor": "white",
             "startlinecolor": "#2a3f5f"
            },
            "type": "carpet"
           }
          ],
          "choropleth": [
           {
            "colorbar": {
             "outlinewidth": 0,
             "ticks": ""
            },
            "type": "choropleth"
           }
          ],
          "contour": [
           {
            "colorbar": {
             "outlinewidth": 0,
             "ticks": ""
            },
            "colorscale": [
             [
              0,
              "#0d0887"
             ],
             [
              0.1111111111111111,
              "#46039f"
             ],
             [
              0.2222222222222222,
              "#7201a8"
             ],
             [
              0.3333333333333333,
              "#9c179e"
             ],
             [
              0.4444444444444444,
              "#bd3786"
             ],
             [
              0.5555555555555556,
              "#d8576b"
             ],
             [
              0.6666666666666666,
              "#ed7953"
             ],
             [
              0.7777777777777778,
              "#fb9f3a"
             ],
             [
              0.8888888888888888,
              "#fdca26"
             ],
             [
              1,
              "#f0f921"
             ]
            ],
            "type": "contour"
           }
          ],
          "contourcarpet": [
           {
            "colorbar": {
             "outlinewidth": 0,
             "ticks": ""
            },
            "type": "contourcarpet"
           }
          ],
          "heatmap": [
           {
            "colorbar": {
             "outlinewidth": 0,
             "ticks": ""
            },
            "colorscale": [
             [
              0,
              "#0d0887"
             ],
             [
              0.1111111111111111,
              "#46039f"
             ],
             [
              0.2222222222222222,
              "#7201a8"
             ],
             [
              0.3333333333333333,
              "#9c179e"
             ],
             [
              0.4444444444444444,
              "#bd3786"
             ],
             [
              0.5555555555555556,
              "#d8576b"
             ],
             [
              0.6666666666666666,
              "#ed7953"
             ],
             [
              0.7777777777777778,
              "#fb9f3a"
             ],
             [
              0.8888888888888888,
              "#fdca26"
             ],
             [
              1,
              "#f0f921"
             ]
            ],
            "type": "heatmap"
           }
          ],
          "heatmapgl": [
           {
            "colorbar": {
             "outlinewidth": 0,
             "ticks": ""
            },
            "colorscale": [
             [
              0,
              "#0d0887"
             ],
             [
              0.1111111111111111,
              "#46039f"
             ],
             [
              0.2222222222222222,
              "#7201a8"
             ],
             [
              0.3333333333333333,
              "#9c179e"
             ],
             [
              0.4444444444444444,
              "#bd3786"
             ],
             [
              0.5555555555555556,
              "#d8576b"
             ],
             [
              0.6666666666666666,
              "#ed7953"
             ],
             [
              0.7777777777777778,
              "#fb9f3a"
             ],
             [
              0.8888888888888888,
              "#fdca26"
             ],
             [
              1,
              "#f0f921"
             ]
            ],
            "type": "heatmapgl"
           }
          ],
          "histogram": [
           {
            "marker": {
             "pattern": {
              "fillmode": "overlay",
              "size": 10,
              "solidity": 0.2
             }
            },
            "type": "histogram"
           }
          ],
          "histogram2d": [
           {
            "colorbar": {
             "outlinewidth": 0,
             "ticks": ""
            },
            "colorscale": [
             [
              0,
              "#0d0887"
             ],
             [
              0.1111111111111111,
              "#46039f"
             ],
             [
              0.2222222222222222,
              "#7201a8"
             ],
             [
              0.3333333333333333,
              "#9c179e"
             ],
             [
              0.4444444444444444,
              "#bd3786"
             ],
             [
              0.5555555555555556,
              "#d8576b"
             ],
             [
              0.6666666666666666,
              "#ed7953"
             ],
             [
              0.7777777777777778,
              "#fb9f3a"
             ],
             [
              0.8888888888888888,
              "#fdca26"
             ],
             [
              1,
              "#f0f921"
             ]
            ],
            "type": "histogram2d"
           }
          ],
          "histogram2dcontour": [
           {
            "colorbar": {
             "outlinewidth": 0,
             "ticks": ""
            },
            "colorscale": [
             [
              0,
              "#0d0887"
             ],
             [
              0.1111111111111111,
              "#46039f"
             ],
             [
              0.2222222222222222,
              "#7201a8"
             ],
             [
              0.3333333333333333,
              "#9c179e"
             ],
             [
              0.4444444444444444,
              "#bd3786"
             ],
             [
              0.5555555555555556,
              "#d8576b"
             ],
             [
              0.6666666666666666,
              "#ed7953"
             ],
             [
              0.7777777777777778,
              "#fb9f3a"
             ],
             [
              0.8888888888888888,
              "#fdca26"
             ],
             [
              1,
              "#f0f921"
             ]
            ],
            "type": "histogram2dcontour"
           }
          ],
          "mesh3d": [
           {
            "colorbar": {
             "outlinewidth": 0,
             "ticks": ""
            },
            "type": "mesh3d"
           }
          ],
          "parcoords": [
           {
            "line": {
             "colorbar": {
              "outlinewidth": 0,
              "ticks": ""
             }
            },
            "type": "parcoords"
           }
          ],
          "pie": [
           {
            "automargin": true,
            "type": "pie"
           }
          ],
          "scatter": [
           {
            "fillpattern": {
             "fillmode": "overlay",
             "size": 10,
             "solidity": 0.2
            },
            "type": "scatter"
           }
          ],
          "scatter3d": [
           {
            "line": {
             "colorbar": {
              "outlinewidth": 0,
              "ticks": ""
             }
            },
            "marker": {
             "colorbar": {
              "outlinewidth": 0,
              "ticks": ""
             }
            },
            "type": "scatter3d"
           }
          ],
          "scattercarpet": [
           {
            "marker": {
             "colorbar": {
              "outlinewidth": 0,
              "ticks": ""
             }
            },
            "type": "scattercarpet"
           }
          ],
          "scattergeo": [
           {
            "marker": {
             "colorbar": {
              "outlinewidth": 0,
              "ticks": ""
             }
            },
            "type": "scattergeo"
           }
          ],
          "scattergl": [
           {
            "marker": {
             "colorbar": {
              "outlinewidth": 0,
              "ticks": ""
             }
            },
            "type": "scattergl"
           }
          ],
          "scattermapbox": [
           {
            "marker": {
             "colorbar": {
              "outlinewidth": 0,
              "ticks": ""
             }
            },
            "type": "scattermapbox"
           }
          ],
          "scatterpolar": [
           {
            "marker": {
             "colorbar": {
              "outlinewidth": 0,
              "ticks": ""
             }
            },
            "type": "scatterpolar"
           }
          ],
          "scatterpolargl": [
           {
            "marker": {
             "colorbar": {
              "outlinewidth": 0,
              "ticks": ""
             }
            },
            "type": "scatterpolargl"
           }
          ],
          "scatterternary": [
           {
            "marker": {
             "colorbar": {
              "outlinewidth": 0,
              "ticks": ""
             }
            },
            "type": "scatterternary"
           }
          ],
          "surface": [
           {
            "colorbar": {
             "outlinewidth": 0,
             "ticks": ""
            },
            "colorscale": [
             [
              0,
              "#0d0887"
             ],
             [
              0.1111111111111111,
              "#46039f"
             ],
             [
              0.2222222222222222,
              "#7201a8"
             ],
             [
              0.3333333333333333,
              "#9c179e"
             ],
             [
              0.4444444444444444,
              "#bd3786"
             ],
             [
              0.5555555555555556,
              "#d8576b"
             ],
             [
              0.6666666666666666,
              "#ed7953"
             ],
             [
              0.7777777777777778,
              "#fb9f3a"
             ],
             [
              0.8888888888888888,
              "#fdca26"
             ],
             [
              1,
              "#f0f921"
             ]
            ],
            "type": "surface"
           }
          ],
          "table": [
           {
            "cells": {
             "fill": {
              "color": "#EBF0F8"
             },
             "line": {
              "color": "white"
             }
            },
            "header": {
             "fill": {
              "color": "#C8D4E3"
             },
             "line": {
              "color": "white"
             }
            },
            "type": "table"
           }
          ]
         },
         "layout": {
          "annotationdefaults": {
           "arrowcolor": "#2a3f5f",
           "arrowhead": 0,
           "arrowwidth": 1
          },
          "autotypenumbers": "strict",
          "coloraxis": {
           "colorbar": {
            "outlinewidth": 0,
            "ticks": ""
           }
          },
          "colorscale": {
           "diverging": [
            [
             0,
             "#8e0152"
            ],
            [
             0.1,
             "#c51b7d"
            ],
            [
             0.2,
             "#de77ae"
            ],
            [
             0.3,
             "#f1b6da"
            ],
            [
             0.4,
             "#fde0ef"
            ],
            [
             0.5,
             "#f7f7f7"
            ],
            [
             0.6,
             "#e6f5d0"
            ],
            [
             0.7,
             "#b8e186"
            ],
            [
             0.8,
             "#7fbc41"
            ],
            [
             0.9,
             "#4d9221"
            ],
            [
             1,
             "#276419"
            ]
           ],
           "sequential": [
            [
             0,
             "#0d0887"
            ],
            [
             0.1111111111111111,
             "#46039f"
            ],
            [
             0.2222222222222222,
             "#7201a8"
            ],
            [
             0.3333333333333333,
             "#9c179e"
            ],
            [
             0.4444444444444444,
             "#bd3786"
            ],
            [
             0.5555555555555556,
             "#d8576b"
            ],
            [
             0.6666666666666666,
             "#ed7953"
            ],
            [
             0.7777777777777778,
             "#fb9f3a"
            ],
            [
             0.8888888888888888,
             "#fdca26"
            ],
            [
             1,
             "#f0f921"
            ]
           ],
           "sequentialminus": [
            [
             0,
             "#0d0887"
            ],
            [
             0.1111111111111111,
             "#46039f"
            ],
            [
             0.2222222222222222,
             "#7201a8"
            ],
            [
             0.3333333333333333,
             "#9c179e"
            ],
            [
             0.4444444444444444,
             "#bd3786"
            ],
            [
             0.5555555555555556,
             "#d8576b"
            ],
            [
             0.6666666666666666,
             "#ed7953"
            ],
            [
             0.7777777777777778,
             "#fb9f3a"
            ],
            [
             0.8888888888888888,
             "#fdca26"
            ],
            [
             1,
             "#f0f921"
            ]
           ]
          },
          "colorway": [
           "#636efa",
           "#EF553B",
           "#00cc96",
           "#ab63fa",
           "#FFA15A",
           "#19d3f3",
           "#FF6692",
           "#B6E880",
           "#FF97FF",
           "#FECB52"
          ],
          "font": {
           "color": "#2a3f5f"
          },
          "geo": {
           "bgcolor": "white",
           "lakecolor": "white",
           "landcolor": "#E5ECF6",
           "showlakes": true,
           "showland": true,
           "subunitcolor": "white"
          },
          "hoverlabel": {
           "align": "left"
          },
          "hovermode": "closest",
          "mapbox": {
           "style": "light"
          },
          "paper_bgcolor": "white",
          "plot_bgcolor": "#E5ECF6",
          "polar": {
           "angularaxis": {
            "gridcolor": "white",
            "linecolor": "white",
            "ticks": ""
           },
           "bgcolor": "#E5ECF6",
           "radialaxis": {
            "gridcolor": "white",
            "linecolor": "white",
            "ticks": ""
           }
          },
          "scene": {
           "xaxis": {
            "backgroundcolor": "#E5ECF6",
            "gridcolor": "white",
            "gridwidth": 2,
            "linecolor": "white",
            "showbackground": true,
            "ticks": "",
            "zerolinecolor": "white"
           },
           "yaxis": {
            "backgroundcolor": "#E5ECF6",
            "gridcolor": "white",
            "gridwidth": 2,
            "linecolor": "white",
            "showbackground": true,
            "ticks": "",
            "zerolinecolor": "white"
           },
           "zaxis": {
            "backgroundcolor": "#E5ECF6",
            "gridcolor": "white",
            "gridwidth": 2,
            "linecolor": "white",
            "showbackground": true,
            "ticks": "",
            "zerolinecolor": "white"
           }
          },
          "shapedefaults": {
           "line": {
            "color": "#2a3f5f"
           }
          },
          "ternary": {
           "aaxis": {
            "gridcolor": "white",
            "linecolor": "white",
            "ticks": ""
           },
           "baxis": {
            "gridcolor": "white",
            "linecolor": "white",
            "ticks": ""
           },
           "bgcolor": "#E5ECF6",
           "caxis": {
            "gridcolor": "white",
            "linecolor": "white",
            "ticks": ""
           }
          },
          "title": {
           "x": 0.05
          },
          "xaxis": {
           "automargin": true,
           "gridcolor": "white",
           "linecolor": "white",
           "ticks": "",
           "title": {
            "standoff": 15
           },
           "zerolinecolor": "white",
           "zerolinewidth": 2
          },
          "yaxis": {
           "automargin": true,
           "gridcolor": "white",
           "linecolor": "white",
           "ticks": "",
           "title": {
            "standoff": 15
           },
           "zerolinecolor": "white",
           "zerolinewidth": 2
          }
         }
        },
        "title": {
         "text": "Curva de Aprendizaje"
        },
        "xaxis": {
         "title": {
          "text": "Training examples"
         }
        },
        "yaxis": {
         "title": {
          "text": "Score"
         }
        }
       }
      }
     },
     "metadata": {},
     "output_type": "display_data"
    }
   ],
   "source": [
    "from sklearn.model_selection import learning_curve\n",
    "import plotly.graph_objects as go\n",
    "\n",
    "# Calculamos la curva de aprendizaje\n",
    "train_sizes, train_scores, test_scores = learning_curve(model_taxi, X_train, y_train, cv=5)\n",
    "\n",
    "# Calculamos los promedios de los puntajes de entrenamiento y validación cruzada\n",
    "train_scores_mean = np.mean(train_scores, axis=1)\n",
    "test_scores_mean = np.mean(test_scores, axis=1)\n",
    "\n",
    "# Creamos un objeto figura de Plotly\n",
    "fig = go.Figure()\n",
    "\n",
    "# Añadimos la curva de aprendizaje del puntaje de entrenamiento\n",
    "fig.add_trace(go.Scatter(x=train_sizes, y=train_scores_mean, mode='lines', name='Training Score'))\n",
    "\n",
    "# Añadimos la curva de aprendizaje del puntaje de validación cruzada\n",
    "fig.add_trace(go.Scatter(x=train_sizes, y=test_scores_mean, mode='lines', name='Cross-validation Score'))\n",
    "\n",
    "# Actualizamos el diseño del gráfico\n",
    "fig.update_layout(\n",
    "    title='Curva de Aprendizaje',\n",
    "    xaxis_title='Training examples',\n",
    "    yaxis_title='Score',\n",
    "    legend=dict(x=0, y=1, traceorder='normal', orientation='h'),\n",
    ")\n",
    "\n",
    "# Mostramos el gráfico\n",
    "fig.show()\n"
   ]
  },
  {
   "cell_type": "code",
   "execution_count": 143,
   "metadata": {},
   "outputs": [
    {
     "data": {
      "application/vnd.plotly.v1+json": {
       "config": {
        "plotlyServerURL": "https://plot.ly"
       },
       "data": [
        {
         "alignmentgroup": "True",
         "bingroup": "x",
         "hovertemplate": "variable=Valor Real<br>Valor=%{x}<br>count=%{y}<extra></extra>",
         "legendgroup": "Valor Real",
         "marker": {
          "color": "blue",
          "opacity": 0.5,
          "pattern": {
           "shape": ""
          }
         },
         "name": "Valor Real",
         "nbinsx": 30,
         "offsetgroup": "Valor Real",
         "orientation": "v",
         "showlegend": true,
         "type": "histogram",
         "x": [
          132.06351351351353,
          466.5529170022972,
          1802.665030739137,
          816.9491812832067,
          22.47,
          1773.3596441096513,
          425.41768282312927,
          819.1760127514682,
          659.2131529544588,
          527.3046554751292
         ],
         "xaxis": "x",
         "yaxis": "y"
        },
        {
         "alignmentgroup": "True",
         "boxpoints": "all",
         "fillcolor": "rgba(255,255,255,0)",
         "hoveron": "points",
         "hovertemplate": "variable=Valor Real<br>Valor=%{x}<extra></extra>",
         "jitter": 0,
         "legendgroup": "Valor Real",
         "line": {
          "color": "rgba(255,255,255,0)"
         },
         "marker": {
          "color": "blue",
          "symbol": "line-ns-open"
         },
         "name": "Valor Real",
         "offsetgroup": "Valor Real",
         "showlegend": false,
         "type": "box",
         "x": [
          132.06351351351353,
          466.5529170022972,
          1802.665030739137,
          816.9491812832067,
          22.47,
          1773.3596441096513,
          425.41768282312927,
          819.1760127514682,
          659.2131529544588,
          527.3046554751292
         ],
         "xaxis": "x2",
         "yaxis": "y2"
        },
        {
         "alignmentgroup": "True",
         "bingroup": "x",
         "hovertemplate": "variable=Predicciones<br>Valor=%{x}<br>count=%{y}<extra></extra>",
         "legendgroup": "Predicciones",
         "marker": {
          "color": "orange",
          "opacity": 0.5,
          "pattern": {
           "shape": ""
          }
         },
         "name": "Predicciones",
         "nbinsx": 30,
         "offsetgroup": "Predicciones",
         "orientation": "v",
         "showlegend": true,
         "type": "histogram",
         "x": [
          140.65433711647896,
          503.09885600785094,
          1707.9258175174518,
          796.5227742362331,
          42.537363008385746,
          1649.165467526624,
          469.9746865952267,
          816.5215440855286,
          701.2228730008131,
          552.7099866995547
         ],
         "xaxis": "x",
         "yaxis": "y"
        },
        {
         "alignmentgroup": "True",
         "boxpoints": "all",
         "fillcolor": "rgba(255,255,255,0)",
         "hoveron": "points",
         "hovertemplate": "variable=Predicciones<br>Valor=%{x}<extra></extra>",
         "jitter": 0,
         "legendgroup": "Predicciones",
         "line": {
          "color": "rgba(255,255,255,0)"
         },
         "marker": {
          "color": "orange",
          "symbol": "line-ns-open"
         },
         "name": "Predicciones",
         "offsetgroup": "Predicciones",
         "showlegend": false,
         "type": "box",
         "x": [
          140.65433711647896,
          503.09885600785094,
          1707.9258175174518,
          796.5227742362331,
          42.537363008385746,
          1649.165467526624,
          469.9746865952267,
          816.5215440855286,
          701.2228730008131,
          552.7099866995547
         ],
         "xaxis": "x2",
         "yaxis": "y2"
        }
       ],
       "layout": {
        "barmode": "overlay",
        "legend": {
         "title": {
          "text": "variable"
         },
         "tracegroupgap": 0
        },
        "template": {
         "data": {
          "bar": [
           {
            "error_x": {
             "color": "#2a3f5f"
            },
            "error_y": {
             "color": "#2a3f5f"
            },
            "marker": {
             "line": {
              "color": "#E5ECF6",
              "width": 0.5
             },
             "pattern": {
              "fillmode": "overlay",
              "size": 10,
              "solidity": 0.2
             }
            },
            "type": "bar"
           }
          ],
          "barpolar": [
           {
            "marker": {
             "line": {
              "color": "#E5ECF6",
              "width": 0.5
             },
             "pattern": {
              "fillmode": "overlay",
              "size": 10,
              "solidity": 0.2
             }
            },
            "type": "barpolar"
           }
          ],
          "carpet": [
           {
            "aaxis": {
             "endlinecolor": "#2a3f5f",
             "gridcolor": "white",
             "linecolor": "white",
             "minorgridcolor": "white",
             "startlinecolor": "#2a3f5f"
            },
            "baxis": {
             "endlinecolor": "#2a3f5f",
             "gridcolor": "white",
             "linecolor": "white",
             "minorgridcolor": "white",
             "startlinecolor": "#2a3f5f"
            },
            "type": "carpet"
           }
          ],
          "choropleth": [
           {
            "colorbar": {
             "outlinewidth": 0,
             "ticks": ""
            },
            "type": "choropleth"
           }
          ],
          "contour": [
           {
            "colorbar": {
             "outlinewidth": 0,
             "ticks": ""
            },
            "colorscale": [
             [
              0,
              "#0d0887"
             ],
             [
              0.1111111111111111,
              "#46039f"
             ],
             [
              0.2222222222222222,
              "#7201a8"
             ],
             [
              0.3333333333333333,
              "#9c179e"
             ],
             [
              0.4444444444444444,
              "#bd3786"
             ],
             [
              0.5555555555555556,
              "#d8576b"
             ],
             [
              0.6666666666666666,
              "#ed7953"
             ],
             [
              0.7777777777777778,
              "#fb9f3a"
             ],
             [
              0.8888888888888888,
              "#fdca26"
             ],
             [
              1,
              "#f0f921"
             ]
            ],
            "type": "contour"
           }
          ],
          "contourcarpet": [
           {
            "colorbar": {
             "outlinewidth": 0,
             "ticks": ""
            },
            "type": "contourcarpet"
           }
          ],
          "heatmap": [
           {
            "colorbar": {
             "outlinewidth": 0,
             "ticks": ""
            },
            "colorscale": [
             [
              0,
              "#0d0887"
             ],
             [
              0.1111111111111111,
              "#46039f"
             ],
             [
              0.2222222222222222,
              "#7201a8"
             ],
             [
              0.3333333333333333,
              "#9c179e"
             ],
             [
              0.4444444444444444,
              "#bd3786"
             ],
             [
              0.5555555555555556,
              "#d8576b"
             ],
             [
              0.6666666666666666,
              "#ed7953"
             ],
             [
              0.7777777777777778,
              "#fb9f3a"
             ],
             [
              0.8888888888888888,
              "#fdca26"
             ],
             [
              1,
              "#f0f921"
             ]
            ],
            "type": "heatmap"
           }
          ],
          "heatmapgl": [
           {
            "colorbar": {
             "outlinewidth": 0,
             "ticks": ""
            },
            "colorscale": [
             [
              0,
              "#0d0887"
             ],
             [
              0.1111111111111111,
              "#46039f"
             ],
             [
              0.2222222222222222,
              "#7201a8"
             ],
             [
              0.3333333333333333,
              "#9c179e"
             ],
             [
              0.4444444444444444,
              "#bd3786"
             ],
             [
              0.5555555555555556,
              "#d8576b"
             ],
             [
              0.6666666666666666,
              "#ed7953"
             ],
             [
              0.7777777777777778,
              "#fb9f3a"
             ],
             [
              0.8888888888888888,
              "#fdca26"
             ],
             [
              1,
              "#f0f921"
             ]
            ],
            "type": "heatmapgl"
           }
          ],
          "histogram": [
           {
            "marker": {
             "pattern": {
              "fillmode": "overlay",
              "size": 10,
              "solidity": 0.2
             }
            },
            "type": "histogram"
           }
          ],
          "histogram2d": [
           {
            "colorbar": {
             "outlinewidth": 0,
             "ticks": ""
            },
            "colorscale": [
             [
              0,
              "#0d0887"
             ],
             [
              0.1111111111111111,
              "#46039f"
             ],
             [
              0.2222222222222222,
              "#7201a8"
             ],
             [
              0.3333333333333333,
              "#9c179e"
             ],
             [
              0.4444444444444444,
              "#bd3786"
             ],
             [
              0.5555555555555556,
              "#d8576b"
             ],
             [
              0.6666666666666666,
              "#ed7953"
             ],
             [
              0.7777777777777778,
              "#fb9f3a"
             ],
             [
              0.8888888888888888,
              "#fdca26"
             ],
             [
              1,
              "#f0f921"
             ]
            ],
            "type": "histogram2d"
           }
          ],
          "histogram2dcontour": [
           {
            "colorbar": {
             "outlinewidth": 0,
             "ticks": ""
            },
            "colorscale": [
             [
              0,
              "#0d0887"
             ],
             [
              0.1111111111111111,
              "#46039f"
             ],
             [
              0.2222222222222222,
              "#7201a8"
             ],
             [
              0.3333333333333333,
              "#9c179e"
             ],
             [
              0.4444444444444444,
              "#bd3786"
             ],
             [
              0.5555555555555556,
              "#d8576b"
             ],
             [
              0.6666666666666666,
              "#ed7953"
             ],
             [
              0.7777777777777778,
              "#fb9f3a"
             ],
             [
              0.8888888888888888,
              "#fdca26"
             ],
             [
              1,
              "#f0f921"
             ]
            ],
            "type": "histogram2dcontour"
           }
          ],
          "mesh3d": [
           {
            "colorbar": {
             "outlinewidth": 0,
             "ticks": ""
            },
            "type": "mesh3d"
           }
          ],
          "parcoords": [
           {
            "line": {
             "colorbar": {
              "outlinewidth": 0,
              "ticks": ""
             }
            },
            "type": "parcoords"
           }
          ],
          "pie": [
           {
            "automargin": true,
            "type": "pie"
           }
          ],
          "scatter": [
           {
            "fillpattern": {
             "fillmode": "overlay",
             "size": 10,
             "solidity": 0.2
            },
            "type": "scatter"
           }
          ],
          "scatter3d": [
           {
            "line": {
             "colorbar": {
              "outlinewidth": 0,
              "ticks": ""
             }
            },
            "marker": {
             "colorbar": {
              "outlinewidth": 0,
              "ticks": ""
             }
            },
            "type": "scatter3d"
           }
          ],
          "scattercarpet": [
           {
            "marker": {
             "colorbar": {
              "outlinewidth": 0,
              "ticks": ""
             }
            },
            "type": "scattercarpet"
           }
          ],
          "scattergeo": [
           {
            "marker": {
             "colorbar": {
              "outlinewidth": 0,
              "ticks": ""
             }
            },
            "type": "scattergeo"
           }
          ],
          "scattergl": [
           {
            "marker": {
             "colorbar": {
              "outlinewidth": 0,
              "ticks": ""
             }
            },
            "type": "scattergl"
           }
          ],
          "scattermapbox": [
           {
            "marker": {
             "colorbar": {
              "outlinewidth": 0,
              "ticks": ""
             }
            },
            "type": "scattermapbox"
           }
          ],
          "scatterpolar": [
           {
            "marker": {
             "colorbar": {
              "outlinewidth": 0,
              "ticks": ""
             }
            },
            "type": "scatterpolar"
           }
          ],
          "scatterpolargl": [
           {
            "marker": {
             "colorbar": {
              "outlinewidth": 0,
              "ticks": ""
             }
            },
            "type": "scatterpolargl"
           }
          ],
          "scatterternary": [
           {
            "marker": {
             "colorbar": {
              "outlinewidth": 0,
              "ticks": ""
             }
            },
            "type": "scatterternary"
           }
          ],
          "surface": [
           {
            "colorbar": {
             "outlinewidth": 0,
             "ticks": ""
            },
            "colorscale": [
             [
              0,
              "#0d0887"
             ],
             [
              0.1111111111111111,
              "#46039f"
             ],
             [
              0.2222222222222222,
              "#7201a8"
             ],
             [
              0.3333333333333333,
              "#9c179e"
             ],
             [
              0.4444444444444444,
              "#bd3786"
             ],
             [
              0.5555555555555556,
              "#d8576b"
             ],
             [
              0.6666666666666666,
              "#ed7953"
             ],
             [
              0.7777777777777778,
              "#fb9f3a"
             ],
             [
              0.8888888888888888,
              "#fdca26"
             ],
             [
              1,
              "#f0f921"
             ]
            ],
            "type": "surface"
           }
          ],
          "table": [
           {
            "cells": {
             "fill": {
              "color": "#EBF0F8"
             },
             "line": {
              "color": "white"
             }
            },
            "header": {
             "fill": {
              "color": "#C8D4E3"
             },
             "line": {
              "color": "white"
             }
            },
            "type": "table"
           }
          ]
         },
         "layout": {
          "annotationdefaults": {
           "arrowcolor": "#2a3f5f",
           "arrowhead": 0,
           "arrowwidth": 1
          },
          "autotypenumbers": "strict",
          "coloraxis": {
           "colorbar": {
            "outlinewidth": 0,
            "ticks": ""
           }
          },
          "colorscale": {
           "diverging": [
            [
             0,
             "#8e0152"
            ],
            [
             0.1,
             "#c51b7d"
            ],
            [
             0.2,
             "#de77ae"
            ],
            [
             0.3,
             "#f1b6da"
            ],
            [
             0.4,
             "#fde0ef"
            ],
            [
             0.5,
             "#f7f7f7"
            ],
            [
             0.6,
             "#e6f5d0"
            ],
            [
             0.7,
             "#b8e186"
            ],
            [
             0.8,
             "#7fbc41"
            ],
            [
             0.9,
             "#4d9221"
            ],
            [
             1,
             "#276419"
            ]
           ],
           "sequential": [
            [
             0,
             "#0d0887"
            ],
            [
             0.1111111111111111,
             "#46039f"
            ],
            [
             0.2222222222222222,
             "#7201a8"
            ],
            [
             0.3333333333333333,
             "#9c179e"
            ],
            [
             0.4444444444444444,
             "#bd3786"
            ],
            [
             0.5555555555555556,
             "#d8576b"
            ],
            [
             0.6666666666666666,
             "#ed7953"
            ],
            [
             0.7777777777777778,
             "#fb9f3a"
            ],
            [
             0.8888888888888888,
             "#fdca26"
            ],
            [
             1,
             "#f0f921"
            ]
           ],
           "sequentialminus": [
            [
             0,
             "#0d0887"
            ],
            [
             0.1111111111111111,
             "#46039f"
            ],
            [
             0.2222222222222222,
             "#7201a8"
            ],
            [
             0.3333333333333333,
             "#9c179e"
            ],
            [
             0.4444444444444444,
             "#bd3786"
            ],
            [
             0.5555555555555556,
             "#d8576b"
            ],
            [
             0.6666666666666666,
             "#ed7953"
            ],
            [
             0.7777777777777778,
             "#fb9f3a"
            ],
            [
             0.8888888888888888,
             "#fdca26"
            ],
            [
             1,
             "#f0f921"
            ]
           ]
          },
          "colorway": [
           "#636efa",
           "#EF553B",
           "#00cc96",
           "#ab63fa",
           "#FFA15A",
           "#19d3f3",
           "#FF6692",
           "#B6E880",
           "#FF97FF",
           "#FECB52"
          ],
          "font": {
           "color": "#2a3f5f"
          },
          "geo": {
           "bgcolor": "white",
           "lakecolor": "white",
           "landcolor": "#E5ECF6",
           "showlakes": true,
           "showland": true,
           "subunitcolor": "white"
          },
          "hoverlabel": {
           "align": "left"
          },
          "hovermode": "closest",
          "mapbox": {
           "style": "light"
          },
          "paper_bgcolor": "white",
          "plot_bgcolor": "#E5ECF6",
          "polar": {
           "angularaxis": {
            "gridcolor": "white",
            "linecolor": "white",
            "ticks": ""
           },
           "bgcolor": "#E5ECF6",
           "radialaxis": {
            "gridcolor": "white",
            "linecolor": "white",
            "ticks": ""
           }
          },
          "scene": {
           "xaxis": {
            "backgroundcolor": "#E5ECF6",
            "gridcolor": "white",
            "gridwidth": 2,
            "linecolor": "white",
            "showbackground": true,
            "ticks": "",
            "zerolinecolor": "white"
           },
           "yaxis": {
            "backgroundcolor": "#E5ECF6",
            "gridcolor": "white",
            "gridwidth": 2,
            "linecolor": "white",
            "showbackground": true,
            "ticks": "",
            "zerolinecolor": "white"
           },
           "zaxis": {
            "backgroundcolor": "#E5ECF6",
            "gridcolor": "white",
            "gridwidth": 2,
            "linecolor": "white",
            "showbackground": true,
            "ticks": "",
            "zerolinecolor": "white"
           }
          },
          "shapedefaults": {
           "line": {
            "color": "#2a3f5f"
           }
          },
          "ternary": {
           "aaxis": {
            "gridcolor": "white",
            "linecolor": "white",
            "ticks": ""
           },
           "baxis": {
            "gridcolor": "white",
            "linecolor": "white",
            "ticks": ""
           },
           "bgcolor": "#E5ECF6",
           "caxis": {
            "gridcolor": "white",
            "linecolor": "white",
            "ticks": ""
           }
          },
          "title": {
           "x": 0.05
          },
          "xaxis": {
           "automargin": true,
           "gridcolor": "white",
           "linecolor": "white",
           "ticks": "",
           "title": {
            "standoff": 15
           },
           "zerolinecolor": "white",
           "zerolinewidth": 2
          },
          "yaxis": {
           "automargin": true,
           "gridcolor": "white",
           "linecolor": "white",
           "ticks": "",
           "title": {
            "standoff": 15
           },
           "zerolinecolor": "white",
           "zerolinewidth": 2
          }
         }
        },
        "title": {
         "text": "Distribución de Predicciones y Valores Reales"
        },
        "xaxis": {
         "anchor": "y",
         "domain": [
          0,
          1
         ],
         "title": {
          "text": "Valor"
         }
        },
        "xaxis2": {
         "anchor": "y2",
         "domain": [
          0,
          1
         ],
         "matches": "x",
         "showgrid": true,
         "showticklabels": false
        },
        "yaxis": {
         "anchor": "x",
         "domain": [
          0,
          0.7326
         ],
         "title": {
          "text": "Frecuencia"
         }
        },
        "yaxis2": {
         "anchor": "x2",
         "domain": [
          0.7426,
          1
         ],
         "matches": "y2",
         "showgrid": false,
         "showline": false,
         "showticklabels": false,
         "ticks": ""
        }
       }
      }
     },
     "metadata": {},
     "output_type": "display_data"
    }
   ],
   "source": [
    "import plotly.express as px\n",
    "\n",
    "# Creamos un DataFrame con los valores reales y las predicciones\n",
    "df = pd.DataFrame({'Valor Real': y_test, 'Predicciones': y_pred})\n",
    "\n",
    "# Creamos un histograma utilizando Plotly Express\n",
    "fig = px.histogram(df, nbins=30, marginal='rug', labels={'value': 'Valor'},\n",
    "                   title='Distribución de Predicciones y Valores Reales',\n",
    "                   category_orders={'variable': ['Valor Real', 'Predicciones']},\n",
    "                   color_discrete_sequence=['blue', 'orange'],\n",
    "                   barmode='overlay')\n",
    "\n",
    "# Actualizamos el diseño del gráfico\n",
    "fig.update_layout(\n",
    "    xaxis_title='Valor',\n",
    "    yaxis_title='Frecuencia',\n",
    ")\n",
    "\n",
    "# Mostramos el gráfico\n",
    "fig.show()\n"
   ]
  },
  {
   "cell_type": "code",
   "execution_count": 144,
   "metadata": {},
   "outputs": [
    {
     "data": {
      "application/vnd.plotly.v1+json": {
       "config": {
        "plotlyServerURL": "https://plot.ly"
       },
       "data": [
        {
         "hovertemplate": "variable=Actual<br>index=%{x}<br>Valor=%{y}<extra></extra>",
         "legendgroup": "Actual",
         "marker": {
          "color": "red",
          "symbol": "circle"
         },
         "mode": "markers",
         "name": "Actual",
         "orientation": "v",
         "showlegend": true,
         "type": "scatter",
         "x": [
          28,
          67,
          39,
          20,
          21,
          51,
          43,
          45,
          59,
          55
         ],
         "xaxis": "x",
         "y": [
          22.47,
          132.06351351351353,
          425.41768282312927,
          466.5529170022972,
          527.3046554751292,
          659.2131529544588,
          816.9491812832067,
          819.1760127514682,
          1773.3596441096513,
          1802.665030739137
         ],
         "yaxis": "y"
        },
        {
         "hovertemplate": "variable=Predicted<br>index=%{x}<br>Valor=%{y}<extra></extra>",
         "legendgroup": "Predicted",
         "marker": {
          "color": "blue",
          "symbol": "circle"
         },
         "mode": "markers",
         "name": "Predicted",
         "orientation": "v",
         "showlegend": true,
         "type": "scatter",
         "x": [
          28,
          67,
          39,
          20,
          21,
          51,
          43,
          45,
          59,
          55
         ],
         "xaxis": "x",
         "y": [
          42.537363008385746,
          140.65433711647896,
          469.9746865952267,
          503.09885600785094,
          552.7099866995547,
          701.2228730008131,
          796.5227742362331,
          816.5215440855286,
          1649.165467526624,
          1707.9258175174518
         ],
         "yaxis": "y"
        }
       ],
       "layout": {
        "legend": {
         "title": {
          "text": "variable"
         },
         "tracegroupgap": 0
        },
        "template": {
         "data": {
          "bar": [
           {
            "error_x": {
             "color": "#2a3f5f"
            },
            "error_y": {
             "color": "#2a3f5f"
            },
            "marker": {
             "line": {
              "color": "#E5ECF6",
              "width": 0.5
             },
             "pattern": {
              "fillmode": "overlay",
              "size": 10,
              "solidity": 0.2
             }
            },
            "type": "bar"
           }
          ],
          "barpolar": [
           {
            "marker": {
             "line": {
              "color": "#E5ECF6",
              "width": 0.5
             },
             "pattern": {
              "fillmode": "overlay",
              "size": 10,
              "solidity": 0.2
             }
            },
            "type": "barpolar"
           }
          ],
          "carpet": [
           {
            "aaxis": {
             "endlinecolor": "#2a3f5f",
             "gridcolor": "white",
             "linecolor": "white",
             "minorgridcolor": "white",
             "startlinecolor": "#2a3f5f"
            },
            "baxis": {
             "endlinecolor": "#2a3f5f",
             "gridcolor": "white",
             "linecolor": "white",
             "minorgridcolor": "white",
             "startlinecolor": "#2a3f5f"
            },
            "type": "carpet"
           }
          ],
          "choropleth": [
           {
            "colorbar": {
             "outlinewidth": 0,
             "ticks": ""
            },
            "type": "choropleth"
           }
          ],
          "contour": [
           {
            "colorbar": {
             "outlinewidth": 0,
             "ticks": ""
            },
            "colorscale": [
             [
              0,
              "#0d0887"
             ],
             [
              0.1111111111111111,
              "#46039f"
             ],
             [
              0.2222222222222222,
              "#7201a8"
             ],
             [
              0.3333333333333333,
              "#9c179e"
             ],
             [
              0.4444444444444444,
              "#bd3786"
             ],
             [
              0.5555555555555556,
              "#d8576b"
             ],
             [
              0.6666666666666666,
              "#ed7953"
             ],
             [
              0.7777777777777778,
              "#fb9f3a"
             ],
             [
              0.8888888888888888,
              "#fdca26"
             ],
             [
              1,
              "#f0f921"
             ]
            ],
            "type": "contour"
           }
          ],
          "contourcarpet": [
           {
            "colorbar": {
             "outlinewidth": 0,
             "ticks": ""
            },
            "type": "contourcarpet"
           }
          ],
          "heatmap": [
           {
            "colorbar": {
             "outlinewidth": 0,
             "ticks": ""
            },
            "colorscale": [
             [
              0,
              "#0d0887"
             ],
             [
              0.1111111111111111,
              "#46039f"
             ],
             [
              0.2222222222222222,
              "#7201a8"
             ],
             [
              0.3333333333333333,
              "#9c179e"
             ],
             [
              0.4444444444444444,
              "#bd3786"
             ],
             [
              0.5555555555555556,
              "#d8576b"
             ],
             [
              0.6666666666666666,
              "#ed7953"
             ],
             [
              0.7777777777777778,
              "#fb9f3a"
             ],
             [
              0.8888888888888888,
              "#fdca26"
             ],
             [
              1,
              "#f0f921"
             ]
            ],
            "type": "heatmap"
           }
          ],
          "heatmapgl": [
           {
            "colorbar": {
             "outlinewidth": 0,
             "ticks": ""
            },
            "colorscale": [
             [
              0,
              "#0d0887"
             ],
             [
              0.1111111111111111,
              "#46039f"
             ],
             [
              0.2222222222222222,
              "#7201a8"
             ],
             [
              0.3333333333333333,
              "#9c179e"
             ],
             [
              0.4444444444444444,
              "#bd3786"
             ],
             [
              0.5555555555555556,
              "#d8576b"
             ],
             [
              0.6666666666666666,
              "#ed7953"
             ],
             [
              0.7777777777777778,
              "#fb9f3a"
             ],
             [
              0.8888888888888888,
              "#fdca26"
             ],
             [
              1,
              "#f0f921"
             ]
            ],
            "type": "heatmapgl"
           }
          ],
          "histogram": [
           {
            "marker": {
             "pattern": {
              "fillmode": "overlay",
              "size": 10,
              "solidity": 0.2
             }
            },
            "type": "histogram"
           }
          ],
          "histogram2d": [
           {
            "colorbar": {
             "outlinewidth": 0,
             "ticks": ""
            },
            "colorscale": [
             [
              0,
              "#0d0887"
             ],
             [
              0.1111111111111111,
              "#46039f"
             ],
             [
              0.2222222222222222,
              "#7201a8"
             ],
             [
              0.3333333333333333,
              "#9c179e"
             ],
             [
              0.4444444444444444,
              "#bd3786"
             ],
             [
              0.5555555555555556,
              "#d8576b"
             ],
             [
              0.6666666666666666,
              "#ed7953"
             ],
             [
              0.7777777777777778,
              "#fb9f3a"
             ],
             [
              0.8888888888888888,
              "#fdca26"
             ],
             [
              1,
              "#f0f921"
             ]
            ],
            "type": "histogram2d"
           }
          ],
          "histogram2dcontour": [
           {
            "colorbar": {
             "outlinewidth": 0,
             "ticks": ""
            },
            "colorscale": [
             [
              0,
              "#0d0887"
             ],
             [
              0.1111111111111111,
              "#46039f"
             ],
             [
              0.2222222222222222,
              "#7201a8"
             ],
             [
              0.3333333333333333,
              "#9c179e"
             ],
             [
              0.4444444444444444,
              "#bd3786"
             ],
             [
              0.5555555555555556,
              "#d8576b"
             ],
             [
              0.6666666666666666,
              "#ed7953"
             ],
             [
              0.7777777777777778,
              "#fb9f3a"
             ],
             [
              0.8888888888888888,
              "#fdca26"
             ],
             [
              1,
              "#f0f921"
             ]
            ],
            "type": "histogram2dcontour"
           }
          ],
          "mesh3d": [
           {
            "colorbar": {
             "outlinewidth": 0,
             "ticks": ""
            },
            "type": "mesh3d"
           }
          ],
          "parcoords": [
           {
            "line": {
             "colorbar": {
              "outlinewidth": 0,
              "ticks": ""
             }
            },
            "type": "parcoords"
           }
          ],
          "pie": [
           {
            "automargin": true,
            "type": "pie"
           }
          ],
          "scatter": [
           {
            "fillpattern": {
             "fillmode": "overlay",
             "size": 10,
             "solidity": 0.2
            },
            "type": "scatter"
           }
          ],
          "scatter3d": [
           {
            "line": {
             "colorbar": {
              "outlinewidth": 0,
              "ticks": ""
             }
            },
            "marker": {
             "colorbar": {
              "outlinewidth": 0,
              "ticks": ""
             }
            },
            "type": "scatter3d"
           }
          ],
          "scattercarpet": [
           {
            "marker": {
             "colorbar": {
              "outlinewidth": 0,
              "ticks": ""
             }
            },
            "type": "scattercarpet"
           }
          ],
          "scattergeo": [
           {
            "marker": {
             "colorbar": {
              "outlinewidth": 0,
              "ticks": ""
             }
            },
            "type": "scattergeo"
           }
          ],
          "scattergl": [
           {
            "marker": {
             "colorbar": {
              "outlinewidth": 0,
              "ticks": ""
             }
            },
            "type": "scattergl"
           }
          ],
          "scattermapbox": [
           {
            "marker": {
             "colorbar": {
              "outlinewidth": 0,
              "ticks": ""
             }
            },
            "type": "scattermapbox"
           }
          ],
          "scatterpolar": [
           {
            "marker": {
             "colorbar": {
              "outlinewidth": 0,
              "ticks": ""
             }
            },
            "type": "scatterpolar"
           }
          ],
          "scatterpolargl": [
           {
            "marker": {
             "colorbar": {
              "outlinewidth": 0,
              "ticks": ""
             }
            },
            "type": "scatterpolargl"
           }
          ],
          "scatterternary": [
           {
            "marker": {
             "colorbar": {
              "outlinewidth": 0,
              "ticks": ""
             }
            },
            "type": "scatterternary"
           }
          ],
          "surface": [
           {
            "colorbar": {
             "outlinewidth": 0,
             "ticks": ""
            },
            "colorscale": [
             [
              0,
              "#0d0887"
             ],
             [
              0.1111111111111111,
              "#46039f"
             ],
             [
              0.2222222222222222,
              "#7201a8"
             ],
             [
              0.3333333333333333,
              "#9c179e"
             ],
             [
              0.4444444444444444,
              "#bd3786"
             ],
             [
              0.5555555555555556,
              "#d8576b"
             ],
             [
              0.6666666666666666,
              "#ed7953"
             ],
             [
              0.7777777777777778,
              "#fb9f3a"
             ],
             [
              0.8888888888888888,
              "#fdca26"
             ],
             [
              1,
              "#f0f921"
             ]
            ],
            "type": "surface"
           }
          ],
          "table": [
           {
            "cells": {
             "fill": {
              "color": "#EBF0F8"
             },
             "line": {
              "color": "white"
             }
            },
            "header": {
             "fill": {
              "color": "#C8D4E3"
             },
             "line": {
              "color": "white"
             }
            },
            "type": "table"
           }
          ]
         },
         "layout": {
          "annotationdefaults": {
           "arrowcolor": "#2a3f5f",
           "arrowhead": 0,
           "arrowwidth": 1
          },
          "autotypenumbers": "strict",
          "coloraxis": {
           "colorbar": {
            "outlinewidth": 0,
            "ticks": ""
           }
          },
          "colorscale": {
           "diverging": [
            [
             0,
             "#8e0152"
            ],
            [
             0.1,
             "#c51b7d"
            ],
            [
             0.2,
             "#de77ae"
            ],
            [
             0.3,
             "#f1b6da"
            ],
            [
             0.4,
             "#fde0ef"
            ],
            [
             0.5,
             "#f7f7f7"
            ],
            [
             0.6,
             "#e6f5d0"
            ],
            [
             0.7,
             "#b8e186"
            ],
            [
             0.8,
             "#7fbc41"
            ],
            [
             0.9,
             "#4d9221"
            ],
            [
             1,
             "#276419"
            ]
           ],
           "sequential": [
            [
             0,
             "#0d0887"
            ],
            [
             0.1111111111111111,
             "#46039f"
            ],
            [
             0.2222222222222222,
             "#7201a8"
            ],
            [
             0.3333333333333333,
             "#9c179e"
            ],
            [
             0.4444444444444444,
             "#bd3786"
            ],
            [
             0.5555555555555556,
             "#d8576b"
            ],
            [
             0.6666666666666666,
             "#ed7953"
            ],
            [
             0.7777777777777778,
             "#fb9f3a"
            ],
            [
             0.8888888888888888,
             "#fdca26"
            ],
            [
             1,
             "#f0f921"
            ]
           ],
           "sequentialminus": [
            [
             0,
             "#0d0887"
            ],
            [
             0.1111111111111111,
             "#46039f"
            ],
            [
             0.2222222222222222,
             "#7201a8"
            ],
            [
             0.3333333333333333,
             "#9c179e"
            ],
            [
             0.4444444444444444,
             "#bd3786"
            ],
            [
             0.5555555555555556,
             "#d8576b"
            ],
            [
             0.6666666666666666,
             "#ed7953"
            ],
            [
             0.7777777777777778,
             "#fb9f3a"
            ],
            [
             0.8888888888888888,
             "#fdca26"
            ],
            [
             1,
             "#f0f921"
            ]
           ]
          },
          "colorway": [
           "#636efa",
           "#EF553B",
           "#00cc96",
           "#ab63fa",
           "#FFA15A",
           "#19d3f3",
           "#FF6692",
           "#B6E880",
           "#FF97FF",
           "#FECB52"
          ],
          "font": {
           "color": "#2a3f5f"
          },
          "geo": {
           "bgcolor": "white",
           "lakecolor": "white",
           "landcolor": "#E5ECF6",
           "showlakes": true,
           "showland": true,
           "subunitcolor": "white"
          },
          "hoverlabel": {
           "align": "left"
          },
          "hovermode": "closest",
          "mapbox": {
           "style": "light"
          },
          "paper_bgcolor": "white",
          "plot_bgcolor": "#E5ECF6",
          "polar": {
           "angularaxis": {
            "gridcolor": "white",
            "linecolor": "white",
            "ticks": ""
           },
           "bgcolor": "#E5ECF6",
           "radialaxis": {
            "gridcolor": "white",
            "linecolor": "white",
            "ticks": ""
           }
          },
          "scene": {
           "xaxis": {
            "backgroundcolor": "#E5ECF6",
            "gridcolor": "white",
            "gridwidth": 2,
            "linecolor": "white",
            "showbackground": true,
            "ticks": "",
            "zerolinecolor": "white"
           },
           "yaxis": {
            "backgroundcolor": "#E5ECF6",
            "gridcolor": "white",
            "gridwidth": 2,
            "linecolor": "white",
            "showbackground": true,
            "ticks": "",
            "zerolinecolor": "white"
           },
           "zaxis": {
            "backgroundcolor": "#E5ECF6",
            "gridcolor": "white",
            "gridwidth": 2,
            "linecolor": "white",
            "showbackground": true,
            "ticks": "",
            "zerolinecolor": "white"
           }
          },
          "shapedefaults": {
           "line": {
            "color": "#2a3f5f"
           }
          },
          "ternary": {
           "aaxis": {
            "gridcolor": "white",
            "linecolor": "white",
            "ticks": ""
           },
           "baxis": {
            "gridcolor": "white",
            "linecolor": "white",
            "ticks": ""
           },
           "bgcolor": "#E5ECF6",
           "caxis": {
            "gridcolor": "white",
            "linecolor": "white",
            "ticks": ""
           }
          },
          "title": {
           "x": 0.05
          },
          "xaxis": {
           "automargin": true,
           "gridcolor": "white",
           "linecolor": "white",
           "ticks": "",
           "title": {
            "standoff": 15
           },
           "zerolinecolor": "white",
           "zerolinewidth": 2
          },
          "yaxis": {
           "automargin": true,
           "gridcolor": "white",
           "linecolor": "white",
           "ticks": "",
           "title": {
            "standoff": 15
           },
           "zerolinecolor": "white",
           "zerolinewidth": 2
          }
         }
        },
        "title": {
         "text": "Predicciones vs. Valores Reales"
        },
        "xaxis": {
         "anchor": "y",
         "domain": [
          0,
          1
         ],
         "title": {
          "text": "Índice"
         }
        },
        "yaxis": {
         "anchor": "x",
         "domain": [
          0,
          1
         ],
         "title": {
          "text": "Valor"
         }
        }
       }
      }
     },
     "metadata": {},
     "output_type": "display_data"
    }
   ],
   "source": [
    "# Creamos un DataFrame con las predicciones y valores reales\n",
    "results_df = pd.DataFrame({'Actual': y_test, 'Predicted': y_pred})\n",
    "\n",
    "# Ordenamos el DataFrame por los valores reales para una mejor visualización\n",
    "results_df = results_df.sort_values(by='Actual')\n",
    "\n",
    "# Creamos gráfico de dispersión con Plotly Express\n",
    "fig = px.scatter(results_df, x=results_df.index, y=['Actual', 'Predicted'],\n",
    "                 labels={'value': 'Valor'},\n",
    "                 title='Predicciones vs. Valores Reales',\n",
    "                 color_discrete_sequence=['red', 'blue'])\n",
    "\n",
    "# Configuramos el diseño del gráfico\n",
    "fig.update_layout(\n",
    "    xaxis_title='Índice',\n",
    "    yaxis_title='Valor',\n",
    ")\n",
    "\n",
    "# Mostramos el gráfico\n",
    "fig.show()"
   ]
  },
  {
   "cell_type": "code",
   "execution_count": 145,
   "metadata": {},
   "outputs": [
    {
     "data": {
      "application/vnd.plotly.v1+json": {
       "config": {
        "plotlyServerURL": "https://plot.ly"
       },
       "data": [
        {
         "alignmentgroup": "True",
         "box": {
          "visible": true
         },
         "hovertemplate": "Tipo=%{x}<br>Valor=%{y}<extra></extra>",
         "legendgroup": "Valores Reales",
         "marker": {
          "color": "#636efa"
         },
         "name": "Valores Reales",
         "offsetgroup": "Valores Reales",
         "orientation": "v",
         "points": "all",
         "scalegroup": "True",
         "showlegend": true,
         "type": "violin",
         "x": [
          "Valores Reales",
          "Valores Reales",
          "Valores Reales",
          "Valores Reales",
          "Valores Reales",
          "Valores Reales",
          "Valores Reales",
          "Valores Reales",
          "Valores Reales",
          "Valores Reales"
         ],
         "x0": " ",
         "xaxis": "x",
         "y": [
          132.06351351351353,
          466.5529170022972,
          1802.665030739137,
          816.9491812832067,
          22.47,
          1773.3596441096513,
          425.41768282312927,
          819.1760127514682,
          659.2131529544588,
          527.3046554751292
         ],
         "y0": " ",
         "yaxis": "y"
        },
        {
         "alignmentgroup": "True",
         "box": {
          "visible": true
         },
         "hovertemplate": "Tipo=%{x}<br>Valor=%{y}<extra></extra>",
         "legendgroup": "Predicciones",
         "marker": {
          "color": "#EF553B"
         },
         "name": "Predicciones",
         "offsetgroup": "Predicciones",
         "orientation": "v",
         "points": "all",
         "scalegroup": "True",
         "showlegend": true,
         "type": "violin",
         "x": [
          "Predicciones",
          "Predicciones",
          "Predicciones",
          "Predicciones",
          "Predicciones",
          "Predicciones",
          "Predicciones",
          "Predicciones",
          "Predicciones",
          "Predicciones"
         ],
         "x0": " ",
         "xaxis": "x",
         "y": [
          140.65433711647896,
          503.09885600785094,
          1707.9258175174518,
          796.5227742362331,
          42.537363008385746,
          1649.165467526624,
          469.9746865952267,
          816.5215440855286,
          701.2228730008131,
          552.7099866995547
         ],
         "y0": " ",
         "yaxis": "y"
        }
       ],
       "layout": {
        "legend": {
         "title": {
          "text": "Tipo"
         },
         "tracegroupgap": 0,
         "x": 0.8,
         "y": 0.95
        },
        "margin": {
         "t": 60
        },
        "template": {
         "data": {
          "bar": [
           {
            "error_x": {
             "color": "#2a3f5f"
            },
            "error_y": {
             "color": "#2a3f5f"
            },
            "marker": {
             "line": {
              "color": "#E5ECF6",
              "width": 0.5
             },
             "pattern": {
              "fillmode": "overlay",
              "size": 10,
              "solidity": 0.2
             }
            },
            "type": "bar"
           }
          ],
          "barpolar": [
           {
            "marker": {
             "line": {
              "color": "#E5ECF6",
              "width": 0.5
             },
             "pattern": {
              "fillmode": "overlay",
              "size": 10,
              "solidity": 0.2
             }
            },
            "type": "barpolar"
           }
          ],
          "carpet": [
           {
            "aaxis": {
             "endlinecolor": "#2a3f5f",
             "gridcolor": "white",
             "linecolor": "white",
             "minorgridcolor": "white",
             "startlinecolor": "#2a3f5f"
            },
            "baxis": {
             "endlinecolor": "#2a3f5f",
             "gridcolor": "white",
             "linecolor": "white",
             "minorgridcolor": "white",
             "startlinecolor": "#2a3f5f"
            },
            "type": "carpet"
           }
          ],
          "choropleth": [
           {
            "colorbar": {
             "outlinewidth": 0,
             "ticks": ""
            },
            "type": "choropleth"
           }
          ],
          "contour": [
           {
            "colorbar": {
             "outlinewidth": 0,
             "ticks": ""
            },
            "colorscale": [
             [
              0,
              "#0d0887"
             ],
             [
              0.1111111111111111,
              "#46039f"
             ],
             [
              0.2222222222222222,
              "#7201a8"
             ],
             [
              0.3333333333333333,
              "#9c179e"
             ],
             [
              0.4444444444444444,
              "#bd3786"
             ],
             [
              0.5555555555555556,
              "#d8576b"
             ],
             [
              0.6666666666666666,
              "#ed7953"
             ],
             [
              0.7777777777777778,
              "#fb9f3a"
             ],
             [
              0.8888888888888888,
              "#fdca26"
             ],
             [
              1,
              "#f0f921"
             ]
            ],
            "type": "contour"
           }
          ],
          "contourcarpet": [
           {
            "colorbar": {
             "outlinewidth": 0,
             "ticks": ""
            },
            "type": "contourcarpet"
           }
          ],
          "heatmap": [
           {
            "colorbar": {
             "outlinewidth": 0,
             "ticks": ""
            },
            "colorscale": [
             [
              0,
              "#0d0887"
             ],
             [
              0.1111111111111111,
              "#46039f"
             ],
             [
              0.2222222222222222,
              "#7201a8"
             ],
             [
              0.3333333333333333,
              "#9c179e"
             ],
             [
              0.4444444444444444,
              "#bd3786"
             ],
             [
              0.5555555555555556,
              "#d8576b"
             ],
             [
              0.6666666666666666,
              "#ed7953"
             ],
             [
              0.7777777777777778,
              "#fb9f3a"
             ],
             [
              0.8888888888888888,
              "#fdca26"
             ],
             [
              1,
              "#f0f921"
             ]
            ],
            "type": "heatmap"
           }
          ],
          "heatmapgl": [
           {
            "colorbar": {
             "outlinewidth": 0,
             "ticks": ""
            },
            "colorscale": [
             [
              0,
              "#0d0887"
             ],
             [
              0.1111111111111111,
              "#46039f"
             ],
             [
              0.2222222222222222,
              "#7201a8"
             ],
             [
              0.3333333333333333,
              "#9c179e"
             ],
             [
              0.4444444444444444,
              "#bd3786"
             ],
             [
              0.5555555555555556,
              "#d8576b"
             ],
             [
              0.6666666666666666,
              "#ed7953"
             ],
             [
              0.7777777777777778,
              "#fb9f3a"
             ],
             [
              0.8888888888888888,
              "#fdca26"
             ],
             [
              1,
              "#f0f921"
             ]
            ],
            "type": "heatmapgl"
           }
          ],
          "histogram": [
           {
            "marker": {
             "pattern": {
              "fillmode": "overlay",
              "size": 10,
              "solidity": 0.2
             }
            },
            "type": "histogram"
           }
          ],
          "histogram2d": [
           {
            "colorbar": {
             "outlinewidth": 0,
             "ticks": ""
            },
            "colorscale": [
             [
              0,
              "#0d0887"
             ],
             [
              0.1111111111111111,
              "#46039f"
             ],
             [
              0.2222222222222222,
              "#7201a8"
             ],
             [
              0.3333333333333333,
              "#9c179e"
             ],
             [
              0.4444444444444444,
              "#bd3786"
             ],
             [
              0.5555555555555556,
              "#d8576b"
             ],
             [
              0.6666666666666666,
              "#ed7953"
             ],
             [
              0.7777777777777778,
              "#fb9f3a"
             ],
             [
              0.8888888888888888,
              "#fdca26"
             ],
             [
              1,
              "#f0f921"
             ]
            ],
            "type": "histogram2d"
           }
          ],
          "histogram2dcontour": [
           {
            "colorbar": {
             "outlinewidth": 0,
             "ticks": ""
            },
            "colorscale": [
             [
              0,
              "#0d0887"
             ],
             [
              0.1111111111111111,
              "#46039f"
             ],
             [
              0.2222222222222222,
              "#7201a8"
             ],
             [
              0.3333333333333333,
              "#9c179e"
             ],
             [
              0.4444444444444444,
              "#bd3786"
             ],
             [
              0.5555555555555556,
              "#d8576b"
             ],
             [
              0.6666666666666666,
              "#ed7953"
             ],
             [
              0.7777777777777778,
              "#fb9f3a"
             ],
             [
              0.8888888888888888,
              "#fdca26"
             ],
             [
              1,
              "#f0f921"
             ]
            ],
            "type": "histogram2dcontour"
           }
          ],
          "mesh3d": [
           {
            "colorbar": {
             "outlinewidth": 0,
             "ticks": ""
            },
            "type": "mesh3d"
           }
          ],
          "parcoords": [
           {
            "line": {
             "colorbar": {
              "outlinewidth": 0,
              "ticks": ""
             }
            },
            "type": "parcoords"
           }
          ],
          "pie": [
           {
            "automargin": true,
            "type": "pie"
           }
          ],
          "scatter": [
           {
            "fillpattern": {
             "fillmode": "overlay",
             "size": 10,
             "solidity": 0.2
            },
            "type": "scatter"
           }
          ],
          "scatter3d": [
           {
            "line": {
             "colorbar": {
              "outlinewidth": 0,
              "ticks": ""
             }
            },
            "marker": {
             "colorbar": {
              "outlinewidth": 0,
              "ticks": ""
             }
            },
            "type": "scatter3d"
           }
          ],
          "scattercarpet": [
           {
            "marker": {
             "colorbar": {
              "outlinewidth": 0,
              "ticks": ""
             }
            },
            "type": "scattercarpet"
           }
          ],
          "scattergeo": [
           {
            "marker": {
             "colorbar": {
              "outlinewidth": 0,
              "ticks": ""
             }
            },
            "type": "scattergeo"
           }
          ],
          "scattergl": [
           {
            "marker": {
             "colorbar": {
              "outlinewidth": 0,
              "ticks": ""
             }
            },
            "type": "scattergl"
           }
          ],
          "scattermapbox": [
           {
            "marker": {
             "colorbar": {
              "outlinewidth": 0,
              "ticks": ""
             }
            },
            "type": "scattermapbox"
           }
          ],
          "scatterpolar": [
           {
            "marker": {
             "colorbar": {
              "outlinewidth": 0,
              "ticks": ""
             }
            },
            "type": "scatterpolar"
           }
          ],
          "scatterpolargl": [
           {
            "marker": {
             "colorbar": {
              "outlinewidth": 0,
              "ticks": ""
             }
            },
            "type": "scatterpolargl"
           }
          ],
          "scatterternary": [
           {
            "marker": {
             "colorbar": {
              "outlinewidth": 0,
              "ticks": ""
             }
            },
            "type": "scatterternary"
           }
          ],
          "surface": [
           {
            "colorbar": {
             "outlinewidth": 0,
             "ticks": ""
            },
            "colorscale": [
             [
              0,
              "#0d0887"
             ],
             [
              0.1111111111111111,
              "#46039f"
             ],
             [
              0.2222222222222222,
              "#7201a8"
             ],
             [
              0.3333333333333333,
              "#9c179e"
             ],
             [
              0.4444444444444444,
              "#bd3786"
             ],
             [
              0.5555555555555556,
              "#d8576b"
             ],
             [
              0.6666666666666666,
              "#ed7953"
             ],
             [
              0.7777777777777778,
              "#fb9f3a"
             ],
             [
              0.8888888888888888,
              "#fdca26"
             ],
             [
              1,
              "#f0f921"
             ]
            ],
            "type": "surface"
           }
          ],
          "table": [
           {
            "cells": {
             "fill": {
              "color": "#EBF0F8"
             },
             "line": {
              "color": "white"
             }
            },
            "header": {
             "fill": {
              "color": "#C8D4E3"
             },
             "line": {
              "color": "white"
             }
            },
            "type": "table"
           }
          ]
         },
         "layout": {
          "annotationdefaults": {
           "arrowcolor": "#2a3f5f",
           "arrowhead": 0,
           "arrowwidth": 1
          },
          "autotypenumbers": "strict",
          "coloraxis": {
           "colorbar": {
            "outlinewidth": 0,
            "ticks": ""
           }
          },
          "colorscale": {
           "diverging": [
            [
             0,
             "#8e0152"
            ],
            [
             0.1,
             "#c51b7d"
            ],
            [
             0.2,
             "#de77ae"
            ],
            [
             0.3,
             "#f1b6da"
            ],
            [
             0.4,
             "#fde0ef"
            ],
            [
             0.5,
             "#f7f7f7"
            ],
            [
             0.6,
             "#e6f5d0"
            ],
            [
             0.7,
             "#b8e186"
            ],
            [
             0.8,
             "#7fbc41"
            ],
            [
             0.9,
             "#4d9221"
            ],
            [
             1,
             "#276419"
            ]
           ],
           "sequential": [
            [
             0,
             "#0d0887"
            ],
            [
             0.1111111111111111,
             "#46039f"
            ],
            [
             0.2222222222222222,
             "#7201a8"
            ],
            [
             0.3333333333333333,
             "#9c179e"
            ],
            [
             0.4444444444444444,
             "#bd3786"
            ],
            [
             0.5555555555555556,
             "#d8576b"
            ],
            [
             0.6666666666666666,
             "#ed7953"
            ],
            [
             0.7777777777777778,
             "#fb9f3a"
            ],
            [
             0.8888888888888888,
             "#fdca26"
            ],
            [
             1,
             "#f0f921"
            ]
           ],
           "sequentialminus": [
            [
             0,
             "#0d0887"
            ],
            [
             0.1111111111111111,
             "#46039f"
            ],
            [
             0.2222222222222222,
             "#7201a8"
            ],
            [
             0.3333333333333333,
             "#9c179e"
            ],
            [
             0.4444444444444444,
             "#bd3786"
            ],
            [
             0.5555555555555556,
             "#d8576b"
            ],
            [
             0.6666666666666666,
             "#ed7953"
            ],
            [
             0.7777777777777778,
             "#fb9f3a"
            ],
            [
             0.8888888888888888,
             "#fdca26"
            ],
            [
             1,
             "#f0f921"
            ]
           ]
          },
          "colorway": [
           "#636efa",
           "#EF553B",
           "#00cc96",
           "#ab63fa",
           "#FFA15A",
           "#19d3f3",
           "#FF6692",
           "#B6E880",
           "#FF97FF",
           "#FECB52"
          ],
          "font": {
           "color": "#2a3f5f"
          },
          "geo": {
           "bgcolor": "white",
           "lakecolor": "white",
           "landcolor": "#E5ECF6",
           "showlakes": true,
           "showland": true,
           "subunitcolor": "white"
          },
          "hoverlabel": {
           "align": "left"
          },
          "hovermode": "closest",
          "mapbox": {
           "style": "light"
          },
          "paper_bgcolor": "white",
          "plot_bgcolor": "#E5ECF6",
          "polar": {
           "angularaxis": {
            "gridcolor": "white",
            "linecolor": "white",
            "ticks": ""
           },
           "bgcolor": "#E5ECF6",
           "radialaxis": {
            "gridcolor": "white",
            "linecolor": "white",
            "ticks": ""
           }
          },
          "scene": {
           "xaxis": {
            "backgroundcolor": "#E5ECF6",
            "gridcolor": "white",
            "gridwidth": 2,
            "linecolor": "white",
            "showbackground": true,
            "ticks": "",
            "zerolinecolor": "white"
           },
           "yaxis": {
            "backgroundcolor": "#E5ECF6",
            "gridcolor": "white",
            "gridwidth": 2,
            "linecolor": "white",
            "showbackground": true,
            "ticks": "",
            "zerolinecolor": "white"
           },
           "zaxis": {
            "backgroundcolor": "#E5ECF6",
            "gridcolor": "white",
            "gridwidth": 2,
            "linecolor": "white",
            "showbackground": true,
            "ticks": "",
            "zerolinecolor": "white"
           }
          },
          "shapedefaults": {
           "line": {
            "color": "#2a3f5f"
           }
          },
          "ternary": {
           "aaxis": {
            "gridcolor": "white",
            "linecolor": "white",
            "ticks": ""
           },
           "baxis": {
            "gridcolor": "white",
            "linecolor": "white",
            "ticks": ""
           },
           "bgcolor": "#E5ECF6",
           "caxis": {
            "gridcolor": "white",
            "linecolor": "white",
            "ticks": ""
           }
          },
          "title": {
           "x": 0.05
          },
          "xaxis": {
           "automargin": true,
           "gridcolor": "white",
           "linecolor": "white",
           "ticks": "",
           "title": {
            "standoff": 15
           },
           "zerolinecolor": "white",
           "zerolinewidth": 2
          },
          "yaxis": {
           "automargin": true,
           "gridcolor": "white",
           "linecolor": "white",
           "ticks": "",
           "title": {
            "standoff": 15
           },
           "zerolinecolor": "white",
           "zerolinewidth": 2
          }
         }
        },
        "title": {
         "text": "Distribución de Predicciones y Valores Reales"
        },
        "violinmode": "overlay",
        "xaxis": {
         "anchor": "y",
         "categoryarray": [
          "Valores Reales",
          "Predicciones"
         ],
         "categoryorder": "array",
         "domain": [
          0,
          1
         ],
         "title": {
          "text": "Tipo"
         }
        },
        "yaxis": {
         "anchor": "x",
         "domain": [
          0,
          1
         ],
         "title": {
          "text": "Valor"
         }
        }
       }
      }
     },
     "metadata": {},
     "output_type": "display_data"
    }
   ],
   "source": [
    "# Creamos un DataFrame para Plotly Express\n",
    "df = pd.DataFrame({'Tipo': ['Valores Reales'] * len(y_test) + ['Predicciones'] * len(y_pred),\n",
    "                   'Valor': list(y_test) + list(y_pred)})\n",
    "\n",
    "# Creamos gráfico de violín con Plotly Express\n",
    "fig = px.violin(df, x='Tipo', y='Valor', box=True, points=\"all\", color='Tipo',\n",
    "                labels={'Tipo': 'Tipo', 'Valor': 'Valor'},\n",
    "                category_orders={'Tipo': ['Valores Reales', 'Predicciones']},\n",
    "                violinmode='overlay')\n",
    "\n",
    "# Configuramos el diseño del gráfico\n",
    "fig.update_layout(\n",
    "    title='Distribución de Predicciones y Valores Reales',\n",
    "    xaxis_title='Tipo',\n",
    "    yaxis_title='Valor',\n",
    "    legend=dict(x=0.8, y=0.95),\n",
    ")\n",
    "\n",
    "# Mostramos el gráfico\n",
    "fig.show()"
   ]
  },
  {
   "cell_type": "markdown",
   "metadata": {},
   "source": []
  },
  {
   "cell_type": "markdown",
   "metadata": {},
   "source": [
    "### Validacion del Modelo"
   ]
  },
  {
   "cell_type": "code",
   "execution_count": 146,
   "metadata": {},
   "outputs": [
    {
     "name": "stdout",
     "output_type": "stream",
     "text": [
      "    dayofweek  serviceID  borough2ID\n",
      "48          1          1           1\n",
      "23          2          0           2\n",
      "31          4          0           5\n",
      "61          0          1           5\n",
      "17          3          0           1\n",
      "25          4          0           2\n",
      "13          6          0           3\n",
      "14          0          0           1\n",
      "18          4          0           1\n",
      "58          4          1           2\n",
      "41          1          1           3\n",
      "Predicciones del modelo cargado: [ 707.20773312  528.16625082   57.14677472  119.39305388  483.64236616\n",
      "  547.4675552   625.96233136  507.17468683  480.30030867 1705.11469548\n",
      "  803.99662499]\n"
     ]
    }
   ],
   "source": [
    "# Cargar el modelo desde el archivo pickle\n",
    "loaded_model = joblib.load('../0-DataSets/4-ModelosPrediccion/model_taxi_eco_cv.pkl')\n",
    "\n",
    "# Suponiendo que tienes nuevos datos en X_nuevos_datos\n",
    "# Hacer predicciones con el modelo cargado\n",
    "y_pred_validacion = loaded_model.predict(X_validation)\n",
    "\n",
    "# Imprimir las predicciones\n",
    "print(X_validation)\n",
    "print(\"Predicciones del modelo cargado:\", y_pred_validacion)\n"
   ]
  },
  {
   "cell_type": "code",
   "execution_count": 153,
   "metadata": {},
   "outputs": [
    {
     "name": "stdout",
     "output_type": "stream",
     "text": [
      "MSE para taxi : 2600.3371507002557\n",
      "R-squared (R2) para taxi : 0.9867755503266646\n",
      "Mean Absolute Error (MAE) para taxi : 33.71892266889013\n",
      "Root Mean Squared Error (RMSE) para taxi : 50.993501063373316\n"
     ]
    }
   ],
   "source": [
    "# Calculamos el error cuadrático medio (MSE) entre los valores reales y las predicciones\n",
    "mse_taxi = mean_squared_error(y_validation, y_pred_validacion)\n",
    "\n",
    "# Calculamos el coeficiente de determinación (R^2) entre los valores reales y las predicciones\n",
    "r2_taxi = r2_score(y_validation, y_pred_validacion)\n",
    "\n",
    "# Calculamos el error absoluto medio (MAE) entre los valores reales y las predicciones\n",
    "mae_taxi = mean_absolute_error(y_validation, y_pred_validacion)\n",
    "\n",
    "# Calculamos la raíz cuadrada del error cuadrático medio (RMSE) entre los valores reales y las predicciones\n",
    "rmse_taxi = np.sqrt(mean_squared_error(y_validation, y_pred_validacion))\n",
    "\n",
    "# Imprimimos los resultados de las métricas de evaluación\n",
    "print(\"MSE para taxi:\", mse_taxi)\n",
    "print(\"R-squared (R2) para taxi:\", r2_taxi)\n",
    "print(\"Mean Absolute Error (MAE) para taxi:\", mae_taxi)\n",
    "print(\"Root Mean Squared Error (RMSE) para taxi:\", rmse_taxi)\n"
   ]
  },
  {
   "cell_type": "code",
   "execution_count": 154,
   "metadata": {},
   "outputs": [
    {
     "data": {
      "application/vnd.plotly.v1+json": {
       "config": {
        "plotlyServerURL": "https://plot.ly"
       },
       "data": [
        {
         "hovertemplate": "variable=Actual<br>index=%{x}<br>Valor=%{y}<extra></extra>",
         "legendgroup": "Actual",
         "marker": {
          "color": "red",
          "symbol": "circle"
         },
         "mode": "markers",
         "name": "Actual",
         "orientation": "v",
         "showlegend": true,
         "type": "scatter",
         "x": [
          31,
          61,
          14,
          18,
          17,
          23,
          25,
          13,
          48,
          41,
          58
         ],
         "xaxis": "x",
         "y": [
          49.2,
          122.97375,
          469.0266378582101,
          482.8430025465783,
          484.43108170554655,
          579.1653388460766,
          583.5098589785396,
          640.7161695526696,
          654.529415852373,
          780.6713037866846,
          1845.217047134248
         ],
         "yaxis": "y"
        },
        {
         "hovertemplate": "variable=Predicted<br>index=%{x}<br>Valor=%{y}<extra></extra>",
         "legendgroup": "Predicted",
         "marker": {
          "color": "blue",
          "symbol": "circle"
         },
         "mode": "markers",
         "name": "Predicted",
         "orientation": "v",
         "showlegend": true,
         "type": "scatter",
         "x": [
          31,
          61,
          14,
          18,
          17,
          23,
          25,
          13,
          48,
          41,
          58
         ],
         "xaxis": "x",
         "y": [
          57.1467747200278,
          119.3930538751449,
          507.1746868302245,
          480.30030867088664,
          483.6423661594584,
          528.1662508206039,
          547.467555203247,
          625.962331355832,
          707.2077331230896,
          803.9966249877773,
          1705.114695484546
         ],
         "yaxis": "y"
        }
       ],
       "layout": {
        "legend": {
         "title": {
          "text": "variable"
         },
         "tracegroupgap": 0
        },
        "template": {
         "data": {
          "bar": [
           {
            "error_x": {
             "color": "#2a3f5f"
            },
            "error_y": {
             "color": "#2a3f5f"
            },
            "marker": {
             "line": {
              "color": "#E5ECF6",
              "width": 0.5
             },
             "pattern": {
              "fillmode": "overlay",
              "size": 10,
              "solidity": 0.2
             }
            },
            "type": "bar"
           }
          ],
          "barpolar": [
           {
            "marker": {
             "line": {
              "color": "#E5ECF6",
              "width": 0.5
             },
             "pattern": {
              "fillmode": "overlay",
              "size": 10,
              "solidity": 0.2
             }
            },
            "type": "barpolar"
           }
          ],
          "carpet": [
           {
            "aaxis": {
             "endlinecolor": "#2a3f5f",
             "gridcolor": "white",
             "linecolor": "white",
             "minorgridcolor": "white",
             "startlinecolor": "#2a3f5f"
            },
            "baxis": {
             "endlinecolor": "#2a3f5f",
             "gridcolor": "white",
             "linecolor": "white",
             "minorgridcolor": "white",
             "startlinecolor": "#2a3f5f"
            },
            "type": "carpet"
           }
          ],
          "choropleth": [
           {
            "colorbar": {
             "outlinewidth": 0,
             "ticks": ""
            },
            "type": "choropleth"
           }
          ],
          "contour": [
           {
            "colorbar": {
             "outlinewidth": 0,
             "ticks": ""
            },
            "colorscale": [
             [
              0,
              "#0d0887"
             ],
             [
              0.1111111111111111,
              "#46039f"
             ],
             [
              0.2222222222222222,
              "#7201a8"
             ],
             [
              0.3333333333333333,
              "#9c179e"
             ],
             [
              0.4444444444444444,
              "#bd3786"
             ],
             [
              0.5555555555555556,
              "#d8576b"
             ],
             [
              0.6666666666666666,
              "#ed7953"
             ],
             [
              0.7777777777777778,
              "#fb9f3a"
             ],
             [
              0.8888888888888888,
              "#fdca26"
             ],
             [
              1,
              "#f0f921"
             ]
            ],
            "type": "contour"
           }
          ],
          "contourcarpet": [
           {
            "colorbar": {
             "outlinewidth": 0,
             "ticks": ""
            },
            "type": "contourcarpet"
           }
          ],
          "heatmap": [
           {
            "colorbar": {
             "outlinewidth": 0,
             "ticks": ""
            },
            "colorscale": [
             [
              0,
              "#0d0887"
             ],
             [
              0.1111111111111111,
              "#46039f"
             ],
             [
              0.2222222222222222,
              "#7201a8"
             ],
             [
              0.3333333333333333,
              "#9c179e"
             ],
             [
              0.4444444444444444,
              "#bd3786"
             ],
             [
              0.5555555555555556,
              "#d8576b"
             ],
             [
              0.6666666666666666,
              "#ed7953"
             ],
             [
              0.7777777777777778,
              "#fb9f3a"
             ],
             [
              0.8888888888888888,
              "#fdca26"
             ],
             [
              1,
              "#f0f921"
             ]
            ],
            "type": "heatmap"
           }
          ],
          "heatmapgl": [
           {
            "colorbar": {
             "outlinewidth": 0,
             "ticks": ""
            },
            "colorscale": [
             [
              0,
              "#0d0887"
             ],
             [
              0.1111111111111111,
              "#46039f"
             ],
             [
              0.2222222222222222,
              "#7201a8"
             ],
             [
              0.3333333333333333,
              "#9c179e"
             ],
             [
              0.4444444444444444,
              "#bd3786"
             ],
             [
              0.5555555555555556,
              "#d8576b"
             ],
             [
              0.6666666666666666,
              "#ed7953"
             ],
             [
              0.7777777777777778,
              "#fb9f3a"
             ],
             [
              0.8888888888888888,
              "#fdca26"
             ],
             [
              1,
              "#f0f921"
             ]
            ],
            "type": "heatmapgl"
           }
          ],
          "histogram": [
           {
            "marker": {
             "pattern": {
              "fillmode": "overlay",
              "size": 10,
              "solidity": 0.2
             }
            },
            "type": "histogram"
           }
          ],
          "histogram2d": [
           {
            "colorbar": {
             "outlinewidth": 0,
             "ticks": ""
            },
            "colorscale": [
             [
              0,
              "#0d0887"
             ],
             [
              0.1111111111111111,
              "#46039f"
             ],
             [
              0.2222222222222222,
              "#7201a8"
             ],
             [
              0.3333333333333333,
              "#9c179e"
             ],
             [
              0.4444444444444444,
              "#bd3786"
             ],
             [
              0.5555555555555556,
              "#d8576b"
             ],
             [
              0.6666666666666666,
              "#ed7953"
             ],
             [
              0.7777777777777778,
              "#fb9f3a"
             ],
             [
              0.8888888888888888,
              "#fdca26"
             ],
             [
              1,
              "#f0f921"
             ]
            ],
            "type": "histogram2d"
           }
          ],
          "histogram2dcontour": [
           {
            "colorbar": {
             "outlinewidth": 0,
             "ticks": ""
            },
            "colorscale": [
             [
              0,
              "#0d0887"
             ],
             [
              0.1111111111111111,
              "#46039f"
             ],
             [
              0.2222222222222222,
              "#7201a8"
             ],
             [
              0.3333333333333333,
              "#9c179e"
             ],
             [
              0.4444444444444444,
              "#bd3786"
             ],
             [
              0.5555555555555556,
              "#d8576b"
             ],
             [
              0.6666666666666666,
              "#ed7953"
             ],
             [
              0.7777777777777778,
              "#fb9f3a"
             ],
             [
              0.8888888888888888,
              "#fdca26"
             ],
             [
              1,
              "#f0f921"
             ]
            ],
            "type": "histogram2dcontour"
           }
          ],
          "mesh3d": [
           {
            "colorbar": {
             "outlinewidth": 0,
             "ticks": ""
            },
            "type": "mesh3d"
           }
          ],
          "parcoords": [
           {
            "line": {
             "colorbar": {
              "outlinewidth": 0,
              "ticks": ""
             }
            },
            "type": "parcoords"
           }
          ],
          "pie": [
           {
            "automargin": true,
            "type": "pie"
           }
          ],
          "scatter": [
           {
            "fillpattern": {
             "fillmode": "overlay",
             "size": 10,
             "solidity": 0.2
            },
            "type": "scatter"
           }
          ],
          "scatter3d": [
           {
            "line": {
             "colorbar": {
              "outlinewidth": 0,
              "ticks": ""
             }
            },
            "marker": {
             "colorbar": {
              "outlinewidth": 0,
              "ticks": ""
             }
            },
            "type": "scatter3d"
           }
          ],
          "scattercarpet": [
           {
            "marker": {
             "colorbar": {
              "outlinewidth": 0,
              "ticks": ""
             }
            },
            "type": "scattercarpet"
           }
          ],
          "scattergeo": [
           {
            "marker": {
             "colorbar": {
              "outlinewidth": 0,
              "ticks": ""
             }
            },
            "type": "scattergeo"
           }
          ],
          "scattergl": [
           {
            "marker": {
             "colorbar": {
              "outlinewidth": 0,
              "ticks": ""
             }
            },
            "type": "scattergl"
           }
          ],
          "scattermapbox": [
           {
            "marker": {
             "colorbar": {
              "outlinewidth": 0,
              "ticks": ""
             }
            },
            "type": "scattermapbox"
           }
          ],
          "scatterpolar": [
           {
            "marker": {
             "colorbar": {
              "outlinewidth": 0,
              "ticks": ""
             }
            },
            "type": "scatterpolar"
           }
          ],
          "scatterpolargl": [
           {
            "marker": {
             "colorbar": {
              "outlinewidth": 0,
              "ticks": ""
             }
            },
            "type": "scatterpolargl"
           }
          ],
          "scatterternary": [
           {
            "marker": {
             "colorbar": {
              "outlinewidth": 0,
              "ticks": ""
             }
            },
            "type": "scatterternary"
           }
          ],
          "surface": [
           {
            "colorbar": {
             "outlinewidth": 0,
             "ticks": ""
            },
            "colorscale": [
             [
              0,
              "#0d0887"
             ],
             [
              0.1111111111111111,
              "#46039f"
             ],
             [
              0.2222222222222222,
              "#7201a8"
             ],
             [
              0.3333333333333333,
              "#9c179e"
             ],
             [
              0.4444444444444444,
              "#bd3786"
             ],
             [
              0.5555555555555556,
              "#d8576b"
             ],
             [
              0.6666666666666666,
              "#ed7953"
             ],
             [
              0.7777777777777778,
              "#fb9f3a"
             ],
             [
              0.8888888888888888,
              "#fdca26"
             ],
             [
              1,
              "#f0f921"
             ]
            ],
            "type": "surface"
           }
          ],
          "table": [
           {
            "cells": {
             "fill": {
              "color": "#EBF0F8"
             },
             "line": {
              "color": "white"
             }
            },
            "header": {
             "fill": {
              "color": "#C8D4E3"
             },
             "line": {
              "color": "white"
             }
            },
            "type": "table"
           }
          ]
         },
         "layout": {
          "annotationdefaults": {
           "arrowcolor": "#2a3f5f",
           "arrowhead": 0,
           "arrowwidth": 1
          },
          "autotypenumbers": "strict",
          "coloraxis": {
           "colorbar": {
            "outlinewidth": 0,
            "ticks": ""
           }
          },
          "colorscale": {
           "diverging": [
            [
             0,
             "#8e0152"
            ],
            [
             0.1,
             "#c51b7d"
            ],
            [
             0.2,
             "#de77ae"
            ],
            [
             0.3,
             "#f1b6da"
            ],
            [
             0.4,
             "#fde0ef"
            ],
            [
             0.5,
             "#f7f7f7"
            ],
            [
             0.6,
             "#e6f5d0"
            ],
            [
             0.7,
             "#b8e186"
            ],
            [
             0.8,
             "#7fbc41"
            ],
            [
             0.9,
             "#4d9221"
            ],
            [
             1,
             "#276419"
            ]
           ],
           "sequential": [
            [
             0,
             "#0d0887"
            ],
            [
             0.1111111111111111,
             "#46039f"
            ],
            [
             0.2222222222222222,
             "#7201a8"
            ],
            [
             0.3333333333333333,
             "#9c179e"
            ],
            [
             0.4444444444444444,
             "#bd3786"
            ],
            [
             0.5555555555555556,
             "#d8576b"
            ],
            [
             0.6666666666666666,
             "#ed7953"
            ],
            [
             0.7777777777777778,
             "#fb9f3a"
            ],
            [
             0.8888888888888888,
             "#fdca26"
            ],
            [
             1,
             "#f0f921"
            ]
           ],
           "sequentialminus": [
            [
             0,
             "#0d0887"
            ],
            [
             0.1111111111111111,
             "#46039f"
            ],
            [
             0.2222222222222222,
             "#7201a8"
            ],
            [
             0.3333333333333333,
             "#9c179e"
            ],
            [
             0.4444444444444444,
             "#bd3786"
            ],
            [
             0.5555555555555556,
             "#d8576b"
            ],
            [
             0.6666666666666666,
             "#ed7953"
            ],
            [
             0.7777777777777778,
             "#fb9f3a"
            ],
            [
             0.8888888888888888,
             "#fdca26"
            ],
            [
             1,
             "#f0f921"
            ]
           ]
          },
          "colorway": [
           "#636efa",
           "#EF553B",
           "#00cc96",
           "#ab63fa",
           "#FFA15A",
           "#19d3f3",
           "#FF6692",
           "#B6E880",
           "#FF97FF",
           "#FECB52"
          ],
          "font": {
           "color": "#2a3f5f"
          },
          "geo": {
           "bgcolor": "white",
           "lakecolor": "white",
           "landcolor": "#E5ECF6",
           "showlakes": true,
           "showland": true,
           "subunitcolor": "white"
          },
          "hoverlabel": {
           "align": "left"
          },
          "hovermode": "closest",
          "mapbox": {
           "style": "light"
          },
          "paper_bgcolor": "white",
          "plot_bgcolor": "#E5ECF6",
          "polar": {
           "angularaxis": {
            "gridcolor": "white",
            "linecolor": "white",
            "ticks": ""
           },
           "bgcolor": "#E5ECF6",
           "radialaxis": {
            "gridcolor": "white",
            "linecolor": "white",
            "ticks": ""
           }
          },
          "scene": {
           "xaxis": {
            "backgroundcolor": "#E5ECF6",
            "gridcolor": "white",
            "gridwidth": 2,
            "linecolor": "white",
            "showbackground": true,
            "ticks": "",
            "zerolinecolor": "white"
           },
           "yaxis": {
            "backgroundcolor": "#E5ECF6",
            "gridcolor": "white",
            "gridwidth": 2,
            "linecolor": "white",
            "showbackground": true,
            "ticks": "",
            "zerolinecolor": "white"
           },
           "zaxis": {
            "backgroundcolor": "#E5ECF6",
            "gridcolor": "white",
            "gridwidth": 2,
            "linecolor": "white",
            "showbackground": true,
            "ticks": "",
            "zerolinecolor": "white"
           }
          },
          "shapedefaults": {
           "line": {
            "color": "#2a3f5f"
           }
          },
          "ternary": {
           "aaxis": {
            "gridcolor": "white",
            "linecolor": "white",
            "ticks": ""
           },
           "baxis": {
            "gridcolor": "white",
            "linecolor": "white",
            "ticks": ""
           },
           "bgcolor": "#E5ECF6",
           "caxis": {
            "gridcolor": "white",
            "linecolor": "white",
            "ticks": ""
           }
          },
          "title": {
           "x": 0.05
          },
          "xaxis": {
           "automargin": true,
           "gridcolor": "white",
           "linecolor": "white",
           "ticks": "",
           "title": {
            "standoff": 15
           },
           "zerolinecolor": "white",
           "zerolinewidth": 2
          },
          "yaxis": {
           "automargin": true,
           "gridcolor": "white",
           "linecolor": "white",
           "ticks": "",
           "title": {
            "standoff": 15
           },
           "zerolinecolor": "white",
           "zerolinewidth": 2
          }
         }
        },
        "title": {
         "text": "Predicciones vs. Valores Reales"
        },
        "xaxis": {
         "anchor": "y",
         "domain": [
          0,
          1
         ],
         "title": {
          "text": "Índice"
         }
        },
        "yaxis": {
         "anchor": "x",
         "domain": [
          0,
          1
         ],
         "title": {
          "text": "Valor"
         }
        }
       }
      }
     },
     "metadata": {},
     "output_type": "display_data"
    }
   ],
   "source": [
    "# Creamos un DataFrame con las predicciones y valores reales\n",
    "results_df = pd.DataFrame({'Actual': y_validation, 'Predicted': y_pred_validacion})\n",
    "\n",
    "# Ordenamos el DataFrame por los valores reales para una mejor visualización\n",
    "results_df = results_df.sort_values(by='Actual')\n",
    "\n",
    "# Creamos gráfico de dispersión con Plotly Express\n",
    "fig = px.scatter(results_df, x=results_df.index, y=['Actual', 'Predicted'],\n",
    "                 labels={'value': 'Valor'},\n",
    "                 title='Predicciones vs. Valores Reales',\n",
    "                 color_discrete_sequence=['red', 'blue'])\n",
    "\n",
    "# Configuramos el diseño del gráfico\n",
    "fig.update_layout(\n",
    "    xaxis_title='Índice',\n",
    "    yaxis_title='Valor',\n",
    ")\n",
    "\n",
    "# Mostramos el gráfico\n",
    "fig.show()"
   ]
  }
 ],
 "metadata": {
  "kernelspec": {
   "display_name": "base",
   "language": "python",
   "name": "python3"
  },
  "language_info": {
   "codemirror_mode": {
    "name": "ipython",
    "version": 3
   },
   "file_extension": ".py",
   "mimetype": "text/x-python",
   "name": "python",
   "nbconvert_exporter": "python",
   "pygments_lexer": "ipython3",
   "version": "3.9.7"
  }
 },
 "nbformat": 4,
 "nbformat_minor": 2
}
