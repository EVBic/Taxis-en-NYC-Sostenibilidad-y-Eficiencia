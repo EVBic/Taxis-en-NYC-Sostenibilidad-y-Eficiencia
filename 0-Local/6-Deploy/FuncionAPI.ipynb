{
 "cells": [
  {
   "cell_type": "code",
   "execution_count": 7,
   "metadata": {},
   "outputs": [
    {
     "name": "stderr",
     "output_type": "stream",
     "text": [
      "c:\\Users\\Pc\\anaconda3\\lib\\site-packages\\sklearn\\base.py:493: FutureWarning: The feature names should match those that were passed during fit. Starting version 1.2, an error will be raised.\n",
      "Feature names unseen at fit time:\n",
      "- dia\n",
      "- pickup_borough2\n",
      "- service_type2\n",
      "Feature names seen at fit time, yet now missing:\n",
      "- borough2ID\n",
      "- dayofweek\n",
      "- serviceID\n",
      "\n",
      "  warnings.warn(message, FutureWarning)\n"
     ]
    },
    {
     "data": {
      "text/plain": [
       "{'prediction': [6.980360000000019]}"
      ]
     },
     "execution_count": 7,
     "metadata": {},
     "output_type": "execute_result"
    }
   ],
   "source": [
    "# Importamos librerías\n",
    "import joblib\n",
    "import pandas as pd\n",
    "\n",
    "# Cargar el modelo entrenado desde el archivo pickle\n",
    "model_taxi = joblib.load('../0-DataSets/4-ModelosPrediccion/model_taxi.pkl')\n",
    "\n",
    "def predict(data):\n",
    "    try:\n",
    "        # Crear DataFrame de nuevos datos\n",
    "        input_data = pd.DataFrame(data)\n",
    "\n",
    "        input_data['hora'] = pd.to_datetime(input_data['hora'], format='%H:%M').dt.hour\n",
    "\n",
    "        # Realizar la predicción\n",
    "        prediction = model_taxi.predict(input_data)\n",
    "\n",
    "        # Devolver la predicción como JSON\n",
    "        return {\"prediction\": prediction.tolist()}\n",
    "\n",
    "    except Exception as e:\n",
    "        raise HTTPException(status_code=500, detail=str(e))\n",
    "    \n",
    "# Convertir los datos de entrada a un DataFrame\n",
    "dia = int(input(\"Ingresa un dia de la semana en numeros 1 al 7: \"))-1\n",
    "hora = input(\"Ingresa una hora de 0 al 23: \")+\":00\"\n",
    "service = int(input(\"Ingresa 0 si tipo de servicio es verde y 1 si es amarillo: \"))\n",
    "borough = int(input(\"Ingresa un borough 1 al 5: \"))\n",
    "# Suponiendo que tienes algunos datos para hacer predicciones\n",
    "data = {\n",
    "    'dia': [dia],  # Ejemplo de valores de día\n",
    "    'hora': [hora],  # Ejemplo de valores de hora\n",
    "    'service_type2': [service],  # Ejemplo de valores de service_type2\n",
    "    'pickup_borough2': [borough]}  # Ejemplo de valores de pickup_borough2\n",
    "predict(data)"
   ]
  },
  {
   "cell_type": "code",
   "execution_count": 9,
   "metadata": {},
   "outputs": [
    {
     "name": "stderr",
     "output_type": "stream",
     "text": [
      "c:\\Users\\Pc\\anaconda3\\lib\\site-packages\\sklearn\\base.py:493: FutureWarning: The feature names should match those that were passed during fit. Starting version 1.2, an error will be raised.\n",
      "Feature names unseen at fit time:\n",
      "- dia\n",
      "- pickup_borough2\n",
      "- service_type2\n",
      "Feature names seen at fit time, yet now missing:\n",
      "- borough2ID\n",
      "- dayofweek\n",
      "- serviceID\n",
      "\n",
      "  warnings.warn(message, FutureWarning)\n"
     ]
    },
    {
     "data": {
      "text/plain": [
       "{'prediction': [109.28557555602731]}"
      ]
     },
     "execution_count": 9,
     "metadata": {},
     "output_type": "execute_result"
    }
   ],
   "source": [
    "# Importamos librerías\n",
    "import joblib\n",
    "import pandas as pd\n",
    "\n",
    "# Cargar el modelo entrenado desde el archivo pickle\n",
    "model_econo = joblib.load('../0-DataSets/4-ModelosPrediccion/model_taxi_eco.pkl')\n",
    "\n",
    "def predict(data):\n",
    "    try:\n",
    "        # Crear DataFrame de nuevos datos\n",
    "        input_data = pd.DataFrame(data)\n",
    "\n",
    "        # Realizar la predicción\n",
    "        prediction = model_econo.predict(input_data)\n",
    "\n",
    "        # Devolver la predicción como JSON\n",
    "        return {\"prediction\": prediction.tolist()}\n",
    "\n",
    "    except Exception as e:\n",
    "        raise HTTPException(status_code=500, detail=str(e))\n",
    "    \n",
    "# Convertir los datos de entrada a un DataFrame\n",
    "dia = int(input(\"Ingresa un dia de la semana en numeros 1 al 7: \"))-1\n",
    "service = int(input(\"Ingresa 0 si tipo de servicio es verde y 1 si es amarillo: \"))\n",
    "borough = int(input(\"Ingresa un borough 1 al 5: \"))\n",
    "# Suponiendo que tienes algunos datos para hacer predicciones\n",
    "data = {\n",
    "    'dia': [dia],  # Ejemplo de valores de día\n",
    "    'service_type2': [service],  # Ejemplo de valores de service_type2\n",
    "    'pickup_borough2': [borough]}  # Ejemplo de valores de pickup_borough2\n",
    "\n",
    "predict(data)"
   ]
  }
 ],
 "metadata": {
  "kernelspec": {
   "display_name": "base",
   "language": "python",
   "name": "python3"
  },
  "language_info": {
   "codemirror_mode": {
    "name": "ipython",
    "version": 3
   },
   "file_extension": ".py",
   "mimetype": "text/x-python",
   "name": "python",
   "nbconvert_exporter": "python",
   "pygments_lexer": "ipython3",
   "version": "3.9.7"
  }
 },
 "nbformat": 4,
 "nbformat_minor": 2
}
