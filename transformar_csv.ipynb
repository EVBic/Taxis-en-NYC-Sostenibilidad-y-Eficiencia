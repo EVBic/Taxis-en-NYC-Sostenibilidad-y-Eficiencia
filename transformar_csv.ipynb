{
 "cells": [
  {
   "cell_type": "code",
   "execution_count": 1,
   "metadata": {},
   "outputs": [],
   "source": [
    "import pandas as pd"
   ]
  },
  {
   "cell_type": "code",
   "execution_count": 4,
   "metadata": {},
   "outputs": [],
   "source": [
    "contaminacion_a = pd.read_parquet(r'0-Local\\0-DataSets\\2-DatosProporcionadosConETL\\Contanimacion_Acustica.parquet')\n",
    "contaminacion_a.to_csv(r'0-Local\\0-DataSets\\2-DatosProporcionadosConETL\\Contanimacion_Acustica.csv')"
   ]
  },
  {
   "cell_type": "code",
   "execution_count": 5,
   "metadata": {},
   "outputs": [],
   "source": [
    "estaciones = pd.read_parquet(r'0-Local\\0-DataSets\\2-DatosProporcionadosConETL\\Estaciones.parquet')\n",
    "estaciones.to_csv(r'0-Local\\0-DataSets\\2-DatosProporcionadosConETL\\Estaciones.csv')"
   ]
  },
  {
   "cell_type": "code",
   "execution_count": 9,
   "metadata": {},
   "outputs": [],
   "source": [
    "temperatura_emisiones = pd.read_parquet(r'0-Local\\0-DataSets\\2-DatosProporcionadosConETL\\Temperatura_Emisiones.parquet')\n",
    "temperatura_emisiones.to_csv(r'0-Local\\0-DataSets\\2-DatosProporcionadosConETL\\Temperatura_Emisiones.csv')"
   ]
  },
  {
   "cell_type": "code",
   "execution_count": 10,
   "metadata": {},
   "outputs": [],
   "source": [
    "vehiculos = pd.read_parquet(r'0-Local\\0-DataSets\\2-DatosProporcionadosConETL\\Vehiculos.parquet')\n",
    "vehiculos.to_csv(r'0-Local\\0-DataSets\\2-DatosProporcionadosConETL\\Vehiculos.csv')"
   ]
  },
  {
   "cell_type": "code",
   "execution_count": 11,
   "metadata": {},
   "outputs": [],
   "source": [
    "zonas = pd.read_parquet(r'0-Local\\0-DataSets\\2-DatosProporcionadosConETL\\Zonas.parquet')\n",
    "zonas.to_csv(r'0-Local\\0-DataSets\\2-DatosProporcionadosConETL\\Zonas.csv')"
   ]
  },
  {
   "cell_type": "code",
   "execution_count": 12,
   "metadata": {},
   "outputs": [],
   "source": [
    "taxis = pd.read_parquet(r'0-Local\\0-DataSets\\3-DatosScrapingConETL\\taxis_NYC_2023_2024.parquet')\n",
    "taxis.to_csv(r'0-Local\\0-DataSets\\2-DatosProporcionadosConETL\\taxis_NYC_2023_2024.csv')"
   ]
  }
 ],
 "metadata": {
  "kernelspec": {
   "display_name": "Python 3",
   "language": "python",
   "name": "python3"
  },
  "language_info": {
   "codemirror_mode": {
    "name": "ipython",
    "version": 3
   },
   "file_extension": ".py",
   "mimetype": "text/x-python",
   "name": "python",
   "nbconvert_exporter": "python",
   "pygments_lexer": "ipython3",
   "version": "3.11.9"
  }
 },
 "nbformat": 4,
 "nbformat_minor": 2
}
